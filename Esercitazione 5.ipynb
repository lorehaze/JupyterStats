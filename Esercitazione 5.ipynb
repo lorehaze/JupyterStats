{
 "cells": [
  {
   "cell_type": "code",
   "execution_count": 1,
   "metadata": {},
   "outputs": [],
   "source": [
    "import pandas as pd\n",
    "import numpy as np\n",
    "import matplotlib.pyplot as plt\n",
    "import seaborn as sns\n",
    "import plotly.express as px\n",
    "import plotly.graph_objs as go\n",
    "pd.options.plotting.backend = \"plotly\"\n",
    "\n",
    "sns.set_style('whitegrid')\n",
    "SMALL_SIZE = 14\n",
    "MEDIUM_SIZE = 15\n",
    "BIGGER_SIZE = 16\n",
    "\n",
    "plt.rc('font', size=SMALL_SIZE)          # controls default text sizes\n",
    "plt.rc('axes', titlesize=MEDIUM_SIZE)    # fontsize of the axes title\n",
    "plt.rc('axes', labelsize=MEDIUM_SIZE)    # fontsize of the x and y labels\n",
    "plt.rc('xtick', labelsize=SMALL_SIZE)    # fontsize of the tick labels\n",
    "plt.rc('ytick', labelsize=SMALL_SIZE)    # fontsize of the tick labels\n",
    "plt.rc('legend', fontsize=SMALL_SIZE)    # legend fontsize\n",
    "plt.rc('figure', titlesize=BIGGER_SIZE)  # fontsize of the figure title\n",
    "plt.rc('figure', figsize=(15,15))"
   ]
  },
  {
   "cell_type": "code",
   "execution_count": 2,
   "metadata": {},
   "outputs": [],
   "source": [
    "df = pd.read_excel('D_caretta.xlsx', sheet_name=\"new_pop\")"
   ]
  },
  {
   "cell_type": "code",
   "execution_count": 3,
   "metadata": {},
   "outputs": [],
   "source": [
    "df = df.rename(columns={'CCL': 'Taglia'})"
   ]
  },
  {
   "cell_type": "code",
   "execution_count": 4,
   "metadata": {},
   "outputs": [
    {
     "data": {
      "text/html": [
       "<div>\n",
       "<style scoped>\n",
       "    .dataframe tbody tr th:only-of-type {\n",
       "        vertical-align: middle;\n",
       "    }\n",
       "\n",
       "    .dataframe tbody tr th {\n",
       "        vertical-align: top;\n",
       "    }\n",
       "\n",
       "    .dataframe thead th {\n",
       "        text-align: right;\n",
       "    }\n",
       "</style>\n",
       "<table border=\"1\" class=\"dataframe\">\n",
       "  <thead>\n",
       "    <tr style=\"text-align: right;\">\n",
       "      <th></th>\n",
       "      <th>Anno</th>\n",
       "      <th>Stagione</th>\n",
       "      <th>Taglia</th>\n",
       "      <th>Regione</th>\n",
       "    </tr>\n",
       "  </thead>\n",
       "  <tbody>\n",
       "    <tr>\n",
       "      <th>0</th>\n",
       "      <td>2013</td>\n",
       "      <td>Autunno</td>\n",
       "      <td>58.0</td>\n",
       "      <td>Puglia</td>\n",
       "    </tr>\n",
       "    <tr>\n",
       "      <th>1</th>\n",
       "      <td>2008</td>\n",
       "      <td>Autunno</td>\n",
       "      <td>68.0</td>\n",
       "      <td>Puglia</td>\n",
       "    </tr>\n",
       "    <tr>\n",
       "      <th>2</th>\n",
       "      <td>2014</td>\n",
       "      <td>Inverno</td>\n",
       "      <td>35.0</td>\n",
       "      <td>Puglia</td>\n",
       "    </tr>\n",
       "    <tr>\n",
       "      <th>3</th>\n",
       "      <td>2015</td>\n",
       "      <td>Autunno</td>\n",
       "      <td>40.0</td>\n",
       "      <td>Puglia</td>\n",
       "    </tr>\n",
       "    <tr>\n",
       "      <th>4</th>\n",
       "      <td>2016</td>\n",
       "      <td>Primavera</td>\n",
       "      <td>68.0</td>\n",
       "      <td>Puglia</td>\n",
       "    </tr>\n",
       "  </tbody>\n",
       "</table>\n",
       "</div>"
      ],
      "text/plain": [
       "   Anno   Stagione  Taglia Regione\n",
       "0  2013    Autunno    58.0  Puglia\n",
       "1  2008    Autunno    68.0  Puglia\n",
       "2  2014    Inverno    35.0  Puglia\n",
       "3  2015    Autunno    40.0  Puglia\n",
       "4  2016  Primavera    68.0  Puglia"
      ]
     },
     "execution_count": 4,
     "metadata": {},
     "output_type": "execute_result"
    }
   ],
   "source": [
    "df.head()"
   ]
  },
  {
   "cell_type": "code",
   "execution_count": 5,
   "metadata": {},
   "outputs": [
    {
     "data": {
      "text/html": [
       "<div>\n",
       "<style scoped>\n",
       "    .dataframe tbody tr th:only-of-type {\n",
       "        vertical-align: middle;\n",
       "    }\n",
       "\n",
       "    .dataframe tbody tr th {\n",
       "        vertical-align: top;\n",
       "    }\n",
       "\n",
       "    .dataframe thead th {\n",
       "        text-align: right;\n",
       "    }\n",
       "</style>\n",
       "<table border=\"1\" class=\"dataframe\">\n",
       "  <thead>\n",
       "    <tr style=\"text-align: right;\">\n",
       "      <th></th>\n",
       "      <th>Anno</th>\n",
       "      <th>Taglia</th>\n",
       "    </tr>\n",
       "  </thead>\n",
       "  <tbody>\n",
       "    <tr>\n",
       "      <th>count</th>\n",
       "      <td>427.000000</td>\n",
       "      <td>415.000000</td>\n",
       "    </tr>\n",
       "    <tr>\n",
       "      <th>mean</th>\n",
       "      <td>2014.927400</td>\n",
       "      <td>43.772530</td>\n",
       "    </tr>\n",
       "    <tr>\n",
       "      <th>std</th>\n",
       "      <td>2.978306</td>\n",
       "      <td>21.742833</td>\n",
       "    </tr>\n",
       "    <tr>\n",
       "      <th>min</th>\n",
       "      <td>2006.000000</td>\n",
       "      <td>0.000000</td>\n",
       "    </tr>\n",
       "    <tr>\n",
       "      <th>25%</th>\n",
       "      <td>2014.000000</td>\n",
       "      <td>30.000000</td>\n",
       "    </tr>\n",
       "    <tr>\n",
       "      <th>50%</th>\n",
       "      <td>2016.000000</td>\n",
       "      <td>48.500000</td>\n",
       "    </tr>\n",
       "    <tr>\n",
       "      <th>75%</th>\n",
       "      <td>2017.000000</td>\n",
       "      <td>60.000000</td>\n",
       "    </tr>\n",
       "    <tr>\n",
       "      <th>max</th>\n",
       "      <td>2018.000000</td>\n",
       "      <td>100.000000</td>\n",
       "    </tr>\n",
       "  </tbody>\n",
       "</table>\n",
       "</div>"
      ],
      "text/plain": [
       "              Anno      Taglia\n",
       "count   427.000000  415.000000\n",
       "mean   2014.927400   43.772530\n",
       "std       2.978306   21.742833\n",
       "min    2006.000000    0.000000\n",
       "25%    2014.000000   30.000000\n",
       "50%    2016.000000   48.500000\n",
       "75%    2017.000000   60.000000\n",
       "max    2018.000000  100.000000"
      ]
     },
     "execution_count": 5,
     "metadata": {},
     "output_type": "execute_result"
    }
   ],
   "source": [
    "df.describe()"
   ]
  },
  {
   "cell_type": "code",
   "execution_count": 6,
   "metadata": {},
   "outputs": [
    {
     "name": "stdout",
     "output_type": "stream",
     "text": [
      "<class 'pandas.core.frame.DataFrame'>\n",
      "RangeIndex: 427 entries, 0 to 426\n",
      "Data columns (total 4 columns):\n",
      " #   Column    Non-Null Count  Dtype  \n",
      "---  ------    --------------  -----  \n",
      " 0   Anno      427 non-null    int64  \n",
      " 1   Stagione  427 non-null    object \n",
      " 2   Taglia    415 non-null    float64\n",
      " 3   Regione   427 non-null    object \n",
      "dtypes: float64(1), int64(1), object(2)\n",
      "memory usage: 13.5+ KB\n"
     ]
    }
   ],
   "source": [
    "df.info()"
   ]
  },
  {
   "cell_type": "code",
   "execution_count": 7,
   "metadata": {},
   "outputs": [
    {
     "data": {
      "text/html": [
       "<div>\n",
       "<style scoped>\n",
       "    .dataframe tbody tr th:only-of-type {\n",
       "        vertical-align: middle;\n",
       "    }\n",
       "\n",
       "    .dataframe tbody tr th {\n",
       "        vertical-align: top;\n",
       "    }\n",
       "\n",
       "    .dataframe thead th {\n",
       "        text-align: right;\n",
       "    }\n",
       "</style>\n",
       "<table border=\"1\" class=\"dataframe\">\n",
       "  <thead>\n",
       "    <tr style=\"text-align: right;\">\n",
       "      <th></th>\n",
       "      <th>Anno</th>\n",
       "      <th>Stagione</th>\n",
       "      <th>Taglia</th>\n",
       "      <th>Regione</th>\n",
       "    </tr>\n",
       "  </thead>\n",
       "  <tbody>\n",
       "    <tr>\n",
       "      <th>0</th>\n",
       "      <td>2013</td>\n",
       "      <td>Autunno</td>\n",
       "      <td>58.0</td>\n",
       "      <td>Puglia</td>\n",
       "    </tr>\n",
       "    <tr>\n",
       "      <th>1</th>\n",
       "      <td>2008</td>\n",
       "      <td>Autunno</td>\n",
       "      <td>68.0</td>\n",
       "      <td>Puglia</td>\n",
       "    </tr>\n",
       "    <tr>\n",
       "      <th>2</th>\n",
       "      <td>2014</td>\n",
       "      <td>Inverno</td>\n",
       "      <td>35.0</td>\n",
       "      <td>Puglia</td>\n",
       "    </tr>\n",
       "    <tr>\n",
       "      <th>3</th>\n",
       "      <td>2015</td>\n",
       "      <td>Autunno</td>\n",
       "      <td>40.0</td>\n",
       "      <td>Puglia</td>\n",
       "    </tr>\n",
       "    <tr>\n",
       "      <th>4</th>\n",
       "      <td>2016</td>\n",
       "      <td>Primavera</td>\n",
       "      <td>68.0</td>\n",
       "      <td>Puglia</td>\n",
       "    </tr>\n",
       "  </tbody>\n",
       "</table>\n",
       "</div>"
      ],
      "text/plain": [
       "   Anno   Stagione  Taglia Regione\n",
       "0  2013    Autunno    58.0  Puglia\n",
       "1  2008    Autunno    68.0  Puglia\n",
       "2  2014    Inverno    35.0  Puglia\n",
       "3  2015    Autunno    40.0  Puglia\n",
       "4  2016  Primavera    68.0  Puglia"
      ]
     },
     "execution_count": 7,
     "metadata": {},
     "output_type": "execute_result"
    }
   ],
   "source": [
    "df.head()"
   ]
  },
  {
   "cell_type": "code",
   "execution_count": 8,
   "metadata": {},
   "outputs": [],
   "source": [
    "df = df.dropna()"
   ]
  },
  {
   "cell_type": "code",
   "execution_count": 35,
   "metadata": {},
   "outputs": [
    {
     "data": {
      "text/html": [
       "<div>\n",
       "<style scoped>\n",
       "    .dataframe tbody tr th:only-of-type {\n",
       "        vertical-align: middle;\n",
       "    }\n",
       "\n",
       "    .dataframe tbody tr th {\n",
       "        vertical-align: top;\n",
       "    }\n",
       "\n",
       "    .dataframe thead th {\n",
       "        text-align: right;\n",
       "    }\n",
       "</style>\n",
       "<table border=\"1\" class=\"dataframe\">\n",
       "  <thead>\n",
       "    <tr style=\"text-align: right;\">\n",
       "      <th></th>\n",
       "      <th>Anno</th>\n",
       "      <th>Stagione</th>\n",
       "      <th>Taglia</th>\n",
       "      <th>Regione</th>\n",
       "    </tr>\n",
       "  </thead>\n",
       "  <tbody>\n",
       "    <tr>\n",
       "      <th>0</th>\n",
       "      <td>2013</td>\n",
       "      <td>Autunno</td>\n",
       "      <td>58.0</td>\n",
       "      <td>Puglia</td>\n",
       "    </tr>\n",
       "    <tr>\n",
       "      <th>1</th>\n",
       "      <td>2008</td>\n",
       "      <td>Autunno</td>\n",
       "      <td>68.0</td>\n",
       "      <td>Puglia</td>\n",
       "    </tr>\n",
       "    <tr>\n",
       "      <th>2</th>\n",
       "      <td>2014</td>\n",
       "      <td>Inverno</td>\n",
       "      <td>35.0</td>\n",
       "      <td>Puglia</td>\n",
       "    </tr>\n",
       "    <tr>\n",
       "      <th>3</th>\n",
       "      <td>2015</td>\n",
       "      <td>Autunno</td>\n",
       "      <td>40.0</td>\n",
       "      <td>Puglia</td>\n",
       "    </tr>\n",
       "    <tr>\n",
       "      <th>4</th>\n",
       "      <td>2016</td>\n",
       "      <td>Primavera</td>\n",
       "      <td>68.0</td>\n",
       "      <td>Puglia</td>\n",
       "    </tr>\n",
       "    <tr>\n",
       "      <th>...</th>\n",
       "      <td>...</td>\n",
       "      <td>...</td>\n",
       "      <td>...</td>\n",
       "      <td>...</td>\n",
       "    </tr>\n",
       "    <tr>\n",
       "      <th>420</th>\n",
       "      <td>2018</td>\n",
       "      <td>Estate</td>\n",
       "      <td>62.0</td>\n",
       "      <td>Basilicata</td>\n",
       "    </tr>\n",
       "    <tr>\n",
       "      <th>421</th>\n",
       "      <td>2018</td>\n",
       "      <td>Estate</td>\n",
       "      <td>61.5</td>\n",
       "      <td>Basilicata</td>\n",
       "    </tr>\n",
       "    <tr>\n",
       "      <th>422</th>\n",
       "      <td>2018</td>\n",
       "      <td>Estate</td>\n",
       "      <td>50.0</td>\n",
       "      <td>Basilicata</td>\n",
       "    </tr>\n",
       "    <tr>\n",
       "      <th>423</th>\n",
       "      <td>2018</td>\n",
       "      <td>Estate</td>\n",
       "      <td>53.5</td>\n",
       "      <td>Basilicata</td>\n",
       "    </tr>\n",
       "    <tr>\n",
       "      <th>424</th>\n",
       "      <td>2018</td>\n",
       "      <td>Estate</td>\n",
       "      <td>69.0</td>\n",
       "      <td>Basilicata</td>\n",
       "    </tr>\n",
       "  </tbody>\n",
       "</table>\n",
       "<p>364 rows × 4 columns</p>\n",
       "</div>"
      ],
      "text/plain": [
       "     Anno   Stagione  Taglia     Regione\n",
       "0    2013    Autunno    58.0      Puglia\n",
       "1    2008    Autunno    68.0      Puglia\n",
       "2    2014    Inverno    35.0      Puglia\n",
       "3    2015    Autunno    40.0      Puglia\n",
       "4    2016  Primavera    68.0      Puglia\n",
       "..    ...        ...     ...         ...\n",
       "420  2018     Estate    62.0  Basilicata\n",
       "421  2018     Estate    61.5  Basilicata\n",
       "422  2018     Estate    50.0  Basilicata\n",
       "423  2018     Estate    53.5  Basilicata\n",
       "424  2018     Estate    69.0  Basilicata\n",
       "\n",
       "[364 rows x 4 columns]"
      ]
     },
     "execution_count": 35,
     "metadata": {},
     "output_type": "execute_result"
    }
   ],
   "source": [
    "df"
   ]
  },
  {
   "cell_type": "code",
   "execution_count": 9,
   "metadata": {},
   "outputs": [],
   "source": [
    "df = df.drop(index=df[df['Taglia'] == 0].index)"
   ]
  },
  {
   "cell_type": "code",
   "execution_count": 10,
   "metadata": {},
   "outputs": [
    {
     "data": {
      "text/plain": [
       "Estate       238\n",
       "Autunno       72\n",
       "Primavera     68\n",
       "Inverno       23\n",
       "Name: Stagione, dtype: int64"
      ]
     },
     "execution_count": 10,
     "metadata": {},
     "output_type": "execute_result"
    }
   ],
   "source": [
    "df['Stagione'].value_counts()"
   ]
  },
  {
   "cell_type": "code",
   "execution_count": 11,
   "metadata": {},
   "outputs": [
    {
     "data": {
      "text/plain": [
       "2016    80\n",
       "2017    75\n",
       "2018    69\n",
       "2015    47\n",
       "2014    40\n",
       "2012    26\n",
       "2008    24\n",
       "2013    23\n",
       "2006     9\n",
       "2011     4\n",
       "2007     4\n",
       "Name: Anno, dtype: int64"
      ]
     },
     "execution_count": 11,
     "metadata": {},
     "output_type": "execute_result"
    }
   ],
   "source": [
    "df['Anno'].value_counts()"
   ]
  },
  {
   "cell_type": "code",
   "execution_count": 70,
   "metadata": {},
   "outputs": [
    {
     "data": {
      "text/plain": [
       "0      58.0\n",
       "1      68.0\n",
       "2      35.0\n",
       "3      40.0\n",
       "4      68.0\n",
       "       ... \n",
       "420    62.0\n",
       "421    61.5\n",
       "422    50.0\n",
       "423    53.5\n",
       "424    69.0\n",
       "Name: Taglia, Length: 364, dtype: float64"
      ]
     },
     "execution_count": 70,
     "metadata": {},
     "output_type": "execute_result"
    }
   ],
   "source": [
    "df['Taglia']"
   ]
  },
  {
   "cell_type": "code",
   "execution_count": 61,
   "metadata": {},
   "outputs": [
    {
     "data": {
      "application/vnd.plotly.v1+json": {
       "config": {
        "plotlyServerURL": "https://plot.ly"
       },
       "data": [
        {
         "hovertemplate": "variable=Taglia<br>index=%{x}<br>value=%{y}<extra></extra>",
         "legendgroup": "Taglia",
         "line": {
          "color": "#636efa",
          "dash": "solid"
         },
         "mode": "lines",
         "name": "Taglia",
         "orientation": "v",
         "showlegend": true,
         "type": "scatter",
         "x": [
          0,
          1,
          2,
          3,
          4,
          5,
          6,
          7,
          8,
          9,
          10,
          11,
          12,
          13,
          14,
          15,
          16,
          17,
          18,
          21,
          22,
          23,
          24,
          26,
          27,
          28,
          29,
          30,
          31,
          32,
          33,
          34,
          35,
          37,
          38,
          39,
          40,
          41,
          42,
          43,
          44,
          45,
          46,
          47,
          48,
          49,
          50,
          51,
          52,
          53,
          54,
          55,
          56,
          57,
          58,
          59,
          60,
          62,
          63,
          64,
          65,
          66,
          67,
          68,
          69,
          70,
          71,
          72,
          73,
          74,
          75,
          76,
          77,
          78,
          79,
          80,
          81,
          82,
          83,
          84,
          85,
          86,
          87,
          88,
          89,
          90,
          91,
          92,
          93,
          94,
          95,
          96,
          97,
          98,
          99,
          100,
          101,
          102,
          103,
          104,
          105,
          106,
          109,
          110,
          111,
          112,
          113,
          114,
          115,
          116,
          117,
          118,
          120,
          121,
          122,
          158,
          161,
          162,
          163,
          164,
          165,
          166,
          167,
          168,
          169,
          170,
          171,
          172,
          173,
          174,
          176,
          177,
          178,
          179,
          180,
          181,
          182,
          183,
          184,
          185,
          186,
          187,
          188,
          189,
          191,
          192,
          193,
          194,
          195,
          196,
          197,
          198,
          199,
          200,
          201,
          202,
          203,
          204,
          205,
          206,
          207,
          208,
          209,
          210,
          211,
          214,
          215,
          216,
          217,
          218,
          219,
          220,
          221,
          222,
          223,
          224,
          226,
          227,
          228,
          229,
          230,
          231,
          232,
          233,
          234,
          235,
          236,
          237,
          239,
          240,
          241,
          242,
          243,
          244,
          245,
          246,
          247,
          248,
          249,
          251,
          252,
          253,
          254,
          255,
          256,
          257,
          258,
          259,
          260,
          261,
          263,
          264,
          265,
          266,
          267,
          268,
          269,
          270,
          271,
          272,
          273,
          275,
          280,
          281,
          282,
          283,
          284,
          285,
          286,
          287,
          288,
          289,
          290,
          291,
          292,
          293,
          294,
          295,
          296,
          297,
          298,
          299,
          300,
          301,
          302,
          303,
          304,
          305,
          306,
          307,
          308,
          309,
          310,
          311,
          312,
          313,
          314,
          315,
          316,
          317,
          318,
          319,
          320,
          321,
          322,
          323,
          324,
          325,
          326,
          327,
          328,
          329,
          330,
          331,
          332,
          333,
          334,
          335,
          336,
          337,
          338,
          339,
          340,
          341,
          342,
          343,
          344,
          345,
          346,
          347,
          348,
          349,
          350,
          351,
          352,
          353,
          354,
          355,
          356,
          357,
          358,
          359,
          360,
          361,
          362,
          363,
          364,
          365,
          366,
          367,
          368,
          369,
          370,
          371,
          372,
          373,
          374,
          375,
          376,
          377,
          378,
          379,
          380,
          381,
          382,
          383,
          384,
          385,
          386,
          387,
          388,
          389,
          390,
          391,
          392,
          393,
          394,
          395,
          396,
          397,
          398,
          399,
          400,
          401,
          402,
          403,
          404,
          405,
          406,
          407,
          408,
          409,
          411,
          412,
          413,
          414,
          415,
          416,
          417,
          420,
          421,
          422,
          423,
          424
         ],
         "xaxis": "x",
         "y": [
          58,
          68,
          35,
          40,
          68,
          94,
          46,
          60,
          41,
          45,
          39,
          57,
          46,
          54,
          54,
          55,
          48,
          26,
          50,
          34.5,
          21,
          30,
          31,
          27.5,
          11,
          38,
          60,
          62,
          55,
          54,
          50,
          46,
          6.5,
          3,
          66,
          71,
          52,
          38,
          76,
          54,
          64,
          49,
          70,
          36,
          29,
          25,
          56,
          54,
          44,
          9,
          49,
          23,
          43,
          71,
          54,
          30,
          23,
          15,
          30,
          30,
          63,
          35,
          70,
          29.5,
          40.5,
          63,
          60,
          70,
          40,
          40,
          50,
          69,
          38.5,
          55,
          61,
          52,
          60,
          80,
          37,
          62,
          62,
          65,
          80,
          54.5,
          61,
          39,
          36.5,
          52,
          26,
          24,
          67,
          65,
          84,
          58,
          66.5,
          74,
          71,
          73,
          51.7,
          41.5,
          60.5,
          3.9,
          21.5,
          59,
          61.5,
          63,
          60,
          52,
          50,
          60,
          35.5,
          49.5,
          58,
          45,
          58,
          60.5,
          37,
          80,
          61,
          39,
          55,
          81,
          69,
          86,
          19,
          17,
          40,
          24,
          29,
          30,
          36,
          32,
          60,
          14,
          39,
          39,
          60,
          37,
          31,
          77,
          30,
          67,
          30,
          70,
          79,
          36,
          50,
          45,
          80,
          100,
          60,
          69,
          72,
          31,
          52,
          26,
          27,
          70,
          73,
          63,
          80,
          47,
          40,
          51,
          39,
          67,
          55,
          58.5,
          62,
          80,
          50,
          70,
          51.5,
          34,
          21,
          22,
          100,
          40,
          37,
          27,
          35,
          32,
          32,
          28,
          27,
          42,
          38,
          30,
          39,
          19,
          27,
          34,
          63,
          28,
          20,
          32,
          21,
          20,
          50,
          62,
          45,
          52,
          24,
          41,
          55,
          50,
          48,
          50,
          47,
          63,
          47,
          52,
          56,
          50,
          34,
          38,
          50,
          41,
          50,
          49,
          64,
          49,
          58,
          51,
          9,
          60,
          55,
          45,
          35,
          69,
          46,
          36,
          48,
          53,
          63,
          40,
          48,
          56,
          49,
          34,
          60,
          41,
          76,
          62,
          39.5,
          37,
          35,
          55,
          69,
          41,
          70,
          32,
          56,
          47.5,
          76,
          49,
          54,
          56.5,
          40,
          22,
          64.5,
          45,
          63,
          35.5,
          67,
          48,
          73.5,
          65,
          51,
          50,
          75,
          50,
          50,
          63,
          56.5,
          78,
          29,
          45,
          40,
          55,
          57.5,
          40,
          41,
          40,
          58,
          49.5,
          27,
          55,
          57,
          29,
          62,
          63,
          29.5,
          72,
          48.5,
          68,
          40,
          55.5,
          68,
          22.5,
          63,
          47,
          27,
          58,
          50,
          60,
          38,
          39,
          52.5,
          46,
          34.5,
          50,
          61,
          41,
          44,
          59,
          48,
          6,
          67,
          42,
          51,
          61,
          49,
          66.5,
          51,
          61,
          73.5,
          52,
          56,
          61,
          57,
          41,
          71.5,
          64,
          22,
          52,
          60,
          29,
          58,
          53,
          59,
          66,
          64,
          52,
          58,
          62,
          60,
          57,
          43,
          56,
          61,
          31.5,
          65,
          57,
          30,
          34.5,
          64,
          40,
          54,
          62,
          61.5,
          50,
          53.5,
          69
         ],
         "yaxis": "y"
        }
       ],
       "layout": {
        "legend": {
         "title": {
          "text": "variable"
         },
         "tracegroupgap": 0
        },
        "margin": {
         "t": 60
        },
        "template": {
         "data": {
          "bar": [
           {
            "error_x": {
             "color": "#2a3f5f"
            },
            "error_y": {
             "color": "#2a3f5f"
            },
            "marker": {
             "line": {
              "color": "#E5ECF6",
              "width": 0.5
             }
            },
            "type": "bar"
           }
          ],
          "barpolar": [
           {
            "marker": {
             "line": {
              "color": "#E5ECF6",
              "width": 0.5
             }
            },
            "type": "barpolar"
           }
          ],
          "carpet": [
           {
            "aaxis": {
             "endlinecolor": "#2a3f5f",
             "gridcolor": "white",
             "linecolor": "white",
             "minorgridcolor": "white",
             "startlinecolor": "#2a3f5f"
            },
            "baxis": {
             "endlinecolor": "#2a3f5f",
             "gridcolor": "white",
             "linecolor": "white",
             "minorgridcolor": "white",
             "startlinecolor": "#2a3f5f"
            },
            "type": "carpet"
           }
          ],
          "choropleth": [
           {
            "colorbar": {
             "outlinewidth": 0,
             "ticks": ""
            },
            "type": "choropleth"
           }
          ],
          "contour": [
           {
            "colorbar": {
             "outlinewidth": 0,
             "ticks": ""
            },
            "colorscale": [
             [
              0,
              "#0d0887"
             ],
             [
              0.1111111111111111,
              "#46039f"
             ],
             [
              0.2222222222222222,
              "#7201a8"
             ],
             [
              0.3333333333333333,
              "#9c179e"
             ],
             [
              0.4444444444444444,
              "#bd3786"
             ],
             [
              0.5555555555555556,
              "#d8576b"
             ],
             [
              0.6666666666666666,
              "#ed7953"
             ],
             [
              0.7777777777777778,
              "#fb9f3a"
             ],
             [
              0.8888888888888888,
              "#fdca26"
             ],
             [
              1,
              "#f0f921"
             ]
            ],
            "type": "contour"
           }
          ],
          "contourcarpet": [
           {
            "colorbar": {
             "outlinewidth": 0,
             "ticks": ""
            },
            "type": "contourcarpet"
           }
          ],
          "heatmap": [
           {
            "colorbar": {
             "outlinewidth": 0,
             "ticks": ""
            },
            "colorscale": [
             [
              0,
              "#0d0887"
             ],
             [
              0.1111111111111111,
              "#46039f"
             ],
             [
              0.2222222222222222,
              "#7201a8"
             ],
             [
              0.3333333333333333,
              "#9c179e"
             ],
             [
              0.4444444444444444,
              "#bd3786"
             ],
             [
              0.5555555555555556,
              "#d8576b"
             ],
             [
              0.6666666666666666,
              "#ed7953"
             ],
             [
              0.7777777777777778,
              "#fb9f3a"
             ],
             [
              0.8888888888888888,
              "#fdca26"
             ],
             [
              1,
              "#f0f921"
             ]
            ],
            "type": "heatmap"
           }
          ],
          "heatmapgl": [
           {
            "colorbar": {
             "outlinewidth": 0,
             "ticks": ""
            },
            "colorscale": [
             [
              0,
              "#0d0887"
             ],
             [
              0.1111111111111111,
              "#46039f"
             ],
             [
              0.2222222222222222,
              "#7201a8"
             ],
             [
              0.3333333333333333,
              "#9c179e"
             ],
             [
              0.4444444444444444,
              "#bd3786"
             ],
             [
              0.5555555555555556,
              "#d8576b"
             ],
             [
              0.6666666666666666,
              "#ed7953"
             ],
             [
              0.7777777777777778,
              "#fb9f3a"
             ],
             [
              0.8888888888888888,
              "#fdca26"
             ],
             [
              1,
              "#f0f921"
             ]
            ],
            "type": "heatmapgl"
           }
          ],
          "histogram": [
           {
            "marker": {
             "colorbar": {
              "outlinewidth": 0,
              "ticks": ""
             }
            },
            "type": "histogram"
           }
          ],
          "histogram2d": [
           {
            "colorbar": {
             "outlinewidth": 0,
             "ticks": ""
            },
            "colorscale": [
             [
              0,
              "#0d0887"
             ],
             [
              0.1111111111111111,
              "#46039f"
             ],
             [
              0.2222222222222222,
              "#7201a8"
             ],
             [
              0.3333333333333333,
              "#9c179e"
             ],
             [
              0.4444444444444444,
              "#bd3786"
             ],
             [
              0.5555555555555556,
              "#d8576b"
             ],
             [
              0.6666666666666666,
              "#ed7953"
             ],
             [
              0.7777777777777778,
              "#fb9f3a"
             ],
             [
              0.8888888888888888,
              "#fdca26"
             ],
             [
              1,
              "#f0f921"
             ]
            ],
            "type": "histogram2d"
           }
          ],
          "histogram2dcontour": [
           {
            "colorbar": {
             "outlinewidth": 0,
             "ticks": ""
            },
            "colorscale": [
             [
              0,
              "#0d0887"
             ],
             [
              0.1111111111111111,
              "#46039f"
             ],
             [
              0.2222222222222222,
              "#7201a8"
             ],
             [
              0.3333333333333333,
              "#9c179e"
             ],
             [
              0.4444444444444444,
              "#bd3786"
             ],
             [
              0.5555555555555556,
              "#d8576b"
             ],
             [
              0.6666666666666666,
              "#ed7953"
             ],
             [
              0.7777777777777778,
              "#fb9f3a"
             ],
             [
              0.8888888888888888,
              "#fdca26"
             ],
             [
              1,
              "#f0f921"
             ]
            ],
            "type": "histogram2dcontour"
           }
          ],
          "mesh3d": [
           {
            "colorbar": {
             "outlinewidth": 0,
             "ticks": ""
            },
            "type": "mesh3d"
           }
          ],
          "parcoords": [
           {
            "line": {
             "colorbar": {
              "outlinewidth": 0,
              "ticks": ""
             }
            },
            "type": "parcoords"
           }
          ],
          "pie": [
           {
            "automargin": true,
            "type": "pie"
           }
          ],
          "scatter": [
           {
            "marker": {
             "colorbar": {
              "outlinewidth": 0,
              "ticks": ""
             }
            },
            "type": "scatter"
           }
          ],
          "scatter3d": [
           {
            "line": {
             "colorbar": {
              "outlinewidth": 0,
              "ticks": ""
             }
            },
            "marker": {
             "colorbar": {
              "outlinewidth": 0,
              "ticks": ""
             }
            },
            "type": "scatter3d"
           }
          ],
          "scattercarpet": [
           {
            "marker": {
             "colorbar": {
              "outlinewidth": 0,
              "ticks": ""
             }
            },
            "type": "scattercarpet"
           }
          ],
          "scattergeo": [
           {
            "marker": {
             "colorbar": {
              "outlinewidth": 0,
              "ticks": ""
             }
            },
            "type": "scattergeo"
           }
          ],
          "scattergl": [
           {
            "marker": {
             "colorbar": {
              "outlinewidth": 0,
              "ticks": ""
             }
            },
            "type": "scattergl"
           }
          ],
          "scattermapbox": [
           {
            "marker": {
             "colorbar": {
              "outlinewidth": 0,
              "ticks": ""
             }
            },
            "type": "scattermapbox"
           }
          ],
          "scatterpolar": [
           {
            "marker": {
             "colorbar": {
              "outlinewidth": 0,
              "ticks": ""
             }
            },
            "type": "scatterpolar"
           }
          ],
          "scatterpolargl": [
           {
            "marker": {
             "colorbar": {
              "outlinewidth": 0,
              "ticks": ""
             }
            },
            "type": "scatterpolargl"
           }
          ],
          "scatterternary": [
           {
            "marker": {
             "colorbar": {
              "outlinewidth": 0,
              "ticks": ""
             }
            },
            "type": "scatterternary"
           }
          ],
          "surface": [
           {
            "colorbar": {
             "outlinewidth": 0,
             "ticks": ""
            },
            "colorscale": [
             [
              0,
              "#0d0887"
             ],
             [
              0.1111111111111111,
              "#46039f"
             ],
             [
              0.2222222222222222,
              "#7201a8"
             ],
             [
              0.3333333333333333,
              "#9c179e"
             ],
             [
              0.4444444444444444,
              "#bd3786"
             ],
             [
              0.5555555555555556,
              "#d8576b"
             ],
             [
              0.6666666666666666,
              "#ed7953"
             ],
             [
              0.7777777777777778,
              "#fb9f3a"
             ],
             [
              0.8888888888888888,
              "#fdca26"
             ],
             [
              1,
              "#f0f921"
             ]
            ],
            "type": "surface"
           }
          ],
          "table": [
           {
            "cells": {
             "fill": {
              "color": "#EBF0F8"
             },
             "line": {
              "color": "white"
             }
            },
            "header": {
             "fill": {
              "color": "#C8D4E3"
             },
             "line": {
              "color": "white"
             }
            },
            "type": "table"
           }
          ]
         },
         "layout": {
          "annotationdefaults": {
           "arrowcolor": "#2a3f5f",
           "arrowhead": 0,
           "arrowwidth": 1
          },
          "coloraxis": {
           "colorbar": {
            "outlinewidth": 0,
            "ticks": ""
           }
          },
          "colorscale": {
           "diverging": [
            [
             0,
             "#8e0152"
            ],
            [
             0.1,
             "#c51b7d"
            ],
            [
             0.2,
             "#de77ae"
            ],
            [
             0.3,
             "#f1b6da"
            ],
            [
             0.4,
             "#fde0ef"
            ],
            [
             0.5,
             "#f7f7f7"
            ],
            [
             0.6,
             "#e6f5d0"
            ],
            [
             0.7,
             "#b8e186"
            ],
            [
             0.8,
             "#7fbc41"
            ],
            [
             0.9,
             "#4d9221"
            ],
            [
             1,
             "#276419"
            ]
           ],
           "sequential": [
            [
             0,
             "#0d0887"
            ],
            [
             0.1111111111111111,
             "#46039f"
            ],
            [
             0.2222222222222222,
             "#7201a8"
            ],
            [
             0.3333333333333333,
             "#9c179e"
            ],
            [
             0.4444444444444444,
             "#bd3786"
            ],
            [
             0.5555555555555556,
             "#d8576b"
            ],
            [
             0.6666666666666666,
             "#ed7953"
            ],
            [
             0.7777777777777778,
             "#fb9f3a"
            ],
            [
             0.8888888888888888,
             "#fdca26"
            ],
            [
             1,
             "#f0f921"
            ]
           ],
           "sequentialminus": [
            [
             0,
             "#0d0887"
            ],
            [
             0.1111111111111111,
             "#46039f"
            ],
            [
             0.2222222222222222,
             "#7201a8"
            ],
            [
             0.3333333333333333,
             "#9c179e"
            ],
            [
             0.4444444444444444,
             "#bd3786"
            ],
            [
             0.5555555555555556,
             "#d8576b"
            ],
            [
             0.6666666666666666,
             "#ed7953"
            ],
            [
             0.7777777777777778,
             "#fb9f3a"
            ],
            [
             0.8888888888888888,
             "#fdca26"
            ],
            [
             1,
             "#f0f921"
            ]
           ]
          },
          "colorway": [
           "#636efa",
           "#EF553B",
           "#00cc96",
           "#ab63fa",
           "#FFA15A",
           "#19d3f3",
           "#FF6692",
           "#B6E880",
           "#FF97FF",
           "#FECB52"
          ],
          "font": {
           "color": "#2a3f5f"
          },
          "geo": {
           "bgcolor": "white",
           "lakecolor": "white",
           "landcolor": "#E5ECF6",
           "showlakes": true,
           "showland": true,
           "subunitcolor": "white"
          },
          "hoverlabel": {
           "align": "left"
          },
          "hovermode": "closest",
          "mapbox": {
           "style": "light"
          },
          "paper_bgcolor": "white",
          "plot_bgcolor": "#E5ECF6",
          "polar": {
           "angularaxis": {
            "gridcolor": "white",
            "linecolor": "white",
            "ticks": ""
           },
           "bgcolor": "#E5ECF6",
           "radialaxis": {
            "gridcolor": "white",
            "linecolor": "white",
            "ticks": ""
           }
          },
          "scene": {
           "xaxis": {
            "backgroundcolor": "#E5ECF6",
            "gridcolor": "white",
            "gridwidth": 2,
            "linecolor": "white",
            "showbackground": true,
            "ticks": "",
            "zerolinecolor": "white"
           },
           "yaxis": {
            "backgroundcolor": "#E5ECF6",
            "gridcolor": "white",
            "gridwidth": 2,
            "linecolor": "white",
            "showbackground": true,
            "ticks": "",
            "zerolinecolor": "white"
           },
           "zaxis": {
            "backgroundcolor": "#E5ECF6",
            "gridcolor": "white",
            "gridwidth": 2,
            "linecolor": "white",
            "showbackground": true,
            "ticks": "",
            "zerolinecolor": "white"
           }
          },
          "shapedefaults": {
           "line": {
            "color": "#2a3f5f"
           }
          },
          "ternary": {
           "aaxis": {
            "gridcolor": "white",
            "linecolor": "white",
            "ticks": ""
           },
           "baxis": {
            "gridcolor": "white",
            "linecolor": "white",
            "ticks": ""
           },
           "bgcolor": "#E5ECF6",
           "caxis": {
            "gridcolor": "white",
            "linecolor": "white",
            "ticks": ""
           }
          },
          "title": {
           "x": 0.05
          },
          "xaxis": {
           "automargin": true,
           "gridcolor": "white",
           "linecolor": "white",
           "ticks": "",
           "title": {
            "standoff": 15
           },
           "zerolinecolor": "white",
           "zerolinewidth": 2
          },
          "yaxis": {
           "automargin": true,
           "gridcolor": "white",
           "linecolor": "white",
           "ticks": "",
           "title": {
            "standoff": 15
           },
           "zerolinecolor": "white",
           "zerolinewidth": 2
          }
         }
        },
        "xaxis": {
         "anchor": "y",
         "domain": [
          0,
          1
         ],
         "title": {
          "text": "index"
         }
        },
        "yaxis": {
         "anchor": "x",
         "domain": [
          0,
          1
         ],
         "title": {
          "text": "value"
         }
        }
       }
      },
      "text/html": [
       "<div>\n",
       "        \n",
       "        \n",
       "            <div id=\"214531ed-f2da-481d-b1c9-92cc7520fbb5\" class=\"plotly-graph-div\" style=\"height:525px; width:100%;\"></div>\n",
       "            <script type=\"text/javascript\">\n",
       "                require([\"plotly\"], function(Plotly) {\n",
       "                    window.PLOTLYENV=window.PLOTLYENV || {};\n",
       "                    \n",
       "                if (document.getElementById(\"214531ed-f2da-481d-b1c9-92cc7520fbb5\")) {\n",
       "                    Plotly.newPlot(\n",
       "                        '214531ed-f2da-481d-b1c9-92cc7520fbb5',\n",
       "                        [{\"hovertemplate\": \"variable=Taglia<br>index=%{x}<br>value=%{y}<extra></extra>\", \"legendgroup\": \"Taglia\", \"line\": {\"color\": \"#636efa\", \"dash\": \"solid\"}, \"mode\": \"lines\", \"name\": \"Taglia\", \"orientation\": \"v\", \"showlegend\": true, \"type\": \"scatter\", \"x\": [0, 1, 2, 3, 4, 5, 6, 7, 8, 9, 10, 11, 12, 13, 14, 15, 16, 17, 18, 21, 22, 23, 24, 26, 27, 28, 29, 30, 31, 32, 33, 34, 35, 37, 38, 39, 40, 41, 42, 43, 44, 45, 46, 47, 48, 49, 50, 51, 52, 53, 54, 55, 56, 57, 58, 59, 60, 62, 63, 64, 65, 66, 67, 68, 69, 70, 71, 72, 73, 74, 75, 76, 77, 78, 79, 80, 81, 82, 83, 84, 85, 86, 87, 88, 89, 90, 91, 92, 93, 94, 95, 96, 97, 98, 99, 100, 101, 102, 103, 104, 105, 106, 109, 110, 111, 112, 113, 114, 115, 116, 117, 118, 120, 121, 122, 158, 161, 162, 163, 164, 165, 166, 167, 168, 169, 170, 171, 172, 173, 174, 176, 177, 178, 179, 180, 181, 182, 183, 184, 185, 186, 187, 188, 189, 191, 192, 193, 194, 195, 196, 197, 198, 199, 200, 201, 202, 203, 204, 205, 206, 207, 208, 209, 210, 211, 214, 215, 216, 217, 218, 219, 220, 221, 222, 223, 224, 226, 227, 228, 229, 230, 231, 232, 233, 234, 235, 236, 237, 239, 240, 241, 242, 243, 244, 245, 246, 247, 248, 249, 251, 252, 253, 254, 255, 256, 257, 258, 259, 260, 261, 263, 264, 265, 266, 267, 268, 269, 270, 271, 272, 273, 275, 280, 281, 282, 283, 284, 285, 286, 287, 288, 289, 290, 291, 292, 293, 294, 295, 296, 297, 298, 299, 300, 301, 302, 303, 304, 305, 306, 307, 308, 309, 310, 311, 312, 313, 314, 315, 316, 317, 318, 319, 320, 321, 322, 323, 324, 325, 326, 327, 328, 329, 330, 331, 332, 333, 334, 335, 336, 337, 338, 339, 340, 341, 342, 343, 344, 345, 346, 347, 348, 349, 350, 351, 352, 353, 354, 355, 356, 357, 358, 359, 360, 361, 362, 363, 364, 365, 366, 367, 368, 369, 370, 371, 372, 373, 374, 375, 376, 377, 378, 379, 380, 381, 382, 383, 384, 385, 386, 387, 388, 389, 390, 391, 392, 393, 394, 395, 396, 397, 398, 399, 400, 401, 402, 403, 404, 405, 406, 407, 408, 409, 411, 412, 413, 414, 415, 416, 417, 420, 421, 422, 423, 424], \"xaxis\": \"x\", \"y\": [58.0, 68.0, 35.0, 40.0, 68.0, 94.0, 46.0, 60.0, 41.0, 45.0, 39.0, 57.0, 46.0, 54.0, 54.0, 55.0, 48.0, 26.0, 50.0, 34.5, 21.0, 30.0, 31.0, 27.5, 11.0, 38.0, 60.0, 62.0, 55.0, 54.0, 50.0, 46.0, 6.5, 3.0, 66.0, 71.0, 52.0, 38.0, 76.0, 54.0, 64.0, 49.0, 70.0, 36.0, 29.0, 25.0, 56.0, 54.0, 44.0, 9.0, 49.0, 23.0, 43.0, 71.0, 54.0, 30.0, 23.0, 15.0, 30.0, 30.0, 63.0, 35.0, 70.0, 29.5, 40.5, 63.0, 60.0, 70.0, 40.0, 40.0, 50.0, 69.0, 38.5, 55.0, 61.0, 52.0, 60.0, 80.0, 37.0, 62.0, 62.0, 65.0, 80.0, 54.5, 61.0, 39.0, 36.5, 52.0, 26.0, 24.0, 67.0, 65.0, 84.0, 58.0, 66.5, 74.0, 71.0, 73.0, 51.7, 41.5, 60.5, 3.9, 21.5, 59.0, 61.5, 63.0, 60.0, 52.0, 50.0, 60.0, 35.5, 49.5, 58.0, 45.0, 58.0, 60.5, 37.0, 80.0, 61.0, 39.0, 55.0, 81.0, 69.0, 86.0, 19.0, 17.0, 40.0, 24.0, 29.0, 30.0, 36.0, 32.0, 60.0, 14.0, 39.0, 39.0, 60.0, 37.0, 31.0, 77.0, 30.0, 67.0, 30.0, 70.0, 79.0, 36.0, 50.0, 45.0, 80.0, 100.0, 60.0, 69.0, 72.0, 31.0, 52.0, 26.0, 27.0, 70.0, 73.0, 63.0, 80.0, 47.0, 40.0, 51.0, 39.0, 67.0, 55.0, 58.5, 62.0, 80.0, 50.0, 70.0, 51.5, 34.0, 21.0, 22.0, 100.0, 40.0, 37.0, 27.0, 35.0, 32.0, 32.0, 28.0, 27.0, 42.0, 38.0, 30.0, 39.0, 19.0, 27.0, 34.0, 63.0, 28.0, 20.0, 32.0, 21.0, 20.0, 50.0, 62.0, 45.0, 52.0, 24.0, 41.0, 55.0, 50.0, 48.0, 50.0, 47.0, 63.0, 47.0, 52.0, 56.0, 50.0, 34.0, 38.0, 50.0, 41.0, 50.0, 49.0, 64.0, 49.0, 58.0, 51.0, 9.0, 60.0, 55.0, 45.0, 35.0, 69.0, 46.0, 36.0, 48.0, 53.0, 63.0, 40.0, 48.0, 56.0, 49.0, 34.0, 60.0, 41.0, 76.0, 62.0, 39.5, 37.0, 35.0, 55.0, 69.0, 41.0, 70.0, 32.0, 56.0, 47.5, 76.0, 49.0, 54.0, 56.5, 40.0, 22.0, 64.5, 45.0, 63.0, 35.5, 67.0, 48.0, 73.5, 65.0, 51.0, 50.0, 75.0, 50.0, 50.0, 63.0, 56.5, 78.0, 29.0, 45.0, 40.0, 55.0, 57.5, 40.0, 41.0, 40.0, 58.0, 49.5, 27.0, 55.0, 57.0, 29.0, 62.0, 63.0, 29.5, 72.0, 48.5, 68.0, 40.0, 55.5, 68.0, 22.5, 63.0, 47.0, 27.0, 58.0, 50.0, 60.0, 38.0, 39.0, 52.5, 46.0, 34.5, 50.0, 61.0, 41.0, 44.0, 59.0, 48.0, 6.0, 67.0, 42.0, 51.0, 61.0, 49.0, 66.5, 51.0, 61.0, 73.5, 52.0, 56.0, 61.0, 57.0, 41.0, 71.5, 64.0, 22.0, 52.0, 60.0, 29.0, 58.0, 53.0, 59.0, 66.0, 64.0, 52.0, 58.0, 62.0, 60.0, 57.0, 43.0, 56.0, 61.0, 31.5, 65.0, 57.0, 30.0, 34.5, 64.0, 40.0, 54.0, 62.0, 61.5, 50.0, 53.5, 69.0], \"yaxis\": \"y\"}],\n",
       "                        {\"legend\": {\"title\": {\"text\": \"variable\"}, \"tracegroupgap\": 0}, \"margin\": {\"t\": 60}, \"template\": {\"data\": {\"bar\": [{\"error_x\": {\"color\": \"#2a3f5f\"}, \"error_y\": {\"color\": \"#2a3f5f\"}, \"marker\": {\"line\": {\"color\": \"#E5ECF6\", \"width\": 0.5}}, \"type\": \"bar\"}], \"barpolar\": [{\"marker\": {\"line\": {\"color\": \"#E5ECF6\", \"width\": 0.5}}, \"type\": \"barpolar\"}], \"carpet\": [{\"aaxis\": {\"endlinecolor\": \"#2a3f5f\", \"gridcolor\": \"white\", \"linecolor\": \"white\", \"minorgridcolor\": \"white\", \"startlinecolor\": \"#2a3f5f\"}, \"baxis\": {\"endlinecolor\": \"#2a3f5f\", \"gridcolor\": \"white\", \"linecolor\": \"white\", \"minorgridcolor\": \"white\", \"startlinecolor\": \"#2a3f5f\"}, \"type\": \"carpet\"}], \"choropleth\": [{\"colorbar\": {\"outlinewidth\": 0, \"ticks\": \"\"}, \"type\": \"choropleth\"}], \"contour\": [{\"colorbar\": {\"outlinewidth\": 0, \"ticks\": \"\"}, \"colorscale\": [[0.0, \"#0d0887\"], [0.1111111111111111, \"#46039f\"], [0.2222222222222222, \"#7201a8\"], [0.3333333333333333, \"#9c179e\"], [0.4444444444444444, \"#bd3786\"], [0.5555555555555556, \"#d8576b\"], [0.6666666666666666, \"#ed7953\"], [0.7777777777777778, \"#fb9f3a\"], [0.8888888888888888, \"#fdca26\"], [1.0, \"#f0f921\"]], \"type\": \"contour\"}], \"contourcarpet\": [{\"colorbar\": {\"outlinewidth\": 0, \"ticks\": \"\"}, \"type\": \"contourcarpet\"}], \"heatmap\": [{\"colorbar\": {\"outlinewidth\": 0, \"ticks\": \"\"}, \"colorscale\": [[0.0, \"#0d0887\"], [0.1111111111111111, \"#46039f\"], [0.2222222222222222, \"#7201a8\"], [0.3333333333333333, \"#9c179e\"], [0.4444444444444444, \"#bd3786\"], [0.5555555555555556, \"#d8576b\"], [0.6666666666666666, \"#ed7953\"], [0.7777777777777778, \"#fb9f3a\"], [0.8888888888888888, \"#fdca26\"], [1.0, \"#f0f921\"]], \"type\": \"heatmap\"}], \"heatmapgl\": [{\"colorbar\": {\"outlinewidth\": 0, \"ticks\": \"\"}, \"colorscale\": [[0.0, \"#0d0887\"], [0.1111111111111111, \"#46039f\"], [0.2222222222222222, \"#7201a8\"], [0.3333333333333333, \"#9c179e\"], [0.4444444444444444, \"#bd3786\"], [0.5555555555555556, \"#d8576b\"], [0.6666666666666666, \"#ed7953\"], [0.7777777777777778, \"#fb9f3a\"], [0.8888888888888888, \"#fdca26\"], [1.0, \"#f0f921\"]], \"type\": \"heatmapgl\"}], \"histogram\": [{\"marker\": {\"colorbar\": {\"outlinewidth\": 0, \"ticks\": \"\"}}, \"type\": \"histogram\"}], \"histogram2d\": [{\"colorbar\": {\"outlinewidth\": 0, \"ticks\": \"\"}, \"colorscale\": [[0.0, \"#0d0887\"], [0.1111111111111111, \"#46039f\"], [0.2222222222222222, \"#7201a8\"], [0.3333333333333333, \"#9c179e\"], [0.4444444444444444, \"#bd3786\"], [0.5555555555555556, \"#d8576b\"], [0.6666666666666666, \"#ed7953\"], [0.7777777777777778, \"#fb9f3a\"], [0.8888888888888888, \"#fdca26\"], [1.0, \"#f0f921\"]], \"type\": \"histogram2d\"}], \"histogram2dcontour\": [{\"colorbar\": {\"outlinewidth\": 0, \"ticks\": \"\"}, \"colorscale\": [[0.0, \"#0d0887\"], [0.1111111111111111, \"#46039f\"], [0.2222222222222222, \"#7201a8\"], [0.3333333333333333, \"#9c179e\"], [0.4444444444444444, \"#bd3786\"], [0.5555555555555556, \"#d8576b\"], [0.6666666666666666, \"#ed7953\"], [0.7777777777777778, \"#fb9f3a\"], [0.8888888888888888, \"#fdca26\"], [1.0, \"#f0f921\"]], \"type\": \"histogram2dcontour\"}], \"mesh3d\": [{\"colorbar\": {\"outlinewidth\": 0, \"ticks\": \"\"}, \"type\": \"mesh3d\"}], \"parcoords\": [{\"line\": {\"colorbar\": {\"outlinewidth\": 0, \"ticks\": \"\"}}, \"type\": \"parcoords\"}], \"pie\": [{\"automargin\": true, \"type\": \"pie\"}], \"scatter\": [{\"marker\": {\"colorbar\": {\"outlinewidth\": 0, \"ticks\": \"\"}}, \"type\": \"scatter\"}], \"scatter3d\": [{\"line\": {\"colorbar\": {\"outlinewidth\": 0, \"ticks\": \"\"}}, \"marker\": {\"colorbar\": {\"outlinewidth\": 0, \"ticks\": \"\"}}, \"type\": \"scatter3d\"}], \"scattercarpet\": [{\"marker\": {\"colorbar\": {\"outlinewidth\": 0, \"ticks\": \"\"}}, \"type\": \"scattercarpet\"}], \"scattergeo\": [{\"marker\": {\"colorbar\": {\"outlinewidth\": 0, \"ticks\": \"\"}}, \"type\": \"scattergeo\"}], \"scattergl\": [{\"marker\": {\"colorbar\": {\"outlinewidth\": 0, \"ticks\": \"\"}}, \"type\": \"scattergl\"}], \"scattermapbox\": [{\"marker\": {\"colorbar\": {\"outlinewidth\": 0, \"ticks\": \"\"}}, \"type\": \"scattermapbox\"}], \"scatterpolar\": [{\"marker\": {\"colorbar\": {\"outlinewidth\": 0, \"ticks\": \"\"}}, \"type\": \"scatterpolar\"}], \"scatterpolargl\": [{\"marker\": {\"colorbar\": {\"outlinewidth\": 0, \"ticks\": \"\"}}, \"type\": \"scatterpolargl\"}], \"scatterternary\": [{\"marker\": {\"colorbar\": {\"outlinewidth\": 0, \"ticks\": \"\"}}, \"type\": \"scatterternary\"}], \"surface\": [{\"colorbar\": {\"outlinewidth\": 0, \"ticks\": \"\"}, \"colorscale\": [[0.0, \"#0d0887\"], [0.1111111111111111, \"#46039f\"], [0.2222222222222222, \"#7201a8\"], [0.3333333333333333, \"#9c179e\"], [0.4444444444444444, \"#bd3786\"], [0.5555555555555556, \"#d8576b\"], [0.6666666666666666, \"#ed7953\"], [0.7777777777777778, \"#fb9f3a\"], [0.8888888888888888, \"#fdca26\"], [1.0, \"#f0f921\"]], \"type\": \"surface\"}], \"table\": [{\"cells\": {\"fill\": {\"color\": \"#EBF0F8\"}, \"line\": {\"color\": \"white\"}}, \"header\": {\"fill\": {\"color\": \"#C8D4E3\"}, \"line\": {\"color\": \"white\"}}, \"type\": \"table\"}]}, \"layout\": {\"annotationdefaults\": {\"arrowcolor\": \"#2a3f5f\", \"arrowhead\": 0, \"arrowwidth\": 1}, \"coloraxis\": {\"colorbar\": {\"outlinewidth\": 0, \"ticks\": \"\"}}, \"colorscale\": {\"diverging\": [[0, \"#8e0152\"], [0.1, \"#c51b7d\"], [0.2, \"#de77ae\"], [0.3, \"#f1b6da\"], [0.4, \"#fde0ef\"], [0.5, \"#f7f7f7\"], [0.6, \"#e6f5d0\"], [0.7, \"#b8e186\"], [0.8, \"#7fbc41\"], [0.9, \"#4d9221\"], [1, \"#276419\"]], \"sequential\": [[0.0, \"#0d0887\"], [0.1111111111111111, \"#46039f\"], [0.2222222222222222, \"#7201a8\"], [0.3333333333333333, \"#9c179e\"], [0.4444444444444444, \"#bd3786\"], [0.5555555555555556, \"#d8576b\"], [0.6666666666666666, \"#ed7953\"], [0.7777777777777778, \"#fb9f3a\"], [0.8888888888888888, \"#fdca26\"], [1.0, \"#f0f921\"]], \"sequentialminus\": [[0.0, \"#0d0887\"], [0.1111111111111111, \"#46039f\"], [0.2222222222222222, \"#7201a8\"], [0.3333333333333333, \"#9c179e\"], [0.4444444444444444, \"#bd3786\"], [0.5555555555555556, \"#d8576b\"], [0.6666666666666666, \"#ed7953\"], [0.7777777777777778, \"#fb9f3a\"], [0.8888888888888888, \"#fdca26\"], [1.0, \"#f0f921\"]]}, \"colorway\": [\"#636efa\", \"#EF553B\", \"#00cc96\", \"#ab63fa\", \"#FFA15A\", \"#19d3f3\", \"#FF6692\", \"#B6E880\", \"#FF97FF\", \"#FECB52\"], \"font\": {\"color\": \"#2a3f5f\"}, \"geo\": {\"bgcolor\": \"white\", \"lakecolor\": \"white\", \"landcolor\": \"#E5ECF6\", \"showlakes\": true, \"showland\": true, \"subunitcolor\": \"white\"}, \"hoverlabel\": {\"align\": \"left\"}, \"hovermode\": \"closest\", \"mapbox\": {\"style\": \"light\"}, \"paper_bgcolor\": \"white\", \"plot_bgcolor\": \"#E5ECF6\", \"polar\": {\"angularaxis\": {\"gridcolor\": \"white\", \"linecolor\": \"white\", \"ticks\": \"\"}, \"bgcolor\": \"#E5ECF6\", \"radialaxis\": {\"gridcolor\": \"white\", \"linecolor\": \"white\", \"ticks\": \"\"}}, \"scene\": {\"xaxis\": {\"backgroundcolor\": \"#E5ECF6\", \"gridcolor\": \"white\", \"gridwidth\": 2, \"linecolor\": \"white\", \"showbackground\": true, \"ticks\": \"\", \"zerolinecolor\": \"white\"}, \"yaxis\": {\"backgroundcolor\": \"#E5ECF6\", \"gridcolor\": \"white\", \"gridwidth\": 2, \"linecolor\": \"white\", \"showbackground\": true, \"ticks\": \"\", \"zerolinecolor\": \"white\"}, \"zaxis\": {\"backgroundcolor\": \"#E5ECF6\", \"gridcolor\": \"white\", \"gridwidth\": 2, \"linecolor\": \"white\", \"showbackground\": true, \"ticks\": \"\", \"zerolinecolor\": \"white\"}}, \"shapedefaults\": {\"line\": {\"color\": \"#2a3f5f\"}}, \"ternary\": {\"aaxis\": {\"gridcolor\": \"white\", \"linecolor\": \"white\", \"ticks\": \"\"}, \"baxis\": {\"gridcolor\": \"white\", \"linecolor\": \"white\", \"ticks\": \"\"}, \"bgcolor\": \"#E5ECF6\", \"caxis\": {\"gridcolor\": \"white\", \"linecolor\": \"white\", \"ticks\": \"\"}}, \"title\": {\"x\": 0.05}, \"xaxis\": {\"automargin\": true, \"gridcolor\": \"white\", \"linecolor\": \"white\", \"ticks\": \"\", \"title\": {\"standoff\": 15}, \"zerolinecolor\": \"white\", \"zerolinewidth\": 2}, \"yaxis\": {\"automargin\": true, \"gridcolor\": \"white\", \"linecolor\": \"white\", \"ticks\": \"\", \"title\": {\"standoff\": 15}, \"zerolinecolor\": \"white\", \"zerolinewidth\": 2}}}, \"xaxis\": {\"anchor\": \"y\", \"domain\": [0.0, 1.0], \"title\": {\"text\": \"index\"}}, \"yaxis\": {\"anchor\": \"x\", \"domain\": [0.0, 1.0], \"title\": {\"text\": \"value\"}}},\n",
       "                        {\"responsive\": true}\n",
       "                    ).then(function(){\n",
       "                            \n",
       "var gd = document.getElementById('214531ed-f2da-481d-b1c9-92cc7520fbb5');\n",
       "var x = new MutationObserver(function (mutations, observer) {{\n",
       "        var display = window.getComputedStyle(gd).display;\n",
       "        if (!display || display === 'none') {{\n",
       "            console.log([gd, 'removed!']);\n",
       "            Plotly.purge(gd);\n",
       "            observer.disconnect();\n",
       "        }}\n",
       "}});\n",
       "\n",
       "// Listen for the removal of the full notebook cells\n",
       "var notebookContainer = gd.closest('#notebook-container');\n",
       "if (notebookContainer) {{\n",
       "    x.observe(notebookContainer, {childList: true});\n",
       "}}\n",
       "\n",
       "// Listen for the clearing of the current output cell\n",
       "var outputEl = gd.closest('.output');\n",
       "if (outputEl) {{\n",
       "    x.observe(outputEl, {childList: true});\n",
       "}}\n",
       "\n",
       "                        })\n",
       "                };\n",
       "                });\n",
       "            </script>\n",
       "        </div>"
      ]
     },
     "metadata": {},
     "output_type": "display_data"
    }
   ],
   "source": [
    "df['Taglia'].plot()"
   ]
  },
  {
   "cell_type": "code",
   "execution_count": 62,
   "metadata": {},
   "outputs": [
    {
     "data": {
      "application/vnd.plotly.v1+json": {
       "config": {
        "plotlyServerURL": "https://plot.ly"
       },
       "data": [
        {
         "hovertemplate": "variable=Taglia<br>index=%{x}<br>value=%{y}<extra></extra>",
         "legendgroup": "Taglia",
         "line": {
          "color": "#636efa",
          "dash": "solid"
         },
         "mode": "lines",
         "name": "Taglia",
         "orientation": "v",
         "showlegend": true,
         "type": "scatter",
         "x": [
          0,
          1,
          2,
          3,
          4,
          5,
          6,
          7,
          8,
          9,
          10,
          11,
          12,
          13,
          14,
          15,
          16,
          17,
          18,
          19,
          20,
          21,
          22,
          23,
          24,
          25,
          26,
          27,
          28,
          29,
          30,
          31,
          32,
          33,
          34,
          35,
          36,
          37,
          38,
          39,
          40,
          41,
          42,
          43,
          44,
          45,
          46,
          47,
          48,
          49,
          50,
          51,
          52,
          53,
          54,
          55,
          56,
          57,
          58,
          59,
          60,
          61,
          62,
          63,
          64,
          65,
          66,
          67,
          68,
          69,
          70,
          71,
          72,
          73,
          74,
          75,
          76,
          77,
          78,
          79,
          80,
          81,
          82,
          83,
          84,
          85,
          86,
          87,
          88,
          89,
          90,
          91,
          92,
          93,
          94,
          95,
          96,
          97,
          98,
          99,
          100,
          101,
          102,
          103,
          104,
          105,
          106,
          107,
          108,
          109,
          110,
          111,
          112,
          113,
          114,
          115,
          116,
          117,
          118,
          119,
          120,
          121,
          122,
          123,
          124,
          125,
          126,
          127,
          128,
          129,
          130,
          131,
          132,
          133,
          134,
          135,
          136,
          137,
          138,
          139,
          140,
          141,
          142,
          143,
          144,
          145,
          146,
          147,
          148,
          149,
          150,
          151,
          152,
          153,
          154,
          155,
          156,
          157,
          158,
          159,
          160,
          161,
          162,
          163,
          164,
          165,
          166,
          167,
          168,
          169,
          170,
          171,
          172,
          173,
          174,
          175,
          176,
          177,
          178,
          179,
          180,
          181,
          182,
          183,
          184,
          185,
          186,
          187,
          188,
          189,
          190,
          191,
          192,
          193,
          194,
          195,
          196,
          197,
          198,
          199,
          200,
          201,
          202,
          203,
          204,
          205,
          206,
          207,
          208,
          209,
          210,
          211,
          212,
          213,
          214,
          215,
          216,
          217,
          218,
          219,
          220,
          221,
          222,
          223,
          224,
          225,
          226,
          227,
          228,
          229,
          230,
          231,
          232,
          233,
          234,
          235,
          236,
          237,
          238,
          239,
          240,
          241,
          242,
          243,
          244,
          245,
          246,
          247,
          248,
          249,
          250,
          251,
          252,
          253,
          254,
          255,
          256,
          257,
          258,
          259,
          260,
          261,
          262,
          263,
          264,
          265,
          266,
          267,
          268,
          269,
          270,
          271,
          272,
          273,
          274,
          275,
          276,
          277,
          278,
          279,
          280,
          281,
          282,
          283,
          284,
          285,
          286,
          287,
          288,
          289,
          290,
          291,
          292,
          293,
          294,
          295,
          296,
          297,
          298,
          299,
          300,
          301,
          302,
          303,
          304,
          305,
          306,
          307,
          308,
          309,
          310,
          311,
          312,
          313,
          314,
          315,
          316,
          317,
          318,
          319,
          320,
          321,
          322,
          323,
          324,
          325,
          326,
          327,
          328,
          329,
          330,
          331,
          332,
          333,
          334,
          335,
          336,
          337,
          338,
          339,
          340,
          341,
          342,
          343,
          344,
          345,
          346,
          347,
          348,
          349,
          350,
          351,
          352,
          353,
          354,
          355,
          356,
          357,
          358,
          359,
          360,
          361
         ],
         "xaxis": "x",
         "y": [
          58,
          68,
          35,
          40,
          68,
          94,
          46,
          60,
          41,
          45,
          39,
          57,
          46,
          54,
          54,
          55,
          48,
          26,
          50,
          34.5,
          21,
          30,
          31,
          27.5,
          11,
          38,
          60,
          62,
          55,
          54,
          50,
          46,
          6.5,
          66,
          71,
          52,
          38,
          76,
          54,
          64,
          49,
          70,
          36,
          29,
          25,
          56,
          54,
          44,
          9,
          49,
          23,
          43,
          71,
          54,
          30,
          23,
          15,
          30,
          30,
          63,
          35,
          70,
          29.5,
          40.5,
          63,
          60,
          70,
          40,
          40,
          50,
          69,
          38.5,
          55,
          61,
          52,
          60,
          80,
          37,
          62,
          62,
          65,
          80,
          54.5,
          61,
          39,
          36.5,
          52,
          26,
          24,
          67,
          65,
          84,
          58,
          66.5,
          74,
          71,
          73,
          51.7,
          41.5,
          60.5,
          21.5,
          59,
          61.5,
          63,
          60,
          52,
          50,
          60,
          35.5,
          49.5,
          58,
          45,
          58,
          60.5,
          37,
          80,
          61,
          39,
          55,
          81,
          69,
          86,
          19,
          17,
          40,
          24,
          29,
          30,
          36,
          32,
          60,
          14,
          39,
          39,
          60,
          37,
          31,
          77,
          30,
          67,
          30,
          70,
          79,
          36,
          50,
          45,
          80,
          100,
          60,
          69,
          72,
          31,
          52,
          26,
          27,
          70,
          73,
          63,
          80,
          47,
          40,
          51,
          39,
          67,
          55,
          58.5,
          62,
          80,
          50,
          70,
          51.5,
          34,
          21,
          22,
          100,
          40,
          37,
          27,
          35,
          32,
          32,
          28,
          27,
          42,
          38,
          30,
          39,
          19,
          27,
          34,
          63,
          28,
          20,
          32,
          21,
          20,
          50,
          62,
          45,
          52,
          24,
          41,
          55,
          50,
          48,
          50,
          47,
          63,
          47,
          52,
          56,
          50,
          34,
          38,
          50,
          41,
          50,
          49,
          64,
          49,
          58,
          51,
          9,
          60,
          55,
          45,
          35,
          69,
          46,
          36,
          48,
          53,
          63,
          40,
          48,
          56,
          49,
          34,
          60,
          41,
          76,
          62,
          39.5,
          37,
          35,
          55,
          69,
          41,
          70,
          32,
          56,
          47.5,
          76,
          49,
          54,
          56.5,
          40,
          22,
          64.5,
          45,
          63,
          35.5,
          67,
          48,
          73.5,
          65,
          51,
          50,
          75,
          50,
          50,
          63,
          56.5,
          78,
          29,
          45,
          40,
          55,
          57.5,
          40,
          41,
          40,
          58,
          49.5,
          27,
          55,
          57,
          29,
          62,
          63,
          29.5,
          72,
          48.5,
          68,
          40,
          55.5,
          68,
          22.5,
          63,
          47,
          27,
          58,
          50,
          60,
          38,
          39,
          52.5,
          46,
          34.5,
          50,
          61,
          41,
          44,
          59,
          48,
          6,
          67,
          42,
          51,
          61,
          49,
          66.5,
          51,
          61,
          73.5,
          52,
          56,
          61,
          57,
          41,
          71.5,
          64,
          22,
          52,
          60,
          29,
          58,
          53,
          59,
          66,
          64,
          52,
          58,
          62,
          60,
          57,
          43,
          56,
          61,
          31.5,
          65,
          57,
          30,
          34.5,
          64,
          40,
          54,
          62,
          61.5,
          50,
          53.5,
          69
         ],
         "yaxis": "y"
        }
       ],
       "layout": {
        "legend": {
         "title": {
          "text": "variable"
         },
         "tracegroupgap": 0
        },
        "margin": {
         "t": 60
        },
        "template": {
         "data": {
          "bar": [
           {
            "error_x": {
             "color": "#2a3f5f"
            },
            "error_y": {
             "color": "#2a3f5f"
            },
            "marker": {
             "line": {
              "color": "#E5ECF6",
              "width": 0.5
             }
            },
            "type": "bar"
           }
          ],
          "barpolar": [
           {
            "marker": {
             "line": {
              "color": "#E5ECF6",
              "width": 0.5
             }
            },
            "type": "barpolar"
           }
          ],
          "carpet": [
           {
            "aaxis": {
             "endlinecolor": "#2a3f5f",
             "gridcolor": "white",
             "linecolor": "white",
             "minorgridcolor": "white",
             "startlinecolor": "#2a3f5f"
            },
            "baxis": {
             "endlinecolor": "#2a3f5f",
             "gridcolor": "white",
             "linecolor": "white",
             "minorgridcolor": "white",
             "startlinecolor": "#2a3f5f"
            },
            "type": "carpet"
           }
          ],
          "choropleth": [
           {
            "colorbar": {
             "outlinewidth": 0,
             "ticks": ""
            },
            "type": "choropleth"
           }
          ],
          "contour": [
           {
            "colorbar": {
             "outlinewidth": 0,
             "ticks": ""
            },
            "colorscale": [
             [
              0,
              "#0d0887"
             ],
             [
              0.1111111111111111,
              "#46039f"
             ],
             [
              0.2222222222222222,
              "#7201a8"
             ],
             [
              0.3333333333333333,
              "#9c179e"
             ],
             [
              0.4444444444444444,
              "#bd3786"
             ],
             [
              0.5555555555555556,
              "#d8576b"
             ],
             [
              0.6666666666666666,
              "#ed7953"
             ],
             [
              0.7777777777777778,
              "#fb9f3a"
             ],
             [
              0.8888888888888888,
              "#fdca26"
             ],
             [
              1,
              "#f0f921"
             ]
            ],
            "type": "contour"
           }
          ],
          "contourcarpet": [
           {
            "colorbar": {
             "outlinewidth": 0,
             "ticks": ""
            },
            "type": "contourcarpet"
           }
          ],
          "heatmap": [
           {
            "colorbar": {
             "outlinewidth": 0,
             "ticks": ""
            },
            "colorscale": [
             [
              0,
              "#0d0887"
             ],
             [
              0.1111111111111111,
              "#46039f"
             ],
             [
              0.2222222222222222,
              "#7201a8"
             ],
             [
              0.3333333333333333,
              "#9c179e"
             ],
             [
              0.4444444444444444,
              "#bd3786"
             ],
             [
              0.5555555555555556,
              "#d8576b"
             ],
             [
              0.6666666666666666,
              "#ed7953"
             ],
             [
              0.7777777777777778,
              "#fb9f3a"
             ],
             [
              0.8888888888888888,
              "#fdca26"
             ],
             [
              1,
              "#f0f921"
             ]
            ],
            "type": "heatmap"
           }
          ],
          "heatmapgl": [
           {
            "colorbar": {
             "outlinewidth": 0,
             "ticks": ""
            },
            "colorscale": [
             [
              0,
              "#0d0887"
             ],
             [
              0.1111111111111111,
              "#46039f"
             ],
             [
              0.2222222222222222,
              "#7201a8"
             ],
             [
              0.3333333333333333,
              "#9c179e"
             ],
             [
              0.4444444444444444,
              "#bd3786"
             ],
             [
              0.5555555555555556,
              "#d8576b"
             ],
             [
              0.6666666666666666,
              "#ed7953"
             ],
             [
              0.7777777777777778,
              "#fb9f3a"
             ],
             [
              0.8888888888888888,
              "#fdca26"
             ],
             [
              1,
              "#f0f921"
             ]
            ],
            "type": "heatmapgl"
           }
          ],
          "histogram": [
           {
            "marker": {
             "colorbar": {
              "outlinewidth": 0,
              "ticks": ""
             }
            },
            "type": "histogram"
           }
          ],
          "histogram2d": [
           {
            "colorbar": {
             "outlinewidth": 0,
             "ticks": ""
            },
            "colorscale": [
             [
              0,
              "#0d0887"
             ],
             [
              0.1111111111111111,
              "#46039f"
             ],
             [
              0.2222222222222222,
              "#7201a8"
             ],
             [
              0.3333333333333333,
              "#9c179e"
             ],
             [
              0.4444444444444444,
              "#bd3786"
             ],
             [
              0.5555555555555556,
              "#d8576b"
             ],
             [
              0.6666666666666666,
              "#ed7953"
             ],
             [
              0.7777777777777778,
              "#fb9f3a"
             ],
             [
              0.8888888888888888,
              "#fdca26"
             ],
             [
              1,
              "#f0f921"
             ]
            ],
            "type": "histogram2d"
           }
          ],
          "histogram2dcontour": [
           {
            "colorbar": {
             "outlinewidth": 0,
             "ticks": ""
            },
            "colorscale": [
             [
              0,
              "#0d0887"
             ],
             [
              0.1111111111111111,
              "#46039f"
             ],
             [
              0.2222222222222222,
              "#7201a8"
             ],
             [
              0.3333333333333333,
              "#9c179e"
             ],
             [
              0.4444444444444444,
              "#bd3786"
             ],
             [
              0.5555555555555556,
              "#d8576b"
             ],
             [
              0.6666666666666666,
              "#ed7953"
             ],
             [
              0.7777777777777778,
              "#fb9f3a"
             ],
             [
              0.8888888888888888,
              "#fdca26"
             ],
             [
              1,
              "#f0f921"
             ]
            ],
            "type": "histogram2dcontour"
           }
          ],
          "mesh3d": [
           {
            "colorbar": {
             "outlinewidth": 0,
             "ticks": ""
            },
            "type": "mesh3d"
           }
          ],
          "parcoords": [
           {
            "line": {
             "colorbar": {
              "outlinewidth": 0,
              "ticks": ""
             }
            },
            "type": "parcoords"
           }
          ],
          "pie": [
           {
            "automargin": true,
            "type": "pie"
           }
          ],
          "scatter": [
           {
            "marker": {
             "colorbar": {
              "outlinewidth": 0,
              "ticks": ""
             }
            },
            "type": "scatter"
           }
          ],
          "scatter3d": [
           {
            "line": {
             "colorbar": {
              "outlinewidth": 0,
              "ticks": ""
             }
            },
            "marker": {
             "colorbar": {
              "outlinewidth": 0,
              "ticks": ""
             }
            },
            "type": "scatter3d"
           }
          ],
          "scattercarpet": [
           {
            "marker": {
             "colorbar": {
              "outlinewidth": 0,
              "ticks": ""
             }
            },
            "type": "scattercarpet"
           }
          ],
          "scattergeo": [
           {
            "marker": {
             "colorbar": {
              "outlinewidth": 0,
              "ticks": ""
             }
            },
            "type": "scattergeo"
           }
          ],
          "scattergl": [
           {
            "marker": {
             "colorbar": {
              "outlinewidth": 0,
              "ticks": ""
             }
            },
            "type": "scattergl"
           }
          ],
          "scattermapbox": [
           {
            "marker": {
             "colorbar": {
              "outlinewidth": 0,
              "ticks": ""
             }
            },
            "type": "scattermapbox"
           }
          ],
          "scatterpolar": [
           {
            "marker": {
             "colorbar": {
              "outlinewidth": 0,
              "ticks": ""
             }
            },
            "type": "scatterpolar"
           }
          ],
          "scatterpolargl": [
           {
            "marker": {
             "colorbar": {
              "outlinewidth": 0,
              "ticks": ""
             }
            },
            "type": "scatterpolargl"
           }
          ],
          "scatterternary": [
           {
            "marker": {
             "colorbar": {
              "outlinewidth": 0,
              "ticks": ""
             }
            },
            "type": "scatterternary"
           }
          ],
          "surface": [
           {
            "colorbar": {
             "outlinewidth": 0,
             "ticks": ""
            },
            "colorscale": [
             [
              0,
              "#0d0887"
             ],
             [
              0.1111111111111111,
              "#46039f"
             ],
             [
              0.2222222222222222,
              "#7201a8"
             ],
             [
              0.3333333333333333,
              "#9c179e"
             ],
             [
              0.4444444444444444,
              "#bd3786"
             ],
             [
              0.5555555555555556,
              "#d8576b"
             ],
             [
              0.6666666666666666,
              "#ed7953"
             ],
             [
              0.7777777777777778,
              "#fb9f3a"
             ],
             [
              0.8888888888888888,
              "#fdca26"
             ],
             [
              1,
              "#f0f921"
             ]
            ],
            "type": "surface"
           }
          ],
          "table": [
           {
            "cells": {
             "fill": {
              "color": "#EBF0F8"
             },
             "line": {
              "color": "white"
             }
            },
            "header": {
             "fill": {
              "color": "#C8D4E3"
             },
             "line": {
              "color": "white"
             }
            },
            "type": "table"
           }
          ]
         },
         "layout": {
          "annotationdefaults": {
           "arrowcolor": "#2a3f5f",
           "arrowhead": 0,
           "arrowwidth": 1
          },
          "coloraxis": {
           "colorbar": {
            "outlinewidth": 0,
            "ticks": ""
           }
          },
          "colorscale": {
           "diverging": [
            [
             0,
             "#8e0152"
            ],
            [
             0.1,
             "#c51b7d"
            ],
            [
             0.2,
             "#de77ae"
            ],
            [
             0.3,
             "#f1b6da"
            ],
            [
             0.4,
             "#fde0ef"
            ],
            [
             0.5,
             "#f7f7f7"
            ],
            [
             0.6,
             "#e6f5d0"
            ],
            [
             0.7,
             "#b8e186"
            ],
            [
             0.8,
             "#7fbc41"
            ],
            [
             0.9,
             "#4d9221"
            ],
            [
             1,
             "#276419"
            ]
           ],
           "sequential": [
            [
             0,
             "#0d0887"
            ],
            [
             0.1111111111111111,
             "#46039f"
            ],
            [
             0.2222222222222222,
             "#7201a8"
            ],
            [
             0.3333333333333333,
             "#9c179e"
            ],
            [
             0.4444444444444444,
             "#bd3786"
            ],
            [
             0.5555555555555556,
             "#d8576b"
            ],
            [
             0.6666666666666666,
             "#ed7953"
            ],
            [
             0.7777777777777778,
             "#fb9f3a"
            ],
            [
             0.8888888888888888,
             "#fdca26"
            ],
            [
             1,
             "#f0f921"
            ]
           ],
           "sequentialminus": [
            [
             0,
             "#0d0887"
            ],
            [
             0.1111111111111111,
             "#46039f"
            ],
            [
             0.2222222222222222,
             "#7201a8"
            ],
            [
             0.3333333333333333,
             "#9c179e"
            ],
            [
             0.4444444444444444,
             "#bd3786"
            ],
            [
             0.5555555555555556,
             "#d8576b"
            ],
            [
             0.6666666666666666,
             "#ed7953"
            ],
            [
             0.7777777777777778,
             "#fb9f3a"
            ],
            [
             0.8888888888888888,
             "#fdca26"
            ],
            [
             1,
             "#f0f921"
            ]
           ]
          },
          "colorway": [
           "#636efa",
           "#EF553B",
           "#00cc96",
           "#ab63fa",
           "#FFA15A",
           "#19d3f3",
           "#FF6692",
           "#B6E880",
           "#FF97FF",
           "#FECB52"
          ],
          "font": {
           "color": "#2a3f5f"
          },
          "geo": {
           "bgcolor": "white",
           "lakecolor": "white",
           "landcolor": "#E5ECF6",
           "showlakes": true,
           "showland": true,
           "subunitcolor": "white"
          },
          "hoverlabel": {
           "align": "left"
          },
          "hovermode": "closest",
          "mapbox": {
           "style": "light"
          },
          "paper_bgcolor": "white",
          "plot_bgcolor": "#E5ECF6",
          "polar": {
           "angularaxis": {
            "gridcolor": "white",
            "linecolor": "white",
            "ticks": ""
           },
           "bgcolor": "#E5ECF6",
           "radialaxis": {
            "gridcolor": "white",
            "linecolor": "white",
            "ticks": ""
           }
          },
          "scene": {
           "xaxis": {
            "backgroundcolor": "#E5ECF6",
            "gridcolor": "white",
            "gridwidth": 2,
            "linecolor": "white",
            "showbackground": true,
            "ticks": "",
            "zerolinecolor": "white"
           },
           "yaxis": {
            "backgroundcolor": "#E5ECF6",
            "gridcolor": "white",
            "gridwidth": 2,
            "linecolor": "white",
            "showbackground": true,
            "ticks": "",
            "zerolinecolor": "white"
           },
           "zaxis": {
            "backgroundcolor": "#E5ECF6",
            "gridcolor": "white",
            "gridwidth": 2,
            "linecolor": "white",
            "showbackground": true,
            "ticks": "",
            "zerolinecolor": "white"
           }
          },
          "shapedefaults": {
           "line": {
            "color": "#2a3f5f"
           }
          },
          "ternary": {
           "aaxis": {
            "gridcolor": "white",
            "linecolor": "white",
            "ticks": ""
           },
           "baxis": {
            "gridcolor": "white",
            "linecolor": "white",
            "ticks": ""
           },
           "bgcolor": "#E5ECF6",
           "caxis": {
            "gridcolor": "white",
            "linecolor": "white",
            "ticks": ""
           }
          },
          "title": {
           "x": 0.05
          },
          "xaxis": {
           "automargin": true,
           "gridcolor": "white",
           "linecolor": "white",
           "ticks": "",
           "title": {
            "standoff": 15
           },
           "zerolinecolor": "white",
           "zerolinewidth": 2
          },
          "yaxis": {
           "automargin": true,
           "gridcolor": "white",
           "linecolor": "white",
           "ticks": "",
           "title": {
            "standoff": 15
           },
           "zerolinecolor": "white",
           "zerolinewidth": 2
          }
         }
        },
        "xaxis": {
         "anchor": "y",
         "domain": [
          0,
          1
         ],
         "title": {
          "text": "index"
         }
        },
        "yaxis": {
         "anchor": "x",
         "domain": [
          0,
          1
         ],
         "title": {
          "text": "value"
         }
        }
       }
      },
      "text/html": [
       "<div>\n",
       "        \n",
       "        \n",
       "            <div id=\"98fd359a-19d8-47f9-91e7-7a0a1e44d5f8\" class=\"plotly-graph-div\" style=\"height:525px; width:100%;\"></div>\n",
       "            <script type=\"text/javascript\">\n",
       "                require([\"plotly\"], function(Plotly) {\n",
       "                    window.PLOTLYENV=window.PLOTLYENV || {};\n",
       "                    \n",
       "                if (document.getElementById(\"98fd359a-19d8-47f9-91e7-7a0a1e44d5f8\")) {\n",
       "                    Plotly.newPlot(\n",
       "                        '98fd359a-19d8-47f9-91e7-7a0a1e44d5f8',\n",
       "                        [{\"hovertemplate\": \"variable=Taglia<br>index=%{x}<br>value=%{y}<extra></extra>\", \"legendgroup\": \"Taglia\", \"line\": {\"color\": \"#636efa\", \"dash\": \"solid\"}, \"mode\": \"lines\", \"name\": \"Taglia\", \"orientation\": \"v\", \"showlegend\": true, \"type\": \"scatter\", \"x\": [0, 1, 2, 3, 4, 5, 6, 7, 8, 9, 10, 11, 12, 13, 14, 15, 16, 17, 18, 19, 20, 21, 22, 23, 24, 25, 26, 27, 28, 29, 30, 31, 32, 33, 34, 35, 36, 37, 38, 39, 40, 41, 42, 43, 44, 45, 46, 47, 48, 49, 50, 51, 52, 53, 54, 55, 56, 57, 58, 59, 60, 61, 62, 63, 64, 65, 66, 67, 68, 69, 70, 71, 72, 73, 74, 75, 76, 77, 78, 79, 80, 81, 82, 83, 84, 85, 86, 87, 88, 89, 90, 91, 92, 93, 94, 95, 96, 97, 98, 99, 100, 101, 102, 103, 104, 105, 106, 107, 108, 109, 110, 111, 112, 113, 114, 115, 116, 117, 118, 119, 120, 121, 122, 123, 124, 125, 126, 127, 128, 129, 130, 131, 132, 133, 134, 135, 136, 137, 138, 139, 140, 141, 142, 143, 144, 145, 146, 147, 148, 149, 150, 151, 152, 153, 154, 155, 156, 157, 158, 159, 160, 161, 162, 163, 164, 165, 166, 167, 168, 169, 170, 171, 172, 173, 174, 175, 176, 177, 178, 179, 180, 181, 182, 183, 184, 185, 186, 187, 188, 189, 190, 191, 192, 193, 194, 195, 196, 197, 198, 199, 200, 201, 202, 203, 204, 205, 206, 207, 208, 209, 210, 211, 212, 213, 214, 215, 216, 217, 218, 219, 220, 221, 222, 223, 224, 225, 226, 227, 228, 229, 230, 231, 232, 233, 234, 235, 236, 237, 238, 239, 240, 241, 242, 243, 244, 245, 246, 247, 248, 249, 250, 251, 252, 253, 254, 255, 256, 257, 258, 259, 260, 261, 262, 263, 264, 265, 266, 267, 268, 269, 270, 271, 272, 273, 274, 275, 276, 277, 278, 279, 280, 281, 282, 283, 284, 285, 286, 287, 288, 289, 290, 291, 292, 293, 294, 295, 296, 297, 298, 299, 300, 301, 302, 303, 304, 305, 306, 307, 308, 309, 310, 311, 312, 313, 314, 315, 316, 317, 318, 319, 320, 321, 322, 323, 324, 325, 326, 327, 328, 329, 330, 331, 332, 333, 334, 335, 336, 337, 338, 339, 340, 341, 342, 343, 344, 345, 346, 347, 348, 349, 350, 351, 352, 353, 354, 355, 356, 357, 358, 359, 360, 361], \"xaxis\": \"x\", \"y\": [58.0, 68.0, 35.0, 40.0, 68.0, 94.0, 46.0, 60.0, 41.0, 45.0, 39.0, 57.0, 46.0, 54.0, 54.0, 55.0, 48.0, 26.0, 50.0, 34.5, 21.0, 30.0, 31.0, 27.5, 11.0, 38.0, 60.0, 62.0, 55.0, 54.0, 50.0, 46.0, 6.5, 66.0, 71.0, 52.0, 38.0, 76.0, 54.0, 64.0, 49.0, 70.0, 36.0, 29.0, 25.0, 56.0, 54.0, 44.0, 9.0, 49.0, 23.0, 43.0, 71.0, 54.0, 30.0, 23.0, 15.0, 30.0, 30.0, 63.0, 35.0, 70.0, 29.5, 40.5, 63.0, 60.0, 70.0, 40.0, 40.0, 50.0, 69.0, 38.5, 55.0, 61.0, 52.0, 60.0, 80.0, 37.0, 62.0, 62.0, 65.0, 80.0, 54.5, 61.0, 39.0, 36.5, 52.0, 26.0, 24.0, 67.0, 65.0, 84.0, 58.0, 66.5, 74.0, 71.0, 73.0, 51.7, 41.5, 60.5, 21.5, 59.0, 61.5, 63.0, 60.0, 52.0, 50.0, 60.0, 35.5, 49.5, 58.0, 45.0, 58.0, 60.5, 37.0, 80.0, 61.0, 39.0, 55.0, 81.0, 69.0, 86.0, 19.0, 17.0, 40.0, 24.0, 29.0, 30.0, 36.0, 32.0, 60.0, 14.0, 39.0, 39.0, 60.0, 37.0, 31.0, 77.0, 30.0, 67.0, 30.0, 70.0, 79.0, 36.0, 50.0, 45.0, 80.0, 100.0, 60.0, 69.0, 72.0, 31.0, 52.0, 26.0, 27.0, 70.0, 73.0, 63.0, 80.0, 47.0, 40.0, 51.0, 39.0, 67.0, 55.0, 58.5, 62.0, 80.0, 50.0, 70.0, 51.5, 34.0, 21.0, 22.0, 100.0, 40.0, 37.0, 27.0, 35.0, 32.0, 32.0, 28.0, 27.0, 42.0, 38.0, 30.0, 39.0, 19.0, 27.0, 34.0, 63.0, 28.0, 20.0, 32.0, 21.0, 20.0, 50.0, 62.0, 45.0, 52.0, 24.0, 41.0, 55.0, 50.0, 48.0, 50.0, 47.0, 63.0, 47.0, 52.0, 56.0, 50.0, 34.0, 38.0, 50.0, 41.0, 50.0, 49.0, 64.0, 49.0, 58.0, 51.0, 9.0, 60.0, 55.0, 45.0, 35.0, 69.0, 46.0, 36.0, 48.0, 53.0, 63.0, 40.0, 48.0, 56.0, 49.0, 34.0, 60.0, 41.0, 76.0, 62.0, 39.5, 37.0, 35.0, 55.0, 69.0, 41.0, 70.0, 32.0, 56.0, 47.5, 76.0, 49.0, 54.0, 56.5, 40.0, 22.0, 64.5, 45.0, 63.0, 35.5, 67.0, 48.0, 73.5, 65.0, 51.0, 50.0, 75.0, 50.0, 50.0, 63.0, 56.5, 78.0, 29.0, 45.0, 40.0, 55.0, 57.5, 40.0, 41.0, 40.0, 58.0, 49.5, 27.0, 55.0, 57.0, 29.0, 62.0, 63.0, 29.5, 72.0, 48.5, 68.0, 40.0, 55.5, 68.0, 22.5, 63.0, 47.0, 27.0, 58.0, 50.0, 60.0, 38.0, 39.0, 52.5, 46.0, 34.5, 50.0, 61.0, 41.0, 44.0, 59.0, 48.0, 6.0, 67.0, 42.0, 51.0, 61.0, 49.0, 66.5, 51.0, 61.0, 73.5, 52.0, 56.0, 61.0, 57.0, 41.0, 71.5, 64.0, 22.0, 52.0, 60.0, 29.0, 58.0, 53.0, 59.0, 66.0, 64.0, 52.0, 58.0, 62.0, 60.0, 57.0, 43.0, 56.0, 61.0, 31.5, 65.0, 57.0, 30.0, 34.5, 64.0, 40.0, 54.0, 62.0, 61.5, 50.0, 53.5, 69.0], \"yaxis\": \"y\"}],\n",
       "                        {\"legend\": {\"title\": {\"text\": \"variable\"}, \"tracegroupgap\": 0}, \"margin\": {\"t\": 60}, \"template\": {\"data\": {\"bar\": [{\"error_x\": {\"color\": \"#2a3f5f\"}, \"error_y\": {\"color\": \"#2a3f5f\"}, \"marker\": {\"line\": {\"color\": \"#E5ECF6\", \"width\": 0.5}}, \"type\": \"bar\"}], \"barpolar\": [{\"marker\": {\"line\": {\"color\": \"#E5ECF6\", \"width\": 0.5}}, \"type\": \"barpolar\"}], \"carpet\": [{\"aaxis\": {\"endlinecolor\": \"#2a3f5f\", \"gridcolor\": \"white\", \"linecolor\": \"white\", \"minorgridcolor\": \"white\", \"startlinecolor\": \"#2a3f5f\"}, \"baxis\": {\"endlinecolor\": \"#2a3f5f\", \"gridcolor\": \"white\", \"linecolor\": \"white\", \"minorgridcolor\": \"white\", \"startlinecolor\": \"#2a3f5f\"}, \"type\": \"carpet\"}], \"choropleth\": [{\"colorbar\": {\"outlinewidth\": 0, \"ticks\": \"\"}, \"type\": \"choropleth\"}], \"contour\": [{\"colorbar\": {\"outlinewidth\": 0, \"ticks\": \"\"}, \"colorscale\": [[0.0, \"#0d0887\"], [0.1111111111111111, \"#46039f\"], [0.2222222222222222, \"#7201a8\"], [0.3333333333333333, \"#9c179e\"], [0.4444444444444444, \"#bd3786\"], [0.5555555555555556, \"#d8576b\"], [0.6666666666666666, \"#ed7953\"], [0.7777777777777778, \"#fb9f3a\"], [0.8888888888888888, \"#fdca26\"], [1.0, \"#f0f921\"]], \"type\": \"contour\"}], \"contourcarpet\": [{\"colorbar\": {\"outlinewidth\": 0, \"ticks\": \"\"}, \"type\": \"contourcarpet\"}], \"heatmap\": [{\"colorbar\": {\"outlinewidth\": 0, \"ticks\": \"\"}, \"colorscale\": [[0.0, \"#0d0887\"], [0.1111111111111111, \"#46039f\"], [0.2222222222222222, \"#7201a8\"], [0.3333333333333333, \"#9c179e\"], [0.4444444444444444, \"#bd3786\"], [0.5555555555555556, \"#d8576b\"], [0.6666666666666666, \"#ed7953\"], [0.7777777777777778, \"#fb9f3a\"], [0.8888888888888888, \"#fdca26\"], [1.0, \"#f0f921\"]], \"type\": \"heatmap\"}], \"heatmapgl\": [{\"colorbar\": {\"outlinewidth\": 0, \"ticks\": \"\"}, \"colorscale\": [[0.0, \"#0d0887\"], [0.1111111111111111, \"#46039f\"], [0.2222222222222222, \"#7201a8\"], [0.3333333333333333, \"#9c179e\"], [0.4444444444444444, \"#bd3786\"], [0.5555555555555556, \"#d8576b\"], [0.6666666666666666, \"#ed7953\"], [0.7777777777777778, \"#fb9f3a\"], [0.8888888888888888, \"#fdca26\"], [1.0, \"#f0f921\"]], \"type\": \"heatmapgl\"}], \"histogram\": [{\"marker\": {\"colorbar\": {\"outlinewidth\": 0, \"ticks\": \"\"}}, \"type\": \"histogram\"}], \"histogram2d\": [{\"colorbar\": {\"outlinewidth\": 0, \"ticks\": \"\"}, \"colorscale\": [[0.0, \"#0d0887\"], [0.1111111111111111, \"#46039f\"], [0.2222222222222222, \"#7201a8\"], [0.3333333333333333, \"#9c179e\"], [0.4444444444444444, \"#bd3786\"], [0.5555555555555556, \"#d8576b\"], [0.6666666666666666, \"#ed7953\"], [0.7777777777777778, \"#fb9f3a\"], [0.8888888888888888, \"#fdca26\"], [1.0, \"#f0f921\"]], \"type\": \"histogram2d\"}], \"histogram2dcontour\": [{\"colorbar\": {\"outlinewidth\": 0, \"ticks\": \"\"}, \"colorscale\": [[0.0, \"#0d0887\"], [0.1111111111111111, \"#46039f\"], [0.2222222222222222, \"#7201a8\"], [0.3333333333333333, \"#9c179e\"], [0.4444444444444444, \"#bd3786\"], [0.5555555555555556, \"#d8576b\"], [0.6666666666666666, \"#ed7953\"], [0.7777777777777778, \"#fb9f3a\"], [0.8888888888888888, \"#fdca26\"], [1.0, \"#f0f921\"]], \"type\": \"histogram2dcontour\"}], \"mesh3d\": [{\"colorbar\": {\"outlinewidth\": 0, \"ticks\": \"\"}, \"type\": \"mesh3d\"}], \"parcoords\": [{\"line\": {\"colorbar\": {\"outlinewidth\": 0, \"ticks\": \"\"}}, \"type\": \"parcoords\"}], \"pie\": [{\"automargin\": true, \"type\": \"pie\"}], \"scatter\": [{\"marker\": {\"colorbar\": {\"outlinewidth\": 0, \"ticks\": \"\"}}, \"type\": \"scatter\"}], \"scatter3d\": [{\"line\": {\"colorbar\": {\"outlinewidth\": 0, \"ticks\": \"\"}}, \"marker\": {\"colorbar\": {\"outlinewidth\": 0, \"ticks\": \"\"}}, \"type\": \"scatter3d\"}], \"scattercarpet\": [{\"marker\": {\"colorbar\": {\"outlinewidth\": 0, \"ticks\": \"\"}}, \"type\": \"scattercarpet\"}], \"scattergeo\": [{\"marker\": {\"colorbar\": {\"outlinewidth\": 0, \"ticks\": \"\"}}, \"type\": \"scattergeo\"}], \"scattergl\": [{\"marker\": {\"colorbar\": {\"outlinewidth\": 0, \"ticks\": \"\"}}, \"type\": \"scattergl\"}], \"scattermapbox\": [{\"marker\": {\"colorbar\": {\"outlinewidth\": 0, \"ticks\": \"\"}}, \"type\": \"scattermapbox\"}], \"scatterpolar\": [{\"marker\": {\"colorbar\": {\"outlinewidth\": 0, \"ticks\": \"\"}}, \"type\": \"scatterpolar\"}], \"scatterpolargl\": [{\"marker\": {\"colorbar\": {\"outlinewidth\": 0, \"ticks\": \"\"}}, \"type\": \"scatterpolargl\"}], \"scatterternary\": [{\"marker\": {\"colorbar\": {\"outlinewidth\": 0, \"ticks\": \"\"}}, \"type\": \"scatterternary\"}], \"surface\": [{\"colorbar\": {\"outlinewidth\": 0, \"ticks\": \"\"}, \"colorscale\": [[0.0, \"#0d0887\"], [0.1111111111111111, \"#46039f\"], [0.2222222222222222, \"#7201a8\"], [0.3333333333333333, \"#9c179e\"], [0.4444444444444444, \"#bd3786\"], [0.5555555555555556, \"#d8576b\"], [0.6666666666666666, \"#ed7953\"], [0.7777777777777778, \"#fb9f3a\"], [0.8888888888888888, \"#fdca26\"], [1.0, \"#f0f921\"]], \"type\": \"surface\"}], \"table\": [{\"cells\": {\"fill\": {\"color\": \"#EBF0F8\"}, \"line\": {\"color\": \"white\"}}, \"header\": {\"fill\": {\"color\": \"#C8D4E3\"}, \"line\": {\"color\": \"white\"}}, \"type\": \"table\"}]}, \"layout\": {\"annotationdefaults\": {\"arrowcolor\": \"#2a3f5f\", \"arrowhead\": 0, \"arrowwidth\": 1}, \"coloraxis\": {\"colorbar\": {\"outlinewidth\": 0, \"ticks\": \"\"}}, \"colorscale\": {\"diverging\": [[0, \"#8e0152\"], [0.1, \"#c51b7d\"], [0.2, \"#de77ae\"], [0.3, \"#f1b6da\"], [0.4, \"#fde0ef\"], [0.5, \"#f7f7f7\"], [0.6, \"#e6f5d0\"], [0.7, \"#b8e186\"], [0.8, \"#7fbc41\"], [0.9, \"#4d9221\"], [1, \"#276419\"]], \"sequential\": [[0.0, \"#0d0887\"], [0.1111111111111111, \"#46039f\"], [0.2222222222222222, \"#7201a8\"], [0.3333333333333333, \"#9c179e\"], [0.4444444444444444, \"#bd3786\"], [0.5555555555555556, \"#d8576b\"], [0.6666666666666666, \"#ed7953\"], [0.7777777777777778, \"#fb9f3a\"], [0.8888888888888888, \"#fdca26\"], [1.0, \"#f0f921\"]], \"sequentialminus\": [[0.0, \"#0d0887\"], [0.1111111111111111, \"#46039f\"], [0.2222222222222222, \"#7201a8\"], [0.3333333333333333, \"#9c179e\"], [0.4444444444444444, \"#bd3786\"], [0.5555555555555556, \"#d8576b\"], [0.6666666666666666, \"#ed7953\"], [0.7777777777777778, \"#fb9f3a\"], [0.8888888888888888, \"#fdca26\"], [1.0, \"#f0f921\"]]}, \"colorway\": [\"#636efa\", \"#EF553B\", \"#00cc96\", \"#ab63fa\", \"#FFA15A\", \"#19d3f3\", \"#FF6692\", \"#B6E880\", \"#FF97FF\", \"#FECB52\"], \"font\": {\"color\": \"#2a3f5f\"}, \"geo\": {\"bgcolor\": \"white\", \"lakecolor\": \"white\", \"landcolor\": \"#E5ECF6\", \"showlakes\": true, \"showland\": true, \"subunitcolor\": \"white\"}, \"hoverlabel\": {\"align\": \"left\"}, \"hovermode\": \"closest\", \"mapbox\": {\"style\": \"light\"}, \"paper_bgcolor\": \"white\", \"plot_bgcolor\": \"#E5ECF6\", \"polar\": {\"angularaxis\": {\"gridcolor\": \"white\", \"linecolor\": \"white\", \"ticks\": \"\"}, \"bgcolor\": \"#E5ECF6\", \"radialaxis\": {\"gridcolor\": \"white\", \"linecolor\": \"white\", \"ticks\": \"\"}}, \"scene\": {\"xaxis\": {\"backgroundcolor\": \"#E5ECF6\", \"gridcolor\": \"white\", \"gridwidth\": 2, \"linecolor\": \"white\", \"showbackground\": true, \"ticks\": \"\", \"zerolinecolor\": \"white\"}, \"yaxis\": {\"backgroundcolor\": \"#E5ECF6\", \"gridcolor\": \"white\", \"gridwidth\": 2, \"linecolor\": \"white\", \"showbackground\": true, \"ticks\": \"\", \"zerolinecolor\": \"white\"}, \"zaxis\": {\"backgroundcolor\": \"#E5ECF6\", \"gridcolor\": \"white\", \"gridwidth\": 2, \"linecolor\": \"white\", \"showbackground\": true, \"ticks\": \"\", \"zerolinecolor\": \"white\"}}, \"shapedefaults\": {\"line\": {\"color\": \"#2a3f5f\"}}, \"ternary\": {\"aaxis\": {\"gridcolor\": \"white\", \"linecolor\": \"white\", \"ticks\": \"\"}, \"baxis\": {\"gridcolor\": \"white\", \"linecolor\": \"white\", \"ticks\": \"\"}, \"bgcolor\": \"#E5ECF6\", \"caxis\": {\"gridcolor\": \"white\", \"linecolor\": \"white\", \"ticks\": \"\"}}, \"title\": {\"x\": 0.05}, \"xaxis\": {\"automargin\": true, \"gridcolor\": \"white\", \"linecolor\": \"white\", \"ticks\": \"\", \"title\": {\"standoff\": 15}, \"zerolinecolor\": \"white\", \"zerolinewidth\": 2}, \"yaxis\": {\"automargin\": true, \"gridcolor\": \"white\", \"linecolor\": \"white\", \"ticks\": \"\", \"title\": {\"standoff\": 15}, \"zerolinecolor\": \"white\", \"zerolinewidth\": 2}}}, \"xaxis\": {\"anchor\": \"y\", \"domain\": [0.0, 1.0], \"title\": {\"text\": \"index\"}}, \"yaxis\": {\"anchor\": \"x\", \"domain\": [0.0, 1.0], \"title\": {\"text\": \"value\"}}},\n",
       "                        {\"responsive\": true}\n",
       "                    ).then(function(){\n",
       "                            \n",
       "var gd = document.getElementById('98fd359a-19d8-47f9-91e7-7a0a1e44d5f8');\n",
       "var x = new MutationObserver(function (mutations, observer) {{\n",
       "        var display = window.getComputedStyle(gd).display;\n",
       "        if (!display || display === 'none') {{\n",
       "            console.log([gd, 'removed!']);\n",
       "            Plotly.purge(gd);\n",
       "            observer.disconnect();\n",
       "        }}\n",
       "}});\n",
       "\n",
       "// Listen for the removal of the full notebook cells\n",
       "var notebookContainer = gd.closest('#notebook-container');\n",
       "if (notebookContainer) {{\n",
       "    x.observe(notebookContainer, {childList: true});\n",
       "}}\n",
       "\n",
       "// Listen for the clearing of the current output cell\n",
       "var outputEl = gd.closest('.output');\n",
       "if (outputEl) {{\n",
       "    x.observe(outputEl, {childList: true});\n",
       "}}\n",
       "\n",
       "                        })\n",
       "                };\n",
       "                });\n",
       "            </script>\n",
       "        </div>"
      ]
     },
     "metadata": {},
     "output_type": "display_data"
    }
   ],
   "source": [
    "df[df['Taglia'] > 5].reset_index()['Taglia'].plot()"
   ]
  },
  {
   "cell_type": "code",
   "execution_count": 14,
   "metadata": {},
   "outputs": [],
   "source": [
    "df = df[df['Taglia'] != 5]"
   ]
  },
  {
   "cell_type": "code",
   "execution_count": 15,
   "metadata": {},
   "outputs": [
    {
     "data": {
      "application/vnd.plotly.v1+json": {
       "config": {
        "plotlyServerURL": "https://plot.ly"
       },
       "data": [
        {
         "dimensions": [
          {
           "axis": {
            "matches": true
           },
           "label": "Anno",
           "values": [
            2013,
            2008,
            2015,
            2006,
            2012,
            2014,
            2014,
            2014,
            2015,
            2015,
            2016,
            2016,
            2016,
            2016,
            2016,
            2017,
            2017,
            2017,
            2017,
            2017
           ]
          },
          {
           "axis": {
            "matches": true
           },
           "label": "Stagione",
           "values": [
            "Autunno",
            "Autunno",
            "Autunno",
            "Autunno",
            "Autunno",
            "Autunno",
            "Autunno",
            "Autunno",
            "Autunno",
            "Autunno",
            "Autunno",
            "Autunno",
            "Autunno",
            "Autunno",
            "Autunno",
            "Autunno",
            "Autunno",
            "Autunno",
            "Autunno",
            "Autunno"
           ]
          },
          {
           "axis": {
            "matches": true
           },
           "label": "Taglia",
           "values": [
            58,
            68,
            40,
            94,
            26,
            38,
            60,
            62,
            3,
            66,
            43,
            71,
            54,
            30,
            23,
            37,
            62,
            62,
            65,
            80
           ]
          },
          {
           "axis": {
            "matches": true
           },
           "label": "Regione",
           "values": [
            "Puglia",
            "Puglia",
            "Puglia",
            "Puglia",
            "Puglia",
            "Puglia",
            "Puglia",
            "Puglia",
            "Puglia",
            "Puglia",
            "Puglia",
            "Puglia",
            "Puglia",
            "Puglia",
            "Puglia",
            "Puglia",
            "Puglia",
            "Puglia",
            "Puglia",
            "Puglia"
           ]
          }
         ],
         "hovertemplate": "Stagione=Autunno<br>Regione=Puglia<br>%{xaxis.title.text}=%{x}<br>%{yaxis.title.text}=%{y}<extra></extra>",
         "legendgroup": "Autunno, Puglia",
         "marker": {
          "color": "goldenrod",
          "symbol": "circle"
         },
         "name": "Autunno, Puglia",
         "showlegend": true,
         "type": "splom"
        },
        {
         "dimensions": [
          {
           "axis": {
            "matches": true
           },
           "label": "Anno",
           "values": [
            2011,
            2011,
            2011,
            2012,
            2012,
            2013,
            2013,
            2014,
            2014,
            2014,
            2013,
            2014,
            2016
           ]
          },
          {
           "axis": {
            "matches": true
           },
           "label": "Stagione",
           "values": [
            "Autunno",
            "Autunno",
            "Autunno",
            "Autunno",
            "Autunno",
            "Autunno",
            "Autunno",
            "Autunno",
            "Autunno",
            "Autunno",
            "Autunno",
            "Autunno",
            "Autunno"
           ]
          },
          {
           "axis": {
            "matches": true
           },
           "label": "Taglia",
           "values": [
            19,
            17,
            40,
            24,
            29,
            36,
            32,
            39,
            39,
            69,
            67,
            55,
            80
           ]
          },
          {
           "axis": {
            "matches": true
           },
           "label": "Regione",
           "values": [
            "Calabria",
            "Calabria",
            "Calabria",
            "Calabria",
            "Calabria",
            "Calabria",
            "Calabria",
            "Calabria",
            "Calabria",
            "Calabria",
            "Calabria",
            "Calabria",
            "Calabria"
           ]
          }
         ],
         "hovertemplate": "Stagione=Autunno<br>Regione=Calabria<br>%{xaxis.title.text}=%{x}<br>%{yaxis.title.text}=%{y}<extra></extra>",
         "legendgroup": "Autunno, Calabria",
         "marker": {
          "color": "goldenrod",
          "symbol": "diamond"
         },
         "name": "Autunno, Calabria",
         "showlegend": true,
         "type": "splom"
        },
        {
         "dimensions": [
          {
           "axis": {
            "matches": true
           },
           "label": "Anno",
           "values": [
            2006,
            2008,
            2013,
            2013,
            2013,
            2014,
            2014,
            2014,
            2014,
            2014,
            2014,
            2014,
            2014,
            2014,
            2015,
            2015,
            2015,
            2015,
            2016,
            2016,
            2016,
            2016,
            2016,
            2016,
            2016,
            2017,
            2017,
            2017,
            2017,
            2017,
            2017,
            2017,
            2017,
            2017,
            2017,
            2018,
            2018,
            2018,
            2018
           ]
          },
          {
           "axis": {
            "matches": true
           },
           "label": "Stagione",
           "values": [
            "Autunno",
            "Autunno",
            "Autunno",
            "Autunno",
            "Autunno",
            "Autunno",
            "Autunno",
            "Autunno",
            "Autunno",
            "Autunno",
            "Autunno",
            "Autunno",
            "Autunno",
            "Autunno",
            "Autunno",
            "Autunno",
            "Autunno",
            "Autunno",
            "Autunno",
            "Autunno",
            "Autunno",
            "Autunno",
            "Autunno",
            "Autunno",
            "Autunno",
            "Autunno",
            "Autunno",
            "Autunno",
            "Autunno",
            "Autunno",
            "Autunno",
            "Autunno",
            "Autunno",
            "Autunno",
            "Autunno",
            "Autunno",
            "Autunno",
            "Autunno",
            "Autunno"
           ]
          },
          {
           "axis": {
            "matches": true
           },
           "label": "Taglia",
           "values": [
            62,
            63,
            49,
            64,
            49,
            60,
            55,
            45,
            35,
            69,
            46,
            36,
            48,
            53,
            76,
            62,
            39.5,
            37,
            35.5,
            67,
            48,
            73.5,
            65,
            51,
            50,
            58,
            50,
            60,
            38,
            39,
            52.5,
            46,
            34.5,
            50,
            61,
            34.5,
            64,
            40,
            54
           ]
          },
          {
           "axis": {
            "matches": true
           },
           "label": "Regione",
           "values": [
            "Basilicata",
            "Basilicata",
            "Basilicata",
            "Basilicata",
            "Basilicata",
            "Basilicata",
            "Basilicata",
            "Basilicata",
            "Basilicata",
            "Basilicata",
            "Basilicata",
            "Basilicata",
            "Basilicata",
            "Basilicata",
            "Basilicata",
            "Basilicata",
            "Basilicata",
            "Basilicata",
            "Basilicata",
            "Basilicata",
            "Basilicata",
            "Basilicata",
            "Basilicata",
            "Basilicata",
            "Basilicata",
            "Basilicata",
            "Basilicata",
            "Basilicata",
            "Basilicata",
            "Basilicata",
            "Basilicata",
            "Basilicata",
            "Basilicata",
            "Basilicata",
            "Basilicata",
            "Basilicata",
            "Basilicata",
            "Basilicata",
            "Basilicata"
           ]
          }
         ],
         "hovertemplate": "Stagione=Autunno<br>Regione=Basilicata<br>%{xaxis.title.text}=%{x}<br>%{yaxis.title.text}=%{y}<extra></extra>",
         "legendgroup": "Autunno, Basilicata",
         "marker": {
          "color": "goldenrod",
          "symbol": "square"
         },
         "name": "Autunno, Basilicata",
         "showlegend": true,
         "type": "splom"
        },
        {
         "dimensions": [
          {
           "axis": {
            "matches": true
           },
           "label": "Anno",
           "values": [
            2014,
            2014,
            2014,
            2014,
            2015,
            2015,
            2015,
            2015,
            2016,
            2017,
            2017,
            2017,
            2017,
            2017
           ]
          },
          {
           "axis": {
            "matches": true
           },
           "label": "Stagione",
           "values": [
            "Inverno",
            "Inverno",
            "Inverno",
            "Inverno",
            "Inverno",
            "Inverno",
            "Inverno",
            "Inverno",
            "Inverno",
            "Inverno",
            "Inverno",
            "Inverno",
            "Inverno",
            "Inverno"
           ]
          },
          {
           "axis": {
            "matches": true
           },
           "label": "Taglia",
           "values": [
            35,
            50,
            46,
            6.5,
            44,
            9,
            49,
            23,
            80,
            74,
            71,
            73,
            69,
            86
           ]
          },
          {
           "axis": {
            "matches": true
           },
           "label": "Regione",
           "values": [
            "Puglia",
            "Puglia",
            "Puglia",
            "Puglia",
            "Puglia",
            "Puglia",
            "Puglia",
            "Puglia",
            "Puglia",
            "Puglia",
            "Puglia",
            "Puglia",
            "Puglia",
            "Puglia"
           ]
          }
         ],
         "hovertemplate": "Stagione=Inverno<br>Regione=Puglia<br>%{xaxis.title.text}=%{x}<br>%{yaxis.title.text}=%{y}<extra></extra>",
         "legendgroup": "Inverno, Puglia",
         "marker": {
          "color": "lightskyblue",
          "symbol": "circle"
         },
         "name": "Inverno, Puglia",
         "showlegend": true,
         "type": "splom"
        },
        {
         "dimensions": [
          {
           "axis": {
            "matches": true
           },
           "label": "Anno",
           "values": [
            2011,
            2012,
            2014
           ]
          },
          {
           "axis": {
            "matches": true
           },
           "label": "Stagione",
           "values": [
            "Inverno",
            "Inverno",
            "Inverno"
           ]
          },
          {
           "axis": {
            "matches": true
           },
           "label": "Taglia",
           "values": [
            79,
            50,
            70
           ]
          },
          {
           "axis": {
            "matches": true
           },
           "label": "Regione",
           "values": [
            "Calabria",
            "Calabria",
            "Calabria"
           ]
          }
         ],
         "hovertemplate": "Stagione=Inverno<br>Regione=Calabria<br>%{xaxis.title.text}=%{x}<br>%{yaxis.title.text}=%{y}<extra></extra>",
         "legendgroup": "Inverno, Calabria",
         "marker": {
          "color": "lightskyblue",
          "symbol": "diamond"
         },
         "name": "Inverno, Calabria",
         "showlegend": true,
         "type": "splom"
        },
        {
         "dimensions": [
          {
           "axis": {
            "matches": true
           },
           "label": "Anno",
           "values": [
            2014,
            2015,
            2016,
            2017,
            2017,
            2017
           ]
          },
          {
           "axis": {
            "matches": true
           },
           "label": "Stagione",
           "values": [
            "Inverno",
            "Inverno",
            "Inverno",
            "Inverno",
            "Inverno",
            "Inverno"
           ]
          },
          {
           "axis": {
            "matches": true
           },
           "label": "Taglia",
           "values": [
            41,
            63,
            27,
            61,
            31.5,
            65
           ]
          },
          {
           "axis": {
            "matches": true
           },
           "label": "Regione",
           "values": [
            "Basilicata",
            "Basilicata",
            "Basilicata",
            "Basilicata",
            "Basilicata",
            "Basilicata"
           ]
          }
         ],
         "hovertemplate": "Stagione=Inverno<br>Regione=Basilicata<br>%{xaxis.title.text}=%{x}<br>%{yaxis.title.text}=%{y}<extra></extra>",
         "legendgroup": "Inverno, Basilicata",
         "marker": {
          "color": "lightskyblue",
          "symbol": "square"
         },
         "name": "Inverno, Basilicata",
         "showlegend": true,
         "type": "splom"
        },
        {
         "dimensions": [
          {
           "axis": {
            "matches": true
           },
           "label": "Anno",
           "values": [
            2016,
            2013,
            2013,
            2013,
            2013,
            2013,
            2013,
            2015,
            2015,
            2015,
            2015,
            2016,
            2016,
            2016,
            2017,
            2017,
            2017,
            2017,
            2018,
            2018,
            2018,
            2018,
            2018,
            2018,
            2018,
            2018,
            2018,
            2018
           ]
          },
          {
           "axis": {
            "matches": true
           },
           "label": "Stagione",
           "values": [
            "Primavera",
            "Primavera",
            "Primavera",
            "Primavera",
            "Primavera",
            "Primavera",
            "Primavera",
            "Primavera",
            "Primavera",
            "Primavera",
            "Primavera",
            "Primavera",
            "Primavera",
            "Primavera",
            "Primavera",
            "Primavera",
            "Primavera",
            "Primavera",
            "Primavera",
            "Primavera",
            "Primavera",
            "Primavera",
            "Primavera",
            "Primavera",
            "Primavera",
            "Primavera",
            "Primavera",
            "Primavera"
           ]
          },
          {
           "axis": {
            "matches": true
           },
           "label": "Taglia",
           "values": [
            68,
            34.5,
            21,
            30,
            31,
            27.5,
            11,
            29,
            25,
            56,
            54,
            61,
            52,
            60,
            65,
            84,
            58,
            66.5,
            21.5,
            59,
            61.5,
            63,
            60,
            52,
            50,
            60,
            35.5,
            49.5
           ]
          },
          {
           "axis": {
            "matches": true
           },
           "label": "Regione",
           "values": [
            "Puglia",
            "Puglia",
            "Puglia",
            "Puglia",
            "Puglia",
            "Puglia",
            "Puglia",
            "Puglia",
            "Puglia",
            "Puglia",
            "Puglia",
            "Puglia",
            "Puglia",
            "Puglia",
            "Puglia",
            "Puglia",
            "Puglia",
            "Puglia",
            "Puglia",
            "Puglia",
            "Puglia",
            "Puglia",
            "Puglia",
            "Puglia",
            "Puglia",
            "Puglia",
            "Puglia",
            "Puglia"
           ]
          }
         ],
         "hovertemplate": "Stagione=Primavera<br>Regione=Puglia<br>%{xaxis.title.text}=%{x}<br>%{yaxis.title.text}=%{y}<extra></extra>",
         "legendgroup": "Primavera, Puglia",
         "marker": {
          "color": "palegreen",
          "symbol": "circle"
         },
         "name": "Primavera, Puglia",
         "showlegend": true,
         "type": "splom"
        },
        {
         "dimensions": [
          {
           "axis": {
            "matches": true
           },
           "label": "Anno",
           "values": [
            2013,
            2013,
            2014,
            2015,
            2015,
            2016,
            2013,
            2013,
            2013,
            2014,
            2015,
            2018
           ]
          },
          {
           "axis": {
            "matches": true
           },
           "label": "Stagione",
           "values": [
            "Primavera",
            "Primavera",
            "Primavera",
            "Primavera",
            "Primavera",
            "Primavera",
            "Primavera",
            "Primavera",
            "Primavera",
            "Primavera",
            "Primavera",
            "Primavera"
           ]
          },
          {
           "axis": {
            "matches": true
           },
           "label": "Taglia",
           "values": [
            60,
            14,
            31,
            30,
            67,
            70,
            80,
            100,
            60,
            27,
            63,
            100
           ]
          },
          {
           "axis": {
            "matches": true
           },
           "label": "Regione",
           "values": [
            "Calabria",
            "Calabria",
            "Calabria",
            "Calabria",
            "Calabria",
            "Calabria",
            "Calabria",
            "Calabria",
            "Calabria",
            "Calabria",
            "Calabria",
            "Calabria"
           ]
          }
         ],
         "hovertemplate": "Stagione=Primavera<br>Regione=Calabria<br>%{xaxis.title.text}=%{x}<br>%{yaxis.title.text}=%{y}<extra></extra>",
         "legendgroup": "Primavera, Calabria",
         "marker": {
          "color": "palegreen",
          "symbol": "diamond"
         },
         "name": "Primavera, Calabria",
         "showlegend": true,
         "type": "splom"
        },
        {
         "dimensions": [
          {
           "axis": {
            "matches": true
           },
           "label": "Anno",
           "values": [
            2006,
            2008,
            2013,
            2014,
            2014,
            2014,
            2014,
            2015,
            2015,
            2015,
            2016,
            2016,
            2016,
            2016,
            2016,
            2016,
            2016,
            2017,
            2017,
            2017,
            2017,
            2017,
            2017,
            2017,
            2017,
            2017,
            2017,
            2017
           ]
          },
          {
           "axis": {
            "matches": true
           },
           "label": "Stagione",
           "values": [
            "Primavera",
            "Primavera",
            "Primavera",
            "Primavera",
            "Primavera",
            "Primavera",
            "Primavera",
            "Primavera",
            "Primavera",
            "Primavera",
            "Primavera",
            "Primavera",
            "Primavera",
            "Primavera",
            "Primavera",
            "Primavera",
            "Primavera",
            "Primavera",
            "Primavera",
            "Primavera",
            "Primavera",
            "Primavera",
            "Primavera",
            "Primavera",
            "Primavera",
            "Primavera",
            "Primavera",
            "Primavera"
           ]
          },
          {
           "axis": {
            "matches": true
           },
           "label": "Taglia",
           "values": [
            48,
            50,
            9,
            56,
            49,
            34,
            60,
            22,
            64.5,
            45,
            68,
            40,
            55.5,
            68,
            22.5,
            63,
            47,
            53,
            59,
            66,
            64,
            52,
            58,
            62,
            60,
            57,
            43,
            56
           ]
          },
          {
           "axis": {
            "matches": true
           },
           "label": "Regione",
           "values": [
            "Basilicata",
            "Basilicata",
            "Basilicata",
            "Basilicata",
            "Basilicata",
            "Basilicata",
            "Basilicata",
            "Basilicata",
            "Basilicata",
            "Basilicata",
            "Basilicata",
            "Basilicata",
            "Basilicata",
            "Basilicata",
            "Basilicata",
            "Basilicata",
            "Basilicata",
            "Basilicata",
            "Basilicata",
            "Basilicata",
            "Basilicata",
            "Basilicata",
            "Basilicata",
            "Basilicata",
            "Basilicata",
            "Basilicata",
            "Basilicata",
            "Basilicata"
           ]
          }
         ],
         "hovertemplate": "Stagione=Primavera<br>Regione=Basilicata<br>%{xaxis.title.text}=%{x}<br>%{yaxis.title.text}=%{y}<extra></extra>",
         "legendgroup": "Primavera, Basilicata",
         "marker": {
          "color": "palegreen",
          "symbol": "square"
         },
         "name": "Primavera, Basilicata",
         "showlegend": true,
         "type": "splom"
        },
        {
         "dimensions": [
          {
           "axis": {
            "matches": true
           },
           "label": "Anno",
           "values": [
            2007,
            2007,
            2008,
            2008,
            2008,
            2008,
            2008,
            2008,
            2008,
            2008,
            2008,
            2013,
            2014,
            2014,
            2015,
            2015,
            2015,
            2015,
            2015,
            2015,
            2015,
            2015,
            2015,
            2016,
            2016,
            2016,
            2016,
            2016,
            2016,
            2016,
            2016,
            2016,
            2016,
            2016,
            2016,
            2016,
            2016,
            2016,
            2016,
            2016,
            2017,
            2017,
            2017,
            2017,
            2017,
            2017,
            2017,
            2017,
            2018,
            2018,
            2018,
            2018,
            2018,
            2018,
            2018,
            2018,
            2016,
            2016,
            2016,
            2016,
            2016,
            2016
           ]
          },
          {
           "axis": {
            "matches": true
           },
           "label": "Stagione",
           "values": [
            "Estate",
            "Estate",
            "Estate",
            "Estate",
            "Estate",
            "Estate",
            "Estate",
            "Estate",
            "Estate",
            "Estate",
            "Estate",
            "Estate",
            "Estate",
            "Estate",
            "Estate",
            "Estate",
            "Estate",
            "Estate",
            "Estate",
            "Estate",
            "Estate",
            "Estate",
            "Estate",
            "Estate",
            "Estate",
            "Estate",
            "Estate",
            "Estate",
            "Estate",
            "Estate",
            "Estate",
            "Estate",
            "Estate",
            "Estate",
            "Estate",
            "Estate",
            "Estate",
            "Estate",
            "Estate",
            "Estate",
            "Estate",
            "Estate",
            "Estate",
            "Estate",
            "Estate",
            "Estate",
            "Estate",
            "Estate",
            "Estate",
            "Estate",
            "Estate",
            "Estate",
            "Estate",
            "Estate",
            "Estate",
            "Estate",
            "Estate",
            "Estate",
            "Estate",
            "Estate",
            "Estate",
            "Estate"
           ]
          },
          {
           "axis": {
            "matches": true
           },
           "label": "Taglia",
           "values": [
            46,
            60,
            41,
            45,
            39,
            57,
            46,
            54,
            54,
            55,
            48,
            50,
            55,
            54,
            71,
            52,
            38,
            76,
            54,
            64,
            49,
            70,
            36,
            15,
            30,
            30,
            63,
            35,
            70,
            29.5,
            40.5,
            63,
            60,
            70,
            40,
            40,
            50,
            69,
            38.5,
            55,
            54.5,
            61,
            39,
            36.5,
            52,
            26,
            24,
            67,
            51.7,
            41.5,
            60.5,
            3.9,
            58,
            45,
            58,
            60.5,
            37,
            80,
            61,
            39,
            55,
            81
           ]
          },
          {
           "axis": {
            "matches": true
           },
           "label": "Regione",
           "values": [
            "Puglia",
            "Puglia",
            "Puglia",
            "Puglia",
            "Puglia",
            "Puglia",
            "Puglia",
            "Puglia",
            "Puglia",
            "Puglia",
            "Puglia",
            "Puglia",
            "Puglia",
            "Puglia",
            "Puglia",
            "Puglia",
            "Puglia",
            "Puglia",
            "Puglia",
            "Puglia",
            "Puglia",
            "Puglia",
            "Puglia",
            "Puglia",
            "Puglia",
            "Puglia",
            "Puglia",
            "Puglia",
            "Puglia",
            "Puglia",
            "Puglia",
            "Puglia",
            "Puglia",
            "Puglia",
            "Puglia",
            "Puglia",
            "Puglia",
            "Puglia",
            "Puglia",
            "Puglia",
            "Puglia",
            "Puglia",
            "Puglia",
            "Puglia",
            "Puglia",
            "Puglia",
            "Puglia",
            "Puglia",
            "Puglia",
            "Puglia",
            "Puglia",
            "Puglia",
            "Puglia",
            "Puglia",
            "Puglia",
            "Puglia",
            "Puglia",
            "Puglia",
            "Puglia",
            "Puglia",
            "Puglia",
            "Puglia"
           ]
          }
         ],
         "hovertemplate": "Stagione=Estate<br>Regione=Puglia<br>%{xaxis.title.text}=%{x}<br>%{yaxis.title.text}=%{y}<extra></extra>",
         "legendgroup": "Estate, Puglia",
         "marker": {
          "color": "coral",
          "symbol": "circle"
         },
         "name": "Estate, Puglia",
         "showlegend": true,
         "type": "splom"
        },
        {
         "dimensions": [
          {
           "axis": {
            "matches": true
           },
           "label": "Anno",
           "values": [
            2012,
            2014,
            2014,
            2015,
            2016,
            2012,
            2013,
            2014,
            2014,
            2014,
            2014,
            2015,
            2016,
            2008,
            2008,
            2008,
            2008,
            2014,
            2015,
            2016,
            2016,
            2016,
            2017,
            2018,
            2018,
            2012,
            2012,
            2012,
            2012,
            2012,
            2012,
            2012,
            2012,
            2012,
            2012,
            2012,
            2012,
            2012,
            2012,
            2012,
            2012,
            2012,
            2012,
            2012,
            2012,
            2017,
            2017
           ]
          },
          {
           "axis": {
            "matches": true
           },
           "label": "Stagione",
           "values": [
            "Estate",
            "Estate",
            "Estate",
            "Estate",
            "Estate",
            "Estate",
            "Estate",
            "Estate",
            "Estate",
            "Estate",
            "Estate",
            "Estate",
            "Estate",
            "Estate",
            "Estate",
            "Estate",
            "Estate",
            "Estate",
            "Estate",
            "Estate",
            "Estate",
            "Estate",
            "Estate",
            "Estate",
            "Estate",
            "Estate",
            "Estate",
            "Estate",
            "Estate",
            "Estate",
            "Estate",
            "Estate",
            "Estate",
            "Estate",
            "Estate",
            "Estate",
            "Estate",
            "Estate",
            "Estate",
            "Estate",
            "Estate",
            "Estate",
            "Estate",
            "Estate",
            "Estate",
            "Estate",
            "Estate"
           ]
          },
          {
           "axis": {
            "matches": true
           },
           "label": "Taglia",
           "values": [
            30,
            60,
            37,
            77,
            30,
            36,
            45,
            72,
            31,
            52,
            26,
            73,
            80,
            47,
            40,
            51,
            39,
            58.5,
            62,
            50,
            70,
            51.5,
            34,
            21,
            22,
            40,
            37,
            27,
            35,
            32,
            32,
            28,
            27,
            42,
            38,
            30,
            39,
            19,
            27,
            34,
            63,
            28,
            20,
            32,
            21,
            20,
            50
           ]
          },
          {
           "axis": {
            "matches": true
           },
           "label": "Regione",
           "values": [
            "Calabria",
            "Calabria",
            "Calabria",
            "Calabria",
            "Calabria",
            "Calabria",
            "Calabria",
            "Calabria",
            "Calabria",
            "Calabria",
            "Calabria",
            "Calabria",
            "Calabria",
            "Calabria",
            "Calabria",
            "Calabria",
            "Calabria",
            "Calabria",
            "Calabria",
            "Calabria",
            "Calabria",
            "Calabria",
            "Calabria",
            "Calabria",
            "Calabria",
            "Calabria",
            "Calabria",
            "Calabria",
            "Calabria",
            "Calabria",
            "Calabria",
            "Calabria",
            "Calabria",
            "Calabria",
            "Calabria",
            "Calabria",
            "Calabria",
            "Calabria",
            "Calabria",
            "Calabria",
            "Calabria",
            "Calabria",
            "Calabria",
            "Calabria",
            "Calabria",
            "Calabria",
            "Calabria"
           ]
          }
         ],
         "hovertemplate": "Stagione=Estate<br>Regione=Calabria<br>%{xaxis.title.text}=%{x}<br>%{yaxis.title.text}=%{y}<extra></extra>",
         "legendgroup": "Estate, Calabria",
         "marker": {
          "color": "coral",
          "symbol": "diamond"
         },
         "name": "Estate, Calabria",
         "showlegend": true,
         "type": "splom"
        },
        {
         "dimensions": [
          {
           "axis": {
            "matches": true
           },
           "label": "Anno",
           "values": [
            2006,
            2006,
            2006,
            2006,
            2006,
            2006,
            2007,
            2007,
            2008,
            2008,
            2008,
            2008,
            2008,
            2008,
            2008,
            2008,
            2013,
            2013,
            2014,
            2014,
            2014,
            2015,
            2015,
            2015,
            2015,
            2015,
            2015,
            2015,
            2015,
            2015,
            2015,
            2015,
            2015,
            2015,
            2016,
            2016,
            2016,
            2016,
            2016,
            2016,
            2016,
            2016,
            2016,
            2016,
            2016,
            2016,
            2016,
            2016,
            2016,
            2016,
            2016,
            2016,
            2016,
            2016,
            2016,
            2016,
            2016,
            2016,
            2016,
            2017,
            2017,
            2017,
            2017,
            2017,
            2017,
            2017,
            2017,
            2017,
            2017,
            2017,
            2017,
            2017,
            2017,
            2017,
            2017,
            2017,
            2017,
            2017,
            2017,
            2017,
            2017,
            2017,
            2017,
            2017,
            2017,
            2018,
            2018,
            2018,
            2018,
            2018,
            2018,
            2018
           ]
          },
          {
           "axis": {
            "matches": true
           },
           "label": "Stagione",
           "values": [
            "Estate",
            "Estate",
            "Estate",
            "Estate",
            "Estate",
            "Estate",
            "Estate",
            "Estate",
            "Estate",
            "Estate",
            "Estate",
            "Estate",
            "Estate",
            "Estate",
            "Estate",
            "Estate",
            "Estate",
            "Estate",
            "Estate",
            "Estate",
            "Estate",
            "Estate",
            "Estate",
            "Estate",
            "Estate",
            "Estate",
            "Estate",
            "Estate",
            "Estate",
            "Estate",
            "Estate",
            "Estate",
            "Estate",
            "Estate",
            "Estate",
            "Estate",
            "Estate",
            "Estate",
            "Estate",
            "Estate",
            "Estate",
            "Estate",
            "Estate",
            "Estate",
            "Estate",
            "Estate",
            "Estate",
            "Estate",
            "Estate",
            "Estate",
            "Estate",
            "Estate",
            "Estate",
            "Estate",
            "Estate",
            "Estate",
            "Estate",
            "Estate",
            "Estate",
            "Estate",
            "Estate",
            "Estate",
            "Estate",
            "Estate",
            "Estate",
            "Estate",
            "Estate",
            "Estate",
            "Estate",
            "Estate",
            "Estate",
            "Estate",
            "Estate",
            "Estate",
            "Estate",
            "Estate",
            "Estate",
            "Estate",
            "Estate",
            "Estate",
            "Estate",
            "Estate",
            "Estate",
            "Estate",
            "Estate",
            "Estate",
            "Estate",
            "Estate",
            "Estate",
            "Estate",
            "Estate",
            "Estate"
           ]
          },
          {
           "axis": {
            "matches": true
           },
           "label": "Taglia",
           "values": [
            45,
            52,
            24,
            41,
            55,
            50,
            50,
            47,
            47,
            52,
            56,
            50,
            34,
            38,
            50,
            41,
            58,
            51,
            63,
            40,
            48,
            35,
            55,
            69,
            41,
            70,
            32,
            56,
            47.5,
            76,
            49,
            54,
            56.5,
            40,
            75,
            50,
            50,
            63,
            56.5,
            78,
            29,
            45,
            40,
            55,
            57.5,
            40,
            41,
            40,
            58,
            49.5,
            27,
            55,
            57,
            29,
            62,
            63,
            29.5,
            72,
            48.5,
            41,
            44,
            59,
            48,
            6,
            67,
            42,
            51,
            61,
            49,
            66.5,
            51,
            61,
            73.5,
            52,
            56,
            61,
            57,
            41,
            71.5,
            64,
            22,
            52,
            60,
            29,
            58,
            57,
            30,
            62,
            61.5,
            50,
            53.5,
            69
           ]
          },
          {
           "axis": {
            "matches": true
           },
           "label": "Regione",
           "values": [
            "Basilicata",
            "Basilicata",
            "Basilicata",
            "Basilicata",
            "Basilicata",
            "Basilicata",
            "Basilicata",
            "Basilicata",
            "Basilicata",
            "Basilicata",
            "Basilicata",
            "Basilicata",
            "Basilicata",
            "Basilicata",
            "Basilicata",
            "Basilicata",
            "Basilicata",
            "Basilicata",
            "Basilicata",
            "Basilicata",
            "Basilicata",
            "Basilicata",
            "Basilicata",
            "Basilicata",
            "Basilicata",
            "Basilicata",
            "Basilicata",
            "Basilicata",
            "Basilicata",
            "Basilicata",
            "Basilicata",
            "Basilicata",
            "Basilicata",
            "Basilicata",
            "Basilicata",
            "Basilicata",
            "Basilicata",
            "Basilicata",
            "Basilicata",
            "Basilicata",
            "Basilicata",
            "Basilicata",
            "Basilicata",
            "Basilicata",
            "Basilicata",
            "Basilicata",
            "Basilicata",
            "Basilicata",
            "Basilicata",
            "Basilicata",
            "Basilicata",
            "Basilicata",
            "Basilicata",
            "Basilicata",
            "Basilicata",
            "Basilicata",
            "Basilicata",
            "Basilicata",
            "Basilicata",
            "Basilicata",
            "Basilicata",
            "Basilicata",
            "Basilicata",
            "Basilicata",
            "Basilicata",
            "Basilicata",
            "Basilicata",
            "Basilicata",
            "Basilicata",
            "Basilicata",
            "Basilicata",
            "Basilicata",
            "Basilicata",
            "Basilicata",
            "Basilicata",
            "Basilicata",
            "Basilicata",
            "Basilicata",
            "Basilicata",
            "Basilicata",
            "Basilicata",
            "Basilicata",
            "Basilicata",
            "Basilicata",
            "Basilicata",
            "Basilicata",
            "Basilicata",
            "Basilicata",
            "Basilicata",
            "Basilicata",
            "Basilicata",
            "Basilicata"
           ]
          }
         ],
         "hovertemplate": "Stagione=Estate<br>Regione=Basilicata<br>%{xaxis.title.text}=%{x}<br>%{yaxis.title.text}=%{y}<extra></extra>",
         "legendgroup": "Estate, Basilicata",
         "marker": {
          "color": "coral",
          "symbol": "square"
         },
         "name": "Estate, Basilicata",
         "showlegend": true,
         "type": "splom"
        }
       ],
       "layout": {
        "dragmode": "select",
        "height": 700,
        "legend": {
         "title": {
          "text": "Stagione, Regione"
         },
         "tracegroupgap": 0
        },
        "margin": {
         "t": 60
        },
        "template": {
         "data": {
          "bar": [
           {
            "error_x": {
             "color": "#2a3f5f"
            },
            "error_y": {
             "color": "#2a3f5f"
            },
            "marker": {
             "line": {
              "color": "white",
              "width": 0.5
             }
            },
            "type": "bar"
           }
          ],
          "barpolar": [
           {
            "marker": {
             "line": {
              "color": "white",
              "width": 0.5
             }
            },
            "type": "barpolar"
           }
          ],
          "carpet": [
           {
            "aaxis": {
             "endlinecolor": "#2a3f5f",
             "gridcolor": "#C8D4E3",
             "linecolor": "#C8D4E3",
             "minorgridcolor": "#C8D4E3",
             "startlinecolor": "#2a3f5f"
            },
            "baxis": {
             "endlinecolor": "#2a3f5f",
             "gridcolor": "#C8D4E3",
             "linecolor": "#C8D4E3",
             "minorgridcolor": "#C8D4E3",
             "startlinecolor": "#2a3f5f"
            },
            "type": "carpet"
           }
          ],
          "choropleth": [
           {
            "colorbar": {
             "outlinewidth": 0,
             "ticks": ""
            },
            "type": "choropleth"
           }
          ],
          "contour": [
           {
            "colorbar": {
             "outlinewidth": 0,
             "ticks": ""
            },
            "colorscale": [
             [
              0,
              "#0d0887"
             ],
             [
              0.1111111111111111,
              "#46039f"
             ],
             [
              0.2222222222222222,
              "#7201a8"
             ],
             [
              0.3333333333333333,
              "#9c179e"
             ],
             [
              0.4444444444444444,
              "#bd3786"
             ],
             [
              0.5555555555555556,
              "#d8576b"
             ],
             [
              0.6666666666666666,
              "#ed7953"
             ],
             [
              0.7777777777777778,
              "#fb9f3a"
             ],
             [
              0.8888888888888888,
              "#fdca26"
             ],
             [
              1,
              "#f0f921"
             ]
            ],
            "type": "contour"
           }
          ],
          "contourcarpet": [
           {
            "colorbar": {
             "outlinewidth": 0,
             "ticks": ""
            },
            "type": "contourcarpet"
           }
          ],
          "heatmap": [
           {
            "colorbar": {
             "outlinewidth": 0,
             "ticks": ""
            },
            "colorscale": [
             [
              0,
              "#0d0887"
             ],
             [
              0.1111111111111111,
              "#46039f"
             ],
             [
              0.2222222222222222,
              "#7201a8"
             ],
             [
              0.3333333333333333,
              "#9c179e"
             ],
             [
              0.4444444444444444,
              "#bd3786"
             ],
             [
              0.5555555555555556,
              "#d8576b"
             ],
             [
              0.6666666666666666,
              "#ed7953"
             ],
             [
              0.7777777777777778,
              "#fb9f3a"
             ],
             [
              0.8888888888888888,
              "#fdca26"
             ],
             [
              1,
              "#f0f921"
             ]
            ],
            "type": "heatmap"
           }
          ],
          "heatmapgl": [
           {
            "colorbar": {
             "outlinewidth": 0,
             "ticks": ""
            },
            "colorscale": [
             [
              0,
              "#0d0887"
             ],
             [
              0.1111111111111111,
              "#46039f"
             ],
             [
              0.2222222222222222,
              "#7201a8"
             ],
             [
              0.3333333333333333,
              "#9c179e"
             ],
             [
              0.4444444444444444,
              "#bd3786"
             ],
             [
              0.5555555555555556,
              "#d8576b"
             ],
             [
              0.6666666666666666,
              "#ed7953"
             ],
             [
              0.7777777777777778,
              "#fb9f3a"
             ],
             [
              0.8888888888888888,
              "#fdca26"
             ],
             [
              1,
              "#f0f921"
             ]
            ],
            "type": "heatmapgl"
           }
          ],
          "histogram": [
           {
            "marker": {
             "colorbar": {
              "outlinewidth": 0,
              "ticks": ""
             }
            },
            "type": "histogram"
           }
          ],
          "histogram2d": [
           {
            "colorbar": {
             "outlinewidth": 0,
             "ticks": ""
            },
            "colorscale": [
             [
              0,
              "#0d0887"
             ],
             [
              0.1111111111111111,
              "#46039f"
             ],
             [
              0.2222222222222222,
              "#7201a8"
             ],
             [
              0.3333333333333333,
              "#9c179e"
             ],
             [
              0.4444444444444444,
              "#bd3786"
             ],
             [
              0.5555555555555556,
              "#d8576b"
             ],
             [
              0.6666666666666666,
              "#ed7953"
             ],
             [
              0.7777777777777778,
              "#fb9f3a"
             ],
             [
              0.8888888888888888,
              "#fdca26"
             ],
             [
              1,
              "#f0f921"
             ]
            ],
            "type": "histogram2d"
           }
          ],
          "histogram2dcontour": [
           {
            "colorbar": {
             "outlinewidth": 0,
             "ticks": ""
            },
            "colorscale": [
             [
              0,
              "#0d0887"
             ],
             [
              0.1111111111111111,
              "#46039f"
             ],
             [
              0.2222222222222222,
              "#7201a8"
             ],
             [
              0.3333333333333333,
              "#9c179e"
             ],
             [
              0.4444444444444444,
              "#bd3786"
             ],
             [
              0.5555555555555556,
              "#d8576b"
             ],
             [
              0.6666666666666666,
              "#ed7953"
             ],
             [
              0.7777777777777778,
              "#fb9f3a"
             ],
             [
              0.8888888888888888,
              "#fdca26"
             ],
             [
              1,
              "#f0f921"
             ]
            ],
            "type": "histogram2dcontour"
           }
          ],
          "mesh3d": [
           {
            "colorbar": {
             "outlinewidth": 0,
             "ticks": ""
            },
            "type": "mesh3d"
           }
          ],
          "parcoords": [
           {
            "line": {
             "colorbar": {
              "outlinewidth": 0,
              "ticks": ""
             }
            },
            "type": "parcoords"
           }
          ],
          "pie": [
           {
            "automargin": true,
            "type": "pie"
           }
          ],
          "scatter": [
           {
            "marker": {
             "colorbar": {
              "outlinewidth": 0,
              "ticks": ""
             }
            },
            "type": "scatter"
           }
          ],
          "scatter3d": [
           {
            "line": {
             "colorbar": {
              "outlinewidth": 0,
              "ticks": ""
             }
            },
            "marker": {
             "colorbar": {
              "outlinewidth": 0,
              "ticks": ""
             }
            },
            "type": "scatter3d"
           }
          ],
          "scattercarpet": [
           {
            "marker": {
             "colorbar": {
              "outlinewidth": 0,
              "ticks": ""
             }
            },
            "type": "scattercarpet"
           }
          ],
          "scattergeo": [
           {
            "marker": {
             "colorbar": {
              "outlinewidth": 0,
              "ticks": ""
             }
            },
            "type": "scattergeo"
           }
          ],
          "scattergl": [
           {
            "marker": {
             "colorbar": {
              "outlinewidth": 0,
              "ticks": ""
             }
            },
            "type": "scattergl"
           }
          ],
          "scattermapbox": [
           {
            "marker": {
             "colorbar": {
              "outlinewidth": 0,
              "ticks": ""
             }
            },
            "type": "scattermapbox"
           }
          ],
          "scatterpolar": [
           {
            "marker": {
             "colorbar": {
              "outlinewidth": 0,
              "ticks": ""
             }
            },
            "type": "scatterpolar"
           }
          ],
          "scatterpolargl": [
           {
            "marker": {
             "colorbar": {
              "outlinewidth": 0,
              "ticks": ""
             }
            },
            "type": "scatterpolargl"
           }
          ],
          "scatterternary": [
           {
            "marker": {
             "colorbar": {
              "outlinewidth": 0,
              "ticks": ""
             }
            },
            "type": "scatterternary"
           }
          ],
          "surface": [
           {
            "colorbar": {
             "outlinewidth": 0,
             "ticks": ""
            },
            "colorscale": [
             [
              0,
              "#0d0887"
             ],
             [
              0.1111111111111111,
              "#46039f"
             ],
             [
              0.2222222222222222,
              "#7201a8"
             ],
             [
              0.3333333333333333,
              "#9c179e"
             ],
             [
              0.4444444444444444,
              "#bd3786"
             ],
             [
              0.5555555555555556,
              "#d8576b"
             ],
             [
              0.6666666666666666,
              "#ed7953"
             ],
             [
              0.7777777777777778,
              "#fb9f3a"
             ],
             [
              0.8888888888888888,
              "#fdca26"
             ],
             [
              1,
              "#f0f921"
             ]
            ],
            "type": "surface"
           }
          ],
          "table": [
           {
            "cells": {
             "fill": {
              "color": "#EBF0F8"
             },
             "line": {
              "color": "white"
             }
            },
            "header": {
             "fill": {
              "color": "#C8D4E3"
             },
             "line": {
              "color": "white"
             }
            },
            "type": "table"
           }
          ]
         },
         "layout": {
          "annotationdefaults": {
           "arrowcolor": "#2a3f5f",
           "arrowhead": 0,
           "arrowwidth": 1
          },
          "coloraxis": {
           "colorbar": {
            "outlinewidth": 0,
            "ticks": ""
           }
          },
          "colorscale": {
           "diverging": [
            [
             0,
             "#8e0152"
            ],
            [
             0.1,
             "#c51b7d"
            ],
            [
             0.2,
             "#de77ae"
            ],
            [
             0.3,
             "#f1b6da"
            ],
            [
             0.4,
             "#fde0ef"
            ],
            [
             0.5,
             "#f7f7f7"
            ],
            [
             0.6,
             "#e6f5d0"
            ],
            [
             0.7,
             "#b8e186"
            ],
            [
             0.8,
             "#7fbc41"
            ],
            [
             0.9,
             "#4d9221"
            ],
            [
             1,
             "#276419"
            ]
           ],
           "sequential": [
            [
             0,
             "#0d0887"
            ],
            [
             0.1111111111111111,
             "#46039f"
            ],
            [
             0.2222222222222222,
             "#7201a8"
            ],
            [
             0.3333333333333333,
             "#9c179e"
            ],
            [
             0.4444444444444444,
             "#bd3786"
            ],
            [
             0.5555555555555556,
             "#d8576b"
            ],
            [
             0.6666666666666666,
             "#ed7953"
            ],
            [
             0.7777777777777778,
             "#fb9f3a"
            ],
            [
             0.8888888888888888,
             "#fdca26"
            ],
            [
             1,
             "#f0f921"
            ]
           ],
           "sequentialminus": [
            [
             0,
             "#0d0887"
            ],
            [
             0.1111111111111111,
             "#46039f"
            ],
            [
             0.2222222222222222,
             "#7201a8"
            ],
            [
             0.3333333333333333,
             "#9c179e"
            ],
            [
             0.4444444444444444,
             "#bd3786"
            ],
            [
             0.5555555555555556,
             "#d8576b"
            ],
            [
             0.6666666666666666,
             "#ed7953"
            ],
            [
             0.7777777777777778,
             "#fb9f3a"
            ],
            [
             0.8888888888888888,
             "#fdca26"
            ],
            [
             1,
             "#f0f921"
            ]
           ]
          },
          "colorway": [
           "#636efa",
           "#EF553B",
           "#00cc96",
           "#ab63fa",
           "#FFA15A",
           "#19d3f3",
           "#FF6692",
           "#B6E880",
           "#FF97FF",
           "#FECB52"
          ],
          "font": {
           "color": "#2a3f5f"
          },
          "geo": {
           "bgcolor": "white",
           "lakecolor": "white",
           "landcolor": "white",
           "showlakes": true,
           "showland": true,
           "subunitcolor": "#C8D4E3"
          },
          "hoverlabel": {
           "align": "left"
          },
          "hovermode": "closest",
          "mapbox": {
           "style": "light"
          },
          "paper_bgcolor": "white",
          "plot_bgcolor": "white",
          "polar": {
           "angularaxis": {
            "gridcolor": "#EBF0F8",
            "linecolor": "#EBF0F8",
            "ticks": ""
           },
           "bgcolor": "white",
           "radialaxis": {
            "gridcolor": "#EBF0F8",
            "linecolor": "#EBF0F8",
            "ticks": ""
           }
          },
          "scene": {
           "xaxis": {
            "backgroundcolor": "white",
            "gridcolor": "#DFE8F3",
            "gridwidth": 2,
            "linecolor": "#EBF0F8",
            "showbackground": true,
            "ticks": "",
            "zerolinecolor": "#EBF0F8"
           },
           "yaxis": {
            "backgroundcolor": "white",
            "gridcolor": "#DFE8F3",
            "gridwidth": 2,
            "linecolor": "#EBF0F8",
            "showbackground": true,
            "ticks": "",
            "zerolinecolor": "#EBF0F8"
           },
           "zaxis": {
            "backgroundcolor": "white",
            "gridcolor": "#DFE8F3",
            "gridwidth": 2,
            "linecolor": "#EBF0F8",
            "showbackground": true,
            "ticks": "",
            "zerolinecolor": "#EBF0F8"
           }
          },
          "shapedefaults": {
           "line": {
            "color": "#2a3f5f"
           }
          },
          "ternary": {
           "aaxis": {
            "gridcolor": "#DFE8F3",
            "linecolor": "#A2B1C6",
            "ticks": ""
           },
           "baxis": {
            "gridcolor": "#DFE8F3",
            "linecolor": "#A2B1C6",
            "ticks": ""
           },
           "bgcolor": "white",
           "caxis": {
            "gridcolor": "#DFE8F3",
            "linecolor": "#A2B1C6",
            "ticks": ""
           }
          },
          "title": {
           "x": 0.05
          },
          "xaxis": {
           "automargin": true,
           "gridcolor": "#EBF0F8",
           "linecolor": "#EBF0F8",
           "ticks": "",
           "title": {
            "standoff": 15
           },
           "zerolinecolor": "#EBF0F8",
           "zerolinewidth": 2
          },
          "yaxis": {
           "automargin": true,
           "gridcolor": "#EBF0F8",
           "linecolor": "#EBF0F8",
           "ticks": "",
           "title": {
            "standoff": 15
           },
           "zerolinecolor": "#EBF0F8",
           "zerolinewidth": 2
          }
         }
        }
       }
      },
      "text/html": [
       "<div>\n",
       "        \n",
       "        \n",
       "            <div id=\"ed810f24-2d1f-4fb0-8b34-b4a0884ceb09\" class=\"plotly-graph-div\" style=\"height:700px; width:100%;\"></div>\n",
       "            <script type=\"text/javascript\">\n",
       "                require([\"plotly\"], function(Plotly) {\n",
       "                    window.PLOTLYENV=window.PLOTLYENV || {};\n",
       "                    \n",
       "                if (document.getElementById(\"ed810f24-2d1f-4fb0-8b34-b4a0884ceb09\")) {\n",
       "                    Plotly.newPlot(\n",
       "                        'ed810f24-2d1f-4fb0-8b34-b4a0884ceb09',\n",
       "                        [{\"dimensions\": [{\"axis\": {\"matches\": true}, \"label\": \"Anno\", \"values\": [2013, 2008, 2015, 2006, 2012, 2014, 2014, 2014, 2015, 2015, 2016, 2016, 2016, 2016, 2016, 2017, 2017, 2017, 2017, 2017]}, {\"axis\": {\"matches\": true}, \"label\": \"Stagione\", \"values\": [\"Autunno\", \"Autunno\", \"Autunno\", \"Autunno\", \"Autunno\", \"Autunno\", \"Autunno\", \"Autunno\", \"Autunno\", \"Autunno\", \"Autunno\", \"Autunno\", \"Autunno\", \"Autunno\", \"Autunno\", \"Autunno\", \"Autunno\", \"Autunno\", \"Autunno\", \"Autunno\"]}, {\"axis\": {\"matches\": true}, \"label\": \"Taglia\", \"values\": [58.0, 68.0, 40.0, 94.0, 26.0, 38.0, 60.0, 62.0, 3.0, 66.0, 43.0, 71.0, 54.0, 30.0, 23.0, 37.0, 62.0, 62.0, 65.0, 80.0]}, {\"axis\": {\"matches\": true}, \"label\": \"Regione\", \"values\": [\"Puglia\", \"Puglia\", \"Puglia\", \"Puglia\", \"Puglia\", \"Puglia\", \"Puglia\", \"Puglia\", \"Puglia\", \"Puglia\", \"Puglia\", \"Puglia\", \"Puglia\", \"Puglia\", \"Puglia\", \"Puglia\", \"Puglia\", \"Puglia\", \"Puglia\", \"Puglia\"]}], \"hovertemplate\": \"Stagione=Autunno<br>Regione=Puglia<br>%{xaxis.title.text}=%{x}<br>%{yaxis.title.text}=%{y}<extra></extra>\", \"legendgroup\": \"Autunno, Puglia\", \"marker\": {\"color\": \"goldenrod\", \"symbol\": \"circle\"}, \"name\": \"Autunno, Puglia\", \"showlegend\": true, \"type\": \"splom\"}, {\"dimensions\": [{\"axis\": {\"matches\": true}, \"label\": \"Anno\", \"values\": [2011, 2011, 2011, 2012, 2012, 2013, 2013, 2014, 2014, 2014, 2013, 2014, 2016]}, {\"axis\": {\"matches\": true}, \"label\": \"Stagione\", \"values\": [\"Autunno\", \"Autunno\", \"Autunno\", \"Autunno\", \"Autunno\", \"Autunno\", \"Autunno\", \"Autunno\", \"Autunno\", \"Autunno\", \"Autunno\", \"Autunno\", \"Autunno\"]}, {\"axis\": {\"matches\": true}, \"label\": \"Taglia\", \"values\": [19.0, 17.0, 40.0, 24.0, 29.0, 36.0, 32.0, 39.0, 39.0, 69.0, 67.0, 55.0, 80.0]}, {\"axis\": {\"matches\": true}, \"label\": \"Regione\", \"values\": [\"Calabria\", \"Calabria\", \"Calabria\", \"Calabria\", \"Calabria\", \"Calabria\", \"Calabria\", \"Calabria\", \"Calabria\", \"Calabria\", \"Calabria\", \"Calabria\", \"Calabria\"]}], \"hovertemplate\": \"Stagione=Autunno<br>Regione=Calabria<br>%{xaxis.title.text}=%{x}<br>%{yaxis.title.text}=%{y}<extra></extra>\", \"legendgroup\": \"Autunno, Calabria\", \"marker\": {\"color\": \"goldenrod\", \"symbol\": \"diamond\"}, \"name\": \"Autunno, Calabria\", \"showlegend\": true, \"type\": \"splom\"}, {\"dimensions\": [{\"axis\": {\"matches\": true}, \"label\": \"Anno\", \"values\": [2006, 2008, 2013, 2013, 2013, 2014, 2014, 2014, 2014, 2014, 2014, 2014, 2014, 2014, 2015, 2015, 2015, 2015, 2016, 2016, 2016, 2016, 2016, 2016, 2016, 2017, 2017, 2017, 2017, 2017, 2017, 2017, 2017, 2017, 2017, 2018, 2018, 2018, 2018]}, {\"axis\": {\"matches\": true}, \"label\": \"Stagione\", \"values\": [\"Autunno\", \"Autunno\", \"Autunno\", \"Autunno\", \"Autunno\", \"Autunno\", \"Autunno\", \"Autunno\", \"Autunno\", \"Autunno\", \"Autunno\", \"Autunno\", \"Autunno\", \"Autunno\", \"Autunno\", \"Autunno\", \"Autunno\", \"Autunno\", \"Autunno\", \"Autunno\", \"Autunno\", \"Autunno\", \"Autunno\", \"Autunno\", \"Autunno\", \"Autunno\", \"Autunno\", \"Autunno\", \"Autunno\", \"Autunno\", \"Autunno\", \"Autunno\", \"Autunno\", \"Autunno\", \"Autunno\", \"Autunno\", \"Autunno\", \"Autunno\", \"Autunno\"]}, {\"axis\": {\"matches\": true}, \"label\": \"Taglia\", \"values\": [62.0, 63.0, 49.0, 64.0, 49.0, 60.0, 55.0, 45.0, 35.0, 69.0, 46.0, 36.0, 48.0, 53.0, 76.0, 62.0, 39.5, 37.0, 35.5, 67.0, 48.0, 73.5, 65.0, 51.0, 50.0, 58.0, 50.0, 60.0, 38.0, 39.0, 52.5, 46.0, 34.5, 50.0, 61.0, 34.5, 64.0, 40.0, 54.0]}, {\"axis\": {\"matches\": true}, \"label\": \"Regione\", \"values\": [\"Basilicata\", \"Basilicata\", \"Basilicata\", \"Basilicata\", \"Basilicata\", \"Basilicata\", \"Basilicata\", \"Basilicata\", \"Basilicata\", \"Basilicata\", \"Basilicata\", \"Basilicata\", \"Basilicata\", \"Basilicata\", \"Basilicata\", \"Basilicata\", \"Basilicata\", \"Basilicata\", \"Basilicata\", \"Basilicata\", \"Basilicata\", \"Basilicata\", \"Basilicata\", \"Basilicata\", \"Basilicata\", \"Basilicata\", \"Basilicata\", \"Basilicata\", \"Basilicata\", \"Basilicata\", \"Basilicata\", \"Basilicata\", \"Basilicata\", \"Basilicata\", \"Basilicata\", \"Basilicata\", \"Basilicata\", \"Basilicata\", \"Basilicata\"]}], \"hovertemplate\": \"Stagione=Autunno<br>Regione=Basilicata<br>%{xaxis.title.text}=%{x}<br>%{yaxis.title.text}=%{y}<extra></extra>\", \"legendgroup\": \"Autunno, Basilicata\", \"marker\": {\"color\": \"goldenrod\", \"symbol\": \"square\"}, \"name\": \"Autunno, Basilicata\", \"showlegend\": true, \"type\": \"splom\"}, {\"dimensions\": [{\"axis\": {\"matches\": true}, \"label\": \"Anno\", \"values\": [2014, 2014, 2014, 2014, 2015, 2015, 2015, 2015, 2016, 2017, 2017, 2017, 2017, 2017]}, {\"axis\": {\"matches\": true}, \"label\": \"Stagione\", \"values\": [\"Inverno\", \"Inverno\", \"Inverno\", \"Inverno\", \"Inverno\", \"Inverno\", \"Inverno\", \"Inverno\", \"Inverno\", \"Inverno\", \"Inverno\", \"Inverno\", \"Inverno\", \"Inverno\"]}, {\"axis\": {\"matches\": true}, \"label\": \"Taglia\", \"values\": [35.0, 50.0, 46.0, 6.5, 44.0, 9.0, 49.0, 23.0, 80.0, 74.0, 71.0, 73.0, 69.0, 86.0]}, {\"axis\": {\"matches\": true}, \"label\": \"Regione\", \"values\": [\"Puglia\", \"Puglia\", \"Puglia\", \"Puglia\", \"Puglia\", \"Puglia\", \"Puglia\", \"Puglia\", \"Puglia\", \"Puglia\", \"Puglia\", \"Puglia\", \"Puglia\", \"Puglia\"]}], \"hovertemplate\": \"Stagione=Inverno<br>Regione=Puglia<br>%{xaxis.title.text}=%{x}<br>%{yaxis.title.text}=%{y}<extra></extra>\", \"legendgroup\": \"Inverno, Puglia\", \"marker\": {\"color\": \"lightskyblue\", \"symbol\": \"circle\"}, \"name\": \"Inverno, Puglia\", \"showlegend\": true, \"type\": \"splom\"}, {\"dimensions\": [{\"axis\": {\"matches\": true}, \"label\": \"Anno\", \"values\": [2011, 2012, 2014]}, {\"axis\": {\"matches\": true}, \"label\": \"Stagione\", \"values\": [\"Inverno\", \"Inverno\", \"Inverno\"]}, {\"axis\": {\"matches\": true}, \"label\": \"Taglia\", \"values\": [79.0, 50.0, 70.0]}, {\"axis\": {\"matches\": true}, \"label\": \"Regione\", \"values\": [\"Calabria\", \"Calabria\", \"Calabria\"]}], \"hovertemplate\": \"Stagione=Inverno<br>Regione=Calabria<br>%{xaxis.title.text}=%{x}<br>%{yaxis.title.text}=%{y}<extra></extra>\", \"legendgroup\": \"Inverno, Calabria\", \"marker\": {\"color\": \"lightskyblue\", \"symbol\": \"diamond\"}, \"name\": \"Inverno, Calabria\", \"showlegend\": true, \"type\": \"splom\"}, {\"dimensions\": [{\"axis\": {\"matches\": true}, \"label\": \"Anno\", \"values\": [2014, 2015, 2016, 2017, 2017, 2017]}, {\"axis\": {\"matches\": true}, \"label\": \"Stagione\", \"values\": [\"Inverno\", \"Inverno\", \"Inverno\", \"Inverno\", \"Inverno\", \"Inverno\"]}, {\"axis\": {\"matches\": true}, \"label\": \"Taglia\", \"values\": [41.0, 63.0, 27.0, 61.0, 31.5, 65.0]}, {\"axis\": {\"matches\": true}, \"label\": \"Regione\", \"values\": [\"Basilicata\", \"Basilicata\", \"Basilicata\", \"Basilicata\", \"Basilicata\", \"Basilicata\"]}], \"hovertemplate\": \"Stagione=Inverno<br>Regione=Basilicata<br>%{xaxis.title.text}=%{x}<br>%{yaxis.title.text}=%{y}<extra></extra>\", \"legendgroup\": \"Inverno, Basilicata\", \"marker\": {\"color\": \"lightskyblue\", \"symbol\": \"square\"}, \"name\": \"Inverno, Basilicata\", \"showlegend\": true, \"type\": \"splom\"}, {\"dimensions\": [{\"axis\": {\"matches\": true}, \"label\": \"Anno\", \"values\": [2016, 2013, 2013, 2013, 2013, 2013, 2013, 2015, 2015, 2015, 2015, 2016, 2016, 2016, 2017, 2017, 2017, 2017, 2018, 2018, 2018, 2018, 2018, 2018, 2018, 2018, 2018, 2018]}, {\"axis\": {\"matches\": true}, \"label\": \"Stagione\", \"values\": [\"Primavera\", \"Primavera\", \"Primavera\", \"Primavera\", \"Primavera\", \"Primavera\", \"Primavera\", \"Primavera\", \"Primavera\", \"Primavera\", \"Primavera\", \"Primavera\", \"Primavera\", \"Primavera\", \"Primavera\", \"Primavera\", \"Primavera\", \"Primavera\", \"Primavera\", \"Primavera\", \"Primavera\", \"Primavera\", \"Primavera\", \"Primavera\", \"Primavera\", \"Primavera\", \"Primavera\", \"Primavera\"]}, {\"axis\": {\"matches\": true}, \"label\": \"Taglia\", \"values\": [68.0, 34.5, 21.0, 30.0, 31.0, 27.5, 11.0, 29.0, 25.0, 56.0, 54.0, 61.0, 52.0, 60.0, 65.0, 84.0, 58.0, 66.5, 21.5, 59.0, 61.5, 63.0, 60.0, 52.0, 50.0, 60.0, 35.5, 49.5]}, {\"axis\": {\"matches\": true}, \"label\": \"Regione\", \"values\": [\"Puglia\", \"Puglia\", \"Puglia\", \"Puglia\", \"Puglia\", \"Puglia\", \"Puglia\", \"Puglia\", \"Puglia\", \"Puglia\", \"Puglia\", \"Puglia\", \"Puglia\", \"Puglia\", \"Puglia\", \"Puglia\", \"Puglia\", \"Puglia\", \"Puglia\", \"Puglia\", \"Puglia\", \"Puglia\", \"Puglia\", \"Puglia\", \"Puglia\", \"Puglia\", \"Puglia\", \"Puglia\"]}], \"hovertemplate\": \"Stagione=Primavera<br>Regione=Puglia<br>%{xaxis.title.text}=%{x}<br>%{yaxis.title.text}=%{y}<extra></extra>\", \"legendgroup\": \"Primavera, Puglia\", \"marker\": {\"color\": \"palegreen\", \"symbol\": \"circle\"}, \"name\": \"Primavera, Puglia\", \"showlegend\": true, \"type\": \"splom\"}, {\"dimensions\": [{\"axis\": {\"matches\": true}, \"label\": \"Anno\", \"values\": [2013, 2013, 2014, 2015, 2015, 2016, 2013, 2013, 2013, 2014, 2015, 2018]}, {\"axis\": {\"matches\": true}, \"label\": \"Stagione\", \"values\": [\"Primavera\", \"Primavera\", \"Primavera\", \"Primavera\", \"Primavera\", \"Primavera\", \"Primavera\", \"Primavera\", \"Primavera\", \"Primavera\", \"Primavera\", \"Primavera\"]}, {\"axis\": {\"matches\": true}, \"label\": \"Taglia\", \"values\": [60.0, 14.0, 31.0, 30.0, 67.0, 70.0, 80.0, 100.0, 60.0, 27.0, 63.0, 100.0]}, {\"axis\": {\"matches\": true}, \"label\": \"Regione\", \"values\": [\"Calabria\", \"Calabria\", \"Calabria\", \"Calabria\", \"Calabria\", \"Calabria\", \"Calabria\", \"Calabria\", \"Calabria\", \"Calabria\", \"Calabria\", \"Calabria\"]}], \"hovertemplate\": \"Stagione=Primavera<br>Regione=Calabria<br>%{xaxis.title.text}=%{x}<br>%{yaxis.title.text}=%{y}<extra></extra>\", \"legendgroup\": \"Primavera, Calabria\", \"marker\": {\"color\": \"palegreen\", \"symbol\": \"diamond\"}, \"name\": \"Primavera, Calabria\", \"showlegend\": true, \"type\": \"splom\"}, {\"dimensions\": [{\"axis\": {\"matches\": true}, \"label\": \"Anno\", \"values\": [2006, 2008, 2013, 2014, 2014, 2014, 2014, 2015, 2015, 2015, 2016, 2016, 2016, 2016, 2016, 2016, 2016, 2017, 2017, 2017, 2017, 2017, 2017, 2017, 2017, 2017, 2017, 2017]}, {\"axis\": {\"matches\": true}, \"label\": \"Stagione\", \"values\": [\"Primavera\", \"Primavera\", \"Primavera\", \"Primavera\", \"Primavera\", \"Primavera\", \"Primavera\", \"Primavera\", \"Primavera\", \"Primavera\", \"Primavera\", \"Primavera\", \"Primavera\", \"Primavera\", \"Primavera\", \"Primavera\", \"Primavera\", \"Primavera\", \"Primavera\", \"Primavera\", \"Primavera\", \"Primavera\", \"Primavera\", \"Primavera\", \"Primavera\", \"Primavera\", \"Primavera\", \"Primavera\"]}, {\"axis\": {\"matches\": true}, \"label\": \"Taglia\", \"values\": [48.0, 50.0, 9.0, 56.0, 49.0, 34.0, 60.0, 22.0, 64.5, 45.0, 68.0, 40.0, 55.5, 68.0, 22.5, 63.0, 47.0, 53.0, 59.0, 66.0, 64.0, 52.0, 58.0, 62.0, 60.0, 57.0, 43.0, 56.0]}, {\"axis\": {\"matches\": true}, \"label\": \"Regione\", \"values\": [\"Basilicata\", \"Basilicata\", \"Basilicata\", \"Basilicata\", \"Basilicata\", \"Basilicata\", \"Basilicata\", \"Basilicata\", \"Basilicata\", \"Basilicata\", \"Basilicata\", \"Basilicata\", \"Basilicata\", \"Basilicata\", \"Basilicata\", \"Basilicata\", \"Basilicata\", \"Basilicata\", \"Basilicata\", \"Basilicata\", \"Basilicata\", \"Basilicata\", \"Basilicata\", \"Basilicata\", \"Basilicata\", \"Basilicata\", \"Basilicata\", \"Basilicata\"]}], \"hovertemplate\": \"Stagione=Primavera<br>Regione=Basilicata<br>%{xaxis.title.text}=%{x}<br>%{yaxis.title.text}=%{y}<extra></extra>\", \"legendgroup\": \"Primavera, Basilicata\", \"marker\": {\"color\": \"palegreen\", \"symbol\": \"square\"}, \"name\": \"Primavera, Basilicata\", \"showlegend\": true, \"type\": \"splom\"}, {\"dimensions\": [{\"axis\": {\"matches\": true}, \"label\": \"Anno\", \"values\": [2007, 2007, 2008, 2008, 2008, 2008, 2008, 2008, 2008, 2008, 2008, 2013, 2014, 2014, 2015, 2015, 2015, 2015, 2015, 2015, 2015, 2015, 2015, 2016, 2016, 2016, 2016, 2016, 2016, 2016, 2016, 2016, 2016, 2016, 2016, 2016, 2016, 2016, 2016, 2016, 2017, 2017, 2017, 2017, 2017, 2017, 2017, 2017, 2018, 2018, 2018, 2018, 2018, 2018, 2018, 2018, 2016, 2016, 2016, 2016, 2016, 2016]}, {\"axis\": {\"matches\": true}, \"label\": \"Stagione\", \"values\": [\"Estate\", \"Estate\", \"Estate\", \"Estate\", \"Estate\", \"Estate\", \"Estate\", \"Estate\", \"Estate\", \"Estate\", \"Estate\", \"Estate\", \"Estate\", \"Estate\", \"Estate\", \"Estate\", \"Estate\", \"Estate\", \"Estate\", \"Estate\", \"Estate\", \"Estate\", \"Estate\", \"Estate\", \"Estate\", \"Estate\", \"Estate\", \"Estate\", \"Estate\", \"Estate\", \"Estate\", \"Estate\", \"Estate\", \"Estate\", \"Estate\", \"Estate\", \"Estate\", \"Estate\", \"Estate\", \"Estate\", \"Estate\", \"Estate\", \"Estate\", \"Estate\", \"Estate\", \"Estate\", \"Estate\", \"Estate\", \"Estate\", \"Estate\", \"Estate\", \"Estate\", \"Estate\", \"Estate\", \"Estate\", \"Estate\", \"Estate\", \"Estate\", \"Estate\", \"Estate\", \"Estate\", \"Estate\"]}, {\"axis\": {\"matches\": true}, \"label\": \"Taglia\", \"values\": [46.0, 60.0, 41.0, 45.0, 39.0, 57.0, 46.0, 54.0, 54.0, 55.0, 48.0, 50.0, 55.0, 54.0, 71.0, 52.0, 38.0, 76.0, 54.0, 64.0, 49.0, 70.0, 36.0, 15.0, 30.0, 30.0, 63.0, 35.0, 70.0, 29.5, 40.5, 63.0, 60.0, 70.0, 40.0, 40.0, 50.0, 69.0, 38.5, 55.0, 54.5, 61.0, 39.0, 36.5, 52.0, 26.0, 24.0, 67.0, 51.7, 41.5, 60.5, 3.9, 58.0, 45.0, 58.0, 60.5, 37.0, 80.0, 61.0, 39.0, 55.0, 81.0]}, {\"axis\": {\"matches\": true}, \"label\": \"Regione\", \"values\": [\"Puglia\", \"Puglia\", \"Puglia\", \"Puglia\", \"Puglia\", \"Puglia\", \"Puglia\", \"Puglia\", \"Puglia\", \"Puglia\", \"Puglia\", \"Puglia\", \"Puglia\", \"Puglia\", \"Puglia\", \"Puglia\", \"Puglia\", \"Puglia\", \"Puglia\", \"Puglia\", \"Puglia\", \"Puglia\", \"Puglia\", \"Puglia\", \"Puglia\", \"Puglia\", \"Puglia\", \"Puglia\", \"Puglia\", \"Puglia\", \"Puglia\", \"Puglia\", \"Puglia\", \"Puglia\", \"Puglia\", \"Puglia\", \"Puglia\", \"Puglia\", \"Puglia\", \"Puglia\", \"Puglia\", \"Puglia\", \"Puglia\", \"Puglia\", \"Puglia\", \"Puglia\", \"Puglia\", \"Puglia\", \"Puglia\", \"Puglia\", \"Puglia\", \"Puglia\", \"Puglia\", \"Puglia\", \"Puglia\", \"Puglia\", \"Puglia\", \"Puglia\", \"Puglia\", \"Puglia\", \"Puglia\", \"Puglia\"]}], \"hovertemplate\": \"Stagione=Estate<br>Regione=Puglia<br>%{xaxis.title.text}=%{x}<br>%{yaxis.title.text}=%{y}<extra></extra>\", \"legendgroup\": \"Estate, Puglia\", \"marker\": {\"color\": \"coral\", \"symbol\": \"circle\"}, \"name\": \"Estate, Puglia\", \"showlegend\": true, \"type\": \"splom\"}, {\"dimensions\": [{\"axis\": {\"matches\": true}, \"label\": \"Anno\", \"values\": [2012, 2014, 2014, 2015, 2016, 2012, 2013, 2014, 2014, 2014, 2014, 2015, 2016, 2008, 2008, 2008, 2008, 2014, 2015, 2016, 2016, 2016, 2017, 2018, 2018, 2012, 2012, 2012, 2012, 2012, 2012, 2012, 2012, 2012, 2012, 2012, 2012, 2012, 2012, 2012, 2012, 2012, 2012, 2012, 2012, 2017, 2017]}, {\"axis\": {\"matches\": true}, \"label\": \"Stagione\", \"values\": [\"Estate\", \"Estate\", \"Estate\", \"Estate\", \"Estate\", \"Estate\", \"Estate\", \"Estate\", \"Estate\", \"Estate\", \"Estate\", \"Estate\", \"Estate\", \"Estate\", \"Estate\", \"Estate\", \"Estate\", \"Estate\", \"Estate\", \"Estate\", \"Estate\", \"Estate\", \"Estate\", \"Estate\", \"Estate\", \"Estate\", \"Estate\", \"Estate\", \"Estate\", \"Estate\", \"Estate\", \"Estate\", \"Estate\", \"Estate\", \"Estate\", \"Estate\", \"Estate\", \"Estate\", \"Estate\", \"Estate\", \"Estate\", \"Estate\", \"Estate\", \"Estate\", \"Estate\", \"Estate\", \"Estate\"]}, {\"axis\": {\"matches\": true}, \"label\": \"Taglia\", \"values\": [30.0, 60.0, 37.0, 77.0, 30.0, 36.0, 45.0, 72.0, 31.0, 52.0, 26.0, 73.0, 80.0, 47.0, 40.0, 51.0, 39.0, 58.5, 62.0, 50.0, 70.0, 51.5, 34.0, 21.0, 22.0, 40.0, 37.0, 27.0, 35.0, 32.0, 32.0, 28.0, 27.0, 42.0, 38.0, 30.0, 39.0, 19.0, 27.0, 34.0, 63.0, 28.0, 20.0, 32.0, 21.0, 20.0, 50.0]}, {\"axis\": {\"matches\": true}, \"label\": \"Regione\", \"values\": [\"Calabria\", \"Calabria\", \"Calabria\", \"Calabria\", \"Calabria\", \"Calabria\", \"Calabria\", \"Calabria\", \"Calabria\", \"Calabria\", \"Calabria\", \"Calabria\", \"Calabria\", \"Calabria\", \"Calabria\", \"Calabria\", \"Calabria\", \"Calabria\", \"Calabria\", \"Calabria\", \"Calabria\", \"Calabria\", \"Calabria\", \"Calabria\", \"Calabria\", \"Calabria\", \"Calabria\", \"Calabria\", \"Calabria\", \"Calabria\", \"Calabria\", \"Calabria\", \"Calabria\", \"Calabria\", \"Calabria\", \"Calabria\", \"Calabria\", \"Calabria\", \"Calabria\", \"Calabria\", \"Calabria\", \"Calabria\", \"Calabria\", \"Calabria\", \"Calabria\", \"Calabria\", \"Calabria\"]}], \"hovertemplate\": \"Stagione=Estate<br>Regione=Calabria<br>%{xaxis.title.text}=%{x}<br>%{yaxis.title.text}=%{y}<extra></extra>\", \"legendgroup\": \"Estate, Calabria\", \"marker\": {\"color\": \"coral\", \"symbol\": \"diamond\"}, \"name\": \"Estate, Calabria\", \"showlegend\": true, \"type\": \"splom\"}, {\"dimensions\": [{\"axis\": {\"matches\": true}, \"label\": \"Anno\", \"values\": [2006, 2006, 2006, 2006, 2006, 2006, 2007, 2007, 2008, 2008, 2008, 2008, 2008, 2008, 2008, 2008, 2013, 2013, 2014, 2014, 2014, 2015, 2015, 2015, 2015, 2015, 2015, 2015, 2015, 2015, 2015, 2015, 2015, 2015, 2016, 2016, 2016, 2016, 2016, 2016, 2016, 2016, 2016, 2016, 2016, 2016, 2016, 2016, 2016, 2016, 2016, 2016, 2016, 2016, 2016, 2016, 2016, 2016, 2016, 2017, 2017, 2017, 2017, 2017, 2017, 2017, 2017, 2017, 2017, 2017, 2017, 2017, 2017, 2017, 2017, 2017, 2017, 2017, 2017, 2017, 2017, 2017, 2017, 2017, 2017, 2018, 2018, 2018, 2018, 2018, 2018, 2018]}, {\"axis\": {\"matches\": true}, \"label\": \"Stagione\", \"values\": [\"Estate\", \"Estate\", \"Estate\", \"Estate\", \"Estate\", \"Estate\", \"Estate\", \"Estate\", \"Estate\", \"Estate\", \"Estate\", \"Estate\", \"Estate\", \"Estate\", \"Estate\", \"Estate\", \"Estate\", \"Estate\", \"Estate\", \"Estate\", \"Estate\", \"Estate\", \"Estate\", \"Estate\", \"Estate\", \"Estate\", \"Estate\", \"Estate\", \"Estate\", \"Estate\", \"Estate\", \"Estate\", \"Estate\", \"Estate\", \"Estate\", \"Estate\", \"Estate\", \"Estate\", \"Estate\", \"Estate\", \"Estate\", \"Estate\", \"Estate\", \"Estate\", \"Estate\", \"Estate\", \"Estate\", \"Estate\", \"Estate\", \"Estate\", \"Estate\", \"Estate\", \"Estate\", \"Estate\", \"Estate\", \"Estate\", \"Estate\", \"Estate\", \"Estate\", \"Estate\", \"Estate\", \"Estate\", \"Estate\", \"Estate\", \"Estate\", \"Estate\", \"Estate\", \"Estate\", \"Estate\", \"Estate\", \"Estate\", \"Estate\", \"Estate\", \"Estate\", \"Estate\", \"Estate\", \"Estate\", \"Estate\", \"Estate\", \"Estate\", \"Estate\", \"Estate\", \"Estate\", \"Estate\", \"Estate\", \"Estate\", \"Estate\", \"Estate\", \"Estate\", \"Estate\", \"Estate\", \"Estate\"]}, {\"axis\": {\"matches\": true}, \"label\": \"Taglia\", \"values\": [45.0, 52.0, 24.0, 41.0, 55.0, 50.0, 50.0, 47.0, 47.0, 52.0, 56.0, 50.0, 34.0, 38.0, 50.0, 41.0, 58.0, 51.0, 63.0, 40.0, 48.0, 35.0, 55.0, 69.0, 41.0, 70.0, 32.0, 56.0, 47.5, 76.0, 49.0, 54.0, 56.5, 40.0, 75.0, 50.0, 50.0, 63.0, 56.5, 78.0, 29.0, 45.0, 40.0, 55.0, 57.5, 40.0, 41.0, 40.0, 58.0, 49.5, 27.0, 55.0, 57.0, 29.0, 62.0, 63.0, 29.5, 72.0, 48.5, 41.0, 44.0, 59.0, 48.0, 6.0, 67.0, 42.0, 51.0, 61.0, 49.0, 66.5, 51.0, 61.0, 73.5, 52.0, 56.0, 61.0, 57.0, 41.0, 71.5, 64.0, 22.0, 52.0, 60.0, 29.0, 58.0, 57.0, 30.0, 62.0, 61.5, 50.0, 53.5, 69.0]}, {\"axis\": {\"matches\": true}, \"label\": \"Regione\", \"values\": [\"Basilicata\", \"Basilicata\", \"Basilicata\", \"Basilicata\", \"Basilicata\", \"Basilicata\", \"Basilicata\", \"Basilicata\", \"Basilicata\", \"Basilicata\", \"Basilicata\", \"Basilicata\", \"Basilicata\", \"Basilicata\", \"Basilicata\", \"Basilicata\", \"Basilicata\", \"Basilicata\", \"Basilicata\", \"Basilicata\", \"Basilicata\", \"Basilicata\", \"Basilicata\", \"Basilicata\", \"Basilicata\", \"Basilicata\", \"Basilicata\", \"Basilicata\", \"Basilicata\", \"Basilicata\", \"Basilicata\", \"Basilicata\", \"Basilicata\", \"Basilicata\", \"Basilicata\", \"Basilicata\", \"Basilicata\", \"Basilicata\", \"Basilicata\", \"Basilicata\", \"Basilicata\", \"Basilicata\", \"Basilicata\", \"Basilicata\", \"Basilicata\", \"Basilicata\", \"Basilicata\", \"Basilicata\", \"Basilicata\", \"Basilicata\", \"Basilicata\", \"Basilicata\", \"Basilicata\", \"Basilicata\", \"Basilicata\", \"Basilicata\", \"Basilicata\", \"Basilicata\", \"Basilicata\", \"Basilicata\", \"Basilicata\", \"Basilicata\", \"Basilicata\", \"Basilicata\", \"Basilicata\", \"Basilicata\", \"Basilicata\", \"Basilicata\", \"Basilicata\", \"Basilicata\", \"Basilicata\", \"Basilicata\", \"Basilicata\", \"Basilicata\", \"Basilicata\", \"Basilicata\", \"Basilicata\", \"Basilicata\", \"Basilicata\", \"Basilicata\", \"Basilicata\", \"Basilicata\", \"Basilicata\", \"Basilicata\", \"Basilicata\", \"Basilicata\", \"Basilicata\", \"Basilicata\", \"Basilicata\", \"Basilicata\", \"Basilicata\", \"Basilicata\"]}], \"hovertemplate\": \"Stagione=Estate<br>Regione=Basilicata<br>%{xaxis.title.text}=%{x}<br>%{yaxis.title.text}=%{y}<extra></extra>\", \"legendgroup\": \"Estate, Basilicata\", \"marker\": {\"color\": \"coral\", \"symbol\": \"square\"}, \"name\": \"Estate, Basilicata\", \"showlegend\": true, \"type\": \"splom\"}],\n",
       "                        {\"dragmode\": \"select\", \"height\": 700, \"legend\": {\"title\": {\"text\": \"Stagione, Regione\"}, \"tracegroupgap\": 0}, \"margin\": {\"t\": 60}, \"template\": {\"data\": {\"bar\": [{\"error_x\": {\"color\": \"#2a3f5f\"}, \"error_y\": {\"color\": \"#2a3f5f\"}, \"marker\": {\"line\": {\"color\": \"white\", \"width\": 0.5}}, \"type\": \"bar\"}], \"barpolar\": [{\"marker\": {\"line\": {\"color\": \"white\", \"width\": 0.5}}, \"type\": \"barpolar\"}], \"carpet\": [{\"aaxis\": {\"endlinecolor\": \"#2a3f5f\", \"gridcolor\": \"#C8D4E3\", \"linecolor\": \"#C8D4E3\", \"minorgridcolor\": \"#C8D4E3\", \"startlinecolor\": \"#2a3f5f\"}, \"baxis\": {\"endlinecolor\": \"#2a3f5f\", \"gridcolor\": \"#C8D4E3\", \"linecolor\": \"#C8D4E3\", \"minorgridcolor\": \"#C8D4E3\", \"startlinecolor\": \"#2a3f5f\"}, \"type\": \"carpet\"}], \"choropleth\": [{\"colorbar\": {\"outlinewidth\": 0, \"ticks\": \"\"}, \"type\": \"choropleth\"}], \"contour\": [{\"colorbar\": {\"outlinewidth\": 0, \"ticks\": \"\"}, \"colorscale\": [[0.0, \"#0d0887\"], [0.1111111111111111, \"#46039f\"], [0.2222222222222222, \"#7201a8\"], [0.3333333333333333, \"#9c179e\"], [0.4444444444444444, \"#bd3786\"], [0.5555555555555556, \"#d8576b\"], [0.6666666666666666, \"#ed7953\"], [0.7777777777777778, \"#fb9f3a\"], [0.8888888888888888, \"#fdca26\"], [1.0, \"#f0f921\"]], \"type\": \"contour\"}], \"contourcarpet\": [{\"colorbar\": {\"outlinewidth\": 0, \"ticks\": \"\"}, \"type\": \"contourcarpet\"}], \"heatmap\": [{\"colorbar\": {\"outlinewidth\": 0, \"ticks\": \"\"}, \"colorscale\": [[0.0, \"#0d0887\"], [0.1111111111111111, \"#46039f\"], [0.2222222222222222, \"#7201a8\"], [0.3333333333333333, \"#9c179e\"], [0.4444444444444444, \"#bd3786\"], [0.5555555555555556, \"#d8576b\"], [0.6666666666666666, \"#ed7953\"], [0.7777777777777778, \"#fb9f3a\"], [0.8888888888888888, \"#fdca26\"], [1.0, \"#f0f921\"]], \"type\": \"heatmap\"}], \"heatmapgl\": [{\"colorbar\": {\"outlinewidth\": 0, \"ticks\": \"\"}, \"colorscale\": [[0.0, \"#0d0887\"], [0.1111111111111111, \"#46039f\"], [0.2222222222222222, \"#7201a8\"], [0.3333333333333333, \"#9c179e\"], [0.4444444444444444, \"#bd3786\"], [0.5555555555555556, \"#d8576b\"], [0.6666666666666666, \"#ed7953\"], [0.7777777777777778, \"#fb9f3a\"], [0.8888888888888888, \"#fdca26\"], [1.0, \"#f0f921\"]], \"type\": \"heatmapgl\"}], \"histogram\": [{\"marker\": {\"colorbar\": {\"outlinewidth\": 0, \"ticks\": \"\"}}, \"type\": \"histogram\"}], \"histogram2d\": [{\"colorbar\": {\"outlinewidth\": 0, \"ticks\": \"\"}, \"colorscale\": [[0.0, \"#0d0887\"], [0.1111111111111111, \"#46039f\"], [0.2222222222222222, \"#7201a8\"], [0.3333333333333333, \"#9c179e\"], [0.4444444444444444, \"#bd3786\"], [0.5555555555555556, \"#d8576b\"], [0.6666666666666666, \"#ed7953\"], [0.7777777777777778, \"#fb9f3a\"], [0.8888888888888888, \"#fdca26\"], [1.0, \"#f0f921\"]], \"type\": \"histogram2d\"}], \"histogram2dcontour\": [{\"colorbar\": {\"outlinewidth\": 0, \"ticks\": \"\"}, \"colorscale\": [[0.0, \"#0d0887\"], [0.1111111111111111, \"#46039f\"], [0.2222222222222222, \"#7201a8\"], [0.3333333333333333, \"#9c179e\"], [0.4444444444444444, \"#bd3786\"], [0.5555555555555556, \"#d8576b\"], [0.6666666666666666, \"#ed7953\"], [0.7777777777777778, \"#fb9f3a\"], [0.8888888888888888, \"#fdca26\"], [1.0, \"#f0f921\"]], \"type\": \"histogram2dcontour\"}], \"mesh3d\": [{\"colorbar\": {\"outlinewidth\": 0, \"ticks\": \"\"}, \"type\": \"mesh3d\"}], \"parcoords\": [{\"line\": {\"colorbar\": {\"outlinewidth\": 0, \"ticks\": \"\"}}, \"type\": \"parcoords\"}], \"pie\": [{\"automargin\": true, \"type\": \"pie\"}], \"scatter\": [{\"marker\": {\"colorbar\": {\"outlinewidth\": 0, \"ticks\": \"\"}}, \"type\": \"scatter\"}], \"scatter3d\": [{\"line\": {\"colorbar\": {\"outlinewidth\": 0, \"ticks\": \"\"}}, \"marker\": {\"colorbar\": {\"outlinewidth\": 0, \"ticks\": \"\"}}, \"type\": \"scatter3d\"}], \"scattercarpet\": [{\"marker\": {\"colorbar\": {\"outlinewidth\": 0, \"ticks\": \"\"}}, \"type\": \"scattercarpet\"}], \"scattergeo\": [{\"marker\": {\"colorbar\": {\"outlinewidth\": 0, \"ticks\": \"\"}}, \"type\": \"scattergeo\"}], \"scattergl\": [{\"marker\": {\"colorbar\": {\"outlinewidth\": 0, \"ticks\": \"\"}}, \"type\": \"scattergl\"}], \"scattermapbox\": [{\"marker\": {\"colorbar\": {\"outlinewidth\": 0, \"ticks\": \"\"}}, \"type\": \"scattermapbox\"}], \"scatterpolar\": [{\"marker\": {\"colorbar\": {\"outlinewidth\": 0, \"ticks\": \"\"}}, \"type\": \"scatterpolar\"}], \"scatterpolargl\": [{\"marker\": {\"colorbar\": {\"outlinewidth\": 0, \"ticks\": \"\"}}, \"type\": \"scatterpolargl\"}], \"scatterternary\": [{\"marker\": {\"colorbar\": {\"outlinewidth\": 0, \"ticks\": \"\"}}, \"type\": \"scatterternary\"}], \"surface\": [{\"colorbar\": {\"outlinewidth\": 0, \"ticks\": \"\"}, \"colorscale\": [[0.0, \"#0d0887\"], [0.1111111111111111, \"#46039f\"], [0.2222222222222222, \"#7201a8\"], [0.3333333333333333, \"#9c179e\"], [0.4444444444444444, \"#bd3786\"], [0.5555555555555556, \"#d8576b\"], [0.6666666666666666, \"#ed7953\"], [0.7777777777777778, \"#fb9f3a\"], [0.8888888888888888, \"#fdca26\"], [1.0, \"#f0f921\"]], \"type\": \"surface\"}], \"table\": [{\"cells\": {\"fill\": {\"color\": \"#EBF0F8\"}, \"line\": {\"color\": \"white\"}}, \"header\": {\"fill\": {\"color\": \"#C8D4E3\"}, \"line\": {\"color\": \"white\"}}, \"type\": \"table\"}]}, \"layout\": {\"annotationdefaults\": {\"arrowcolor\": \"#2a3f5f\", \"arrowhead\": 0, \"arrowwidth\": 1}, \"coloraxis\": {\"colorbar\": {\"outlinewidth\": 0, \"ticks\": \"\"}}, \"colorscale\": {\"diverging\": [[0, \"#8e0152\"], [0.1, \"#c51b7d\"], [0.2, \"#de77ae\"], [0.3, \"#f1b6da\"], [0.4, \"#fde0ef\"], [0.5, \"#f7f7f7\"], [0.6, \"#e6f5d0\"], [0.7, \"#b8e186\"], [0.8, \"#7fbc41\"], [0.9, \"#4d9221\"], [1, \"#276419\"]], \"sequential\": [[0.0, \"#0d0887\"], [0.1111111111111111, \"#46039f\"], [0.2222222222222222, \"#7201a8\"], [0.3333333333333333, \"#9c179e\"], [0.4444444444444444, \"#bd3786\"], [0.5555555555555556, \"#d8576b\"], [0.6666666666666666, \"#ed7953\"], [0.7777777777777778, \"#fb9f3a\"], [0.8888888888888888, \"#fdca26\"], [1.0, \"#f0f921\"]], \"sequentialminus\": [[0.0, \"#0d0887\"], [0.1111111111111111, \"#46039f\"], [0.2222222222222222, \"#7201a8\"], [0.3333333333333333, \"#9c179e\"], [0.4444444444444444, \"#bd3786\"], [0.5555555555555556, \"#d8576b\"], [0.6666666666666666, \"#ed7953\"], [0.7777777777777778, \"#fb9f3a\"], [0.8888888888888888, \"#fdca26\"], [1.0, \"#f0f921\"]]}, \"colorway\": [\"#636efa\", \"#EF553B\", \"#00cc96\", \"#ab63fa\", \"#FFA15A\", \"#19d3f3\", \"#FF6692\", \"#B6E880\", \"#FF97FF\", \"#FECB52\"], \"font\": {\"color\": \"#2a3f5f\"}, \"geo\": {\"bgcolor\": \"white\", \"lakecolor\": \"white\", \"landcolor\": \"white\", \"showlakes\": true, \"showland\": true, \"subunitcolor\": \"#C8D4E3\"}, \"hoverlabel\": {\"align\": \"left\"}, \"hovermode\": \"closest\", \"mapbox\": {\"style\": \"light\"}, \"paper_bgcolor\": \"white\", \"plot_bgcolor\": \"white\", \"polar\": {\"angularaxis\": {\"gridcolor\": \"#EBF0F8\", \"linecolor\": \"#EBF0F8\", \"ticks\": \"\"}, \"bgcolor\": \"white\", \"radialaxis\": {\"gridcolor\": \"#EBF0F8\", \"linecolor\": \"#EBF0F8\", \"ticks\": \"\"}}, \"scene\": {\"xaxis\": {\"backgroundcolor\": \"white\", \"gridcolor\": \"#DFE8F3\", \"gridwidth\": 2, \"linecolor\": \"#EBF0F8\", \"showbackground\": true, \"ticks\": \"\", \"zerolinecolor\": \"#EBF0F8\"}, \"yaxis\": {\"backgroundcolor\": \"white\", \"gridcolor\": \"#DFE8F3\", \"gridwidth\": 2, \"linecolor\": \"#EBF0F8\", \"showbackground\": true, \"ticks\": \"\", \"zerolinecolor\": \"#EBF0F8\"}, \"zaxis\": {\"backgroundcolor\": \"white\", \"gridcolor\": \"#DFE8F3\", \"gridwidth\": 2, \"linecolor\": \"#EBF0F8\", \"showbackground\": true, \"ticks\": \"\", \"zerolinecolor\": \"#EBF0F8\"}}, \"shapedefaults\": {\"line\": {\"color\": \"#2a3f5f\"}}, \"ternary\": {\"aaxis\": {\"gridcolor\": \"#DFE8F3\", \"linecolor\": \"#A2B1C6\", \"ticks\": \"\"}, \"baxis\": {\"gridcolor\": \"#DFE8F3\", \"linecolor\": \"#A2B1C6\", \"ticks\": \"\"}, \"bgcolor\": \"white\", \"caxis\": {\"gridcolor\": \"#DFE8F3\", \"linecolor\": \"#A2B1C6\", \"ticks\": \"\"}}, \"title\": {\"x\": 0.05}, \"xaxis\": {\"automargin\": true, \"gridcolor\": \"#EBF0F8\", \"linecolor\": \"#EBF0F8\", \"ticks\": \"\", \"title\": {\"standoff\": 15}, \"zerolinecolor\": \"#EBF0F8\", \"zerolinewidth\": 2}, \"yaxis\": {\"automargin\": true, \"gridcolor\": \"#EBF0F8\", \"linecolor\": \"#EBF0F8\", \"ticks\": \"\", \"title\": {\"standoff\": 15}, \"zerolinecolor\": \"#EBF0F8\", \"zerolinewidth\": 2}}}},\n",
       "                        {\"responsive\": true}\n",
       "                    ).then(function(){\n",
       "                            \n",
       "var gd = document.getElementById('ed810f24-2d1f-4fb0-8b34-b4a0884ceb09');\n",
       "var x = new MutationObserver(function (mutations, observer) {{\n",
       "        var display = window.getComputedStyle(gd).display;\n",
       "        if (!display || display === 'none') {{\n",
       "            console.log([gd, 'removed!']);\n",
       "            Plotly.purge(gd);\n",
       "            observer.disconnect();\n",
       "        }}\n",
       "}});\n",
       "\n",
       "// Listen for the removal of the full notebook cells\n",
       "var notebookContainer = gd.closest('#notebook-container');\n",
       "if (notebookContainer) {{\n",
       "    x.observe(notebookContainer, {childList: true});\n",
       "}}\n",
       "\n",
       "// Listen for the clearing of the current output cell\n",
       "var outputEl = gd.closest('.output');\n",
       "if (outputEl) {{\n",
       "    x.observe(outputEl, {childList: true});\n",
       "}}\n",
       "\n",
       "                        })\n",
       "                };\n",
       "                });\n",
       "            </script>\n",
       "        </div>"
      ]
     },
     "metadata": {},
     "output_type": "display_data"
    }
   ],
   "source": [
    "px.scatter_matrix(df,\n",
    "                  color='Stagione',\n",
    "                  symbol='Regione',\n",
    "                  height=700,\n",
    "                  template='plotly_white',\n",
    "                  color_discrete_map={\n",
    "                      'Autunno': 'goldenrod',\n",
    "                      'Inverno': 'lightskyblue',\n",
    "                      'Primavera': 'palegreen',\n",
    "                      'Estate': 'coral'})"
   ]
  },
  {
   "cell_type": "code",
   "execution_count": 30,
   "metadata": {},
   "outputs": [
    {
     "data": {
      "application/vnd.plotly.v1+json": {
       "config": {
        "plotlyServerURL": "https://plot.ly"
       },
       "data": [
        {
         "hovertemplate": "Stagione=Autunno<br>Regione=Puglia<br>Anno=%{x}<br>Taglia=%{y}<extra></extra>",
         "legendgroup": "Autunno, Puglia",
         "marker": {
          "color": "goldenrod",
          "symbol": "circle"
         },
         "mode": "markers",
         "name": "Autunno, Puglia",
         "orientation": "v",
         "showlegend": true,
         "type": "scatter",
         "x": [
          2013,
          2008,
          2015,
          2006,
          2012,
          2014,
          2014,
          2014,
          2015,
          2015,
          2016,
          2016,
          2016,
          2016,
          2016,
          2017,
          2017,
          2017,
          2017,
          2017
         ],
         "xaxis": "x",
         "y": [
          58,
          68,
          40,
          94,
          26,
          38,
          60,
          62,
          3,
          66,
          43,
          71,
          54,
          30,
          23,
          37,
          62,
          62,
          65,
          80
         ],
         "yaxis": "y"
        },
        {
         "hovertemplate": "Stagione=Autunno<br>Regione=Calabria<br>Anno=%{x}<br>Taglia=%{y}<extra></extra>",
         "legendgroup": "Autunno, Calabria",
         "marker": {
          "color": "goldenrod",
          "symbol": "diamond"
         },
         "mode": "markers",
         "name": "Autunno, Calabria",
         "orientation": "v",
         "showlegend": true,
         "type": "scatter",
         "x": [
          2011,
          2011,
          2011,
          2012,
          2012,
          2013,
          2013,
          2014,
          2014,
          2014,
          2013,
          2014,
          2016
         ],
         "xaxis": "x",
         "y": [
          19,
          17,
          40,
          24,
          29,
          36,
          32,
          39,
          39,
          69,
          67,
          55,
          80
         ],
         "yaxis": "y"
        },
        {
         "hovertemplate": "Stagione=Autunno<br>Regione=Basilicata<br>Anno=%{x}<br>Taglia=%{y}<extra></extra>",
         "legendgroup": "Autunno, Basilicata",
         "marker": {
          "color": "goldenrod",
          "symbol": "square"
         },
         "mode": "markers",
         "name": "Autunno, Basilicata",
         "orientation": "v",
         "showlegend": true,
         "type": "scatter",
         "x": [
          2006,
          2008,
          2013,
          2013,
          2013,
          2014,
          2014,
          2014,
          2014,
          2014,
          2014,
          2014,
          2014,
          2014,
          2015,
          2015,
          2015,
          2015,
          2016,
          2016,
          2016,
          2016,
          2016,
          2016,
          2016,
          2017,
          2017,
          2017,
          2017,
          2017,
          2017,
          2017,
          2017,
          2017,
          2017,
          2018,
          2018,
          2018,
          2018
         ],
         "xaxis": "x",
         "y": [
          62,
          63,
          49,
          64,
          49,
          60,
          55,
          45,
          35,
          69,
          46,
          36,
          48,
          53,
          76,
          62,
          39.5,
          37,
          35.5,
          67,
          48,
          73.5,
          65,
          51,
          50,
          58,
          50,
          60,
          38,
          39,
          52.5,
          46,
          34.5,
          50,
          61,
          34.5,
          64,
          40,
          54
         ],
         "yaxis": "y"
        },
        {
         "hovertemplate": "Stagione=Inverno<br>Regione=Puglia<br>Anno=%{x}<br>Taglia=%{y}<extra></extra>",
         "legendgroup": "Inverno, Puglia",
         "marker": {
          "color": "lightskyblue",
          "symbol": "circle"
         },
         "mode": "markers",
         "name": "Inverno, Puglia",
         "orientation": "v",
         "showlegend": true,
         "type": "scatter",
         "x": [
          2014,
          2014,
          2014,
          2014,
          2015,
          2015,
          2015,
          2015,
          2016,
          2017,
          2017,
          2017,
          2017,
          2017
         ],
         "xaxis": "x",
         "y": [
          35,
          50,
          46,
          6.5,
          44,
          9,
          49,
          23,
          80,
          74,
          71,
          73,
          69,
          86
         ],
         "yaxis": "y"
        },
        {
         "hovertemplate": "Stagione=Inverno<br>Regione=Calabria<br>Anno=%{x}<br>Taglia=%{y}<extra></extra>",
         "legendgroup": "Inverno, Calabria",
         "marker": {
          "color": "lightskyblue",
          "symbol": "diamond"
         },
         "mode": "markers",
         "name": "Inverno, Calabria",
         "orientation": "v",
         "showlegend": true,
         "type": "scatter",
         "x": [
          2011,
          2012,
          2014
         ],
         "xaxis": "x",
         "y": [
          79,
          50,
          70
         ],
         "yaxis": "y"
        },
        {
         "hovertemplate": "Stagione=Inverno<br>Regione=Basilicata<br>Anno=%{x}<br>Taglia=%{y}<extra></extra>",
         "legendgroup": "Inverno, Basilicata",
         "marker": {
          "color": "lightskyblue",
          "symbol": "square"
         },
         "mode": "markers",
         "name": "Inverno, Basilicata",
         "orientation": "v",
         "showlegend": true,
         "type": "scatter",
         "x": [
          2014,
          2015,
          2016,
          2017,
          2017,
          2017
         ],
         "xaxis": "x",
         "y": [
          41,
          63,
          27,
          61,
          31.5,
          65
         ],
         "yaxis": "y"
        },
        {
         "hovertemplate": "Stagione=Primavera<br>Regione=Puglia<br>Anno=%{x}<br>Taglia=%{y}<extra></extra>",
         "legendgroup": "Primavera, Puglia",
         "marker": {
          "color": "palegreen",
          "symbol": "circle"
         },
         "mode": "markers",
         "name": "Primavera, Puglia",
         "orientation": "v",
         "showlegend": true,
         "type": "scatter",
         "x": [
          2016,
          2013,
          2013,
          2013,
          2013,
          2013,
          2013,
          2015,
          2015,
          2015,
          2015,
          2016,
          2016,
          2016,
          2017,
          2017,
          2017,
          2017,
          2018,
          2018,
          2018,
          2018,
          2018,
          2018,
          2018,
          2018,
          2018,
          2018
         ],
         "xaxis": "x",
         "y": [
          68,
          34.5,
          21,
          30,
          31,
          27.5,
          11,
          29,
          25,
          56,
          54,
          61,
          52,
          60,
          65,
          84,
          58,
          66.5,
          21.5,
          59,
          61.5,
          63,
          60,
          52,
          50,
          60,
          35.5,
          49.5
         ],
         "yaxis": "y"
        },
        {
         "hovertemplate": "Stagione=Primavera<br>Regione=Calabria<br>Anno=%{x}<br>Taglia=%{y}<extra></extra>",
         "legendgroup": "Primavera, Calabria",
         "marker": {
          "color": "palegreen",
          "symbol": "diamond"
         },
         "mode": "markers",
         "name": "Primavera, Calabria",
         "orientation": "v",
         "showlegend": true,
         "type": "scatter",
         "x": [
          2013,
          2013,
          2014,
          2015,
          2015,
          2016,
          2013,
          2013,
          2013,
          2014,
          2015,
          2018
         ],
         "xaxis": "x",
         "y": [
          60,
          14,
          31,
          30,
          67,
          70,
          80,
          100,
          60,
          27,
          63,
          100
         ],
         "yaxis": "y"
        },
        {
         "hovertemplate": "Stagione=Primavera<br>Regione=Basilicata<br>Anno=%{x}<br>Taglia=%{y}<extra></extra>",
         "legendgroup": "Primavera, Basilicata",
         "marker": {
          "color": "palegreen",
          "symbol": "square"
         },
         "mode": "markers",
         "name": "Primavera, Basilicata",
         "orientation": "v",
         "showlegend": true,
         "type": "scatter",
         "x": [
          2006,
          2008,
          2013,
          2014,
          2014,
          2014,
          2014,
          2015,
          2015,
          2015,
          2016,
          2016,
          2016,
          2016,
          2016,
          2016,
          2016,
          2017,
          2017,
          2017,
          2017,
          2017,
          2017,
          2017,
          2017,
          2017,
          2017,
          2017
         ],
         "xaxis": "x",
         "y": [
          48,
          50,
          9,
          56,
          49,
          34,
          60,
          22,
          64.5,
          45,
          68,
          40,
          55.5,
          68,
          22.5,
          63,
          47,
          53,
          59,
          66,
          64,
          52,
          58,
          62,
          60,
          57,
          43,
          56
         ],
         "yaxis": "y"
        },
        {
         "hovertemplate": "Stagione=Estate<br>Regione=Puglia<br>Anno=%{x}<br>Taglia=%{y}<extra></extra>",
         "legendgroup": "Estate, Puglia",
         "marker": {
          "color": "coral",
          "symbol": "circle"
         },
         "mode": "markers",
         "name": "Estate, Puglia",
         "orientation": "v",
         "showlegend": true,
         "type": "scatter",
         "x": [
          2007,
          2007,
          2008,
          2008,
          2008,
          2008,
          2008,
          2008,
          2008,
          2008,
          2008,
          2013,
          2014,
          2014,
          2015,
          2015,
          2015,
          2015,
          2015,
          2015,
          2015,
          2015,
          2015,
          2016,
          2016,
          2016,
          2016,
          2016,
          2016,
          2016,
          2016,
          2016,
          2016,
          2016,
          2016,
          2016,
          2016,
          2016,
          2016,
          2016,
          2017,
          2017,
          2017,
          2017,
          2017,
          2017,
          2017,
          2017,
          2018,
          2018,
          2018,
          2018,
          2018,
          2018,
          2018,
          2018,
          2016,
          2016,
          2016,
          2016,
          2016,
          2016
         ],
         "xaxis": "x",
         "y": [
          46,
          60,
          41,
          45,
          39,
          57,
          46,
          54,
          54,
          55,
          48,
          50,
          55,
          54,
          71,
          52,
          38,
          76,
          54,
          64,
          49,
          70,
          36,
          15,
          30,
          30,
          63,
          35,
          70,
          29.5,
          40.5,
          63,
          60,
          70,
          40,
          40,
          50,
          69,
          38.5,
          55,
          54.5,
          61,
          39,
          36.5,
          52,
          26,
          24,
          67,
          51.7,
          41.5,
          60.5,
          3.9,
          58,
          45,
          58,
          60.5,
          37,
          80,
          61,
          39,
          55,
          81
         ],
         "yaxis": "y"
        },
        {
         "hovertemplate": "Stagione=Estate<br>Regione=Calabria<br>Anno=%{x}<br>Taglia=%{y}<extra></extra>",
         "legendgroup": "Estate, Calabria",
         "marker": {
          "color": "coral",
          "symbol": "diamond"
         },
         "mode": "markers",
         "name": "Estate, Calabria",
         "orientation": "v",
         "showlegend": true,
         "type": "scatter",
         "x": [
          2012,
          2014,
          2014,
          2015,
          2016,
          2012,
          2013,
          2014,
          2014,
          2014,
          2014,
          2015,
          2016,
          2008,
          2008,
          2008,
          2008,
          2014,
          2015,
          2016,
          2016,
          2016,
          2017,
          2018,
          2018,
          2012,
          2012,
          2012,
          2012,
          2012,
          2012,
          2012,
          2012,
          2012,
          2012,
          2012,
          2012,
          2012,
          2012,
          2012,
          2012,
          2012,
          2012,
          2012,
          2012,
          2017,
          2017
         ],
         "xaxis": "x",
         "y": [
          30,
          60,
          37,
          77,
          30,
          36,
          45,
          72,
          31,
          52,
          26,
          73,
          80,
          47,
          40,
          51,
          39,
          58.5,
          62,
          50,
          70,
          51.5,
          34,
          21,
          22,
          40,
          37,
          27,
          35,
          32,
          32,
          28,
          27,
          42,
          38,
          30,
          39,
          19,
          27,
          34,
          63,
          28,
          20,
          32,
          21,
          20,
          50
         ],
         "yaxis": "y"
        },
        {
         "hovertemplate": "Stagione=Estate<br>Regione=Basilicata<br>Anno=%{x}<br>Taglia=%{y}<extra></extra>",
         "legendgroup": "Estate, Basilicata",
         "marker": {
          "color": "coral",
          "symbol": "square"
         },
         "mode": "markers",
         "name": "Estate, Basilicata",
         "orientation": "v",
         "showlegend": true,
         "type": "scatter",
         "x": [
          2006,
          2006,
          2006,
          2006,
          2006,
          2006,
          2007,
          2007,
          2008,
          2008,
          2008,
          2008,
          2008,
          2008,
          2008,
          2008,
          2013,
          2013,
          2014,
          2014,
          2014,
          2015,
          2015,
          2015,
          2015,
          2015,
          2015,
          2015,
          2015,
          2015,
          2015,
          2015,
          2015,
          2015,
          2016,
          2016,
          2016,
          2016,
          2016,
          2016,
          2016,
          2016,
          2016,
          2016,
          2016,
          2016,
          2016,
          2016,
          2016,
          2016,
          2016,
          2016,
          2016,
          2016,
          2016,
          2016,
          2016,
          2016,
          2016,
          2017,
          2017,
          2017,
          2017,
          2017,
          2017,
          2017,
          2017,
          2017,
          2017,
          2017,
          2017,
          2017,
          2017,
          2017,
          2017,
          2017,
          2017,
          2017,
          2017,
          2017,
          2017,
          2017,
          2017,
          2017,
          2017,
          2018,
          2018,
          2018,
          2018,
          2018,
          2018,
          2018
         ],
         "xaxis": "x",
         "y": [
          45,
          52,
          24,
          41,
          55,
          50,
          50,
          47,
          47,
          52,
          56,
          50,
          34,
          38,
          50,
          41,
          58,
          51,
          63,
          40,
          48,
          35,
          55,
          69,
          41,
          70,
          32,
          56,
          47.5,
          76,
          49,
          54,
          56.5,
          40,
          75,
          50,
          50,
          63,
          56.5,
          78,
          29,
          45,
          40,
          55,
          57.5,
          40,
          41,
          40,
          58,
          49.5,
          27,
          55,
          57,
          29,
          62,
          63,
          29.5,
          72,
          48.5,
          41,
          44,
          59,
          48,
          6,
          67,
          42,
          51,
          61,
          49,
          66.5,
          51,
          61,
          73.5,
          52,
          56,
          61,
          57,
          41,
          71.5,
          64,
          22,
          52,
          60,
          29,
          58,
          57,
          30,
          62,
          61.5,
          50,
          53.5,
          69
         ],
         "yaxis": "y"
        }
       ],
       "layout": {
        "height": 700,
        "legend": {
         "title": {
          "text": "Stagione, Regione"
         },
         "tracegroupgap": 0
        },
        "margin": {
         "t": 60
        },
        "template": {
         "data": {
          "bar": [
           {
            "error_x": {
             "color": "#2a3f5f"
            },
            "error_y": {
             "color": "#2a3f5f"
            },
            "marker": {
             "line": {
              "color": "#E5ECF6",
              "width": 0.5
             }
            },
            "type": "bar"
           }
          ],
          "barpolar": [
           {
            "marker": {
             "line": {
              "color": "#E5ECF6",
              "width": 0.5
             }
            },
            "type": "barpolar"
           }
          ],
          "carpet": [
           {
            "aaxis": {
             "endlinecolor": "#2a3f5f",
             "gridcolor": "white",
             "linecolor": "white",
             "minorgridcolor": "white",
             "startlinecolor": "#2a3f5f"
            },
            "baxis": {
             "endlinecolor": "#2a3f5f",
             "gridcolor": "white",
             "linecolor": "white",
             "minorgridcolor": "white",
             "startlinecolor": "#2a3f5f"
            },
            "type": "carpet"
           }
          ],
          "choropleth": [
           {
            "colorbar": {
             "outlinewidth": 0,
             "ticks": ""
            },
            "type": "choropleth"
           }
          ],
          "contour": [
           {
            "colorbar": {
             "outlinewidth": 0,
             "ticks": ""
            },
            "colorscale": [
             [
              0,
              "#0d0887"
             ],
             [
              0.1111111111111111,
              "#46039f"
             ],
             [
              0.2222222222222222,
              "#7201a8"
             ],
             [
              0.3333333333333333,
              "#9c179e"
             ],
             [
              0.4444444444444444,
              "#bd3786"
             ],
             [
              0.5555555555555556,
              "#d8576b"
             ],
             [
              0.6666666666666666,
              "#ed7953"
             ],
             [
              0.7777777777777778,
              "#fb9f3a"
             ],
             [
              0.8888888888888888,
              "#fdca26"
             ],
             [
              1,
              "#f0f921"
             ]
            ],
            "type": "contour"
           }
          ],
          "contourcarpet": [
           {
            "colorbar": {
             "outlinewidth": 0,
             "ticks": ""
            },
            "type": "contourcarpet"
           }
          ],
          "heatmap": [
           {
            "colorbar": {
             "outlinewidth": 0,
             "ticks": ""
            },
            "colorscale": [
             [
              0,
              "#0d0887"
             ],
             [
              0.1111111111111111,
              "#46039f"
             ],
             [
              0.2222222222222222,
              "#7201a8"
             ],
             [
              0.3333333333333333,
              "#9c179e"
             ],
             [
              0.4444444444444444,
              "#bd3786"
             ],
             [
              0.5555555555555556,
              "#d8576b"
             ],
             [
              0.6666666666666666,
              "#ed7953"
             ],
             [
              0.7777777777777778,
              "#fb9f3a"
             ],
             [
              0.8888888888888888,
              "#fdca26"
             ],
             [
              1,
              "#f0f921"
             ]
            ],
            "type": "heatmap"
           }
          ],
          "heatmapgl": [
           {
            "colorbar": {
             "outlinewidth": 0,
             "ticks": ""
            },
            "colorscale": [
             [
              0,
              "#0d0887"
             ],
             [
              0.1111111111111111,
              "#46039f"
             ],
             [
              0.2222222222222222,
              "#7201a8"
             ],
             [
              0.3333333333333333,
              "#9c179e"
             ],
             [
              0.4444444444444444,
              "#bd3786"
             ],
             [
              0.5555555555555556,
              "#d8576b"
             ],
             [
              0.6666666666666666,
              "#ed7953"
             ],
             [
              0.7777777777777778,
              "#fb9f3a"
             ],
             [
              0.8888888888888888,
              "#fdca26"
             ],
             [
              1,
              "#f0f921"
             ]
            ],
            "type": "heatmapgl"
           }
          ],
          "histogram": [
           {
            "marker": {
             "colorbar": {
              "outlinewidth": 0,
              "ticks": ""
             }
            },
            "type": "histogram"
           }
          ],
          "histogram2d": [
           {
            "colorbar": {
             "outlinewidth": 0,
             "ticks": ""
            },
            "colorscale": [
             [
              0,
              "#0d0887"
             ],
             [
              0.1111111111111111,
              "#46039f"
             ],
             [
              0.2222222222222222,
              "#7201a8"
             ],
             [
              0.3333333333333333,
              "#9c179e"
             ],
             [
              0.4444444444444444,
              "#bd3786"
             ],
             [
              0.5555555555555556,
              "#d8576b"
             ],
             [
              0.6666666666666666,
              "#ed7953"
             ],
             [
              0.7777777777777778,
              "#fb9f3a"
             ],
             [
              0.8888888888888888,
              "#fdca26"
             ],
             [
              1,
              "#f0f921"
             ]
            ],
            "type": "histogram2d"
           }
          ],
          "histogram2dcontour": [
           {
            "colorbar": {
             "outlinewidth": 0,
             "ticks": ""
            },
            "colorscale": [
             [
              0,
              "#0d0887"
             ],
             [
              0.1111111111111111,
              "#46039f"
             ],
             [
              0.2222222222222222,
              "#7201a8"
             ],
             [
              0.3333333333333333,
              "#9c179e"
             ],
             [
              0.4444444444444444,
              "#bd3786"
             ],
             [
              0.5555555555555556,
              "#d8576b"
             ],
             [
              0.6666666666666666,
              "#ed7953"
             ],
             [
              0.7777777777777778,
              "#fb9f3a"
             ],
             [
              0.8888888888888888,
              "#fdca26"
             ],
             [
              1,
              "#f0f921"
             ]
            ],
            "type": "histogram2dcontour"
           }
          ],
          "mesh3d": [
           {
            "colorbar": {
             "outlinewidth": 0,
             "ticks": ""
            },
            "type": "mesh3d"
           }
          ],
          "parcoords": [
           {
            "line": {
             "colorbar": {
              "outlinewidth": 0,
              "ticks": ""
             }
            },
            "type": "parcoords"
           }
          ],
          "pie": [
           {
            "automargin": true,
            "type": "pie"
           }
          ],
          "scatter": [
           {
            "marker": {
             "colorbar": {
              "outlinewidth": 0,
              "ticks": ""
             }
            },
            "type": "scatter"
           }
          ],
          "scatter3d": [
           {
            "line": {
             "colorbar": {
              "outlinewidth": 0,
              "ticks": ""
             }
            },
            "marker": {
             "colorbar": {
              "outlinewidth": 0,
              "ticks": ""
             }
            },
            "type": "scatter3d"
           }
          ],
          "scattercarpet": [
           {
            "marker": {
             "colorbar": {
              "outlinewidth": 0,
              "ticks": ""
             }
            },
            "type": "scattercarpet"
           }
          ],
          "scattergeo": [
           {
            "marker": {
             "colorbar": {
              "outlinewidth": 0,
              "ticks": ""
             }
            },
            "type": "scattergeo"
           }
          ],
          "scattergl": [
           {
            "marker": {
             "colorbar": {
              "outlinewidth": 0,
              "ticks": ""
             }
            },
            "type": "scattergl"
           }
          ],
          "scattermapbox": [
           {
            "marker": {
             "colorbar": {
              "outlinewidth": 0,
              "ticks": ""
             }
            },
            "type": "scattermapbox"
           }
          ],
          "scatterpolar": [
           {
            "marker": {
             "colorbar": {
              "outlinewidth": 0,
              "ticks": ""
             }
            },
            "type": "scatterpolar"
           }
          ],
          "scatterpolargl": [
           {
            "marker": {
             "colorbar": {
              "outlinewidth": 0,
              "ticks": ""
             }
            },
            "type": "scatterpolargl"
           }
          ],
          "scatterternary": [
           {
            "marker": {
             "colorbar": {
              "outlinewidth": 0,
              "ticks": ""
             }
            },
            "type": "scatterternary"
           }
          ],
          "surface": [
           {
            "colorbar": {
             "outlinewidth": 0,
             "ticks": ""
            },
            "colorscale": [
             [
              0,
              "#0d0887"
             ],
             [
              0.1111111111111111,
              "#46039f"
             ],
             [
              0.2222222222222222,
              "#7201a8"
             ],
             [
              0.3333333333333333,
              "#9c179e"
             ],
             [
              0.4444444444444444,
              "#bd3786"
             ],
             [
              0.5555555555555556,
              "#d8576b"
             ],
             [
              0.6666666666666666,
              "#ed7953"
             ],
             [
              0.7777777777777778,
              "#fb9f3a"
             ],
             [
              0.8888888888888888,
              "#fdca26"
             ],
             [
              1,
              "#f0f921"
             ]
            ],
            "type": "surface"
           }
          ],
          "table": [
           {
            "cells": {
             "fill": {
              "color": "#EBF0F8"
             },
             "line": {
              "color": "white"
             }
            },
            "header": {
             "fill": {
              "color": "#C8D4E3"
             },
             "line": {
              "color": "white"
             }
            },
            "type": "table"
           }
          ]
         },
         "layout": {
          "annotationdefaults": {
           "arrowcolor": "#2a3f5f",
           "arrowhead": 0,
           "arrowwidth": 1
          },
          "coloraxis": {
           "colorbar": {
            "outlinewidth": 0,
            "ticks": ""
           }
          },
          "colorscale": {
           "diverging": [
            [
             0,
             "#8e0152"
            ],
            [
             0.1,
             "#c51b7d"
            ],
            [
             0.2,
             "#de77ae"
            ],
            [
             0.3,
             "#f1b6da"
            ],
            [
             0.4,
             "#fde0ef"
            ],
            [
             0.5,
             "#f7f7f7"
            ],
            [
             0.6,
             "#e6f5d0"
            ],
            [
             0.7,
             "#b8e186"
            ],
            [
             0.8,
             "#7fbc41"
            ],
            [
             0.9,
             "#4d9221"
            ],
            [
             1,
             "#276419"
            ]
           ],
           "sequential": [
            [
             0,
             "#0d0887"
            ],
            [
             0.1111111111111111,
             "#46039f"
            ],
            [
             0.2222222222222222,
             "#7201a8"
            ],
            [
             0.3333333333333333,
             "#9c179e"
            ],
            [
             0.4444444444444444,
             "#bd3786"
            ],
            [
             0.5555555555555556,
             "#d8576b"
            ],
            [
             0.6666666666666666,
             "#ed7953"
            ],
            [
             0.7777777777777778,
             "#fb9f3a"
            ],
            [
             0.8888888888888888,
             "#fdca26"
            ],
            [
             1,
             "#f0f921"
            ]
           ],
           "sequentialminus": [
            [
             0,
             "#0d0887"
            ],
            [
             0.1111111111111111,
             "#46039f"
            ],
            [
             0.2222222222222222,
             "#7201a8"
            ],
            [
             0.3333333333333333,
             "#9c179e"
            ],
            [
             0.4444444444444444,
             "#bd3786"
            ],
            [
             0.5555555555555556,
             "#d8576b"
            ],
            [
             0.6666666666666666,
             "#ed7953"
            ],
            [
             0.7777777777777778,
             "#fb9f3a"
            ],
            [
             0.8888888888888888,
             "#fdca26"
            ],
            [
             1,
             "#f0f921"
            ]
           ]
          },
          "colorway": [
           "#636efa",
           "#EF553B",
           "#00cc96",
           "#ab63fa",
           "#FFA15A",
           "#19d3f3",
           "#FF6692",
           "#B6E880",
           "#FF97FF",
           "#FECB52"
          ],
          "font": {
           "color": "#2a3f5f"
          },
          "geo": {
           "bgcolor": "white",
           "lakecolor": "white",
           "landcolor": "#E5ECF6",
           "showlakes": true,
           "showland": true,
           "subunitcolor": "white"
          },
          "hoverlabel": {
           "align": "left"
          },
          "hovermode": "closest",
          "mapbox": {
           "style": "light"
          },
          "paper_bgcolor": "white",
          "plot_bgcolor": "#E5ECF6",
          "polar": {
           "angularaxis": {
            "gridcolor": "white",
            "linecolor": "white",
            "ticks": ""
           },
           "bgcolor": "#E5ECF6",
           "radialaxis": {
            "gridcolor": "white",
            "linecolor": "white",
            "ticks": ""
           }
          },
          "scene": {
           "xaxis": {
            "backgroundcolor": "#E5ECF6",
            "gridcolor": "white",
            "gridwidth": 2,
            "linecolor": "white",
            "showbackground": true,
            "ticks": "",
            "zerolinecolor": "white"
           },
           "yaxis": {
            "backgroundcolor": "#E5ECF6",
            "gridcolor": "white",
            "gridwidth": 2,
            "linecolor": "white",
            "showbackground": true,
            "ticks": "",
            "zerolinecolor": "white"
           },
           "zaxis": {
            "backgroundcolor": "#E5ECF6",
            "gridcolor": "white",
            "gridwidth": 2,
            "linecolor": "white",
            "showbackground": true,
            "ticks": "",
            "zerolinecolor": "white"
           }
          },
          "shapedefaults": {
           "line": {
            "color": "#2a3f5f"
           }
          },
          "ternary": {
           "aaxis": {
            "gridcolor": "white",
            "linecolor": "white",
            "ticks": ""
           },
           "baxis": {
            "gridcolor": "white",
            "linecolor": "white",
            "ticks": ""
           },
           "bgcolor": "#E5ECF6",
           "caxis": {
            "gridcolor": "white",
            "linecolor": "white",
            "ticks": ""
           }
          },
          "title": {
           "x": 0.05
          },
          "xaxis": {
           "automargin": true,
           "gridcolor": "white",
           "linecolor": "white",
           "ticks": "",
           "title": {
            "standoff": 15
           },
           "zerolinecolor": "white",
           "zerolinewidth": 2
          },
          "yaxis": {
           "automargin": true,
           "gridcolor": "white",
           "linecolor": "white",
           "ticks": "",
           "title": {
            "standoff": 15
           },
           "zerolinecolor": "white",
           "zerolinewidth": 2
          }
         }
        },
        "xaxis": {
         "anchor": "y",
         "domain": [
          0,
          1
         ],
         "title": {
          "text": "Anno"
         }
        },
        "yaxis": {
         "anchor": "x",
         "domain": [
          0,
          1
         ],
         "title": {
          "text": "Taglia"
         }
        }
       }
      },
      "text/html": [
       "<div>\n",
       "        \n",
       "        \n",
       "            <div id=\"5e9696c8-b6ce-4c42-8cbe-9dd4642a208b\" class=\"plotly-graph-div\" style=\"height:700px; width:100%;\"></div>\n",
       "            <script type=\"text/javascript\">\n",
       "                require([\"plotly\"], function(Plotly) {\n",
       "                    window.PLOTLYENV=window.PLOTLYENV || {};\n",
       "                    \n",
       "                if (document.getElementById(\"5e9696c8-b6ce-4c42-8cbe-9dd4642a208b\")) {\n",
       "                    Plotly.newPlot(\n",
       "                        '5e9696c8-b6ce-4c42-8cbe-9dd4642a208b',\n",
       "                        [{\"hovertemplate\": \"Stagione=Autunno<br>Regione=Puglia<br>Anno=%{x}<br>Taglia=%{y}<extra></extra>\", \"legendgroup\": \"Autunno, Puglia\", \"marker\": {\"color\": \"goldenrod\", \"symbol\": \"circle\"}, \"mode\": \"markers\", \"name\": \"Autunno, Puglia\", \"orientation\": \"v\", \"showlegend\": true, \"type\": \"scatter\", \"x\": [2013, 2008, 2015, 2006, 2012, 2014, 2014, 2014, 2015, 2015, 2016, 2016, 2016, 2016, 2016, 2017, 2017, 2017, 2017, 2017], \"xaxis\": \"x\", \"y\": [58.0, 68.0, 40.0, 94.0, 26.0, 38.0, 60.0, 62.0, 3.0, 66.0, 43.0, 71.0, 54.0, 30.0, 23.0, 37.0, 62.0, 62.0, 65.0, 80.0], \"yaxis\": \"y\"}, {\"hovertemplate\": \"Stagione=Autunno<br>Regione=Calabria<br>Anno=%{x}<br>Taglia=%{y}<extra></extra>\", \"legendgroup\": \"Autunno, Calabria\", \"marker\": {\"color\": \"goldenrod\", \"symbol\": \"diamond\"}, \"mode\": \"markers\", \"name\": \"Autunno, Calabria\", \"orientation\": \"v\", \"showlegend\": true, \"type\": \"scatter\", \"x\": [2011, 2011, 2011, 2012, 2012, 2013, 2013, 2014, 2014, 2014, 2013, 2014, 2016], \"xaxis\": \"x\", \"y\": [19.0, 17.0, 40.0, 24.0, 29.0, 36.0, 32.0, 39.0, 39.0, 69.0, 67.0, 55.0, 80.0], \"yaxis\": \"y\"}, {\"hovertemplate\": \"Stagione=Autunno<br>Regione=Basilicata<br>Anno=%{x}<br>Taglia=%{y}<extra></extra>\", \"legendgroup\": \"Autunno, Basilicata\", \"marker\": {\"color\": \"goldenrod\", \"symbol\": \"square\"}, \"mode\": \"markers\", \"name\": \"Autunno, Basilicata\", \"orientation\": \"v\", \"showlegend\": true, \"type\": \"scatter\", \"x\": [2006, 2008, 2013, 2013, 2013, 2014, 2014, 2014, 2014, 2014, 2014, 2014, 2014, 2014, 2015, 2015, 2015, 2015, 2016, 2016, 2016, 2016, 2016, 2016, 2016, 2017, 2017, 2017, 2017, 2017, 2017, 2017, 2017, 2017, 2017, 2018, 2018, 2018, 2018], \"xaxis\": \"x\", \"y\": [62.0, 63.0, 49.0, 64.0, 49.0, 60.0, 55.0, 45.0, 35.0, 69.0, 46.0, 36.0, 48.0, 53.0, 76.0, 62.0, 39.5, 37.0, 35.5, 67.0, 48.0, 73.5, 65.0, 51.0, 50.0, 58.0, 50.0, 60.0, 38.0, 39.0, 52.5, 46.0, 34.5, 50.0, 61.0, 34.5, 64.0, 40.0, 54.0], \"yaxis\": \"y\"}, {\"hovertemplate\": \"Stagione=Inverno<br>Regione=Puglia<br>Anno=%{x}<br>Taglia=%{y}<extra></extra>\", \"legendgroup\": \"Inverno, Puglia\", \"marker\": {\"color\": \"lightskyblue\", \"symbol\": \"circle\"}, \"mode\": \"markers\", \"name\": \"Inverno, Puglia\", \"orientation\": \"v\", \"showlegend\": true, \"type\": \"scatter\", \"x\": [2014, 2014, 2014, 2014, 2015, 2015, 2015, 2015, 2016, 2017, 2017, 2017, 2017, 2017], \"xaxis\": \"x\", \"y\": [35.0, 50.0, 46.0, 6.5, 44.0, 9.0, 49.0, 23.0, 80.0, 74.0, 71.0, 73.0, 69.0, 86.0], \"yaxis\": \"y\"}, {\"hovertemplate\": \"Stagione=Inverno<br>Regione=Calabria<br>Anno=%{x}<br>Taglia=%{y}<extra></extra>\", \"legendgroup\": \"Inverno, Calabria\", \"marker\": {\"color\": \"lightskyblue\", \"symbol\": \"diamond\"}, \"mode\": \"markers\", \"name\": \"Inverno, Calabria\", \"orientation\": \"v\", \"showlegend\": true, \"type\": \"scatter\", \"x\": [2011, 2012, 2014], \"xaxis\": \"x\", \"y\": [79.0, 50.0, 70.0], \"yaxis\": \"y\"}, {\"hovertemplate\": \"Stagione=Inverno<br>Regione=Basilicata<br>Anno=%{x}<br>Taglia=%{y}<extra></extra>\", \"legendgroup\": \"Inverno, Basilicata\", \"marker\": {\"color\": \"lightskyblue\", \"symbol\": \"square\"}, \"mode\": \"markers\", \"name\": \"Inverno, Basilicata\", \"orientation\": \"v\", \"showlegend\": true, \"type\": \"scatter\", \"x\": [2014, 2015, 2016, 2017, 2017, 2017], \"xaxis\": \"x\", \"y\": [41.0, 63.0, 27.0, 61.0, 31.5, 65.0], \"yaxis\": \"y\"}, {\"hovertemplate\": \"Stagione=Primavera<br>Regione=Puglia<br>Anno=%{x}<br>Taglia=%{y}<extra></extra>\", \"legendgroup\": \"Primavera, Puglia\", \"marker\": {\"color\": \"palegreen\", \"symbol\": \"circle\"}, \"mode\": \"markers\", \"name\": \"Primavera, Puglia\", \"orientation\": \"v\", \"showlegend\": true, \"type\": \"scatter\", \"x\": [2016, 2013, 2013, 2013, 2013, 2013, 2013, 2015, 2015, 2015, 2015, 2016, 2016, 2016, 2017, 2017, 2017, 2017, 2018, 2018, 2018, 2018, 2018, 2018, 2018, 2018, 2018, 2018], \"xaxis\": \"x\", \"y\": [68.0, 34.5, 21.0, 30.0, 31.0, 27.5, 11.0, 29.0, 25.0, 56.0, 54.0, 61.0, 52.0, 60.0, 65.0, 84.0, 58.0, 66.5, 21.5, 59.0, 61.5, 63.0, 60.0, 52.0, 50.0, 60.0, 35.5, 49.5], \"yaxis\": \"y\"}, {\"hovertemplate\": \"Stagione=Primavera<br>Regione=Calabria<br>Anno=%{x}<br>Taglia=%{y}<extra></extra>\", \"legendgroup\": \"Primavera, Calabria\", \"marker\": {\"color\": \"palegreen\", \"symbol\": \"diamond\"}, \"mode\": \"markers\", \"name\": \"Primavera, Calabria\", \"orientation\": \"v\", \"showlegend\": true, \"type\": \"scatter\", \"x\": [2013, 2013, 2014, 2015, 2015, 2016, 2013, 2013, 2013, 2014, 2015, 2018], \"xaxis\": \"x\", \"y\": [60.0, 14.0, 31.0, 30.0, 67.0, 70.0, 80.0, 100.0, 60.0, 27.0, 63.0, 100.0], \"yaxis\": \"y\"}, {\"hovertemplate\": \"Stagione=Primavera<br>Regione=Basilicata<br>Anno=%{x}<br>Taglia=%{y}<extra></extra>\", \"legendgroup\": \"Primavera, Basilicata\", \"marker\": {\"color\": \"palegreen\", \"symbol\": \"square\"}, \"mode\": \"markers\", \"name\": \"Primavera, Basilicata\", \"orientation\": \"v\", \"showlegend\": true, \"type\": \"scatter\", \"x\": [2006, 2008, 2013, 2014, 2014, 2014, 2014, 2015, 2015, 2015, 2016, 2016, 2016, 2016, 2016, 2016, 2016, 2017, 2017, 2017, 2017, 2017, 2017, 2017, 2017, 2017, 2017, 2017], \"xaxis\": \"x\", \"y\": [48.0, 50.0, 9.0, 56.0, 49.0, 34.0, 60.0, 22.0, 64.5, 45.0, 68.0, 40.0, 55.5, 68.0, 22.5, 63.0, 47.0, 53.0, 59.0, 66.0, 64.0, 52.0, 58.0, 62.0, 60.0, 57.0, 43.0, 56.0], \"yaxis\": \"y\"}, {\"hovertemplate\": \"Stagione=Estate<br>Regione=Puglia<br>Anno=%{x}<br>Taglia=%{y}<extra></extra>\", \"legendgroup\": \"Estate, Puglia\", \"marker\": {\"color\": \"coral\", \"symbol\": \"circle\"}, \"mode\": \"markers\", \"name\": \"Estate, Puglia\", \"orientation\": \"v\", \"showlegend\": true, \"type\": \"scatter\", \"x\": [2007, 2007, 2008, 2008, 2008, 2008, 2008, 2008, 2008, 2008, 2008, 2013, 2014, 2014, 2015, 2015, 2015, 2015, 2015, 2015, 2015, 2015, 2015, 2016, 2016, 2016, 2016, 2016, 2016, 2016, 2016, 2016, 2016, 2016, 2016, 2016, 2016, 2016, 2016, 2016, 2017, 2017, 2017, 2017, 2017, 2017, 2017, 2017, 2018, 2018, 2018, 2018, 2018, 2018, 2018, 2018, 2016, 2016, 2016, 2016, 2016, 2016], \"xaxis\": \"x\", \"y\": [46.0, 60.0, 41.0, 45.0, 39.0, 57.0, 46.0, 54.0, 54.0, 55.0, 48.0, 50.0, 55.0, 54.0, 71.0, 52.0, 38.0, 76.0, 54.0, 64.0, 49.0, 70.0, 36.0, 15.0, 30.0, 30.0, 63.0, 35.0, 70.0, 29.5, 40.5, 63.0, 60.0, 70.0, 40.0, 40.0, 50.0, 69.0, 38.5, 55.0, 54.5, 61.0, 39.0, 36.5, 52.0, 26.0, 24.0, 67.0, 51.7, 41.5, 60.5, 3.9, 58.0, 45.0, 58.0, 60.5, 37.0, 80.0, 61.0, 39.0, 55.0, 81.0], \"yaxis\": \"y\"}, {\"hovertemplate\": \"Stagione=Estate<br>Regione=Calabria<br>Anno=%{x}<br>Taglia=%{y}<extra></extra>\", \"legendgroup\": \"Estate, Calabria\", \"marker\": {\"color\": \"coral\", \"symbol\": \"diamond\"}, \"mode\": \"markers\", \"name\": \"Estate, Calabria\", \"orientation\": \"v\", \"showlegend\": true, \"type\": \"scatter\", \"x\": [2012, 2014, 2014, 2015, 2016, 2012, 2013, 2014, 2014, 2014, 2014, 2015, 2016, 2008, 2008, 2008, 2008, 2014, 2015, 2016, 2016, 2016, 2017, 2018, 2018, 2012, 2012, 2012, 2012, 2012, 2012, 2012, 2012, 2012, 2012, 2012, 2012, 2012, 2012, 2012, 2012, 2012, 2012, 2012, 2012, 2017, 2017], \"xaxis\": \"x\", \"y\": [30.0, 60.0, 37.0, 77.0, 30.0, 36.0, 45.0, 72.0, 31.0, 52.0, 26.0, 73.0, 80.0, 47.0, 40.0, 51.0, 39.0, 58.5, 62.0, 50.0, 70.0, 51.5, 34.0, 21.0, 22.0, 40.0, 37.0, 27.0, 35.0, 32.0, 32.0, 28.0, 27.0, 42.0, 38.0, 30.0, 39.0, 19.0, 27.0, 34.0, 63.0, 28.0, 20.0, 32.0, 21.0, 20.0, 50.0], \"yaxis\": \"y\"}, {\"hovertemplate\": \"Stagione=Estate<br>Regione=Basilicata<br>Anno=%{x}<br>Taglia=%{y}<extra></extra>\", \"legendgroup\": \"Estate, Basilicata\", \"marker\": {\"color\": \"coral\", \"symbol\": \"square\"}, \"mode\": \"markers\", \"name\": \"Estate, Basilicata\", \"orientation\": \"v\", \"showlegend\": true, \"type\": \"scatter\", \"x\": [2006, 2006, 2006, 2006, 2006, 2006, 2007, 2007, 2008, 2008, 2008, 2008, 2008, 2008, 2008, 2008, 2013, 2013, 2014, 2014, 2014, 2015, 2015, 2015, 2015, 2015, 2015, 2015, 2015, 2015, 2015, 2015, 2015, 2015, 2016, 2016, 2016, 2016, 2016, 2016, 2016, 2016, 2016, 2016, 2016, 2016, 2016, 2016, 2016, 2016, 2016, 2016, 2016, 2016, 2016, 2016, 2016, 2016, 2016, 2017, 2017, 2017, 2017, 2017, 2017, 2017, 2017, 2017, 2017, 2017, 2017, 2017, 2017, 2017, 2017, 2017, 2017, 2017, 2017, 2017, 2017, 2017, 2017, 2017, 2017, 2018, 2018, 2018, 2018, 2018, 2018, 2018], \"xaxis\": \"x\", \"y\": [45.0, 52.0, 24.0, 41.0, 55.0, 50.0, 50.0, 47.0, 47.0, 52.0, 56.0, 50.0, 34.0, 38.0, 50.0, 41.0, 58.0, 51.0, 63.0, 40.0, 48.0, 35.0, 55.0, 69.0, 41.0, 70.0, 32.0, 56.0, 47.5, 76.0, 49.0, 54.0, 56.5, 40.0, 75.0, 50.0, 50.0, 63.0, 56.5, 78.0, 29.0, 45.0, 40.0, 55.0, 57.5, 40.0, 41.0, 40.0, 58.0, 49.5, 27.0, 55.0, 57.0, 29.0, 62.0, 63.0, 29.5, 72.0, 48.5, 41.0, 44.0, 59.0, 48.0, 6.0, 67.0, 42.0, 51.0, 61.0, 49.0, 66.5, 51.0, 61.0, 73.5, 52.0, 56.0, 61.0, 57.0, 41.0, 71.5, 64.0, 22.0, 52.0, 60.0, 29.0, 58.0, 57.0, 30.0, 62.0, 61.5, 50.0, 53.5, 69.0], \"yaxis\": \"y\"}],\n",
       "                        {\"height\": 700, \"legend\": {\"title\": {\"text\": \"Stagione, Regione\"}, \"tracegroupgap\": 0}, \"margin\": {\"t\": 60}, \"template\": {\"data\": {\"bar\": [{\"error_x\": {\"color\": \"#2a3f5f\"}, \"error_y\": {\"color\": \"#2a3f5f\"}, \"marker\": {\"line\": {\"color\": \"#E5ECF6\", \"width\": 0.5}}, \"type\": \"bar\"}], \"barpolar\": [{\"marker\": {\"line\": {\"color\": \"#E5ECF6\", \"width\": 0.5}}, \"type\": \"barpolar\"}], \"carpet\": [{\"aaxis\": {\"endlinecolor\": \"#2a3f5f\", \"gridcolor\": \"white\", \"linecolor\": \"white\", \"minorgridcolor\": \"white\", \"startlinecolor\": \"#2a3f5f\"}, \"baxis\": {\"endlinecolor\": \"#2a3f5f\", \"gridcolor\": \"white\", \"linecolor\": \"white\", \"minorgridcolor\": \"white\", \"startlinecolor\": \"#2a3f5f\"}, \"type\": \"carpet\"}], \"choropleth\": [{\"colorbar\": {\"outlinewidth\": 0, \"ticks\": \"\"}, \"type\": \"choropleth\"}], \"contour\": [{\"colorbar\": {\"outlinewidth\": 0, \"ticks\": \"\"}, \"colorscale\": [[0.0, \"#0d0887\"], [0.1111111111111111, \"#46039f\"], [0.2222222222222222, \"#7201a8\"], [0.3333333333333333, \"#9c179e\"], [0.4444444444444444, \"#bd3786\"], [0.5555555555555556, \"#d8576b\"], [0.6666666666666666, \"#ed7953\"], [0.7777777777777778, \"#fb9f3a\"], [0.8888888888888888, \"#fdca26\"], [1.0, \"#f0f921\"]], \"type\": \"contour\"}], \"contourcarpet\": [{\"colorbar\": {\"outlinewidth\": 0, \"ticks\": \"\"}, \"type\": \"contourcarpet\"}], \"heatmap\": [{\"colorbar\": {\"outlinewidth\": 0, \"ticks\": \"\"}, \"colorscale\": [[0.0, \"#0d0887\"], [0.1111111111111111, \"#46039f\"], [0.2222222222222222, \"#7201a8\"], [0.3333333333333333, \"#9c179e\"], [0.4444444444444444, \"#bd3786\"], [0.5555555555555556, \"#d8576b\"], [0.6666666666666666, \"#ed7953\"], [0.7777777777777778, \"#fb9f3a\"], [0.8888888888888888, \"#fdca26\"], [1.0, \"#f0f921\"]], \"type\": \"heatmap\"}], \"heatmapgl\": [{\"colorbar\": {\"outlinewidth\": 0, \"ticks\": \"\"}, \"colorscale\": [[0.0, \"#0d0887\"], [0.1111111111111111, \"#46039f\"], [0.2222222222222222, \"#7201a8\"], [0.3333333333333333, \"#9c179e\"], [0.4444444444444444, \"#bd3786\"], [0.5555555555555556, \"#d8576b\"], [0.6666666666666666, \"#ed7953\"], [0.7777777777777778, \"#fb9f3a\"], [0.8888888888888888, \"#fdca26\"], [1.0, \"#f0f921\"]], \"type\": \"heatmapgl\"}], \"histogram\": [{\"marker\": {\"colorbar\": {\"outlinewidth\": 0, \"ticks\": \"\"}}, \"type\": \"histogram\"}], \"histogram2d\": [{\"colorbar\": {\"outlinewidth\": 0, \"ticks\": \"\"}, \"colorscale\": [[0.0, \"#0d0887\"], [0.1111111111111111, \"#46039f\"], [0.2222222222222222, \"#7201a8\"], [0.3333333333333333, \"#9c179e\"], [0.4444444444444444, \"#bd3786\"], [0.5555555555555556, \"#d8576b\"], [0.6666666666666666, \"#ed7953\"], [0.7777777777777778, \"#fb9f3a\"], [0.8888888888888888, \"#fdca26\"], [1.0, \"#f0f921\"]], \"type\": \"histogram2d\"}], \"histogram2dcontour\": [{\"colorbar\": {\"outlinewidth\": 0, \"ticks\": \"\"}, \"colorscale\": [[0.0, \"#0d0887\"], [0.1111111111111111, \"#46039f\"], [0.2222222222222222, \"#7201a8\"], [0.3333333333333333, \"#9c179e\"], [0.4444444444444444, \"#bd3786\"], [0.5555555555555556, \"#d8576b\"], [0.6666666666666666, \"#ed7953\"], [0.7777777777777778, \"#fb9f3a\"], [0.8888888888888888, \"#fdca26\"], [1.0, \"#f0f921\"]], \"type\": \"histogram2dcontour\"}], \"mesh3d\": [{\"colorbar\": {\"outlinewidth\": 0, \"ticks\": \"\"}, \"type\": \"mesh3d\"}], \"parcoords\": [{\"line\": {\"colorbar\": {\"outlinewidth\": 0, \"ticks\": \"\"}}, \"type\": \"parcoords\"}], \"pie\": [{\"automargin\": true, \"type\": \"pie\"}], \"scatter\": [{\"marker\": {\"colorbar\": {\"outlinewidth\": 0, \"ticks\": \"\"}}, \"type\": \"scatter\"}], \"scatter3d\": [{\"line\": {\"colorbar\": {\"outlinewidth\": 0, \"ticks\": \"\"}}, \"marker\": {\"colorbar\": {\"outlinewidth\": 0, \"ticks\": \"\"}}, \"type\": \"scatter3d\"}], \"scattercarpet\": [{\"marker\": {\"colorbar\": {\"outlinewidth\": 0, \"ticks\": \"\"}}, \"type\": \"scattercarpet\"}], \"scattergeo\": [{\"marker\": {\"colorbar\": {\"outlinewidth\": 0, \"ticks\": \"\"}}, \"type\": \"scattergeo\"}], \"scattergl\": [{\"marker\": {\"colorbar\": {\"outlinewidth\": 0, \"ticks\": \"\"}}, \"type\": \"scattergl\"}], \"scattermapbox\": [{\"marker\": {\"colorbar\": {\"outlinewidth\": 0, \"ticks\": \"\"}}, \"type\": \"scattermapbox\"}], \"scatterpolar\": [{\"marker\": {\"colorbar\": {\"outlinewidth\": 0, \"ticks\": \"\"}}, \"type\": \"scatterpolar\"}], \"scatterpolargl\": [{\"marker\": {\"colorbar\": {\"outlinewidth\": 0, \"ticks\": \"\"}}, \"type\": \"scatterpolargl\"}], \"scatterternary\": [{\"marker\": {\"colorbar\": {\"outlinewidth\": 0, \"ticks\": \"\"}}, \"type\": \"scatterternary\"}], \"surface\": [{\"colorbar\": {\"outlinewidth\": 0, \"ticks\": \"\"}, \"colorscale\": [[0.0, \"#0d0887\"], [0.1111111111111111, \"#46039f\"], [0.2222222222222222, \"#7201a8\"], [0.3333333333333333, \"#9c179e\"], [0.4444444444444444, \"#bd3786\"], [0.5555555555555556, \"#d8576b\"], [0.6666666666666666, \"#ed7953\"], [0.7777777777777778, \"#fb9f3a\"], [0.8888888888888888, \"#fdca26\"], [1.0, \"#f0f921\"]], \"type\": \"surface\"}], \"table\": [{\"cells\": {\"fill\": {\"color\": \"#EBF0F8\"}, \"line\": {\"color\": \"white\"}}, \"header\": {\"fill\": {\"color\": \"#C8D4E3\"}, \"line\": {\"color\": \"white\"}}, \"type\": \"table\"}]}, \"layout\": {\"annotationdefaults\": {\"arrowcolor\": \"#2a3f5f\", \"arrowhead\": 0, \"arrowwidth\": 1}, \"coloraxis\": {\"colorbar\": {\"outlinewidth\": 0, \"ticks\": \"\"}}, \"colorscale\": {\"diverging\": [[0, \"#8e0152\"], [0.1, \"#c51b7d\"], [0.2, \"#de77ae\"], [0.3, \"#f1b6da\"], [0.4, \"#fde0ef\"], [0.5, \"#f7f7f7\"], [0.6, \"#e6f5d0\"], [0.7, \"#b8e186\"], [0.8, \"#7fbc41\"], [0.9, \"#4d9221\"], [1, \"#276419\"]], \"sequential\": [[0.0, \"#0d0887\"], [0.1111111111111111, \"#46039f\"], [0.2222222222222222, \"#7201a8\"], [0.3333333333333333, \"#9c179e\"], [0.4444444444444444, \"#bd3786\"], [0.5555555555555556, \"#d8576b\"], [0.6666666666666666, \"#ed7953\"], [0.7777777777777778, \"#fb9f3a\"], [0.8888888888888888, \"#fdca26\"], [1.0, \"#f0f921\"]], \"sequentialminus\": [[0.0, \"#0d0887\"], [0.1111111111111111, \"#46039f\"], [0.2222222222222222, \"#7201a8\"], [0.3333333333333333, \"#9c179e\"], [0.4444444444444444, \"#bd3786\"], [0.5555555555555556, \"#d8576b\"], [0.6666666666666666, \"#ed7953\"], [0.7777777777777778, \"#fb9f3a\"], [0.8888888888888888, \"#fdca26\"], [1.0, \"#f0f921\"]]}, \"colorway\": [\"#636efa\", \"#EF553B\", \"#00cc96\", \"#ab63fa\", \"#FFA15A\", \"#19d3f3\", \"#FF6692\", \"#B6E880\", \"#FF97FF\", \"#FECB52\"], \"font\": {\"color\": \"#2a3f5f\"}, \"geo\": {\"bgcolor\": \"white\", \"lakecolor\": \"white\", \"landcolor\": \"#E5ECF6\", \"showlakes\": true, \"showland\": true, \"subunitcolor\": \"white\"}, \"hoverlabel\": {\"align\": \"left\"}, \"hovermode\": \"closest\", \"mapbox\": {\"style\": \"light\"}, \"paper_bgcolor\": \"white\", \"plot_bgcolor\": \"#E5ECF6\", \"polar\": {\"angularaxis\": {\"gridcolor\": \"white\", \"linecolor\": \"white\", \"ticks\": \"\"}, \"bgcolor\": \"#E5ECF6\", \"radialaxis\": {\"gridcolor\": \"white\", \"linecolor\": \"white\", \"ticks\": \"\"}}, \"scene\": {\"xaxis\": {\"backgroundcolor\": \"#E5ECF6\", \"gridcolor\": \"white\", \"gridwidth\": 2, \"linecolor\": \"white\", \"showbackground\": true, \"ticks\": \"\", \"zerolinecolor\": \"white\"}, \"yaxis\": {\"backgroundcolor\": \"#E5ECF6\", \"gridcolor\": \"white\", \"gridwidth\": 2, \"linecolor\": \"white\", \"showbackground\": true, \"ticks\": \"\", \"zerolinecolor\": \"white\"}, \"zaxis\": {\"backgroundcolor\": \"#E5ECF6\", \"gridcolor\": \"white\", \"gridwidth\": 2, \"linecolor\": \"white\", \"showbackground\": true, \"ticks\": \"\", \"zerolinecolor\": \"white\"}}, \"shapedefaults\": {\"line\": {\"color\": \"#2a3f5f\"}}, \"ternary\": {\"aaxis\": {\"gridcolor\": \"white\", \"linecolor\": \"white\", \"ticks\": \"\"}, \"baxis\": {\"gridcolor\": \"white\", \"linecolor\": \"white\", \"ticks\": \"\"}, \"bgcolor\": \"#E5ECF6\", \"caxis\": {\"gridcolor\": \"white\", \"linecolor\": \"white\", \"ticks\": \"\"}}, \"title\": {\"x\": 0.05}, \"xaxis\": {\"automargin\": true, \"gridcolor\": \"white\", \"linecolor\": \"white\", \"ticks\": \"\", \"title\": {\"standoff\": 15}, \"zerolinecolor\": \"white\", \"zerolinewidth\": 2}, \"yaxis\": {\"automargin\": true, \"gridcolor\": \"white\", \"linecolor\": \"white\", \"ticks\": \"\", \"title\": {\"standoff\": 15}, \"zerolinecolor\": \"white\", \"zerolinewidth\": 2}}}, \"xaxis\": {\"anchor\": \"y\", \"domain\": [0.0, 1.0], \"title\": {\"text\": \"Anno\"}}, \"yaxis\": {\"anchor\": \"x\", \"domain\": [0.0, 1.0], \"title\": {\"text\": \"Taglia\"}}},\n",
       "                        {\"responsive\": true}\n",
       "                    ).then(function(){\n",
       "                            \n",
       "var gd = document.getElementById('5e9696c8-b6ce-4c42-8cbe-9dd4642a208b');\n",
       "var x = new MutationObserver(function (mutations, observer) {{\n",
       "        var display = window.getComputedStyle(gd).display;\n",
       "        if (!display || display === 'none') {{\n",
       "            console.log([gd, 'removed!']);\n",
       "            Plotly.purge(gd);\n",
       "            observer.disconnect();\n",
       "        }}\n",
       "}});\n",
       "\n",
       "// Listen for the removal of the full notebook cells\n",
       "var notebookContainer = gd.closest('#notebook-container');\n",
       "if (notebookContainer) {{\n",
       "    x.observe(notebookContainer, {childList: true});\n",
       "}}\n",
       "\n",
       "// Listen for the clearing of the current output cell\n",
       "var outputEl = gd.closest('.output');\n",
       "if (outputEl) {{\n",
       "    x.observe(outputEl, {childList: true});\n",
       "}}\n",
       "\n",
       "                        })\n",
       "                };\n",
       "                });\n",
       "            </script>\n",
       "        </div>"
      ]
     },
     "metadata": {},
     "output_type": "display_data"
    }
   ],
   "source": [
    "px.scatter(df,\n",
    "           x='Anno',\n",
    "           y='Taglia',\n",
    "           color='Stagione',\n",
    "           symbol='Regione',\n",
    "           height=700,\n",
    "           color_discrete_map={\n",
    "               'Autunno': 'goldenrod',\n",
    "               'Inverno': 'lightskyblue',\n",
    "               'Primavera': 'palegreen',\n",
    "               'Estate': 'coral'})"
   ]
  },
  {
   "cell_type": "code",
   "execution_count": 17,
   "metadata": {},
   "outputs": [
    {
     "data": {
      "application/vnd.plotly.v1+json": {
       "config": {
        "plotlyServerURL": "https://plot.ly"
       },
       "data": [
        {
         "alignmentgroup": "True",
         "hovertemplate": "Regione=%{x}<br>Taglia=%{y}<extra></extra>",
         "legendgroup": "",
         "marker": {
          "color": "#636efa"
         },
         "name": "",
         "notched": false,
         "offsetgroup": "",
         "orientation": "v",
         "showlegend": false,
         "type": "box",
         "x": [
          "Puglia",
          "Puglia",
          "Puglia",
          "Puglia",
          "Puglia",
          "Puglia",
          "Puglia",
          "Puglia",
          "Puglia",
          "Puglia",
          "Puglia",
          "Puglia",
          "Puglia",
          "Puglia",
          "Puglia",
          "Puglia",
          "Puglia",
          "Puglia",
          "Puglia",
          "Puglia",
          "Puglia",
          "Puglia",
          "Puglia",
          "Puglia",
          "Puglia",
          "Puglia",
          "Puglia",
          "Puglia",
          "Puglia",
          "Puglia",
          "Puglia",
          "Puglia",
          "Puglia",
          "Puglia",
          "Puglia",
          "Puglia",
          "Puglia",
          "Puglia",
          "Puglia",
          "Puglia",
          "Puglia",
          "Puglia",
          "Puglia",
          "Puglia",
          "Puglia",
          "Puglia",
          "Puglia",
          "Puglia",
          "Puglia",
          "Puglia",
          "Puglia",
          "Puglia",
          "Puglia",
          "Puglia",
          "Puglia",
          "Puglia",
          "Puglia",
          "Puglia",
          "Puglia",
          "Puglia",
          "Puglia",
          "Puglia",
          "Puglia",
          "Puglia",
          "Puglia",
          "Puglia",
          "Puglia",
          "Puglia",
          "Puglia",
          "Puglia",
          "Puglia",
          "Puglia",
          "Puglia",
          "Puglia",
          "Puglia",
          "Puglia",
          "Puglia",
          "Puglia",
          "Puglia",
          "Puglia",
          "Puglia",
          "Puglia",
          "Puglia",
          "Puglia",
          "Puglia",
          "Puglia",
          "Puglia",
          "Puglia",
          "Puglia",
          "Puglia",
          "Puglia",
          "Puglia",
          "Puglia",
          "Puglia",
          "Puglia",
          "Puglia",
          "Puglia",
          "Puglia",
          "Puglia",
          "Puglia",
          "Puglia",
          "Puglia",
          "Puglia",
          "Puglia",
          "Puglia",
          "Puglia",
          "Puglia",
          "Puglia",
          "Puglia",
          "Puglia",
          "Puglia",
          "Puglia",
          "Puglia",
          "Puglia",
          "Puglia",
          "Puglia",
          "Puglia",
          "Puglia",
          "Puglia",
          "Puglia",
          "Puglia",
          "Puglia",
          "Puglia",
          "Puglia",
          "Calabria",
          "Calabria",
          "Calabria",
          "Calabria",
          "Calabria",
          "Calabria",
          "Calabria",
          "Calabria",
          "Calabria",
          "Calabria",
          "Calabria",
          "Calabria",
          "Calabria",
          "Calabria",
          "Calabria",
          "Calabria",
          "Calabria",
          "Calabria",
          "Calabria",
          "Calabria",
          "Calabria",
          "Calabria",
          "Calabria",
          "Calabria",
          "Calabria",
          "Calabria",
          "Calabria",
          "Calabria",
          "Calabria",
          "Calabria",
          "Calabria",
          "Calabria",
          "Calabria",
          "Calabria",
          "Calabria",
          "Calabria",
          "Calabria",
          "Calabria",
          "Calabria",
          "Calabria",
          "Calabria",
          "Calabria",
          "Calabria",
          "Calabria",
          "Calabria",
          "Calabria",
          "Calabria",
          "Calabria",
          "Calabria",
          "Calabria",
          "Calabria",
          "Calabria",
          "Calabria",
          "Calabria",
          "Calabria",
          "Calabria",
          "Calabria",
          "Calabria",
          "Calabria",
          "Calabria",
          "Calabria",
          "Calabria",
          "Calabria",
          "Calabria",
          "Calabria",
          "Calabria",
          "Calabria",
          "Calabria",
          "Calabria",
          "Calabria",
          "Calabria",
          "Calabria",
          "Calabria",
          "Calabria",
          "Calabria",
          "Basilicata",
          "Basilicata",
          "Basilicata",
          "Basilicata",
          "Basilicata",
          "Basilicata",
          "Basilicata",
          "Basilicata",
          "Basilicata",
          "Basilicata",
          "Basilicata",
          "Basilicata",
          "Basilicata",
          "Basilicata",
          "Basilicata",
          "Basilicata",
          "Basilicata",
          "Basilicata",
          "Basilicata",
          "Basilicata",
          "Basilicata",
          "Basilicata",
          "Basilicata",
          "Basilicata",
          "Basilicata",
          "Basilicata",
          "Basilicata",
          "Basilicata",
          "Basilicata",
          "Basilicata",
          "Basilicata",
          "Basilicata",
          "Basilicata",
          "Basilicata",
          "Basilicata",
          "Basilicata",
          "Basilicata",
          "Basilicata",
          "Basilicata",
          "Basilicata",
          "Basilicata",
          "Basilicata",
          "Basilicata",
          "Basilicata",
          "Basilicata",
          "Basilicata",
          "Basilicata",
          "Basilicata",
          "Basilicata",
          "Basilicata",
          "Basilicata",
          "Basilicata",
          "Basilicata",
          "Basilicata",
          "Basilicata",
          "Basilicata",
          "Basilicata",
          "Basilicata",
          "Basilicata",
          "Basilicata",
          "Basilicata",
          "Basilicata",
          "Basilicata",
          "Basilicata",
          "Basilicata",
          "Basilicata",
          "Basilicata",
          "Basilicata",
          "Basilicata",
          "Basilicata",
          "Basilicata",
          "Basilicata",
          "Basilicata",
          "Basilicata",
          "Basilicata",
          "Basilicata",
          "Basilicata",
          "Basilicata",
          "Basilicata",
          "Basilicata",
          "Basilicata",
          "Basilicata",
          "Basilicata",
          "Basilicata",
          "Basilicata",
          "Basilicata",
          "Basilicata",
          "Basilicata",
          "Basilicata",
          "Basilicata",
          "Basilicata",
          "Basilicata",
          "Basilicata",
          "Basilicata",
          "Basilicata",
          "Basilicata",
          "Basilicata",
          "Basilicata",
          "Basilicata",
          "Basilicata",
          "Basilicata",
          "Basilicata",
          "Basilicata",
          "Basilicata",
          "Basilicata",
          "Basilicata",
          "Basilicata",
          "Basilicata",
          "Basilicata",
          "Basilicata",
          "Basilicata",
          "Basilicata",
          "Basilicata",
          "Basilicata",
          "Basilicata",
          "Basilicata",
          "Basilicata",
          "Basilicata",
          "Basilicata",
          "Basilicata",
          "Basilicata",
          "Basilicata",
          "Basilicata",
          "Basilicata",
          "Basilicata",
          "Basilicata",
          "Basilicata",
          "Basilicata",
          "Basilicata",
          "Basilicata",
          "Basilicata",
          "Basilicata",
          "Basilicata",
          "Basilicata",
          "Basilicata",
          "Basilicata",
          "Basilicata",
          "Basilicata",
          "Basilicata",
          "Basilicata",
          "Basilicata",
          "Basilicata",
          "Basilicata",
          "Basilicata",
          "Basilicata",
          "Basilicata",
          "Basilicata",
          "Basilicata",
          "Basilicata",
          "Basilicata",
          "Basilicata",
          "Basilicata",
          "Basilicata",
          "Basilicata",
          "Basilicata",
          "Basilicata",
          "Basilicata",
          "Basilicata",
          "Basilicata",
          "Basilicata",
          "Basilicata",
          "Basilicata",
          "Basilicata",
          "Basilicata",
          "Basilicata"
         ],
         "x0": " ",
         "xaxis": "x",
         "y": [
          58,
          68,
          35,
          40,
          68,
          94,
          46,
          60,
          41,
          45,
          39,
          57,
          46,
          54,
          54,
          55,
          48,
          26,
          50,
          34.5,
          21,
          30,
          31,
          27.5,
          11,
          38,
          60,
          62,
          55,
          54,
          50,
          46,
          6.5,
          3,
          66,
          71,
          52,
          38,
          76,
          54,
          64,
          49,
          70,
          36,
          29,
          25,
          56,
          54,
          44,
          9,
          49,
          23,
          43,
          71,
          54,
          30,
          23,
          15,
          30,
          30,
          63,
          35,
          70,
          29.5,
          40.5,
          63,
          60,
          70,
          40,
          40,
          50,
          69,
          38.5,
          55,
          61,
          52,
          60,
          80,
          37,
          62,
          62,
          65,
          80,
          54.5,
          61,
          39,
          36.5,
          52,
          26,
          24,
          67,
          65,
          84,
          58,
          66.5,
          74,
          71,
          73,
          51.7,
          41.5,
          60.5,
          3.9,
          21.5,
          59,
          61.5,
          63,
          60,
          52,
          50,
          60,
          35.5,
          49.5,
          58,
          45,
          58,
          60.5,
          37,
          80,
          61,
          39,
          55,
          81,
          69,
          86,
          19,
          17,
          40,
          24,
          29,
          30,
          36,
          32,
          60,
          14,
          39,
          39,
          60,
          37,
          31,
          77,
          30,
          67,
          30,
          70,
          79,
          36,
          50,
          45,
          80,
          100,
          60,
          69,
          72,
          31,
          52,
          26,
          27,
          70,
          73,
          63,
          80,
          47,
          40,
          51,
          39,
          67,
          55,
          58.5,
          62,
          80,
          50,
          70,
          51.5,
          34,
          21,
          22,
          100,
          40,
          37,
          27,
          35,
          32,
          32,
          28,
          27,
          42,
          38,
          30,
          39,
          19,
          27,
          34,
          63,
          28,
          20,
          32,
          21,
          20,
          50,
          62,
          45,
          52,
          24,
          41,
          55,
          50,
          48,
          50,
          47,
          63,
          47,
          52,
          56,
          50,
          34,
          38,
          50,
          41,
          50,
          49,
          64,
          49,
          58,
          51,
          9,
          60,
          55,
          45,
          35,
          69,
          46,
          36,
          48,
          53,
          63,
          40,
          48,
          56,
          49,
          34,
          60,
          41,
          76,
          62,
          39.5,
          37,
          35,
          55,
          69,
          41,
          70,
          32,
          56,
          47.5,
          76,
          49,
          54,
          56.5,
          40,
          22,
          64.5,
          45,
          63,
          35.5,
          67,
          48,
          73.5,
          65,
          51,
          50,
          75,
          50,
          50,
          63,
          56.5,
          78,
          29,
          45,
          40,
          55,
          57.5,
          40,
          41,
          40,
          58,
          49.5,
          27,
          55,
          57,
          29,
          62,
          63,
          29.5,
          72,
          48.5,
          68,
          40,
          55.5,
          68,
          22.5,
          63,
          47,
          27,
          58,
          50,
          60,
          38,
          39,
          52.5,
          46,
          34.5,
          50,
          61,
          41,
          44,
          59,
          48,
          6,
          67,
          42,
          51,
          61,
          49,
          66.5,
          51,
          61,
          73.5,
          52,
          56,
          61,
          57,
          41,
          71.5,
          64,
          22,
          52,
          60,
          29,
          58,
          53,
          59,
          66,
          64,
          52,
          58,
          62,
          60,
          57,
          43,
          56,
          61,
          31.5,
          65,
          57,
          30,
          34.5,
          64,
          40,
          54,
          62,
          61.5,
          50,
          53.5,
          69
         ],
         "y0": " ",
         "yaxis": "y"
        }
       ],
       "layout": {
        "boxmode": "group",
        "legend": {
         "tracegroupgap": 0
        },
        "margin": {
         "t": 60
        },
        "template": {
         "data": {
          "bar": [
           {
            "error_x": {
             "color": "#2a3f5f"
            },
            "error_y": {
             "color": "#2a3f5f"
            },
            "marker": {
             "line": {
              "color": "#E5ECF6",
              "width": 0.5
             }
            },
            "type": "bar"
           }
          ],
          "barpolar": [
           {
            "marker": {
             "line": {
              "color": "#E5ECF6",
              "width": 0.5
             }
            },
            "type": "barpolar"
           }
          ],
          "carpet": [
           {
            "aaxis": {
             "endlinecolor": "#2a3f5f",
             "gridcolor": "white",
             "linecolor": "white",
             "minorgridcolor": "white",
             "startlinecolor": "#2a3f5f"
            },
            "baxis": {
             "endlinecolor": "#2a3f5f",
             "gridcolor": "white",
             "linecolor": "white",
             "minorgridcolor": "white",
             "startlinecolor": "#2a3f5f"
            },
            "type": "carpet"
           }
          ],
          "choropleth": [
           {
            "colorbar": {
             "outlinewidth": 0,
             "ticks": ""
            },
            "type": "choropleth"
           }
          ],
          "contour": [
           {
            "colorbar": {
             "outlinewidth": 0,
             "ticks": ""
            },
            "colorscale": [
             [
              0,
              "#0d0887"
             ],
             [
              0.1111111111111111,
              "#46039f"
             ],
             [
              0.2222222222222222,
              "#7201a8"
             ],
             [
              0.3333333333333333,
              "#9c179e"
             ],
             [
              0.4444444444444444,
              "#bd3786"
             ],
             [
              0.5555555555555556,
              "#d8576b"
             ],
             [
              0.6666666666666666,
              "#ed7953"
             ],
             [
              0.7777777777777778,
              "#fb9f3a"
             ],
             [
              0.8888888888888888,
              "#fdca26"
             ],
             [
              1,
              "#f0f921"
             ]
            ],
            "type": "contour"
           }
          ],
          "contourcarpet": [
           {
            "colorbar": {
             "outlinewidth": 0,
             "ticks": ""
            },
            "type": "contourcarpet"
           }
          ],
          "heatmap": [
           {
            "colorbar": {
             "outlinewidth": 0,
             "ticks": ""
            },
            "colorscale": [
             [
              0,
              "#0d0887"
             ],
             [
              0.1111111111111111,
              "#46039f"
             ],
             [
              0.2222222222222222,
              "#7201a8"
             ],
             [
              0.3333333333333333,
              "#9c179e"
             ],
             [
              0.4444444444444444,
              "#bd3786"
             ],
             [
              0.5555555555555556,
              "#d8576b"
             ],
             [
              0.6666666666666666,
              "#ed7953"
             ],
             [
              0.7777777777777778,
              "#fb9f3a"
             ],
             [
              0.8888888888888888,
              "#fdca26"
             ],
             [
              1,
              "#f0f921"
             ]
            ],
            "type": "heatmap"
           }
          ],
          "heatmapgl": [
           {
            "colorbar": {
             "outlinewidth": 0,
             "ticks": ""
            },
            "colorscale": [
             [
              0,
              "#0d0887"
             ],
             [
              0.1111111111111111,
              "#46039f"
             ],
             [
              0.2222222222222222,
              "#7201a8"
             ],
             [
              0.3333333333333333,
              "#9c179e"
             ],
             [
              0.4444444444444444,
              "#bd3786"
             ],
             [
              0.5555555555555556,
              "#d8576b"
             ],
             [
              0.6666666666666666,
              "#ed7953"
             ],
             [
              0.7777777777777778,
              "#fb9f3a"
             ],
             [
              0.8888888888888888,
              "#fdca26"
             ],
             [
              1,
              "#f0f921"
             ]
            ],
            "type": "heatmapgl"
           }
          ],
          "histogram": [
           {
            "marker": {
             "colorbar": {
              "outlinewidth": 0,
              "ticks": ""
             }
            },
            "type": "histogram"
           }
          ],
          "histogram2d": [
           {
            "colorbar": {
             "outlinewidth": 0,
             "ticks": ""
            },
            "colorscale": [
             [
              0,
              "#0d0887"
             ],
             [
              0.1111111111111111,
              "#46039f"
             ],
             [
              0.2222222222222222,
              "#7201a8"
             ],
             [
              0.3333333333333333,
              "#9c179e"
             ],
             [
              0.4444444444444444,
              "#bd3786"
             ],
             [
              0.5555555555555556,
              "#d8576b"
             ],
             [
              0.6666666666666666,
              "#ed7953"
             ],
             [
              0.7777777777777778,
              "#fb9f3a"
             ],
             [
              0.8888888888888888,
              "#fdca26"
             ],
             [
              1,
              "#f0f921"
             ]
            ],
            "type": "histogram2d"
           }
          ],
          "histogram2dcontour": [
           {
            "colorbar": {
             "outlinewidth": 0,
             "ticks": ""
            },
            "colorscale": [
             [
              0,
              "#0d0887"
             ],
             [
              0.1111111111111111,
              "#46039f"
             ],
             [
              0.2222222222222222,
              "#7201a8"
             ],
             [
              0.3333333333333333,
              "#9c179e"
             ],
             [
              0.4444444444444444,
              "#bd3786"
             ],
             [
              0.5555555555555556,
              "#d8576b"
             ],
             [
              0.6666666666666666,
              "#ed7953"
             ],
             [
              0.7777777777777778,
              "#fb9f3a"
             ],
             [
              0.8888888888888888,
              "#fdca26"
             ],
             [
              1,
              "#f0f921"
             ]
            ],
            "type": "histogram2dcontour"
           }
          ],
          "mesh3d": [
           {
            "colorbar": {
             "outlinewidth": 0,
             "ticks": ""
            },
            "type": "mesh3d"
           }
          ],
          "parcoords": [
           {
            "line": {
             "colorbar": {
              "outlinewidth": 0,
              "ticks": ""
             }
            },
            "type": "parcoords"
           }
          ],
          "pie": [
           {
            "automargin": true,
            "type": "pie"
           }
          ],
          "scatter": [
           {
            "marker": {
             "colorbar": {
              "outlinewidth": 0,
              "ticks": ""
             }
            },
            "type": "scatter"
           }
          ],
          "scatter3d": [
           {
            "line": {
             "colorbar": {
              "outlinewidth": 0,
              "ticks": ""
             }
            },
            "marker": {
             "colorbar": {
              "outlinewidth": 0,
              "ticks": ""
             }
            },
            "type": "scatter3d"
           }
          ],
          "scattercarpet": [
           {
            "marker": {
             "colorbar": {
              "outlinewidth": 0,
              "ticks": ""
             }
            },
            "type": "scattercarpet"
           }
          ],
          "scattergeo": [
           {
            "marker": {
             "colorbar": {
              "outlinewidth": 0,
              "ticks": ""
             }
            },
            "type": "scattergeo"
           }
          ],
          "scattergl": [
           {
            "marker": {
             "colorbar": {
              "outlinewidth": 0,
              "ticks": ""
             }
            },
            "type": "scattergl"
           }
          ],
          "scattermapbox": [
           {
            "marker": {
             "colorbar": {
              "outlinewidth": 0,
              "ticks": ""
             }
            },
            "type": "scattermapbox"
           }
          ],
          "scatterpolar": [
           {
            "marker": {
             "colorbar": {
              "outlinewidth": 0,
              "ticks": ""
             }
            },
            "type": "scatterpolar"
           }
          ],
          "scatterpolargl": [
           {
            "marker": {
             "colorbar": {
              "outlinewidth": 0,
              "ticks": ""
             }
            },
            "type": "scatterpolargl"
           }
          ],
          "scatterternary": [
           {
            "marker": {
             "colorbar": {
              "outlinewidth": 0,
              "ticks": ""
             }
            },
            "type": "scatterternary"
           }
          ],
          "surface": [
           {
            "colorbar": {
             "outlinewidth": 0,
             "ticks": ""
            },
            "colorscale": [
             [
              0,
              "#0d0887"
             ],
             [
              0.1111111111111111,
              "#46039f"
             ],
             [
              0.2222222222222222,
              "#7201a8"
             ],
             [
              0.3333333333333333,
              "#9c179e"
             ],
             [
              0.4444444444444444,
              "#bd3786"
             ],
             [
              0.5555555555555556,
              "#d8576b"
             ],
             [
              0.6666666666666666,
              "#ed7953"
             ],
             [
              0.7777777777777778,
              "#fb9f3a"
             ],
             [
              0.8888888888888888,
              "#fdca26"
             ],
             [
              1,
              "#f0f921"
             ]
            ],
            "type": "surface"
           }
          ],
          "table": [
           {
            "cells": {
             "fill": {
              "color": "#EBF0F8"
             },
             "line": {
              "color": "white"
             }
            },
            "header": {
             "fill": {
              "color": "#C8D4E3"
             },
             "line": {
              "color": "white"
             }
            },
            "type": "table"
           }
          ]
         },
         "layout": {
          "annotationdefaults": {
           "arrowcolor": "#2a3f5f",
           "arrowhead": 0,
           "arrowwidth": 1
          },
          "coloraxis": {
           "colorbar": {
            "outlinewidth": 0,
            "ticks": ""
           }
          },
          "colorscale": {
           "diverging": [
            [
             0,
             "#8e0152"
            ],
            [
             0.1,
             "#c51b7d"
            ],
            [
             0.2,
             "#de77ae"
            ],
            [
             0.3,
             "#f1b6da"
            ],
            [
             0.4,
             "#fde0ef"
            ],
            [
             0.5,
             "#f7f7f7"
            ],
            [
             0.6,
             "#e6f5d0"
            ],
            [
             0.7,
             "#b8e186"
            ],
            [
             0.8,
             "#7fbc41"
            ],
            [
             0.9,
             "#4d9221"
            ],
            [
             1,
             "#276419"
            ]
           ],
           "sequential": [
            [
             0,
             "#0d0887"
            ],
            [
             0.1111111111111111,
             "#46039f"
            ],
            [
             0.2222222222222222,
             "#7201a8"
            ],
            [
             0.3333333333333333,
             "#9c179e"
            ],
            [
             0.4444444444444444,
             "#bd3786"
            ],
            [
             0.5555555555555556,
             "#d8576b"
            ],
            [
             0.6666666666666666,
             "#ed7953"
            ],
            [
             0.7777777777777778,
             "#fb9f3a"
            ],
            [
             0.8888888888888888,
             "#fdca26"
            ],
            [
             1,
             "#f0f921"
            ]
           ],
           "sequentialminus": [
            [
             0,
             "#0d0887"
            ],
            [
             0.1111111111111111,
             "#46039f"
            ],
            [
             0.2222222222222222,
             "#7201a8"
            ],
            [
             0.3333333333333333,
             "#9c179e"
            ],
            [
             0.4444444444444444,
             "#bd3786"
            ],
            [
             0.5555555555555556,
             "#d8576b"
            ],
            [
             0.6666666666666666,
             "#ed7953"
            ],
            [
             0.7777777777777778,
             "#fb9f3a"
            ],
            [
             0.8888888888888888,
             "#fdca26"
            ],
            [
             1,
             "#f0f921"
            ]
           ]
          },
          "colorway": [
           "#636efa",
           "#EF553B",
           "#00cc96",
           "#ab63fa",
           "#FFA15A",
           "#19d3f3",
           "#FF6692",
           "#B6E880",
           "#FF97FF",
           "#FECB52"
          ],
          "font": {
           "color": "#2a3f5f"
          },
          "geo": {
           "bgcolor": "white",
           "lakecolor": "white",
           "landcolor": "#E5ECF6",
           "showlakes": true,
           "showland": true,
           "subunitcolor": "white"
          },
          "hoverlabel": {
           "align": "left"
          },
          "hovermode": "closest",
          "mapbox": {
           "style": "light"
          },
          "paper_bgcolor": "white",
          "plot_bgcolor": "#E5ECF6",
          "polar": {
           "angularaxis": {
            "gridcolor": "white",
            "linecolor": "white",
            "ticks": ""
           },
           "bgcolor": "#E5ECF6",
           "radialaxis": {
            "gridcolor": "white",
            "linecolor": "white",
            "ticks": ""
           }
          },
          "scene": {
           "xaxis": {
            "backgroundcolor": "#E5ECF6",
            "gridcolor": "white",
            "gridwidth": 2,
            "linecolor": "white",
            "showbackground": true,
            "ticks": "",
            "zerolinecolor": "white"
           },
           "yaxis": {
            "backgroundcolor": "#E5ECF6",
            "gridcolor": "white",
            "gridwidth": 2,
            "linecolor": "white",
            "showbackground": true,
            "ticks": "",
            "zerolinecolor": "white"
           },
           "zaxis": {
            "backgroundcolor": "#E5ECF6",
            "gridcolor": "white",
            "gridwidth": 2,
            "linecolor": "white",
            "showbackground": true,
            "ticks": "",
            "zerolinecolor": "white"
           }
          },
          "shapedefaults": {
           "line": {
            "color": "#2a3f5f"
           }
          },
          "ternary": {
           "aaxis": {
            "gridcolor": "white",
            "linecolor": "white",
            "ticks": ""
           },
           "baxis": {
            "gridcolor": "white",
            "linecolor": "white",
            "ticks": ""
           },
           "bgcolor": "#E5ECF6",
           "caxis": {
            "gridcolor": "white",
            "linecolor": "white",
            "ticks": ""
           }
          },
          "title": {
           "x": 0.05
          },
          "xaxis": {
           "automargin": true,
           "gridcolor": "white",
           "linecolor": "white",
           "ticks": "",
           "title": {
            "standoff": 15
           },
           "zerolinecolor": "white",
           "zerolinewidth": 2
          },
          "yaxis": {
           "automargin": true,
           "gridcolor": "white",
           "linecolor": "white",
           "ticks": "",
           "title": {
            "standoff": 15
           },
           "zerolinecolor": "white",
           "zerolinewidth": 2
          }
         }
        },
        "xaxis": {
         "anchor": "y",
         "domain": [
          0,
          1
         ],
         "title": {
          "text": "Regione"
         }
        },
        "yaxis": {
         "anchor": "x",
         "domain": [
          0,
          1
         ],
         "title": {
          "text": "Taglia"
         }
        }
       }
      },
      "text/html": [
       "<div>\n",
       "        \n",
       "        \n",
       "            <div id=\"19b6fd90-b1c9-41e4-91a9-dcabaaa1019d\" class=\"plotly-graph-div\" style=\"height:525px; width:100%;\"></div>\n",
       "            <script type=\"text/javascript\">\n",
       "                require([\"plotly\"], function(Plotly) {\n",
       "                    window.PLOTLYENV=window.PLOTLYENV || {};\n",
       "                    \n",
       "                if (document.getElementById(\"19b6fd90-b1c9-41e4-91a9-dcabaaa1019d\")) {\n",
       "                    Plotly.newPlot(\n",
       "                        '19b6fd90-b1c9-41e4-91a9-dcabaaa1019d',\n",
       "                        [{\"alignmentgroup\": \"True\", \"hovertemplate\": \"Regione=%{x}<br>Taglia=%{y}<extra></extra>\", \"legendgroup\": \"\", \"marker\": {\"color\": \"#636efa\"}, \"name\": \"\", \"notched\": false, \"offsetgroup\": \"\", \"orientation\": \"v\", \"showlegend\": false, \"type\": \"box\", \"x\": [\"Puglia\", \"Puglia\", \"Puglia\", \"Puglia\", \"Puglia\", \"Puglia\", \"Puglia\", \"Puglia\", \"Puglia\", \"Puglia\", \"Puglia\", \"Puglia\", \"Puglia\", \"Puglia\", \"Puglia\", \"Puglia\", \"Puglia\", \"Puglia\", \"Puglia\", \"Puglia\", \"Puglia\", \"Puglia\", \"Puglia\", \"Puglia\", \"Puglia\", \"Puglia\", \"Puglia\", \"Puglia\", \"Puglia\", \"Puglia\", \"Puglia\", \"Puglia\", \"Puglia\", \"Puglia\", \"Puglia\", \"Puglia\", \"Puglia\", \"Puglia\", \"Puglia\", \"Puglia\", \"Puglia\", \"Puglia\", \"Puglia\", \"Puglia\", \"Puglia\", \"Puglia\", \"Puglia\", \"Puglia\", \"Puglia\", \"Puglia\", \"Puglia\", \"Puglia\", \"Puglia\", \"Puglia\", \"Puglia\", \"Puglia\", \"Puglia\", \"Puglia\", \"Puglia\", \"Puglia\", \"Puglia\", \"Puglia\", \"Puglia\", \"Puglia\", \"Puglia\", \"Puglia\", \"Puglia\", \"Puglia\", \"Puglia\", \"Puglia\", \"Puglia\", \"Puglia\", \"Puglia\", \"Puglia\", \"Puglia\", \"Puglia\", \"Puglia\", \"Puglia\", \"Puglia\", \"Puglia\", \"Puglia\", \"Puglia\", \"Puglia\", \"Puglia\", \"Puglia\", \"Puglia\", \"Puglia\", \"Puglia\", \"Puglia\", \"Puglia\", \"Puglia\", \"Puglia\", \"Puglia\", \"Puglia\", \"Puglia\", \"Puglia\", \"Puglia\", \"Puglia\", \"Puglia\", \"Puglia\", \"Puglia\", \"Puglia\", \"Puglia\", \"Puglia\", \"Puglia\", \"Puglia\", \"Puglia\", \"Puglia\", \"Puglia\", \"Puglia\", \"Puglia\", \"Puglia\", \"Puglia\", \"Puglia\", \"Puglia\", \"Puglia\", \"Puglia\", \"Puglia\", \"Puglia\", \"Puglia\", \"Puglia\", \"Puglia\", \"Puglia\", \"Puglia\", \"Calabria\", \"Calabria\", \"Calabria\", \"Calabria\", \"Calabria\", \"Calabria\", \"Calabria\", \"Calabria\", \"Calabria\", \"Calabria\", \"Calabria\", \"Calabria\", \"Calabria\", \"Calabria\", \"Calabria\", \"Calabria\", \"Calabria\", \"Calabria\", \"Calabria\", \"Calabria\", \"Calabria\", \"Calabria\", \"Calabria\", \"Calabria\", \"Calabria\", \"Calabria\", \"Calabria\", \"Calabria\", \"Calabria\", \"Calabria\", \"Calabria\", \"Calabria\", \"Calabria\", \"Calabria\", \"Calabria\", \"Calabria\", \"Calabria\", \"Calabria\", \"Calabria\", \"Calabria\", \"Calabria\", \"Calabria\", \"Calabria\", \"Calabria\", \"Calabria\", \"Calabria\", \"Calabria\", \"Calabria\", \"Calabria\", \"Calabria\", \"Calabria\", \"Calabria\", \"Calabria\", \"Calabria\", \"Calabria\", \"Calabria\", \"Calabria\", \"Calabria\", \"Calabria\", \"Calabria\", \"Calabria\", \"Calabria\", \"Calabria\", \"Calabria\", \"Calabria\", \"Calabria\", \"Calabria\", \"Calabria\", \"Calabria\", \"Calabria\", \"Calabria\", \"Calabria\", \"Calabria\", \"Calabria\", \"Calabria\", \"Basilicata\", \"Basilicata\", \"Basilicata\", \"Basilicata\", \"Basilicata\", \"Basilicata\", \"Basilicata\", \"Basilicata\", \"Basilicata\", \"Basilicata\", \"Basilicata\", \"Basilicata\", \"Basilicata\", \"Basilicata\", \"Basilicata\", \"Basilicata\", \"Basilicata\", \"Basilicata\", \"Basilicata\", \"Basilicata\", \"Basilicata\", \"Basilicata\", \"Basilicata\", \"Basilicata\", \"Basilicata\", \"Basilicata\", \"Basilicata\", \"Basilicata\", \"Basilicata\", \"Basilicata\", \"Basilicata\", \"Basilicata\", \"Basilicata\", \"Basilicata\", \"Basilicata\", \"Basilicata\", \"Basilicata\", \"Basilicata\", \"Basilicata\", \"Basilicata\", \"Basilicata\", \"Basilicata\", \"Basilicata\", \"Basilicata\", \"Basilicata\", \"Basilicata\", \"Basilicata\", \"Basilicata\", \"Basilicata\", \"Basilicata\", \"Basilicata\", \"Basilicata\", \"Basilicata\", \"Basilicata\", \"Basilicata\", \"Basilicata\", \"Basilicata\", \"Basilicata\", \"Basilicata\", \"Basilicata\", \"Basilicata\", \"Basilicata\", \"Basilicata\", \"Basilicata\", \"Basilicata\", \"Basilicata\", \"Basilicata\", \"Basilicata\", \"Basilicata\", \"Basilicata\", \"Basilicata\", \"Basilicata\", \"Basilicata\", \"Basilicata\", \"Basilicata\", \"Basilicata\", \"Basilicata\", \"Basilicata\", \"Basilicata\", \"Basilicata\", \"Basilicata\", \"Basilicata\", \"Basilicata\", \"Basilicata\", \"Basilicata\", \"Basilicata\", \"Basilicata\", \"Basilicata\", \"Basilicata\", \"Basilicata\", \"Basilicata\", \"Basilicata\", \"Basilicata\", \"Basilicata\", \"Basilicata\", \"Basilicata\", \"Basilicata\", \"Basilicata\", \"Basilicata\", \"Basilicata\", \"Basilicata\", \"Basilicata\", \"Basilicata\", \"Basilicata\", \"Basilicata\", \"Basilicata\", \"Basilicata\", \"Basilicata\", \"Basilicata\", \"Basilicata\", \"Basilicata\", \"Basilicata\", \"Basilicata\", \"Basilicata\", \"Basilicata\", \"Basilicata\", \"Basilicata\", \"Basilicata\", \"Basilicata\", \"Basilicata\", \"Basilicata\", \"Basilicata\", \"Basilicata\", \"Basilicata\", \"Basilicata\", \"Basilicata\", \"Basilicata\", \"Basilicata\", \"Basilicata\", \"Basilicata\", \"Basilicata\", \"Basilicata\", \"Basilicata\", \"Basilicata\", \"Basilicata\", \"Basilicata\", \"Basilicata\", \"Basilicata\", \"Basilicata\", \"Basilicata\", \"Basilicata\", \"Basilicata\", \"Basilicata\", \"Basilicata\", \"Basilicata\", \"Basilicata\", \"Basilicata\", \"Basilicata\", \"Basilicata\", \"Basilicata\", \"Basilicata\", \"Basilicata\", \"Basilicata\", \"Basilicata\", \"Basilicata\", \"Basilicata\", \"Basilicata\", \"Basilicata\", \"Basilicata\", \"Basilicata\", \"Basilicata\", \"Basilicata\", \"Basilicata\", \"Basilicata\", \"Basilicata\"], \"x0\": \" \", \"xaxis\": \"x\", \"y\": [58.0, 68.0, 35.0, 40.0, 68.0, 94.0, 46.0, 60.0, 41.0, 45.0, 39.0, 57.0, 46.0, 54.0, 54.0, 55.0, 48.0, 26.0, 50.0, 34.5, 21.0, 30.0, 31.0, 27.5, 11.0, 38.0, 60.0, 62.0, 55.0, 54.0, 50.0, 46.0, 6.5, 3.0, 66.0, 71.0, 52.0, 38.0, 76.0, 54.0, 64.0, 49.0, 70.0, 36.0, 29.0, 25.0, 56.0, 54.0, 44.0, 9.0, 49.0, 23.0, 43.0, 71.0, 54.0, 30.0, 23.0, 15.0, 30.0, 30.0, 63.0, 35.0, 70.0, 29.5, 40.5, 63.0, 60.0, 70.0, 40.0, 40.0, 50.0, 69.0, 38.5, 55.0, 61.0, 52.0, 60.0, 80.0, 37.0, 62.0, 62.0, 65.0, 80.0, 54.5, 61.0, 39.0, 36.5, 52.0, 26.0, 24.0, 67.0, 65.0, 84.0, 58.0, 66.5, 74.0, 71.0, 73.0, 51.7, 41.5, 60.5, 3.9, 21.5, 59.0, 61.5, 63.0, 60.0, 52.0, 50.0, 60.0, 35.5, 49.5, 58.0, 45.0, 58.0, 60.5, 37.0, 80.0, 61.0, 39.0, 55.0, 81.0, 69.0, 86.0, 19.0, 17.0, 40.0, 24.0, 29.0, 30.0, 36.0, 32.0, 60.0, 14.0, 39.0, 39.0, 60.0, 37.0, 31.0, 77.0, 30.0, 67.0, 30.0, 70.0, 79.0, 36.0, 50.0, 45.0, 80.0, 100.0, 60.0, 69.0, 72.0, 31.0, 52.0, 26.0, 27.0, 70.0, 73.0, 63.0, 80.0, 47.0, 40.0, 51.0, 39.0, 67.0, 55.0, 58.5, 62.0, 80.0, 50.0, 70.0, 51.5, 34.0, 21.0, 22.0, 100.0, 40.0, 37.0, 27.0, 35.0, 32.0, 32.0, 28.0, 27.0, 42.0, 38.0, 30.0, 39.0, 19.0, 27.0, 34.0, 63.0, 28.0, 20.0, 32.0, 21.0, 20.0, 50.0, 62.0, 45.0, 52.0, 24.0, 41.0, 55.0, 50.0, 48.0, 50.0, 47.0, 63.0, 47.0, 52.0, 56.0, 50.0, 34.0, 38.0, 50.0, 41.0, 50.0, 49.0, 64.0, 49.0, 58.0, 51.0, 9.0, 60.0, 55.0, 45.0, 35.0, 69.0, 46.0, 36.0, 48.0, 53.0, 63.0, 40.0, 48.0, 56.0, 49.0, 34.0, 60.0, 41.0, 76.0, 62.0, 39.5, 37.0, 35.0, 55.0, 69.0, 41.0, 70.0, 32.0, 56.0, 47.5, 76.0, 49.0, 54.0, 56.5, 40.0, 22.0, 64.5, 45.0, 63.0, 35.5, 67.0, 48.0, 73.5, 65.0, 51.0, 50.0, 75.0, 50.0, 50.0, 63.0, 56.5, 78.0, 29.0, 45.0, 40.0, 55.0, 57.5, 40.0, 41.0, 40.0, 58.0, 49.5, 27.0, 55.0, 57.0, 29.0, 62.0, 63.0, 29.5, 72.0, 48.5, 68.0, 40.0, 55.5, 68.0, 22.5, 63.0, 47.0, 27.0, 58.0, 50.0, 60.0, 38.0, 39.0, 52.5, 46.0, 34.5, 50.0, 61.0, 41.0, 44.0, 59.0, 48.0, 6.0, 67.0, 42.0, 51.0, 61.0, 49.0, 66.5, 51.0, 61.0, 73.5, 52.0, 56.0, 61.0, 57.0, 41.0, 71.5, 64.0, 22.0, 52.0, 60.0, 29.0, 58.0, 53.0, 59.0, 66.0, 64.0, 52.0, 58.0, 62.0, 60.0, 57.0, 43.0, 56.0, 61.0, 31.5, 65.0, 57.0, 30.0, 34.5, 64.0, 40.0, 54.0, 62.0, 61.5, 50.0, 53.5, 69.0], \"y0\": \" \", \"yaxis\": \"y\"}],\n",
       "                        {\"boxmode\": \"group\", \"legend\": {\"tracegroupgap\": 0}, \"margin\": {\"t\": 60}, \"template\": {\"data\": {\"bar\": [{\"error_x\": {\"color\": \"#2a3f5f\"}, \"error_y\": {\"color\": \"#2a3f5f\"}, \"marker\": {\"line\": {\"color\": \"#E5ECF6\", \"width\": 0.5}}, \"type\": \"bar\"}], \"barpolar\": [{\"marker\": {\"line\": {\"color\": \"#E5ECF6\", \"width\": 0.5}}, \"type\": \"barpolar\"}], \"carpet\": [{\"aaxis\": {\"endlinecolor\": \"#2a3f5f\", \"gridcolor\": \"white\", \"linecolor\": \"white\", \"minorgridcolor\": \"white\", \"startlinecolor\": \"#2a3f5f\"}, \"baxis\": {\"endlinecolor\": \"#2a3f5f\", \"gridcolor\": \"white\", \"linecolor\": \"white\", \"minorgridcolor\": \"white\", \"startlinecolor\": \"#2a3f5f\"}, \"type\": \"carpet\"}], \"choropleth\": [{\"colorbar\": {\"outlinewidth\": 0, \"ticks\": \"\"}, \"type\": \"choropleth\"}], \"contour\": [{\"colorbar\": {\"outlinewidth\": 0, \"ticks\": \"\"}, \"colorscale\": [[0.0, \"#0d0887\"], [0.1111111111111111, \"#46039f\"], [0.2222222222222222, \"#7201a8\"], [0.3333333333333333, \"#9c179e\"], [0.4444444444444444, \"#bd3786\"], [0.5555555555555556, \"#d8576b\"], [0.6666666666666666, \"#ed7953\"], [0.7777777777777778, \"#fb9f3a\"], [0.8888888888888888, \"#fdca26\"], [1.0, \"#f0f921\"]], \"type\": \"contour\"}], \"contourcarpet\": [{\"colorbar\": {\"outlinewidth\": 0, \"ticks\": \"\"}, \"type\": \"contourcarpet\"}], \"heatmap\": [{\"colorbar\": {\"outlinewidth\": 0, \"ticks\": \"\"}, \"colorscale\": [[0.0, \"#0d0887\"], [0.1111111111111111, \"#46039f\"], [0.2222222222222222, \"#7201a8\"], [0.3333333333333333, \"#9c179e\"], [0.4444444444444444, \"#bd3786\"], [0.5555555555555556, \"#d8576b\"], [0.6666666666666666, \"#ed7953\"], [0.7777777777777778, \"#fb9f3a\"], [0.8888888888888888, \"#fdca26\"], [1.0, \"#f0f921\"]], \"type\": \"heatmap\"}], \"heatmapgl\": [{\"colorbar\": {\"outlinewidth\": 0, \"ticks\": \"\"}, \"colorscale\": [[0.0, \"#0d0887\"], [0.1111111111111111, \"#46039f\"], [0.2222222222222222, \"#7201a8\"], [0.3333333333333333, \"#9c179e\"], [0.4444444444444444, \"#bd3786\"], [0.5555555555555556, \"#d8576b\"], [0.6666666666666666, \"#ed7953\"], [0.7777777777777778, \"#fb9f3a\"], [0.8888888888888888, \"#fdca26\"], [1.0, \"#f0f921\"]], \"type\": \"heatmapgl\"}], \"histogram\": [{\"marker\": {\"colorbar\": {\"outlinewidth\": 0, \"ticks\": \"\"}}, \"type\": \"histogram\"}], \"histogram2d\": [{\"colorbar\": {\"outlinewidth\": 0, \"ticks\": \"\"}, \"colorscale\": [[0.0, \"#0d0887\"], [0.1111111111111111, \"#46039f\"], [0.2222222222222222, \"#7201a8\"], [0.3333333333333333, \"#9c179e\"], [0.4444444444444444, \"#bd3786\"], [0.5555555555555556, \"#d8576b\"], [0.6666666666666666, \"#ed7953\"], [0.7777777777777778, \"#fb9f3a\"], [0.8888888888888888, \"#fdca26\"], [1.0, \"#f0f921\"]], \"type\": \"histogram2d\"}], \"histogram2dcontour\": [{\"colorbar\": {\"outlinewidth\": 0, \"ticks\": \"\"}, \"colorscale\": [[0.0, \"#0d0887\"], [0.1111111111111111, \"#46039f\"], [0.2222222222222222, \"#7201a8\"], [0.3333333333333333, \"#9c179e\"], [0.4444444444444444, \"#bd3786\"], [0.5555555555555556, \"#d8576b\"], [0.6666666666666666, \"#ed7953\"], [0.7777777777777778, \"#fb9f3a\"], [0.8888888888888888, \"#fdca26\"], [1.0, \"#f0f921\"]], \"type\": \"histogram2dcontour\"}], \"mesh3d\": [{\"colorbar\": {\"outlinewidth\": 0, \"ticks\": \"\"}, \"type\": \"mesh3d\"}], \"parcoords\": [{\"line\": {\"colorbar\": {\"outlinewidth\": 0, \"ticks\": \"\"}}, \"type\": \"parcoords\"}], \"pie\": [{\"automargin\": true, \"type\": \"pie\"}], \"scatter\": [{\"marker\": {\"colorbar\": {\"outlinewidth\": 0, \"ticks\": \"\"}}, \"type\": \"scatter\"}], \"scatter3d\": [{\"line\": {\"colorbar\": {\"outlinewidth\": 0, \"ticks\": \"\"}}, \"marker\": {\"colorbar\": {\"outlinewidth\": 0, \"ticks\": \"\"}}, \"type\": \"scatter3d\"}], \"scattercarpet\": [{\"marker\": {\"colorbar\": {\"outlinewidth\": 0, \"ticks\": \"\"}}, \"type\": \"scattercarpet\"}], \"scattergeo\": [{\"marker\": {\"colorbar\": {\"outlinewidth\": 0, \"ticks\": \"\"}}, \"type\": \"scattergeo\"}], \"scattergl\": [{\"marker\": {\"colorbar\": {\"outlinewidth\": 0, \"ticks\": \"\"}}, \"type\": \"scattergl\"}], \"scattermapbox\": [{\"marker\": {\"colorbar\": {\"outlinewidth\": 0, \"ticks\": \"\"}}, \"type\": \"scattermapbox\"}], \"scatterpolar\": [{\"marker\": {\"colorbar\": {\"outlinewidth\": 0, \"ticks\": \"\"}}, \"type\": \"scatterpolar\"}], \"scatterpolargl\": [{\"marker\": {\"colorbar\": {\"outlinewidth\": 0, \"ticks\": \"\"}}, \"type\": \"scatterpolargl\"}], \"scatterternary\": [{\"marker\": {\"colorbar\": {\"outlinewidth\": 0, \"ticks\": \"\"}}, \"type\": \"scatterternary\"}], \"surface\": [{\"colorbar\": {\"outlinewidth\": 0, \"ticks\": \"\"}, \"colorscale\": [[0.0, \"#0d0887\"], [0.1111111111111111, \"#46039f\"], [0.2222222222222222, \"#7201a8\"], [0.3333333333333333, \"#9c179e\"], [0.4444444444444444, \"#bd3786\"], [0.5555555555555556, \"#d8576b\"], [0.6666666666666666, \"#ed7953\"], [0.7777777777777778, \"#fb9f3a\"], [0.8888888888888888, \"#fdca26\"], [1.0, \"#f0f921\"]], \"type\": \"surface\"}], \"table\": [{\"cells\": {\"fill\": {\"color\": \"#EBF0F8\"}, \"line\": {\"color\": \"white\"}}, \"header\": {\"fill\": {\"color\": \"#C8D4E3\"}, \"line\": {\"color\": \"white\"}}, \"type\": \"table\"}]}, \"layout\": {\"annotationdefaults\": {\"arrowcolor\": \"#2a3f5f\", \"arrowhead\": 0, \"arrowwidth\": 1}, \"coloraxis\": {\"colorbar\": {\"outlinewidth\": 0, \"ticks\": \"\"}}, \"colorscale\": {\"diverging\": [[0, \"#8e0152\"], [0.1, \"#c51b7d\"], [0.2, \"#de77ae\"], [0.3, \"#f1b6da\"], [0.4, \"#fde0ef\"], [0.5, \"#f7f7f7\"], [0.6, \"#e6f5d0\"], [0.7, \"#b8e186\"], [0.8, \"#7fbc41\"], [0.9, \"#4d9221\"], [1, \"#276419\"]], \"sequential\": [[0.0, \"#0d0887\"], [0.1111111111111111, \"#46039f\"], [0.2222222222222222, \"#7201a8\"], [0.3333333333333333, \"#9c179e\"], [0.4444444444444444, \"#bd3786\"], [0.5555555555555556, \"#d8576b\"], [0.6666666666666666, \"#ed7953\"], [0.7777777777777778, \"#fb9f3a\"], [0.8888888888888888, \"#fdca26\"], [1.0, \"#f0f921\"]], \"sequentialminus\": [[0.0, \"#0d0887\"], [0.1111111111111111, \"#46039f\"], [0.2222222222222222, \"#7201a8\"], [0.3333333333333333, \"#9c179e\"], [0.4444444444444444, \"#bd3786\"], [0.5555555555555556, \"#d8576b\"], [0.6666666666666666, \"#ed7953\"], [0.7777777777777778, \"#fb9f3a\"], [0.8888888888888888, \"#fdca26\"], [1.0, \"#f0f921\"]]}, \"colorway\": [\"#636efa\", \"#EF553B\", \"#00cc96\", \"#ab63fa\", \"#FFA15A\", \"#19d3f3\", \"#FF6692\", \"#B6E880\", \"#FF97FF\", \"#FECB52\"], \"font\": {\"color\": \"#2a3f5f\"}, \"geo\": {\"bgcolor\": \"white\", \"lakecolor\": \"white\", \"landcolor\": \"#E5ECF6\", \"showlakes\": true, \"showland\": true, \"subunitcolor\": \"white\"}, \"hoverlabel\": {\"align\": \"left\"}, \"hovermode\": \"closest\", \"mapbox\": {\"style\": \"light\"}, \"paper_bgcolor\": \"white\", \"plot_bgcolor\": \"#E5ECF6\", \"polar\": {\"angularaxis\": {\"gridcolor\": \"white\", \"linecolor\": \"white\", \"ticks\": \"\"}, \"bgcolor\": \"#E5ECF6\", \"radialaxis\": {\"gridcolor\": \"white\", \"linecolor\": \"white\", \"ticks\": \"\"}}, \"scene\": {\"xaxis\": {\"backgroundcolor\": \"#E5ECF6\", \"gridcolor\": \"white\", \"gridwidth\": 2, \"linecolor\": \"white\", \"showbackground\": true, \"ticks\": \"\", \"zerolinecolor\": \"white\"}, \"yaxis\": {\"backgroundcolor\": \"#E5ECF6\", \"gridcolor\": \"white\", \"gridwidth\": 2, \"linecolor\": \"white\", \"showbackground\": true, \"ticks\": \"\", \"zerolinecolor\": \"white\"}, \"zaxis\": {\"backgroundcolor\": \"#E5ECF6\", \"gridcolor\": \"white\", \"gridwidth\": 2, \"linecolor\": \"white\", \"showbackground\": true, \"ticks\": \"\", \"zerolinecolor\": \"white\"}}, \"shapedefaults\": {\"line\": {\"color\": \"#2a3f5f\"}}, \"ternary\": {\"aaxis\": {\"gridcolor\": \"white\", \"linecolor\": \"white\", \"ticks\": \"\"}, \"baxis\": {\"gridcolor\": \"white\", \"linecolor\": \"white\", \"ticks\": \"\"}, \"bgcolor\": \"#E5ECF6\", \"caxis\": {\"gridcolor\": \"white\", \"linecolor\": \"white\", \"ticks\": \"\"}}, \"title\": {\"x\": 0.05}, \"xaxis\": {\"automargin\": true, \"gridcolor\": \"white\", \"linecolor\": \"white\", \"ticks\": \"\", \"title\": {\"standoff\": 15}, \"zerolinecolor\": \"white\", \"zerolinewidth\": 2}, \"yaxis\": {\"automargin\": true, \"gridcolor\": \"white\", \"linecolor\": \"white\", \"ticks\": \"\", \"title\": {\"standoff\": 15}, \"zerolinecolor\": \"white\", \"zerolinewidth\": 2}}}, \"xaxis\": {\"anchor\": \"y\", \"domain\": [0.0, 1.0], \"title\": {\"text\": \"Regione\"}}, \"yaxis\": {\"anchor\": \"x\", \"domain\": [0.0, 1.0], \"title\": {\"text\": \"Taglia\"}}},\n",
       "                        {\"responsive\": true}\n",
       "                    ).then(function(){\n",
       "                            \n",
       "var gd = document.getElementById('19b6fd90-b1c9-41e4-91a9-dcabaaa1019d');\n",
       "var x = new MutationObserver(function (mutations, observer) {{\n",
       "        var display = window.getComputedStyle(gd).display;\n",
       "        if (!display || display === 'none') {{\n",
       "            console.log([gd, 'removed!']);\n",
       "            Plotly.purge(gd);\n",
       "            observer.disconnect();\n",
       "        }}\n",
       "}});\n",
       "\n",
       "// Listen for the removal of the full notebook cells\n",
       "var notebookContainer = gd.closest('#notebook-container');\n",
       "if (notebookContainer) {{\n",
       "    x.observe(notebookContainer, {childList: true});\n",
       "}}\n",
       "\n",
       "// Listen for the clearing of the current output cell\n",
       "var outputEl = gd.closest('.output');\n",
       "if (outputEl) {{\n",
       "    x.observe(outputEl, {childList: true});\n",
       "}}\n",
       "\n",
       "                        })\n",
       "                };\n",
       "                });\n",
       "            </script>\n",
       "        </div>"
      ]
     },
     "metadata": {},
     "output_type": "display_data"
    }
   ],
   "source": [
    "px.box(data_frame=df, x='Regione', y='Taglia')"
   ]
  },
  {
   "cell_type": "code",
   "execution_count": 27,
   "metadata": {},
   "outputs": [
    {
     "data": {
      "image/png": "[encoded data removed]",
      "text/plain": [
       "<Figure size 576x576 with 6 Axes>"
      ]
     },
     "metadata": {},
     "output_type": "display_data"
    }
   ],
   "source": [
    "sns.pairplot(df, height=4)\n",
    "plt.savefig(\"scatterplot.png\")"
   ]
  },
  {
   "cell_type": "code",
   "execution_count": 28,
   "metadata": {},
   "outputs": [
    {
     "data": {
      "image/png": "[encoded data removed]",
      "text/plain": [
       "<Figure size 689.9x576 with 6 Axes>"
      ]
     },
     "metadata": {},
     "output_type": "display_data"
    }
   ],
   "source": [
    "sns.pairplot(df, hue='Stagione', height=4)\n",
    "plt.savefig(\"scatterplot_stagioni.png\")"
   ]
  },
  {
   "cell_type": "code",
   "execution_count": 29,
   "metadata": {},
   "outputs": [
    {
     "data": {
      "image/png": "[encoded data removed]",
      "text/plain": [
       "<Figure size 686.275x576 with 6 Axes>"
      ]
     },
     "metadata": {},
     "output_type": "display_data"
    }
   ],
   "source": [
    "sns.pairplot(df, hue='Regione', height=4)\n",
    "plt.savefig(\"scatterplot_regioni.png\")"
   ]
  },
  {
   "cell_type": "markdown",
   "metadata": {},
   "source": [
    "## Stagioni"
   ]
  },
  {
   "cell_type": "code",
   "execution_count": 21,
   "metadata": {},
   "outputs": [],
   "source": [
    "from scipy.stats import ttest_ind"
   ]
  },
  {
   "cell_type": "code",
   "execution_count": 22,
   "metadata": {},
   "outputs": [],
   "source": [
    "stagioni = [x for _, x in df.groupby('Stagione')]\n",
    "stagioni = {\n",
    "    'primavera': stagioni[3],\n",
    "    'estate': stagioni[1],\n",
    "    'autunno': stagioni[0],\n",
    "    'inverno': stagioni[2]    \n",
    "}\n",
    "\n",
    "indici = ('Statistica', 'p-value')"
   ]
  },
  {
   "cell_type": "code",
   "execution_count": 23,
   "metadata": {},
   "outputs": [],
   "source": [
    "mat_t = pd.DataFrame(columns=stagioni, index=pd.MultiIndex.from_product((stagioni, indici)), dtype='float')"
   ]
  },
  {
   "cell_type": "code",
   "execution_count": 24,
   "metadata": {},
   "outputs": [],
   "source": [
    "for i in stagioni:\n",
    "    for k in stagioni:\n",
    "        mat_t.loc[i, k] = ttest_ind(stagioni[i]['Taglia'], stagioni[k]['Taglia'])"
   ]
  },
  {
   "cell_type": "code",
   "execution_count": 25,
   "metadata": {},
   "outputs": [
    {
     "data": {
      "text/html": [
       "<div>\n",
       "<style scoped>\n",
       "    .dataframe tbody tr th:only-of-type {\n",
       "        vertical-align: middle;\n",
       "    }\n",
       "\n",
       "    .dataframe tbody tr th {\n",
       "        vertical-align: top;\n",
       "    }\n",
       "\n",
       "    .dataframe thead th {\n",
       "        text-align: right;\n",
       "    }\n",
       "</style>\n",
       "<table border=\"1\" class=\"dataframe\">\n",
       "  <thead>\n",
       "    <tr style=\"text-align: right;\">\n",
       "      <th></th>\n",
       "      <th>primavera</th>\n",
       "      <th>estate</th>\n",
       "      <th>autunno</th>\n",
       "      <th>inverno</th>\n",
       "    </tr>\n",
       "  </thead>\n",
       "  <tbody>\n",
       "    <tr>\n",
       "      <th>primavera</th>\n",
       "      <td>1.000000</td>\n",
       "      <td>0.194786</td>\n",
       "      <td>0.728410</td>\n",
       "      <td>0.812762</td>\n",
       "    </tr>\n",
       "    <tr>\n",
       "      <th>estate</th>\n",
       "      <td>0.194786</td>\n",
       "      <td>1.000000</td>\n",
       "      <td>0.375102</td>\n",
       "      <td>0.247302</td>\n",
       "    </tr>\n",
       "    <tr>\n",
       "      <th>autunno</th>\n",
       "      <td>0.728410</td>\n",
       "      <td>0.375102</td>\n",
       "      <td>1.000000</td>\n",
       "      <td>0.618073</td>\n",
       "    </tr>\n",
       "    <tr>\n",
       "      <th>inverno</th>\n",
       "      <td>0.812762</td>\n",
       "      <td>0.247302</td>\n",
       "      <td>0.618073</td>\n",
       "      <td>1.000000</td>\n",
       "    </tr>\n",
       "  </tbody>\n",
       "</table>\n",
       "</div>"
      ],
      "text/plain": [
       "           primavera    estate   autunno   inverno\n",
       "primavera   1.000000  0.194786  0.728410  0.812762\n",
       "estate      0.194786  1.000000  0.375102  0.247302\n",
       "autunno     0.728410  0.375102  1.000000  0.618073\n",
       "inverno     0.812762  0.247302  0.618073  1.000000"
      ]
     },
     "execution_count": 25,
     "metadata": {},
     "output_type": "execute_result"
    }
   ],
   "source": [
    "mat_t.xs('p-value', level=1)"
   ]
  },
  {
   "cell_type": "markdown",
   "metadata": {},
   "source": [
    "## Anni"
   ]
  },
  {
   "cell_type": "code",
   "execution_count": 32,
   "metadata": {},
   "outputs": [
    {
     "ename": "NameError",
     "evalue": "name 'df_c' is not defined",
     "output_type": "error",
     "traceback": [
      "\u001b[0;31m---------------------------------------------------------------------------\u001b[0m",
      "\u001b[0;31mNameError\u001b[0m                                 Traceback (most recent call last)",
      "\u001b[0;32m<ipython-input-32-19b56fbfcc02>\u001b[0m in \u001b[0;36m<module>\u001b[0;34m\u001b[0m\n\u001b[0;32m----> 1\u001b[0;31m \u001b[0manni\u001b[0m \u001b[0;34m=\u001b[0m \u001b[0;34m[\u001b[0m\u001b[0mx\u001b[0m \u001b[0;32mfor\u001b[0m \u001b[0m_\u001b[0m\u001b[0;34m,\u001b[0m \u001b[0mx\u001b[0m \u001b[0;32min\u001b[0m \u001b[0mdf_c\u001b[0m\u001b[0;34m.\u001b[0m\u001b[0mgroupby\u001b[0m\u001b[0;34m(\u001b[0m\u001b[0;34m'Anno'\u001b[0m\u001b[0;34m)\u001b[0m\u001b[0;34m]\u001b[0m\u001b[0;34m\u001b[0m\u001b[0;34m\u001b[0m\u001b[0m\n\u001b[0m\u001b[1;32m      2\u001b[0m \u001b[0manni2\u001b[0m \u001b[0;34m=\u001b[0m \u001b[0;34m{\u001b[0m\u001b[0;34m}\u001b[0m\u001b[0;34m\u001b[0m\u001b[0;34m\u001b[0m\u001b[0m\n",
      "\u001b[0;31mNameError\u001b[0m: name 'df_c' is not defined"
     ]
    }
   ],
   "source": [
    "anni = [x for _, x in df_c.groupby('Anno')]\n",
    "anni2 = {}"
   ]
  },
  {
   "cell_type": "code",
   "execution_count": null,
   "metadata": {},
   "outputs": [],
   "source": [
    "for i in anni:\n",
    "    anni2[i.iloc[0]['Anno']] = i"
   ]
  },
  {
   "cell_type": "code",
   "execution_count": null,
   "metadata": {},
   "outputs": [],
   "source": [
    "anni = anni2"
   ]
  },
  {
   "cell_type": "code",
   "execution_count": null,
   "metadata": {},
   "outputs": [],
   "source": [
    "indici = ('Statistica', 'p-value')"
   ]
  },
  {
   "cell_type": "code",
   "execution_count": null,
   "metadata": {},
   "outputs": [],
   "source": [
    "mat_t_anni = pd.DataFrame(columns=anni, index=pd.MultiIndex.from_product((anni, indici)), dtype='float')"
   ]
  },
  {
   "cell_type": "code",
   "execution_count": null,
   "metadata": {},
   "outputs": [],
   "source": [
    "for i in anni:\n",
    "    for k in anni:\n",
    "        mat_t_anni.loc[i, k] = ttest_ind(anni[i]['Taglia'], anni[k]['Taglia'])"
   ]
  },
  {
   "cell_type": "code",
   "execution_count": null,
   "metadata": {},
   "outputs": [],
   "source": [
    "mat_t_anni.xs('p-value', level=1)[mat_t_anni.xs('p-value', level=1) <= 0.05]"
   ]
  },
  {
   "cell_type": "markdown",
   "metadata": {},
   "source": [
    "## Regioni"
   ]
  },
  {
   "cell_type": "code",
   "execution_count": 38,
   "metadata": {},
   "outputs": [],
   "source": [
    "regioni = [x for _, x in df_c.groupby('Regione')]\n",
    "regioni2 = {}"
   ]
  },
  {
   "cell_type": "code",
   "execution_count": 39,
   "metadata": {},
   "outputs": [],
   "source": [
    "for i in regioni:\n",
    "    regioni2[i.iloc[0]['Regione']] = i"
   ]
  },
  {
   "cell_type": "code",
   "execution_count": 40,
   "metadata": {},
   "outputs": [],
   "source": [
    "regioni = regioni2"
   ]
  },
  {
   "cell_type": "code",
   "execution_count": 41,
   "metadata": {},
   "outputs": [],
   "source": [
    "indici = ('Statistica', 'p-value')"
   ]
  },
  {
   "cell_type": "code",
   "execution_count": 42,
   "metadata": {},
   "outputs": [],
   "source": [
    "mat_t_regioni = pd.DataFrame(columns=regioni, index=pd.MultiIndex.from_product((regioni, indici)), dtype='float')"
   ]
  },
  {
   "cell_type": "code",
   "execution_count": 43,
   "metadata": {},
   "outputs": [],
   "source": [
    "for i in regioni:\n",
    "    for k in regioni:\n",
    "        mat_t_regioni.loc[i, k] = ttest_ind(regioni[i]['Taglia'], regioni[k]['Taglia'])"
   ]
  },
  {
   "cell_type": "code",
   "execution_count": 44,
   "metadata": {},
   "outputs": [
    {
     "data": {
      "text/html": [
       "<div>\n",
       "<style scoped>\n",
       "    .dataframe tbody tr th:only-of-type {\n",
       "        vertical-align: middle;\n",
       "    }\n",
       "\n",
       "    .dataframe tbody tr th {\n",
       "        vertical-align: top;\n",
       "    }\n",
       "\n",
       "    .dataframe thead th {\n",
       "        text-align: right;\n",
       "    }\n",
       "</style>\n",
       "<table border=\"1\" class=\"dataframe\">\n",
       "  <thead>\n",
       "    <tr style=\"text-align: right;\">\n",
       "      <th></th>\n",
       "      <th>Basilicata</th>\n",
       "      <th>Calabria</th>\n",
       "      <th>Puglia</th>\n",
       "    </tr>\n",
       "  </thead>\n",
       "  <tbody>\n",
       "    <tr>\n",
       "      <th>Basilicata</th>\n",
       "      <td>NaN</td>\n",
       "      <td>0.005588</td>\n",
       "      <td>NaN</td>\n",
       "    </tr>\n",
       "    <tr>\n",
       "      <th>Calabria</th>\n",
       "      <td>0.005588</td>\n",
       "      <td>NaN</td>\n",
       "      <td>NaN</td>\n",
       "    </tr>\n",
       "    <tr>\n",
       "      <th>Puglia</th>\n",
       "      <td>NaN</td>\n",
       "      <td>NaN</td>\n",
       "      <td>NaN</td>\n",
       "    </tr>\n",
       "  </tbody>\n",
       "</table>\n",
       "</div>"
      ],
      "text/plain": [
       "            Basilicata  Calabria  Puglia\n",
       "Basilicata         NaN  0.005588     NaN\n",
       "Calabria      0.005588       NaN     NaN\n",
       "Puglia             NaN       NaN     NaN"
      ]
     },
     "execution_count": 44,
     "metadata": {},
     "output_type": "execute_result"
    }
   ],
   "source": [
    "mat_t_regioni.xs('p-value', level=1)[mat_t_regioni.xs('p-value', level=1) <= 0.05]"
   ]
  },
  {
   "cell_type": "code",
   "execution_count": 63,
   "metadata": {},
   "outputs": [
    {
     "data": {
      "image/png": "[encoded data removed]",
      "text/plain": [
       "<Figure size 648x576 with 1 Axes>"
      ]
     },
     "metadata": {},
     "output_type": "display_data"
    }
   ],
   "source": [
    "plt.figure(figsize=(9,8))\n",
    "sns.boxplot(data=df, x='Regione', y='Taglia')\n",
    "\n",
    "plt.savefig(\"boxplot_regione.png\")"
   ]
  },
  {
   "cell_type": "code",
   "execution_count": 46,
   "metadata": {},
   "outputs": [
    {
     "data": {
      "application/vnd.plotly.v1+json": {
       "config": {
        "plotlyServerURL": "https://plot.ly"
       },
       "data": [
        {
         "alignmentgroup": "True",
         "bingroup": "x",
         "hovertemplate": "variable=Taglia<br>value=%{x}<br>count=%{y}<extra></extra>",
         "legendgroup": "Taglia",
         "marker": {
          "color": "#636efa"
         },
         "name": "Taglia",
         "offsetgroup": "Taglia",
         "orientation": "v",
         "showlegend": true,
         "type": "histogram",
         "x": [
          19,
          17,
          40,
          24,
          29,
          30,
          36,
          32,
          60,
          14,
          39,
          39,
          60,
          37,
          31,
          77,
          30,
          67,
          30,
          70,
          79,
          36,
          50,
          45,
          80,
          100,
          60,
          69,
          72,
          31,
          52,
          26,
          27,
          70,
          73,
          63,
          80,
          47,
          40,
          51,
          39,
          67,
          55,
          58.5,
          62,
          80,
          50,
          70,
          51.5,
          34,
          21,
          22,
          100,
          40,
          37,
          27,
          35,
          32,
          32,
          28,
          27,
          42,
          38,
          30,
          39,
          19,
          27,
          34,
          63,
          28,
          20,
          32,
          21,
          20,
          50
         ],
         "xaxis": "x",
         "yaxis": "y"
        }
       ],
       "layout": {
        "barmode": "relative",
        "legend": {
         "title": {
          "text": "variable"
         },
         "tracegroupgap": 0
        },
        "margin": {
         "t": 60
        },
        "template": {
         "data": {
          "bar": [
           {
            "error_x": {
             "color": "#2a3f5f"
            },
            "error_y": {
             "color": "#2a3f5f"
            },
            "marker": {
             "line": {
              "color": "#E5ECF6",
              "width": 0.5
             }
            },
            "type": "bar"
           }
          ],
          "barpolar": [
           {
            "marker": {
             "line": {
              "color": "#E5ECF6",
              "width": 0.5
             }
            },
            "type": "barpolar"
           }
          ],
          "carpet": [
           {
            "aaxis": {
             "endlinecolor": "#2a3f5f",
             "gridcolor": "white",
             "linecolor": "white",
             "minorgridcolor": "white",
             "startlinecolor": "#2a3f5f"
            },
            "baxis": {
             "endlinecolor": "#2a3f5f",
             "gridcolor": "white",
             "linecolor": "white",
             "minorgridcolor": "white",
             "startlinecolor": "#2a3f5f"
            },
            "type": "carpet"
           }
          ],
          "choropleth": [
           {
            "colorbar": {
             "outlinewidth": 0,
             "ticks": ""
            },
            "type": "choropleth"
           }
          ],
          "contour": [
           {
            "colorbar": {
             "outlinewidth": 0,
             "ticks": ""
            },
            "colorscale": [
             [
              0,
              "#0d0887"
             ],
             [
              0.1111111111111111,
              "#46039f"
             ],
             [
              0.2222222222222222,
              "#7201a8"
             ],
             [
              0.3333333333333333,
              "#9c179e"
             ],
             [
              0.4444444444444444,
              "#bd3786"
             ],
             [
              0.5555555555555556,
              "#d8576b"
             ],
             [
              0.6666666666666666,
              "#ed7953"
             ],
             [
              0.7777777777777778,
              "#fb9f3a"
             ],
             [
              0.8888888888888888,
              "#fdca26"
             ],
             [
              1,
              "#f0f921"
             ]
            ],
            "type": "contour"
           }
          ],
          "contourcarpet": [
           {
            "colorbar": {
             "outlinewidth": 0,
             "ticks": ""
            },
            "type": "contourcarpet"
           }
          ],
          "heatmap": [
           {
            "colorbar": {
             "outlinewidth": 0,
             "ticks": ""
            },
            "colorscale": [
             [
              0,
              "#0d0887"
             ],
             [
              0.1111111111111111,
              "#46039f"
             ],
             [
              0.2222222222222222,
              "#7201a8"
             ],
             [
              0.3333333333333333,
              "#9c179e"
             ],
             [
              0.4444444444444444,
              "#bd3786"
             ],
             [
              0.5555555555555556,
              "#d8576b"
             ],
             [
              0.6666666666666666,
              "#ed7953"
             ],
             [
              0.7777777777777778,
              "#fb9f3a"
             ],
             [
              0.8888888888888888,
              "#fdca26"
             ],
             [
              1,
              "#f0f921"
             ]
            ],
            "type": "heatmap"
           }
          ],
          "heatmapgl": [
           {
            "colorbar": {
             "outlinewidth": 0,
             "ticks": ""
            },
            "colorscale": [
             [
              0,
              "#0d0887"
             ],
             [
              0.1111111111111111,
              "#46039f"
             ],
             [
              0.2222222222222222,
              "#7201a8"
             ],
             [
              0.3333333333333333,
              "#9c179e"
             ],
             [
              0.4444444444444444,
              "#bd3786"
             ],
             [
              0.5555555555555556,
              "#d8576b"
             ],
             [
              0.6666666666666666,
              "#ed7953"
             ],
             [
              0.7777777777777778,
              "#fb9f3a"
             ],
             [
              0.8888888888888888,
              "#fdca26"
             ],
             [
              1,
              "#f0f921"
             ]
            ],
            "type": "heatmapgl"
           }
          ],
          "histogram": [
           {
            "marker": {
             "colorbar": {
              "outlinewidth": 0,
              "ticks": ""
             }
            },
            "type": "histogram"
           }
          ],
          "histogram2d": [
           {
            "colorbar": {
             "outlinewidth": 0,
             "ticks": ""
            },
            "colorscale": [
             [
              0,
              "#0d0887"
             ],
             [
              0.1111111111111111,
              "#46039f"
             ],
             [
              0.2222222222222222,
              "#7201a8"
             ],
             [
              0.3333333333333333,
              "#9c179e"
             ],
             [
              0.4444444444444444,
              "#bd3786"
             ],
             [
              0.5555555555555556,
              "#d8576b"
             ],
             [
              0.6666666666666666,
              "#ed7953"
             ],
             [
              0.7777777777777778,
              "#fb9f3a"
             ],
             [
              0.8888888888888888,
              "#fdca26"
             ],
             [
              1,
              "#f0f921"
             ]
            ],
            "type": "histogram2d"
           }
          ],
          "histogram2dcontour": [
           {
            "colorbar": {
             "outlinewidth": 0,
             "ticks": ""
            },
            "colorscale": [
             [
              0,
              "#0d0887"
             ],
             [
              0.1111111111111111,
              "#46039f"
             ],
             [
              0.2222222222222222,
              "#7201a8"
             ],
             [
              0.3333333333333333,
              "#9c179e"
             ],
             [
              0.4444444444444444,
              "#bd3786"
             ],
             [
              0.5555555555555556,
              "#d8576b"
             ],
             [
              0.6666666666666666,
              "#ed7953"
             ],
             [
              0.7777777777777778,
              "#fb9f3a"
             ],
             [
              0.8888888888888888,
              "#fdca26"
             ],
             [
              1,
              "#f0f921"
             ]
            ],
            "type": "histogram2dcontour"
           }
          ],
          "mesh3d": [
           {
            "colorbar": {
             "outlinewidth": 0,
             "ticks": ""
            },
            "type": "mesh3d"
           }
          ],
          "parcoords": [
           {
            "line": {
             "colorbar": {
              "outlinewidth": 0,
              "ticks": ""
             }
            },
            "type": "parcoords"
           }
          ],
          "pie": [
           {
            "automargin": true,
            "type": "pie"
           }
          ],
          "scatter": [
           {
            "marker": {
             "colorbar": {
              "outlinewidth": 0,
              "ticks": ""
             }
            },
            "type": "scatter"
           }
          ],
          "scatter3d": [
           {
            "line": {
             "colorbar": {
              "outlinewidth": 0,
              "ticks": ""
             }
            },
            "marker": {
             "colorbar": {
              "outlinewidth": 0,
              "ticks": ""
             }
            },
            "type": "scatter3d"
           }
          ],
          "scattercarpet": [
           {
            "marker": {
             "colorbar": {
              "outlinewidth": 0,
              "ticks": ""
             }
            },
            "type": "scattercarpet"
           }
          ],
          "scattergeo": [
           {
            "marker": {
             "colorbar": {
              "outlinewidth": 0,
              "ticks": ""
             }
            },
            "type": "scattergeo"
           }
          ],
          "scattergl": [
           {
            "marker": {
             "colorbar": {
              "outlinewidth": 0,
              "ticks": ""
             }
            },
            "type": "scattergl"
           }
          ],
          "scattermapbox": [
           {
            "marker": {
             "colorbar": {
              "outlinewidth": 0,
              "ticks": ""
             }
            },
            "type": "scattermapbox"
           }
          ],
          "scatterpolar": [
           {
            "marker": {
             "colorbar": {
              "outlinewidth": 0,
              "ticks": ""
             }
            },
            "type": "scatterpolar"
           }
          ],
          "scatterpolargl": [
           {
            "marker": {
             "colorbar": {
              "outlinewidth": 0,
              "ticks": ""
             }
            },
            "type": "scatterpolargl"
           }
          ],
          "scatterternary": [
           {
            "marker": {
             "colorbar": {
              "outlinewidth": 0,
              "ticks": ""
             }
            },
            "type": "scatterternary"
           }
          ],
          "surface": [
           {
            "colorbar": {
             "outlinewidth": 0,
             "ticks": ""
            },
            "colorscale": [
             [
              0,
              "#0d0887"
             ],
             [
              0.1111111111111111,
              "#46039f"
             ],
             [
              0.2222222222222222,
              "#7201a8"
             ],
             [
              0.3333333333333333,
              "#9c179e"
             ],
             [
              0.4444444444444444,
              "#bd3786"
             ],
             [
              0.5555555555555556,
              "#d8576b"
             ],
             [
              0.6666666666666666,
              "#ed7953"
             ],
             [
              0.7777777777777778,
              "#fb9f3a"
             ],
             [
              0.8888888888888888,
              "#fdca26"
             ],
             [
              1,
              "#f0f921"
             ]
            ],
            "type": "surface"
           }
          ],
          "table": [
           {
            "cells": {
             "fill": {
              "color": "#EBF0F8"
             },
             "line": {
              "color": "white"
             }
            },
            "header": {
             "fill": {
              "color": "#C8D4E3"
             },
             "line": {
              "color": "white"
             }
            },
            "type": "table"
           }
          ]
         },
         "layout": {
          "annotationdefaults": {
           "arrowcolor": "#2a3f5f",
           "arrowhead": 0,
           "arrowwidth": 1
          },
          "coloraxis": {
           "colorbar": {
            "outlinewidth": 0,
            "ticks": ""
           }
          },
          "colorscale": {
           "diverging": [
            [
             0,
             "#8e0152"
            ],
            [
             0.1,
             "#c51b7d"
            ],
            [
             0.2,
             "#de77ae"
            ],
            [
             0.3,
             "#f1b6da"
            ],
            [
             0.4,
             "#fde0ef"
            ],
            [
             0.5,
             "#f7f7f7"
            ],
            [
             0.6,
             "#e6f5d0"
            ],
            [
             0.7,
             "#b8e186"
            ],
            [
             0.8,
             "#7fbc41"
            ],
            [
             0.9,
             "#4d9221"
            ],
            [
             1,
             "#276419"
            ]
           ],
           "sequential": [
            [
             0,
             "#0d0887"
            ],
            [
             0.1111111111111111,
             "#46039f"
            ],
            [
             0.2222222222222222,
             "#7201a8"
            ],
            [
             0.3333333333333333,
             "#9c179e"
            ],
            [
             0.4444444444444444,
             "#bd3786"
            ],
            [
             0.5555555555555556,
             "#d8576b"
            ],
            [
             0.6666666666666666,
             "#ed7953"
            ],
            [
             0.7777777777777778,
             "#fb9f3a"
            ],
            [
             0.8888888888888888,
             "#fdca26"
            ],
            [
             1,
             "#f0f921"
            ]
           ],
           "sequentialminus": [
            [
             0,
             "#0d0887"
            ],
            [
             0.1111111111111111,
             "#46039f"
            ],
            [
             0.2222222222222222,
             "#7201a8"
            ],
            [
             0.3333333333333333,
             "#9c179e"
            ],
            [
             0.4444444444444444,
             "#bd3786"
            ],
            [
             0.5555555555555556,
             "#d8576b"
            ],
            [
             0.6666666666666666,
             "#ed7953"
            ],
            [
             0.7777777777777778,
             "#fb9f3a"
            ],
            [
             0.8888888888888888,
             "#fdca26"
            ],
            [
             1,
             "#f0f921"
            ]
           ]
          },
          "colorway": [
           "#636efa",
           "#EF553B",
           "#00cc96",
           "#ab63fa",
           "#FFA15A",
           "#19d3f3",
           "#FF6692",
           "#B6E880",
           "#FF97FF",
           "#FECB52"
          ],
          "font": {
           "color": "#2a3f5f"
          },
          "geo": {
           "bgcolor": "white",
           "lakecolor": "white",
           "landcolor": "#E5ECF6",
           "showlakes": true,
           "showland": true,
           "subunitcolor": "white"
          },
          "hoverlabel": {
           "align": "left"
          },
          "hovermode": "closest",
          "mapbox": {
           "style": "light"
          },
          "paper_bgcolor": "white",
          "plot_bgcolor": "#E5ECF6",
          "polar": {
           "angularaxis": {
            "gridcolor": "white",
            "linecolor": "white",
            "ticks": ""
           },
           "bgcolor": "#E5ECF6",
           "radialaxis": {
            "gridcolor": "white",
            "linecolor": "white",
            "ticks": ""
           }
          },
          "scene": {
           "xaxis": {
            "backgroundcolor": "#E5ECF6",
            "gridcolor": "white",
            "gridwidth": 2,
            "linecolor": "white",
            "showbackground": true,
            "ticks": "",
            "zerolinecolor": "white"
           },
           "yaxis": {
            "backgroundcolor": "#E5ECF6",
            "gridcolor": "white",
            "gridwidth": 2,
            "linecolor": "white",
            "showbackground": true,
            "ticks": "",
            "zerolinecolor": "white"
           },
           "zaxis": {
            "backgroundcolor": "#E5ECF6",
            "gridcolor": "white",
            "gridwidth": 2,
            "linecolor": "white",
            "showbackground": true,
            "ticks": "",
            "zerolinecolor": "white"
           }
          },
          "shapedefaults": {
           "line": {
            "color": "#2a3f5f"
           }
          },
          "ternary": {
           "aaxis": {
            "gridcolor": "white",
            "linecolor": "white",
            "ticks": ""
           },
           "baxis": {
            "gridcolor": "white",
            "linecolor": "white",
            "ticks": ""
           },
           "bgcolor": "#E5ECF6",
           "caxis": {
            "gridcolor": "white",
            "linecolor": "white",
            "ticks": ""
           }
          },
          "title": {
           "x": 0.05
          },
          "xaxis": {
           "automargin": true,
           "gridcolor": "white",
           "linecolor": "white",
           "ticks": "",
           "title": {
            "standoff": 15
           },
           "zerolinecolor": "white",
           "zerolinewidth": 2
          },
          "yaxis": {
           "automargin": true,
           "gridcolor": "white",
           "linecolor": "white",
           "ticks": "",
           "title": {
            "standoff": 15
           },
           "zerolinecolor": "white",
           "zerolinewidth": 2
          }
         }
        },
        "xaxis": {
         "anchor": "y",
         "domain": [
          0,
          1
         ],
         "title": {
          "text": "value"
         }
        },
        "yaxis": {
         "anchor": "x",
         "domain": [
          0,
          1
         ],
         "title": {
          "text": "count"
         }
        }
       }
      },
      "text/html": [
       "<div>\n",
       "        \n",
       "        \n",
       "            <div id=\"12ab73e1-3abc-4605-8851-4c2192d81d3f\" class=\"plotly-graph-div\" style=\"height:525px; width:100%;\"></div>\n",
       "            <script type=\"text/javascript\">\n",
       "                require([\"plotly\"], function(Plotly) {\n",
       "                    window.PLOTLYENV=window.PLOTLYENV || {};\n",
       "                    \n",
       "                if (document.getElementById(\"12ab73e1-3abc-4605-8851-4c2192d81d3f\")) {\n",
       "                    Plotly.newPlot(\n",
       "                        '12ab73e1-3abc-4605-8851-4c2192d81d3f',\n",
       "                        [{\"alignmentgroup\": \"True\", \"bingroup\": \"x\", \"hovertemplate\": \"variable=Taglia<br>value=%{x}<br>count=%{y}<extra></extra>\", \"legendgroup\": \"Taglia\", \"marker\": {\"color\": \"#636efa\"}, \"name\": \"Taglia\", \"offsetgroup\": \"Taglia\", \"orientation\": \"v\", \"showlegend\": true, \"type\": \"histogram\", \"x\": [19.0, 17.0, 40.0, 24.0, 29.0, 30.0, 36.0, 32.0, 60.0, 14.0, 39.0, 39.0, 60.0, 37.0, 31.0, 77.0, 30.0, 67.0, 30.0, 70.0, 79.0, 36.0, 50.0, 45.0, 80.0, 100.0, 60.0, 69.0, 72.0, 31.0, 52.0, 26.0, 27.0, 70.0, 73.0, 63.0, 80.0, 47.0, 40.0, 51.0, 39.0, 67.0, 55.0, 58.5, 62.0, 80.0, 50.0, 70.0, 51.5, 34.0, 21.0, 22.0, 100.0, 40.0, 37.0, 27.0, 35.0, 32.0, 32.0, 28.0, 27.0, 42.0, 38.0, 30.0, 39.0, 19.0, 27.0, 34.0, 63.0, 28.0, 20.0, 32.0, 21.0, 20.0, 50.0], \"xaxis\": \"x\", \"yaxis\": \"y\"}],\n",
       "                        {\"barmode\": \"relative\", \"legend\": {\"title\": {\"text\": \"variable\"}, \"tracegroupgap\": 0}, \"margin\": {\"t\": 60}, \"template\": {\"data\": {\"bar\": [{\"error_x\": {\"color\": \"#2a3f5f\"}, \"error_y\": {\"color\": \"#2a3f5f\"}, \"marker\": {\"line\": {\"color\": \"#E5ECF6\", \"width\": 0.5}}, \"type\": \"bar\"}], \"barpolar\": [{\"marker\": {\"line\": {\"color\": \"#E5ECF6\", \"width\": 0.5}}, \"type\": \"barpolar\"}], \"carpet\": [{\"aaxis\": {\"endlinecolor\": \"#2a3f5f\", \"gridcolor\": \"white\", \"linecolor\": \"white\", \"minorgridcolor\": \"white\", \"startlinecolor\": \"#2a3f5f\"}, \"baxis\": {\"endlinecolor\": \"#2a3f5f\", \"gridcolor\": \"white\", \"linecolor\": \"white\", \"minorgridcolor\": \"white\", \"startlinecolor\": \"#2a3f5f\"}, \"type\": \"carpet\"}], \"choropleth\": [{\"colorbar\": {\"outlinewidth\": 0, \"ticks\": \"\"}, \"type\": \"choropleth\"}], \"contour\": [{\"colorbar\": {\"outlinewidth\": 0, \"ticks\": \"\"}, \"colorscale\": [[0.0, \"#0d0887\"], [0.1111111111111111, \"#46039f\"], [0.2222222222222222, \"#7201a8\"], [0.3333333333333333, \"#9c179e\"], [0.4444444444444444, \"#bd3786\"], [0.5555555555555556, \"#d8576b\"], [0.6666666666666666, \"#ed7953\"], [0.7777777777777778, \"#fb9f3a\"], [0.8888888888888888, \"#fdca26\"], [1.0, \"#f0f921\"]], \"type\": \"contour\"}], \"contourcarpet\": [{\"colorbar\": {\"outlinewidth\": 0, \"ticks\": \"\"}, \"type\": \"contourcarpet\"}], \"heatmap\": [{\"colorbar\": {\"outlinewidth\": 0, \"ticks\": \"\"}, \"colorscale\": [[0.0, \"#0d0887\"], [0.1111111111111111, \"#46039f\"], [0.2222222222222222, \"#7201a8\"], [0.3333333333333333, \"#9c179e\"], [0.4444444444444444, \"#bd3786\"], [0.5555555555555556, \"#d8576b\"], [0.6666666666666666, \"#ed7953\"], [0.7777777777777778, \"#fb9f3a\"], [0.8888888888888888, \"#fdca26\"], [1.0, \"#f0f921\"]], \"type\": \"heatmap\"}], \"heatmapgl\": [{\"colorbar\": {\"outlinewidth\": 0, \"ticks\": \"\"}, \"colorscale\": [[0.0, \"#0d0887\"], [0.1111111111111111, \"#46039f\"], [0.2222222222222222, \"#7201a8\"], [0.3333333333333333, \"#9c179e\"], [0.4444444444444444, \"#bd3786\"], [0.5555555555555556, \"#d8576b\"], [0.6666666666666666, \"#ed7953\"], [0.7777777777777778, \"#fb9f3a\"], [0.8888888888888888, \"#fdca26\"], [1.0, \"#f0f921\"]], \"type\": \"heatmapgl\"}], \"histogram\": [{\"marker\": {\"colorbar\": {\"outlinewidth\": 0, \"ticks\": \"\"}}, \"type\": \"histogram\"}], \"histogram2d\": [{\"colorbar\": {\"outlinewidth\": 0, \"ticks\": \"\"}, \"colorscale\": [[0.0, \"#0d0887\"], [0.1111111111111111, \"#46039f\"], [0.2222222222222222, \"#7201a8\"], [0.3333333333333333, \"#9c179e\"], [0.4444444444444444, \"#bd3786\"], [0.5555555555555556, \"#d8576b\"], [0.6666666666666666, \"#ed7953\"], [0.7777777777777778, \"#fb9f3a\"], [0.8888888888888888, \"#fdca26\"], [1.0, \"#f0f921\"]], \"type\": \"histogram2d\"}], \"histogram2dcontour\": [{\"colorbar\": {\"outlinewidth\": 0, \"ticks\": \"\"}, \"colorscale\": [[0.0, \"#0d0887\"], [0.1111111111111111, \"#46039f\"], [0.2222222222222222, \"#7201a8\"], [0.3333333333333333, \"#9c179e\"], [0.4444444444444444, \"#bd3786\"], [0.5555555555555556, \"#d8576b\"], [0.6666666666666666, \"#ed7953\"], [0.7777777777777778, \"#fb9f3a\"], [0.8888888888888888, \"#fdca26\"], [1.0, \"#f0f921\"]], \"type\": \"histogram2dcontour\"}], \"mesh3d\": [{\"colorbar\": {\"outlinewidth\": 0, \"ticks\": \"\"}, \"type\": \"mesh3d\"}], \"parcoords\": [{\"line\": {\"colorbar\": {\"outlinewidth\": 0, \"ticks\": \"\"}}, \"type\": \"parcoords\"}], \"pie\": [{\"automargin\": true, \"type\": \"pie\"}], \"scatter\": [{\"marker\": {\"colorbar\": {\"outlinewidth\": 0, \"ticks\": \"\"}}, \"type\": \"scatter\"}], \"scatter3d\": [{\"line\": {\"colorbar\": {\"outlinewidth\": 0, \"ticks\": \"\"}}, \"marker\": {\"colorbar\": {\"outlinewidth\": 0, \"ticks\": \"\"}}, \"type\": \"scatter3d\"}], \"scattercarpet\": [{\"marker\": {\"colorbar\": {\"outlinewidth\": 0, \"ticks\": \"\"}}, \"type\": \"scattercarpet\"}], \"scattergeo\": [{\"marker\": {\"colorbar\": {\"outlinewidth\": 0, \"ticks\": \"\"}}, \"type\": \"scattergeo\"}], \"scattergl\": [{\"marker\": {\"colorbar\": {\"outlinewidth\": 0, \"ticks\": \"\"}}, \"type\": \"scattergl\"}], \"scattermapbox\": [{\"marker\": {\"colorbar\": {\"outlinewidth\": 0, \"ticks\": \"\"}}, \"type\": \"scattermapbox\"}], \"scatterpolar\": [{\"marker\": {\"colorbar\": {\"outlinewidth\": 0, \"ticks\": \"\"}}, \"type\": \"scatterpolar\"}], \"scatterpolargl\": [{\"marker\": {\"colorbar\": {\"outlinewidth\": 0, \"ticks\": \"\"}}, \"type\": \"scatterpolargl\"}], \"scatterternary\": [{\"marker\": {\"colorbar\": {\"outlinewidth\": 0, \"ticks\": \"\"}}, \"type\": \"scatterternary\"}], \"surface\": [{\"colorbar\": {\"outlinewidth\": 0, \"ticks\": \"\"}, \"colorscale\": [[0.0, \"#0d0887\"], [0.1111111111111111, \"#46039f\"], [0.2222222222222222, \"#7201a8\"], [0.3333333333333333, \"#9c179e\"], [0.4444444444444444, \"#bd3786\"], [0.5555555555555556, \"#d8576b\"], [0.6666666666666666, \"#ed7953\"], [0.7777777777777778, \"#fb9f3a\"], [0.8888888888888888, \"#fdca26\"], [1.0, \"#f0f921\"]], \"type\": \"surface\"}], \"table\": [{\"cells\": {\"fill\": {\"color\": \"#EBF0F8\"}, \"line\": {\"color\": \"white\"}}, \"header\": {\"fill\": {\"color\": \"#C8D4E3\"}, \"line\": {\"color\": \"white\"}}, \"type\": \"table\"}]}, \"layout\": {\"annotationdefaults\": {\"arrowcolor\": \"#2a3f5f\", \"arrowhead\": 0, \"arrowwidth\": 1}, \"coloraxis\": {\"colorbar\": {\"outlinewidth\": 0, \"ticks\": \"\"}}, \"colorscale\": {\"diverging\": [[0, \"#8e0152\"], [0.1, \"#c51b7d\"], [0.2, \"#de77ae\"], [0.3, \"#f1b6da\"], [0.4, \"#fde0ef\"], [0.5, \"#f7f7f7\"], [0.6, \"#e6f5d0\"], [0.7, \"#b8e186\"], [0.8, \"#7fbc41\"], [0.9, \"#4d9221\"], [1, \"#276419\"]], \"sequential\": [[0.0, \"#0d0887\"], [0.1111111111111111, \"#46039f\"], [0.2222222222222222, \"#7201a8\"], [0.3333333333333333, \"#9c179e\"], [0.4444444444444444, \"#bd3786\"], [0.5555555555555556, \"#d8576b\"], [0.6666666666666666, \"#ed7953\"], [0.7777777777777778, \"#fb9f3a\"], [0.8888888888888888, \"#fdca26\"], [1.0, \"#f0f921\"]], \"sequentialminus\": [[0.0, \"#0d0887\"], [0.1111111111111111, \"#46039f\"], [0.2222222222222222, \"#7201a8\"], [0.3333333333333333, \"#9c179e\"], [0.4444444444444444, \"#bd3786\"], [0.5555555555555556, \"#d8576b\"], [0.6666666666666666, \"#ed7953\"], [0.7777777777777778, \"#fb9f3a\"], [0.8888888888888888, \"#fdca26\"], [1.0, \"#f0f921\"]]}, \"colorway\": [\"#636efa\", \"#EF553B\", \"#00cc96\", \"#ab63fa\", \"#FFA15A\", \"#19d3f3\", \"#FF6692\", \"#B6E880\", \"#FF97FF\", \"#FECB52\"], \"font\": {\"color\": \"#2a3f5f\"}, \"geo\": {\"bgcolor\": \"white\", \"lakecolor\": \"white\", \"landcolor\": \"#E5ECF6\", \"showlakes\": true, \"showland\": true, \"subunitcolor\": \"white\"}, \"hoverlabel\": {\"align\": \"left\"}, \"hovermode\": \"closest\", \"mapbox\": {\"style\": \"light\"}, \"paper_bgcolor\": \"white\", \"plot_bgcolor\": \"#E5ECF6\", \"polar\": {\"angularaxis\": {\"gridcolor\": \"white\", \"linecolor\": \"white\", \"ticks\": \"\"}, \"bgcolor\": \"#E5ECF6\", \"radialaxis\": {\"gridcolor\": \"white\", \"linecolor\": \"white\", \"ticks\": \"\"}}, \"scene\": {\"xaxis\": {\"backgroundcolor\": \"#E5ECF6\", \"gridcolor\": \"white\", \"gridwidth\": 2, \"linecolor\": \"white\", \"showbackground\": true, \"ticks\": \"\", \"zerolinecolor\": \"white\"}, \"yaxis\": {\"backgroundcolor\": \"#E5ECF6\", \"gridcolor\": \"white\", \"gridwidth\": 2, \"linecolor\": \"white\", \"showbackground\": true, \"ticks\": \"\", \"zerolinecolor\": \"white\"}, \"zaxis\": {\"backgroundcolor\": \"#E5ECF6\", \"gridcolor\": \"white\", \"gridwidth\": 2, \"linecolor\": \"white\", \"showbackground\": true, \"ticks\": \"\", \"zerolinecolor\": \"white\"}}, \"shapedefaults\": {\"line\": {\"color\": \"#2a3f5f\"}}, \"ternary\": {\"aaxis\": {\"gridcolor\": \"white\", \"linecolor\": \"white\", \"ticks\": \"\"}, \"baxis\": {\"gridcolor\": \"white\", \"linecolor\": \"white\", \"ticks\": \"\"}, \"bgcolor\": \"#E5ECF6\", \"caxis\": {\"gridcolor\": \"white\", \"linecolor\": \"white\", \"ticks\": \"\"}}, \"title\": {\"x\": 0.05}, \"xaxis\": {\"automargin\": true, \"gridcolor\": \"white\", \"linecolor\": \"white\", \"ticks\": \"\", \"title\": {\"standoff\": 15}, \"zerolinecolor\": \"white\", \"zerolinewidth\": 2}, \"yaxis\": {\"automargin\": true, \"gridcolor\": \"white\", \"linecolor\": \"white\", \"ticks\": \"\", \"title\": {\"standoff\": 15}, \"zerolinecolor\": \"white\", \"zerolinewidth\": 2}}}, \"xaxis\": {\"anchor\": \"y\", \"domain\": [0.0, 1.0], \"title\": {\"text\": \"value\"}}, \"yaxis\": {\"anchor\": \"x\", \"domain\": [0.0, 1.0], \"title\": {\"text\": \"count\"}}},\n",
       "                        {\"responsive\": true}\n",
       "                    ).then(function(){\n",
       "                            \n",
       "var gd = document.getElementById('12ab73e1-3abc-4605-8851-4c2192d81d3f');\n",
       "var x = new MutationObserver(function (mutations, observer) {{\n",
       "        var display = window.getComputedStyle(gd).display;\n",
       "        if (!display || display === 'none') {{\n",
       "            console.log([gd, 'removed!']);\n",
       "            Plotly.purge(gd);\n",
       "            observer.disconnect();\n",
       "        }}\n",
       "}});\n",
       "\n",
       "// Listen for the removal of the full notebook cells\n",
       "var notebookContainer = gd.closest('#notebook-container');\n",
       "if (notebookContainer) {{\n",
       "    x.observe(notebookContainer, {childList: true});\n",
       "}}\n",
       "\n",
       "// Listen for the clearing of the current output cell\n",
       "var outputEl = gd.closest('.output');\n",
       "if (outputEl) {{\n",
       "    x.observe(outputEl, {childList: true});\n",
       "}}\n",
       "\n",
       "                        })\n",
       "                };\n",
       "                });\n",
       "            </script>\n",
       "        </div>"
      ]
     },
     "metadata": {},
     "output_type": "display_data"
    }
   ],
   "source": [
    "df[df['Regione'] == 'Calabria']['Taglia'].plot(kind='hist')"
   ]
  },
  {
   "cell_type": "code",
   "execution_count": 47,
   "metadata": {},
   "outputs": [
    {
     "data": {
      "text/plain": [
       "2012    0.333333\n",
       "2014    0.186667\n",
       "2013    0.120000\n",
       "2016    0.093333\n",
       "2015    0.080000\n",
       "2011    0.053333\n",
       "2008    0.053333\n",
       "2018    0.040000\n",
       "2017    0.040000\n",
       "Name: Anno, dtype: float64"
      ]
     },
     "execution_count": 47,
     "metadata": {},
     "output_type": "execute_result"
    }
   ],
   "source": [
    "df[df['Regione'] == 'Calabria']['Anno'].value_counts() / df[df['Regione'] == 'Calabria']['Anno'].value_counts().sum()"
   ]
  },
  {
   "cell_type": "code",
   "execution_count": 48,
   "metadata": {},
   "outputs": [
    {
     "data": {
      "text/plain": [
       "75"
      ]
     },
     "execution_count": 48,
     "metadata": {},
     "output_type": "execute_result"
    }
   ],
   "source": [
    "df[df['Regione'] == 'Calabria']['Anno'].value_counts().sum()"
   ]
  },
  {
   "cell_type": "code",
   "execution_count": 49,
   "metadata": {},
   "outputs": [],
   "source": [
    "calabria = df[df['Regione'] == 'Calabria']\n",
    "anno1314 = df[(df['Anno'] == 2013) | (df['Anno'] == 2014)]\n",
    "anno1314 = anno1314[anno1314['Regione'] == 'Calabria']\n",
    "anno12 = df[df['Anno'] == 2012]\n",
    "anno12 = anno12[anno12['Regione'] == 'Calabria']"
   ]
  },
  {
   "cell_type": "code",
   "execution_count": 50,
   "metadata": {},
   "outputs": [
    {
     "data": {
      "text/plain": [
       "50.45652173913044"
      ]
     },
     "execution_count": 50,
     "metadata": {},
     "output_type": "execute_result"
    }
   ],
   "source": [
    "anno1314['Taglia'].mean()"
   ]
  },
  {
   "cell_type": "code",
   "execution_count": 51,
   "metadata": {},
   "outputs": [
    {
     "data": {
      "text/plain": [
       "32.8"
      ]
     },
     "execution_count": 51,
     "metadata": {},
     "output_type": "execute_result"
    }
   ],
   "source": [
    "anno12['Taglia'].mean()"
   ]
  },
  {
   "cell_type": "code",
   "execution_count": 52,
   "metadata": {},
   "outputs": [
    {
     "data": {
      "text/plain": [
       "49.39725274725274"
      ]
     },
     "execution_count": 52,
     "metadata": {},
     "output_type": "execute_result"
    }
   ],
   "source": [
    "df['Taglia'].mean()"
   ]
  },
  {
   "cell_type": "code",
   "execution_count": 53,
   "metadata": {},
   "outputs": [
    {
     "data": {
      "text/plain": [
       "50.86"
      ]
     },
     "execution_count": 53,
     "metadata": {},
     "output_type": "execute_result"
    }
   ],
   "source": [
    "calabria[calabria['Anno'] != 2012]['Taglia'].mean()"
   ]
  },
  {
   "cell_type": "code",
   "execution_count": 54,
   "metadata": {},
   "outputs": [
    {
     "data": {
      "text/plain": [
       "34.666666666666664"
      ]
     },
     "execution_count": 54,
     "metadata": {},
     "output_type": "execute_result"
    }
   ],
   "source": [
    "calabria[calabria['Anno'] == 2017]['Taglia'].mean()"
   ]
  },
  {
   "cell_type": "code",
   "execution_count": 64,
   "metadata": {},
   "outputs": [
    {
     "data": {
      "image/png": "[encoded data removed]",
      "text/plain": [
       "<Figure size 1080x1080 with 1 Axes>"
      ]
     },
     "metadata": {},
     "output_type": "display_data"
    }
   ],
   "source": [
    "sns.boxplot(data=df, x='Anno', y='Taglia')\n",
    "\n",
    "plt.savefig(\"boxplot_anni.png\")"
   ]
  },
  {
   "cell_type": "code",
   "execution_count": 65,
   "metadata": {},
   "outputs": [
    {
     "data": {
      "image/png": "[encoded data removed]",
      "text/plain": [
       "<Figure size 1080x1080 with 1 Axes>"
      ]
     },
     "metadata": {},
     "output_type": "display_data"
    }
   ],
   "source": [
    "sns.boxplot(data=calabria, x='Anno', y='Taglia')\n",
    "\n",
    "plt.savefig(\"boxplot_calabria.png\")"
   ]
  },
  {
   "cell_type": "code",
   "execution_count": 57,
   "metadata": {},
   "outputs": [
    {
     "data": {
      "text/html": [
       "<div>\n",
       "<style scoped>\n",
       "    .dataframe tbody tr th:only-of-type {\n",
       "        vertical-align: middle;\n",
       "    }\n",
       "\n",
       "    .dataframe tbody tr th {\n",
       "        vertical-align: top;\n",
       "    }\n",
       "\n",
       "    .dataframe thead th {\n",
       "        text-align: right;\n",
       "    }\n",
       "</style>\n",
       "<table border=\"1\" class=\"dataframe\">\n",
       "  <thead>\n",
       "    <tr style=\"text-align: right;\">\n",
       "      <th></th>\n",
       "      <th>Anno</th>\n",
       "      <th>Stagione</th>\n",
       "      <th>Taglia</th>\n",
       "      <th>Regione</th>\n",
       "    </tr>\n",
       "  </thead>\n",
       "  <tbody>\n",
       "    <tr>\n",
       "      <th>0</th>\n",
       "      <td>2013</td>\n",
       "      <td>Autunno</td>\n",
       "      <td>58.0</td>\n",
       "      <td>Puglia</td>\n",
       "    </tr>\n",
       "    <tr>\n",
       "      <th>18</th>\n",
       "      <td>2013</td>\n",
       "      <td>Estate</td>\n",
       "      <td>50.0</td>\n",
       "      <td>Puglia</td>\n",
       "    </tr>\n",
       "    <tr>\n",
       "      <th>21</th>\n",
       "      <td>2013</td>\n",
       "      <td>Primavera</td>\n",
       "      <td>34.5</td>\n",
       "      <td>Puglia</td>\n",
       "    </tr>\n",
       "    <tr>\n",
       "      <th>22</th>\n",
       "      <td>2013</td>\n",
       "      <td>Primavera</td>\n",
       "      <td>21.0</td>\n",
       "      <td>Puglia</td>\n",
       "    </tr>\n",
       "    <tr>\n",
       "      <th>23</th>\n",
       "      <td>2013</td>\n",
       "      <td>Primavera</td>\n",
       "      <td>30.0</td>\n",
       "      <td>Puglia</td>\n",
       "    </tr>\n",
       "    <tr>\n",
       "      <th>24</th>\n",
       "      <td>2013</td>\n",
       "      <td>Primavera</td>\n",
       "      <td>31.0</td>\n",
       "      <td>Puglia</td>\n",
       "    </tr>\n",
       "    <tr>\n",
       "      <th>26</th>\n",
       "      <td>2013</td>\n",
       "      <td>Primavera</td>\n",
       "      <td>27.5</td>\n",
       "      <td>Puglia</td>\n",
       "    </tr>\n",
       "    <tr>\n",
       "      <th>27</th>\n",
       "      <td>2013</td>\n",
       "      <td>Primavera</td>\n",
       "      <td>11.0</td>\n",
       "      <td>Puglia</td>\n",
       "    </tr>\n",
       "    <tr>\n",
       "      <th>176</th>\n",
       "      <td>2013</td>\n",
       "      <td>Autunno</td>\n",
       "      <td>36.0</td>\n",
       "      <td>Calabria</td>\n",
       "    </tr>\n",
       "    <tr>\n",
       "      <th>177</th>\n",
       "      <td>2013</td>\n",
       "      <td>Autunno</td>\n",
       "      <td>32.0</td>\n",
       "      <td>Calabria</td>\n",
       "    </tr>\n",
       "    <tr>\n",
       "      <th>178</th>\n",
       "      <td>2013</td>\n",
       "      <td>Primavera</td>\n",
       "      <td>60.0</td>\n",
       "      <td>Calabria</td>\n",
       "    </tr>\n",
       "    <tr>\n",
       "      <th>179</th>\n",
       "      <td>2013</td>\n",
       "      <td>Primavera</td>\n",
       "      <td>14.0</td>\n",
       "      <td>Calabria</td>\n",
       "    </tr>\n",
       "    <tr>\n",
       "      <th>194</th>\n",
       "      <td>2013</td>\n",
       "      <td>Estate</td>\n",
       "      <td>45.0</td>\n",
       "      <td>Calabria</td>\n",
       "    </tr>\n",
       "    <tr>\n",
       "      <th>195</th>\n",
       "      <td>2013</td>\n",
       "      <td>Primavera</td>\n",
       "      <td>80.0</td>\n",
       "      <td>Calabria</td>\n",
       "    </tr>\n",
       "    <tr>\n",
       "      <th>196</th>\n",
       "      <td>2013</td>\n",
       "      <td>Primavera</td>\n",
       "      <td>100.0</td>\n",
       "      <td>Calabria</td>\n",
       "    </tr>\n",
       "    <tr>\n",
       "      <th>197</th>\n",
       "      <td>2013</td>\n",
       "      <td>Primavera</td>\n",
       "      <td>60.0</td>\n",
       "      <td>Calabria</td>\n",
       "    </tr>\n",
       "    <tr>\n",
       "      <th>214</th>\n",
       "      <td>2013</td>\n",
       "      <td>Autunno</td>\n",
       "      <td>67.0</td>\n",
       "      <td>Calabria</td>\n",
       "    </tr>\n",
       "    <tr>\n",
       "      <th>272</th>\n",
       "      <td>2013</td>\n",
       "      <td>Autunno</td>\n",
       "      <td>49.0</td>\n",
       "      <td>Basilicata</td>\n",
       "    </tr>\n",
       "    <tr>\n",
       "      <th>273</th>\n",
       "      <td>2013</td>\n",
       "      <td>Autunno</td>\n",
       "      <td>64.0</td>\n",
       "      <td>Basilicata</td>\n",
       "    </tr>\n",
       "    <tr>\n",
       "      <th>275</th>\n",
       "      <td>2013</td>\n",
       "      <td>Autunno</td>\n",
       "      <td>49.0</td>\n",
       "      <td>Basilicata</td>\n",
       "    </tr>\n",
       "    <tr>\n",
       "      <th>280</th>\n",
       "      <td>2013</td>\n",
       "      <td>Estate</td>\n",
       "      <td>58.0</td>\n",
       "      <td>Basilicata</td>\n",
       "    </tr>\n",
       "    <tr>\n",
       "      <th>281</th>\n",
       "      <td>2013</td>\n",
       "      <td>Estate</td>\n",
       "      <td>51.0</td>\n",
       "      <td>Basilicata</td>\n",
       "    </tr>\n",
       "    <tr>\n",
       "      <th>282</th>\n",
       "      <td>2013</td>\n",
       "      <td>Primavera</td>\n",
       "      <td>9.0</td>\n",
       "      <td>Basilicata</td>\n",
       "    </tr>\n",
       "  </tbody>\n",
       "</table>\n",
       "</div>"
      ],
      "text/plain": [
       "     Anno   Stagione  Taglia     Regione\n",
       "0    2013    Autunno    58.0      Puglia\n",
       "18   2013     Estate    50.0      Puglia\n",
       "21   2013  Primavera    34.5      Puglia\n",
       "22   2013  Primavera    21.0      Puglia\n",
       "23   2013  Primavera    30.0      Puglia\n",
       "24   2013  Primavera    31.0      Puglia\n",
       "26   2013  Primavera    27.5      Puglia\n",
       "27   2013  Primavera    11.0      Puglia\n",
       "176  2013    Autunno    36.0    Calabria\n",
       "177  2013    Autunno    32.0    Calabria\n",
       "178  2013  Primavera    60.0    Calabria\n",
       "179  2013  Primavera    14.0    Calabria\n",
       "194  2013     Estate    45.0    Calabria\n",
       "195  2013  Primavera    80.0    Calabria\n",
       "196  2013  Primavera   100.0    Calabria\n",
       "197  2013  Primavera    60.0    Calabria\n",
       "214  2013    Autunno    67.0    Calabria\n",
       "272  2013    Autunno    49.0  Basilicata\n",
       "273  2013    Autunno    64.0  Basilicata\n",
       "275  2013    Autunno    49.0  Basilicata\n",
       "280  2013     Estate    58.0  Basilicata\n",
       "281  2013     Estate    51.0  Basilicata\n",
       "282  2013  Primavera     9.0  Basilicata"
      ]
     },
     "execution_count": 57,
     "metadata": {},
     "output_type": "execute_result"
    }
   ],
   "source": [
    "df[df['Anno'] == 2013]"
   ]
  },
  {
   "cell_type": "code",
   "execution_count": 58,
   "metadata": {},
   "outputs": [
    {
     "data": {
      "text/html": [
       "<div>\n",
       "<style scoped>\n",
       "    .dataframe tbody tr th:only-of-type {\n",
       "        vertical-align: middle;\n",
       "    }\n",
       "\n",
       "    .dataframe tbody tr th {\n",
       "        vertical-align: top;\n",
       "    }\n",
       "\n",
       "    .dataframe thead th {\n",
       "        text-align: right;\n",
       "    }\n",
       "</style>\n",
       "<table border=\"1\" class=\"dataframe\">\n",
       "  <thead>\n",
       "    <tr style=\"text-align: right;\">\n",
       "      <th></th>\n",
       "      <th>Anno</th>\n",
       "      <th>Stagione</th>\n",
       "      <th>Taglia</th>\n",
       "      <th>Regione</th>\n",
       "    </tr>\n",
       "  </thead>\n",
       "  <tbody>\n",
       "    <tr>\n",
       "      <th>2</th>\n",
       "      <td>2014</td>\n",
       "      <td>Inverno</td>\n",
       "      <td>35.0</td>\n",
       "      <td>Puglia</td>\n",
       "    </tr>\n",
       "    <tr>\n",
       "      <th>28</th>\n",
       "      <td>2014</td>\n",
       "      <td>Autunno</td>\n",
       "      <td>38.0</td>\n",
       "      <td>Puglia</td>\n",
       "    </tr>\n",
       "    <tr>\n",
       "      <th>29</th>\n",
       "      <td>2014</td>\n",
       "      <td>Autunno</td>\n",
       "      <td>60.0</td>\n",
       "      <td>Puglia</td>\n",
       "    </tr>\n",
       "    <tr>\n",
       "      <th>30</th>\n",
       "      <td>2014</td>\n",
       "      <td>Autunno</td>\n",
       "      <td>62.0</td>\n",
       "      <td>Puglia</td>\n",
       "    </tr>\n",
       "    <tr>\n",
       "      <th>31</th>\n",
       "      <td>2014</td>\n",
       "      <td>Estate</td>\n",
       "      <td>55.0</td>\n",
       "      <td>Puglia</td>\n",
       "    </tr>\n",
       "    <tr>\n",
       "      <th>32</th>\n",
       "      <td>2014</td>\n",
       "      <td>Estate</td>\n",
       "      <td>54.0</td>\n",
       "      <td>Puglia</td>\n",
       "    </tr>\n",
       "    <tr>\n",
       "      <th>33</th>\n",
       "      <td>2014</td>\n",
       "      <td>Inverno</td>\n",
       "      <td>50.0</td>\n",
       "      <td>Puglia</td>\n",
       "    </tr>\n",
       "    <tr>\n",
       "      <th>34</th>\n",
       "      <td>2014</td>\n",
       "      <td>Inverno</td>\n",
       "      <td>46.0</td>\n",
       "      <td>Puglia</td>\n",
       "    </tr>\n",
       "    <tr>\n",
       "      <th>35</th>\n",
       "      <td>2014</td>\n",
       "      <td>Inverno</td>\n",
       "      <td>6.5</td>\n",
       "      <td>Puglia</td>\n",
       "    </tr>\n",
       "    <tr>\n",
       "      <th>180</th>\n",
       "      <td>2014</td>\n",
       "      <td>Autunno</td>\n",
       "      <td>39.0</td>\n",
       "      <td>Calabria</td>\n",
       "    </tr>\n",
       "    <tr>\n",
       "      <th>181</th>\n",
       "      <td>2014</td>\n",
       "      <td>Autunno</td>\n",
       "      <td>39.0</td>\n",
       "      <td>Calabria</td>\n",
       "    </tr>\n",
       "    <tr>\n",
       "      <th>182</th>\n",
       "      <td>2014</td>\n",
       "      <td>Estate</td>\n",
       "      <td>60.0</td>\n",
       "      <td>Calabria</td>\n",
       "    </tr>\n",
       "    <tr>\n",
       "      <th>183</th>\n",
       "      <td>2014</td>\n",
       "      <td>Estate</td>\n",
       "      <td>37.0</td>\n",
       "      <td>Calabria</td>\n",
       "    </tr>\n",
       "    <tr>\n",
       "      <th>184</th>\n",
       "      <td>2014</td>\n",
       "      <td>Primavera</td>\n",
       "      <td>31.0</td>\n",
       "      <td>Calabria</td>\n",
       "    </tr>\n",
       "    <tr>\n",
       "      <th>198</th>\n",
       "      <td>2014</td>\n",
       "      <td>Autunno</td>\n",
       "      <td>69.0</td>\n",
       "      <td>Calabria</td>\n",
       "    </tr>\n",
       "    <tr>\n",
       "      <th>199</th>\n",
       "      <td>2014</td>\n",
       "      <td>Estate</td>\n",
       "      <td>72.0</td>\n",
       "      <td>Calabria</td>\n",
       "    </tr>\n",
       "    <tr>\n",
       "      <th>200</th>\n",
       "      <td>2014</td>\n",
       "      <td>Estate</td>\n",
       "      <td>31.0</td>\n",
       "      <td>Calabria</td>\n",
       "    </tr>\n",
       "    <tr>\n",
       "      <th>201</th>\n",
       "      <td>2014</td>\n",
       "      <td>Estate</td>\n",
       "      <td>52.0</td>\n",
       "      <td>Calabria</td>\n",
       "    </tr>\n",
       "    <tr>\n",
       "      <th>202</th>\n",
       "      <td>2014</td>\n",
       "      <td>Estate</td>\n",
       "      <td>26.0</td>\n",
       "      <td>Calabria</td>\n",
       "    </tr>\n",
       "    <tr>\n",
       "      <th>203</th>\n",
       "      <td>2014</td>\n",
       "      <td>Primavera</td>\n",
       "      <td>27.0</td>\n",
       "      <td>Calabria</td>\n",
       "    </tr>\n",
       "    <tr>\n",
       "      <th>204</th>\n",
       "      <td>2014</td>\n",
       "      <td>Inverno</td>\n",
       "      <td>70.0</td>\n",
       "      <td>Calabria</td>\n",
       "    </tr>\n",
       "    <tr>\n",
       "      <th>215</th>\n",
       "      <td>2014</td>\n",
       "      <td>Autunno</td>\n",
       "      <td>55.0</td>\n",
       "      <td>Calabria</td>\n",
       "    </tr>\n",
       "    <tr>\n",
       "      <th>216</th>\n",
       "      <td>2014</td>\n",
       "      <td>Estate</td>\n",
       "      <td>58.5</td>\n",
       "      <td>Calabria</td>\n",
       "    </tr>\n",
       "    <tr>\n",
       "      <th>283</th>\n",
       "      <td>2014</td>\n",
       "      <td>Autunno</td>\n",
       "      <td>60.0</td>\n",
       "      <td>Basilicata</td>\n",
       "    </tr>\n",
       "    <tr>\n",
       "      <th>284</th>\n",
       "      <td>2014</td>\n",
       "      <td>Autunno</td>\n",
       "      <td>55.0</td>\n",
       "      <td>Basilicata</td>\n",
       "    </tr>\n",
       "    <tr>\n",
       "      <th>285</th>\n",
       "      <td>2014</td>\n",
       "      <td>Autunno</td>\n",
       "      <td>45.0</td>\n",
       "      <td>Basilicata</td>\n",
       "    </tr>\n",
       "    <tr>\n",
       "      <th>286</th>\n",
       "      <td>2014</td>\n",
       "      <td>Autunno</td>\n",
       "      <td>35.0</td>\n",
       "      <td>Basilicata</td>\n",
       "    </tr>\n",
       "    <tr>\n",
       "      <th>287</th>\n",
       "      <td>2014</td>\n",
       "      <td>Autunno</td>\n",
       "      <td>69.0</td>\n",
       "      <td>Basilicata</td>\n",
       "    </tr>\n",
       "    <tr>\n",
       "      <th>288</th>\n",
       "      <td>2014</td>\n",
       "      <td>Autunno</td>\n",
       "      <td>46.0</td>\n",
       "      <td>Basilicata</td>\n",
       "    </tr>\n",
       "    <tr>\n",
       "      <th>289</th>\n",
       "      <td>2014</td>\n",
       "      <td>Autunno</td>\n",
       "      <td>36.0</td>\n",
       "      <td>Basilicata</td>\n",
       "    </tr>\n",
       "    <tr>\n",
       "      <th>290</th>\n",
       "      <td>2014</td>\n",
       "      <td>Autunno</td>\n",
       "      <td>48.0</td>\n",
       "      <td>Basilicata</td>\n",
       "    </tr>\n",
       "    <tr>\n",
       "      <th>291</th>\n",
       "      <td>2014</td>\n",
       "      <td>Autunno</td>\n",
       "      <td>53.0</td>\n",
       "      <td>Basilicata</td>\n",
       "    </tr>\n",
       "    <tr>\n",
       "      <th>292</th>\n",
       "      <td>2014</td>\n",
       "      <td>Estate</td>\n",
       "      <td>63.0</td>\n",
       "      <td>Basilicata</td>\n",
       "    </tr>\n",
       "    <tr>\n",
       "      <th>293</th>\n",
       "      <td>2014</td>\n",
       "      <td>Estate</td>\n",
       "      <td>40.0</td>\n",
       "      <td>Basilicata</td>\n",
       "    </tr>\n",
       "    <tr>\n",
       "      <th>294</th>\n",
       "      <td>2014</td>\n",
       "      <td>Estate</td>\n",
       "      <td>48.0</td>\n",
       "      <td>Basilicata</td>\n",
       "    </tr>\n",
       "    <tr>\n",
       "      <th>295</th>\n",
       "      <td>2014</td>\n",
       "      <td>Primavera</td>\n",
       "      <td>56.0</td>\n",
       "      <td>Basilicata</td>\n",
       "    </tr>\n",
       "    <tr>\n",
       "      <th>296</th>\n",
       "      <td>2014</td>\n",
       "      <td>Primavera</td>\n",
       "      <td>49.0</td>\n",
       "      <td>Basilicata</td>\n",
       "    </tr>\n",
       "    <tr>\n",
       "      <th>297</th>\n",
       "      <td>2014</td>\n",
       "      <td>Primavera</td>\n",
       "      <td>34.0</td>\n",
       "      <td>Basilicata</td>\n",
       "    </tr>\n",
       "    <tr>\n",
       "      <th>298</th>\n",
       "      <td>2014</td>\n",
       "      <td>Primavera</td>\n",
       "      <td>60.0</td>\n",
       "      <td>Basilicata</td>\n",
       "    </tr>\n",
       "    <tr>\n",
       "      <th>299</th>\n",
       "      <td>2014</td>\n",
       "      <td>Inverno</td>\n",
       "      <td>41.0</td>\n",
       "      <td>Basilicata</td>\n",
       "    </tr>\n",
       "  </tbody>\n",
       "</table>\n",
       "</div>"
      ],
      "text/plain": [
       "     Anno   Stagione  Taglia     Regione\n",
       "2    2014    Inverno    35.0      Puglia\n",
       "28   2014    Autunno    38.0      Puglia\n",
       "29   2014    Autunno    60.0      Puglia\n",
       "30   2014    Autunno    62.0      Puglia\n",
       "31   2014     Estate    55.0      Puglia\n",
       "32   2014     Estate    54.0      Puglia\n",
       "33   2014    Inverno    50.0      Puglia\n",
       "34   2014    Inverno    46.0      Puglia\n",
       "35   2014    Inverno     6.5      Puglia\n",
       "180  2014    Autunno    39.0    Calabria\n",
       "181  2014    Autunno    39.0    Calabria\n",
       "182  2014     Estate    60.0    Calabria\n",
       "183  2014     Estate    37.0    Calabria\n",
       "184  2014  Primavera    31.0    Calabria\n",
       "198  2014    Autunno    69.0    Calabria\n",
       "199  2014     Estate    72.0    Calabria\n",
       "200  2014     Estate    31.0    Calabria\n",
       "201  2014     Estate    52.0    Calabria\n",
       "202  2014     Estate    26.0    Calabria\n",
       "203  2014  Primavera    27.0    Calabria\n",
       "204  2014    Inverno    70.0    Calabria\n",
       "215  2014    Autunno    55.0    Calabria\n",
       "216  2014     Estate    58.5    Calabria\n",
       "283  2014    Autunno    60.0  Basilicata\n",
       "284  2014    Autunno    55.0  Basilicata\n",
       "285  2014    Autunno    45.0  Basilicata\n",
       "286  2014    Autunno    35.0  Basilicata\n",
       "287  2014    Autunno    69.0  Basilicata\n",
       "288  2014    Autunno    46.0  Basilicata\n",
       "289  2014    Autunno    36.0  Basilicata\n",
       "290  2014    Autunno    48.0  Basilicata\n",
       "291  2014    Autunno    53.0  Basilicata\n",
       "292  2014     Estate    63.0  Basilicata\n",
       "293  2014     Estate    40.0  Basilicata\n",
       "294  2014     Estate    48.0  Basilicata\n",
       "295  2014  Primavera    56.0  Basilicata\n",
       "296  2014  Primavera    49.0  Basilicata\n",
       "297  2014  Primavera    34.0  Basilicata\n",
       "298  2014  Primavera    60.0  Basilicata\n",
       "299  2014    Inverno    41.0  Basilicata"
      ]
     },
     "execution_count": 58,
     "metadata": {},
     "output_type": "execute_result"
    }
   ],
   "source": [
    "df[df['Anno'] == 2014]"
   ]
  },
  {
   "cell_type": "code",
   "execution_count": 59,
   "metadata": {},
   "outputs": [
    {
     "data": {
      "text/plain": [
       "Basilicata    50\n",
       "Puglia        22\n",
       "Calabria       3\n",
       "Name: Regione, dtype: int64"
      ]
     },
     "execution_count": 59,
     "metadata": {},
     "output_type": "execute_result"
    }
   ],
   "source": [
    "df[df['Anno'] == 2017]['Regione'].value_counts()"
   ]
  },
  {
   "cell_type": "code",
   "execution_count": 60,
   "metadata": {},
   "outputs": [
    {
     "data": {
      "text/plain": [
       "<matplotlib.axes._subplots.AxesSubplot at 0x7ff320e1a5d0>"
      ]
     },
     "execution_count": 60,
     "metadata": {},
     "output_type": "execute_result"
    },
    {
     "data": {
      "image/png": "[encoded data removed]",
      "text/plain": [
       "<Figure size 1080x1080 with 2 Axes>"
      ]
     },
     "metadata": {},
     "output_type": "display_data"
    }
   ],
   "source": [
    "sns.heatmap(pd.get_dummies(df, columns=['Regione', 'Stagione']).corr(method='spearman'), cmap='viridis', annot=True)"
   ]
  },
  {
   "cell_type": "code",
   "execution_count": 69,
   "metadata": {},
   "outputs": [
    {
     "ename": "KeyError",
     "evalue": "'Calabria'",
     "output_type": "error",
     "traceback": [
      "\u001b[0;31m---------------------------------------------------------------------------\u001b[0m",
      "\u001b[0;31mKeyError\u001b[0m                                  Traceback (most recent call last)",
      "\u001b[0;32m~/opt/anaconda3/lib/python3.7/site-packages/pandas/core/indexes/base.py\u001b[0m in \u001b[0;36mget_loc\u001b[0;34m(self, key, method, tolerance)\u001b[0m\n\u001b[1;32m   2645\u001b[0m             \u001b[0;32mtry\u001b[0m\u001b[0;34m:\u001b[0m\u001b[0;34m\u001b[0m\u001b[0;34m\u001b[0m\u001b[0m\n\u001b[0;32m-> 2646\u001b[0;31m                 \u001b[0;32mreturn\u001b[0m \u001b[0mself\u001b[0m\u001b[0;34m.\u001b[0m\u001b[0m_engine\u001b[0m\u001b[0;34m.\u001b[0m\u001b[0mget_loc\u001b[0m\u001b[0;34m(\u001b[0m\u001b[0mkey\u001b[0m\u001b[0;34m)\u001b[0m\u001b[0;34m\u001b[0m\u001b[0;34m\u001b[0m\u001b[0m\n\u001b[0m\u001b[1;32m   2647\u001b[0m             \u001b[0;32mexcept\u001b[0m \u001b[0mKeyError\u001b[0m\u001b[0;34m:\u001b[0m\u001b[0;34m\u001b[0m\u001b[0;34m\u001b[0m\u001b[0m\n",
      "\u001b[0;32mpandas/_libs/index.pyx\u001b[0m in \u001b[0;36mpandas._libs.index.IndexEngine.get_loc\u001b[0;34m()\u001b[0m\n",
      "\u001b[0;32mpandas/_libs/index.pyx\u001b[0m in \u001b[0;36mpandas._libs.index.IndexEngine.get_loc\u001b[0;34m()\u001b[0m\n",
      "\u001b[0;32mpandas/_libs/hashtable_class_helper.pxi\u001b[0m in \u001b[0;36mpandas._libs.hashtable.PyObjectHashTable.get_item\u001b[0;34m()\u001b[0m\n",
      "\u001b[0;32mpandas/_libs/hashtable_class_helper.pxi\u001b[0m in \u001b[0;36mpandas._libs.hashtable.PyObjectHashTable.get_item\u001b[0;34m()\u001b[0m\n",
      "\u001b[0;31mKeyError\u001b[0m: 'Calabria'",
      "\nDuring handling of the above exception, another exception occurred:\n",
      "\u001b[0;31mKeyError\u001b[0m                                  Traceback (most recent call last)",
      "\u001b[0;32m<ipython-input-69-befa7a54ca21>\u001b[0m in \u001b[0;36m<module>\u001b[0;34m\u001b[0m\n\u001b[0;32m----> 1\u001b[0;31m \u001b[0mdf\u001b[0m\u001b[0;34m[\u001b[0m\u001b[0;34m'Calabria'\u001b[0m\u001b[0;34m]\u001b[0m\u001b[0;34m.\u001b[0m\u001b[0mvalues\u001b[0m\u001b[0;34m(\u001b[0m\u001b[0;34m)\u001b[0m\u001b[0;34m\u001b[0m\u001b[0;34m\u001b[0m\u001b[0m\n\u001b[0m",
      "\u001b[0;32m~/opt/anaconda3/lib/python3.7/site-packages/pandas/core/frame.py\u001b[0m in \u001b[0;36m__getitem__\u001b[0;34m(self, key)\u001b[0m\n\u001b[1;32m   2798\u001b[0m             \u001b[0;32mif\u001b[0m \u001b[0mself\u001b[0m\u001b[0;34m.\u001b[0m\u001b[0mcolumns\u001b[0m\u001b[0;34m.\u001b[0m\u001b[0mnlevels\u001b[0m \u001b[0;34m>\u001b[0m \u001b[0;36m1\u001b[0m\u001b[0;34m:\u001b[0m\u001b[0;34m\u001b[0m\u001b[0;34m\u001b[0m\u001b[0m\n\u001b[1;32m   2799\u001b[0m                 \u001b[0;32mreturn\u001b[0m \u001b[0mself\u001b[0m\u001b[0;34m.\u001b[0m\u001b[0m_getitem_multilevel\u001b[0m\u001b[0;34m(\u001b[0m\u001b[0mkey\u001b[0m\u001b[0;34m)\u001b[0m\u001b[0;34m\u001b[0m\u001b[0;34m\u001b[0m\u001b[0m\n\u001b[0;32m-> 2800\u001b[0;31m             \u001b[0mindexer\u001b[0m \u001b[0;34m=\u001b[0m \u001b[0mself\u001b[0m\u001b[0;34m.\u001b[0m\u001b[0mcolumns\u001b[0m\u001b[0;34m.\u001b[0m\u001b[0mget_loc\u001b[0m\u001b[0;34m(\u001b[0m\u001b[0mkey\u001b[0m\u001b[0;34m)\u001b[0m\u001b[0;34m\u001b[0m\u001b[0;34m\u001b[0m\u001b[0m\n\u001b[0m\u001b[1;32m   2801\u001b[0m             \u001b[0;32mif\u001b[0m \u001b[0mis_integer\u001b[0m\u001b[0;34m(\u001b[0m\u001b[0mindexer\u001b[0m\u001b[0;34m)\u001b[0m\u001b[0;34m:\u001b[0m\u001b[0;34m\u001b[0m\u001b[0;34m\u001b[0m\u001b[0m\n\u001b[1;32m   2802\u001b[0m                 \u001b[0mindexer\u001b[0m \u001b[0;34m=\u001b[0m \u001b[0;34m[\u001b[0m\u001b[0mindexer\u001b[0m\u001b[0;34m]\u001b[0m\u001b[0;34m\u001b[0m\u001b[0;34m\u001b[0m\u001b[0m\n",
      "\u001b[0;32m~/opt/anaconda3/lib/python3.7/site-packages/pandas/core/indexes/base.py\u001b[0m in \u001b[0;36mget_loc\u001b[0;34m(self, key, method, tolerance)\u001b[0m\n\u001b[1;32m   2646\u001b[0m                 \u001b[0;32mreturn\u001b[0m \u001b[0mself\u001b[0m\u001b[0;34m.\u001b[0m\u001b[0m_engine\u001b[0m\u001b[0;34m.\u001b[0m\u001b[0mget_loc\u001b[0m\u001b[0;34m(\u001b[0m\u001b[0mkey\u001b[0m\u001b[0;34m)\u001b[0m\u001b[0;34m\u001b[0m\u001b[0;34m\u001b[0m\u001b[0m\n\u001b[1;32m   2647\u001b[0m             \u001b[0;32mexcept\u001b[0m \u001b[0mKeyError\u001b[0m\u001b[0;34m:\u001b[0m\u001b[0;34m\u001b[0m\u001b[0;34m\u001b[0m\u001b[0m\n\u001b[0;32m-> 2648\u001b[0;31m                 \u001b[0;32mreturn\u001b[0m \u001b[0mself\u001b[0m\u001b[0;34m.\u001b[0m\u001b[0m_engine\u001b[0m\u001b[0;34m.\u001b[0m\u001b[0mget_loc\u001b[0m\u001b[0;34m(\u001b[0m\u001b[0mself\u001b[0m\u001b[0;34m.\u001b[0m\u001b[0m_maybe_cast_indexer\u001b[0m\u001b[0;34m(\u001b[0m\u001b[0mkey\u001b[0m\u001b[0;34m)\u001b[0m\u001b[0;34m)\u001b[0m\u001b[0;34m\u001b[0m\u001b[0;34m\u001b[0m\u001b[0m\n\u001b[0m\u001b[1;32m   2649\u001b[0m         \u001b[0mindexer\u001b[0m \u001b[0;34m=\u001b[0m \u001b[0mself\u001b[0m\u001b[0;34m.\u001b[0m\u001b[0mget_indexer\u001b[0m\u001b[0;34m(\u001b[0m\u001b[0;34m[\u001b[0m\u001b[0mkey\u001b[0m\u001b[0;34m]\u001b[0m\u001b[0;34m,\u001b[0m \u001b[0mmethod\u001b[0m\u001b[0;34m=\u001b[0m\u001b[0mmethod\u001b[0m\u001b[0;34m,\u001b[0m \u001b[0mtolerance\u001b[0m\u001b[0;34m=\u001b[0m\u001b[0mtolerance\u001b[0m\u001b[0;34m)\u001b[0m\u001b[0;34m\u001b[0m\u001b[0;34m\u001b[0m\u001b[0m\n\u001b[1;32m   2650\u001b[0m         \u001b[0;32mif\u001b[0m \u001b[0mindexer\u001b[0m\u001b[0;34m.\u001b[0m\u001b[0mndim\u001b[0m \u001b[0;34m>\u001b[0m \u001b[0;36m1\u001b[0m \u001b[0;32mor\u001b[0m \u001b[0mindexer\u001b[0m\u001b[0;34m.\u001b[0m\u001b[0msize\u001b[0m \u001b[0;34m>\u001b[0m \u001b[0;36m1\u001b[0m\u001b[0;34m:\u001b[0m\u001b[0;34m\u001b[0m\u001b[0;34m\u001b[0m\u001b[0m\n",
      "\u001b[0;32mpandas/_libs/index.pyx\u001b[0m in \u001b[0;36mpandas._libs.index.IndexEngine.get_loc\u001b[0;34m()\u001b[0m\n",
      "\u001b[0;32mpandas/_libs/index.pyx\u001b[0m in \u001b[0;36mpandas._libs.index.IndexEngine.get_loc\u001b[0;34m()\u001b[0m\n",
      "\u001b[0;32mpandas/_libs/hashtable_class_helper.pxi\u001b[0m in \u001b[0;36mpandas._libs.hashtable.PyObjectHashTable.get_item\u001b[0;34m()\u001b[0m\n",
      "\u001b[0;32mpandas/_libs/hashtable_class_helper.pxi\u001b[0m in \u001b[0;36mpandas._libs.hashtable.PyObjectHashTable.get_item\u001b[0;34m()\u001b[0m\n",
      "\u001b[0;31mKeyError\u001b[0m: 'Calabria'"
     ]
    }
   ],
   "source": []
  },
  {
   "cell_type": "code",
   "execution_count": null,
   "metadata": {},
   "outputs": [],
   "source": []
  },
  {
   "cell_type": "code",
   "execution_count": null,
   "metadata": {},
   "outputs": [],
   "source": []
  },
  {
   "cell_type": "code",
   "execution_count": null,
   "metadata": {},
   "outputs": [],
   "source": []
  },
  {
   "cell_type": "code",
   "execution_count": null,
   "metadata": {},
   "outputs": [],
   "source": []
  }
 ],
 "metadata": {
  "kernelspec": {
   "display_name": "Python 3",
   "language": "python",
   "name": "python3"
  },
  "language_info": {
   "codemirror_mode": {
    "name": "ipython",
    "version": 3
   },
   "file_extension": ".py",
   "mimetype": "text/x-python",
   "name": "python",
   "nbconvert_exporter": "python",
   "pygments_lexer": "ipython3",
   "version": "3.7.6"
  }
 },
 "nbformat": 4,
 "nbformat_minor": 4
}
