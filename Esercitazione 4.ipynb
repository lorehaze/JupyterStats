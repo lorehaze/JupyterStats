{
 "cells": [
  {
   "cell_type": "code",
   "execution_count": 44,
   "metadata": {},
   "outputs": [],
   "source": [
    "import pandas as pd\n",
    "import numpy as np\n",
    "import matplotlib.pyplot as plt\n",
    "import seaborn as sns\n",
    "import plotly.graph_objects as go\n",
    "import plotly.io as pio\n",
    "import cufflinks\n",
    "pio.renderers.default = \"jupyterlab\"\n",
    "\n",
    "sns.set_style('whitegrid')\n",
    "plt.rc('axes', titlesize=18) "
   ]
  },
  {
   "cell_type": "code",
   "execution_count": 28,
   "metadata": {},
   "outputs": [],
   "source": [
    "df = pd.read_excel('D.xlsx', sheet_name=\"Sheet1\")"
   ]
  },
  {
   "cell_type": "code",
   "execution_count": 29,
   "metadata": {},
   "outputs": [],
   "source": [
    "df = df.transpose()"
   ]
  },
  {
   "cell_type": "code",
   "execution_count": 30,
   "metadata": {},
   "outputs": [],
   "source": [
    "df.columns = df.loc['probe']"
   ]
  },
  {
   "cell_type": "code",
   "execution_count": 31,
   "metadata": {},
   "outputs": [],
   "source": [
    "df = df.drop(labels='probe')"
   ]
  },
  {
   "cell_type": "code",
   "execution_count": 70,
   "metadata": {},
   "outputs": [],
   "source": [
    "df = df.astype('float')"
   ]
  },
  {
   "cell_type": "code",
   "execution_count": 71,
   "metadata": {},
   "outputs": [
    {
     "data": {
      "text/html": [
       "<div>\n",
       "<style scoped>\n",
       "    .dataframe tbody tr th:only-of-type {\n",
       "        vertical-align: middle;\n",
       "    }\n",
       "\n",
       "    .dataframe tbody tr th {\n",
       "        vertical-align: top;\n",
       "    }\n",
       "\n",
       "    .dataframe thead th {\n",
       "        text-align: right;\n",
       "    }\n",
       "</style>\n",
       "<table border=\"1\" class=\"dataframe\">\n",
       "  <thead>\n",
       "    <tr style=\"text-align: right;\">\n",
       "      <th>probe</th>\n",
       "      <th>A1BG</th>\n",
       "      <th>A1CF</th>\n",
       "      <th>A2BP1</th>\n",
       "      <th>A2LD1</th>\n",
       "      <th>A2M</th>\n",
       "      <th>A2ML1</th>\n",
       "      <th>A3GALT2</th>\n",
       "      <th>A4GALT</th>\n",
       "      <th>A4GNT</th>\n",
       "      <th>AAA1</th>\n",
       "      <th>...</th>\n",
       "      <th>ZWINT</th>\n",
       "      <th>ZXDA</th>\n",
       "      <th>ZXDB</th>\n",
       "      <th>ZXDC</th>\n",
       "      <th>ZYG11A</th>\n",
       "      <th>ZYG11B</th>\n",
       "      <th>ZYX</th>\n",
       "      <th>ZZEF1</th>\n",
       "      <th>ZZZ3</th>\n",
       "      <th>classe</th>\n",
       "    </tr>\n",
       "  </thead>\n",
       "  <tbody>\n",
       "    <tr>\n",
       "      <th>S_ 1</th>\n",
       "      <td>5.303429</td>\n",
       "      <td>7.659399</td>\n",
       "      <td>3.170369</td>\n",
       "      <td>5.772055</td>\n",
       "      <td>9.738542</td>\n",
       "      <td>3.059167</td>\n",
       "      <td>3.475309</td>\n",
       "      <td>4.302587</td>\n",
       "      <td>2.570121</td>\n",
       "      <td>2.730286</td>\n",
       "      <td>...</td>\n",
       "      <td>6.050566</td>\n",
       "      <td>6.950719</td>\n",
       "      <td>6.547960</td>\n",
       "      <td>5.188016</td>\n",
       "      <td>3.249801</td>\n",
       "      <td>6.778044</td>\n",
       "      <td>6.822393</td>\n",
       "      <td>5.516231</td>\n",
       "      <td>6.913556</td>\n",
       "      <td>1.0</td>\n",
       "    </tr>\n",
       "    <tr>\n",
       "      <th>S_ 2</th>\n",
       "      <td>5.375203</td>\n",
       "      <td>7.774488</td>\n",
       "      <td>3.440088</td>\n",
       "      <td>5.709528</td>\n",
       "      <td>9.977348</td>\n",
       "      <td>3.079677</td>\n",
       "      <td>3.761084</td>\n",
       "      <td>4.806791</td>\n",
       "      <td>2.443754</td>\n",
       "      <td>2.693885</td>\n",
       "      <td>...</td>\n",
       "      <td>6.045622</td>\n",
       "      <td>7.332935</td>\n",
       "      <td>6.548315</td>\n",
       "      <td>5.425342</td>\n",
       "      <td>3.050121</td>\n",
       "      <td>6.781734</td>\n",
       "      <td>6.424443</td>\n",
       "      <td>5.587925</td>\n",
       "      <td>6.699748</td>\n",
       "      <td>-1.0</td>\n",
       "    </tr>\n",
       "    <tr>\n",
       "      <th>S_ 3</th>\n",
       "      <td>5.002917</td>\n",
       "      <td>7.472245</td>\n",
       "      <td>3.147841</td>\n",
       "      <td>5.757306</td>\n",
       "      <td>10.160930</td>\n",
       "      <td>3.008859</td>\n",
       "      <td>3.386601</td>\n",
       "      <td>4.470608</td>\n",
       "      <td>2.357630</td>\n",
       "      <td>2.817357</td>\n",
       "      <td>...</td>\n",
       "      <td>6.137849</td>\n",
       "      <td>6.924605</td>\n",
       "      <td>6.446913</td>\n",
       "      <td>5.213447</td>\n",
       "      <td>3.193598</td>\n",
       "      <td>7.020397</td>\n",
       "      <td>7.015004</td>\n",
       "      <td>5.907544</td>\n",
       "      <td>7.213468</td>\n",
       "      <td>1.0</td>\n",
       "    </tr>\n",
       "    <tr>\n",
       "      <th>S_ 4</th>\n",
       "      <td>4.855698</td>\n",
       "      <td>7.744349</td>\n",
       "      <td>3.234828</td>\n",
       "      <td>5.745567</td>\n",
       "      <td>10.174100</td>\n",
       "      <td>3.027464</td>\n",
       "      <td>3.206074</td>\n",
       "      <td>4.621721</td>\n",
       "      <td>2.295113</td>\n",
       "      <td>2.607828</td>\n",
       "      <td>...</td>\n",
       "      <td>6.372085</td>\n",
       "      <td>7.041561</td>\n",
       "      <td>6.306555</td>\n",
       "      <td>5.246610</td>\n",
       "      <td>3.099308</td>\n",
       "      <td>7.082721</td>\n",
       "      <td>6.827014</td>\n",
       "      <td>6.029452</td>\n",
       "      <td>7.398639</td>\n",
       "      <td>-1.0</td>\n",
       "    </tr>\n",
       "    <tr>\n",
       "      <th>S_ 5</th>\n",
       "      <td>4.790543</td>\n",
       "      <td>7.622976</td>\n",
       "      <td>3.296355</td>\n",
       "      <td>5.692692</td>\n",
       "      <td>9.545256</td>\n",
       "      <td>2.760207</td>\n",
       "      <td>3.054018</td>\n",
       "      <td>4.287441</td>\n",
       "      <td>2.451227</td>\n",
       "      <td>2.815971</td>\n",
       "      <td>...</td>\n",
       "      <td>6.883248</td>\n",
       "      <td>6.939386</td>\n",
       "      <td>6.085595</td>\n",
       "      <td>5.133538</td>\n",
       "      <td>3.063719</td>\n",
       "      <td>7.226849</td>\n",
       "      <td>6.086697</td>\n",
       "      <td>6.024281</td>\n",
       "      <td>7.442849</td>\n",
       "      <td>1.0</td>\n",
       "    </tr>\n",
       "  </tbody>\n",
       "</table>\n",
       "<p>5 rows × 20216 columns</p>\n",
       "</div>"
      ],
      "text/plain": [
       "probe      A1BG      A1CF     A2BP1     A2LD1        A2M     A2ML1   A3GALT2  \\\n",
       "S_ 1   5.303429  7.659399  3.170369  5.772055   9.738542  3.059167  3.475309   \n",
       "S_ 2   5.375203  7.774488  3.440088  5.709528   9.977348  3.079677  3.761084   \n",
       "S_ 3   5.002917  7.472245  3.147841  5.757306  10.160930  3.008859  3.386601   \n",
       "S_ 4   4.855698  7.744349  3.234828  5.745567  10.174100  3.027464  3.206074   \n",
       "S_ 5   4.790543  7.622976  3.296355  5.692692   9.545256  2.760207  3.054018   \n",
       "\n",
       "probe    A4GALT     A4GNT      AAA1  ...     ZWINT      ZXDA      ZXDB  \\\n",
       "S_ 1   4.302587  2.570121  2.730286  ...  6.050566  6.950719  6.547960   \n",
       "S_ 2   4.806791  2.443754  2.693885  ...  6.045622  7.332935  6.548315   \n",
       "S_ 3   4.470608  2.357630  2.817357  ...  6.137849  6.924605  6.446913   \n",
       "S_ 4   4.621721  2.295113  2.607828  ...  6.372085  7.041561  6.306555   \n",
       "S_ 5   4.287441  2.451227  2.815971  ...  6.883248  6.939386  6.085595   \n",
       "\n",
       "probe      ZXDC    ZYG11A    ZYG11B       ZYX     ZZEF1      ZZZ3  classe  \n",
       "S_ 1   5.188016  3.249801  6.778044  6.822393  5.516231  6.913556     1.0  \n",
       "S_ 2   5.425342  3.050121  6.781734  6.424443  5.587925  6.699748    -1.0  \n",
       "S_ 3   5.213447  3.193598  7.020397  7.015004  5.907544  7.213468     1.0  \n",
       "S_ 4   5.246610  3.099308  7.082721  6.827014  6.029452  7.398639    -1.0  \n",
       "S_ 5   5.133538  3.063719  7.226849  6.086697  6.024281  7.442849     1.0  \n",
       "\n",
       "[5 rows x 20216 columns]"
      ]
     },
     "execution_count": 71,
     "metadata": {},
     "output_type": "execute_result"
    }
   ],
   "source": [
    "df.head()"
   ]
  },
  {
   "cell_type": "code",
   "execution_count": 72,
   "metadata": {},
   "outputs": [],
   "source": [
    "healthy = df[df['classe'] == -1]"
   ]
  },
  {
   "cell_type": "code",
   "execution_count": 73,
   "metadata": {},
   "outputs": [],
   "source": [
    "sick = df[df['classe'] == 1]"
   ]
  },
  {
   "cell_type": "code",
   "execution_count": 272,
   "metadata": {},
   "outputs": [],
   "source": [
    "n_df = healthy\n",
    "n_df['index'] = healthy.index\n",
    "n_df.reset_index()\n",
    "n_df = pd.melt(n_df.drop('classe', axis=1), id_vars='index')"
   ]
  },
  {
   "cell_type": "code",
   "execution_count": 281,
   "metadata": {},
   "outputs": [
    {
     "data": {
      "image/png": "[encoded data removed]",
      "text/plain": [
       "<Figure size 864x648 with 1 Axes>"
      ]
     },
     "metadata": {},
     "output_type": "display_data"
    }
   ],
   "source": [
    "plt.figure(figsize=(12,9))\n",
    "sns.boxplot(x=\"index\", y=\"value\", data=n_df)\n",
    "plt.title('Pazienti senza il Morbo di Chron')\n",
    "plt.xlabel('Pazienti')\n",
    "plt.ylabel('')\n",
    "plt.savefig('fig1.png')"
   ]
  },
  {
   "cell_type": "code",
   "execution_count": 274,
   "metadata": {},
   "outputs": [],
   "source": [
    "n_df = sick\n",
    "n_df['index'] = sick.index\n",
    "n_df.reset_index()\n",
    "n_df = pd.melt(n_df.drop('classe', axis=1), id_vars='index')"
   ]
  },
  {
   "cell_type": "code",
   "execution_count": 275,
   "metadata": {},
   "outputs": [
    {
     "data": {
      "image/png": "[encoded data removed]",
      "text/plain": [
       "<Figure size 864x648 with 1 Axes>"
      ]
     },
     "metadata": {},
     "output_type": "display_data"
    }
   ],
   "source": [
    "plt.figure(figsize=(12,9))\n",
    "sns.boxplot(x=\"index\", y=\"value\", data=n_df)\n",
    "plt.title('Pazienti con il Morbo di Chron')\n",
    "plt.xlabel('Pazienti')\n",
    "plt.ylabel('')\n",
    "plt.savefig('fig2.png')"
   ]
  },
  {
   "cell_type": "code",
   "execution_count": 79,
   "metadata": {},
   "outputs": [
    {
     "data": {
      "text/html": [
       "<div>\n",
       "<style scoped>\n",
       "    .dataframe tbody tr th:only-of-type {\n",
       "        vertical-align: middle;\n",
       "    }\n",
       "\n",
       "    .dataframe tbody tr th {\n",
       "        vertical-align: top;\n",
       "    }\n",
       "\n",
       "    .dataframe thead th {\n",
       "        text-align: right;\n",
       "    }\n",
       "</style>\n",
       "<table border=\"1\" class=\"dataframe\">\n",
       "  <thead>\n",
       "    <tr style=\"text-align: right;\">\n",
       "      <th>probe</th>\n",
       "      <th>A1BG</th>\n",
       "      <th>A1CF</th>\n",
       "      <th>A2BP1</th>\n",
       "      <th>A2LD1</th>\n",
       "      <th>A2M</th>\n",
       "      <th>A2ML1</th>\n",
       "      <th>A3GALT2</th>\n",
       "      <th>A4GALT</th>\n",
       "      <th>A4GNT</th>\n",
       "      <th>AAA1</th>\n",
       "      <th>...</th>\n",
       "      <th>ZWINT</th>\n",
       "      <th>ZXDA</th>\n",
       "      <th>ZXDB</th>\n",
       "      <th>ZXDC</th>\n",
       "      <th>ZYG11A</th>\n",
       "      <th>ZYG11B</th>\n",
       "      <th>ZYX</th>\n",
       "      <th>ZZEF1</th>\n",
       "      <th>ZZZ3</th>\n",
       "      <th>classe</th>\n",
       "    </tr>\n",
       "  </thead>\n",
       "  <tbody>\n",
       "    <tr>\n",
       "      <th>S_ 1</th>\n",
       "      <td>5.303429</td>\n",
       "      <td>7.659399</td>\n",
       "      <td>3.170369</td>\n",
       "      <td>5.772055</td>\n",
       "      <td>9.738542</td>\n",
       "      <td>3.059167</td>\n",
       "      <td>3.475309</td>\n",
       "      <td>4.302587</td>\n",
       "      <td>2.570121</td>\n",
       "      <td>2.730286</td>\n",
       "      <td>...</td>\n",
       "      <td>6.050566</td>\n",
       "      <td>6.950719</td>\n",
       "      <td>6.547960</td>\n",
       "      <td>5.188016</td>\n",
       "      <td>3.249801</td>\n",
       "      <td>6.778044</td>\n",
       "      <td>6.822393</td>\n",
       "      <td>5.516231</td>\n",
       "      <td>6.913556</td>\n",
       "      <td>1.0</td>\n",
       "    </tr>\n",
       "    <tr>\n",
       "      <th>S_ 2</th>\n",
       "      <td>5.375203</td>\n",
       "      <td>7.774488</td>\n",
       "      <td>3.440088</td>\n",
       "      <td>5.709528</td>\n",
       "      <td>9.977348</td>\n",
       "      <td>3.079677</td>\n",
       "      <td>3.761084</td>\n",
       "      <td>4.806791</td>\n",
       "      <td>2.443754</td>\n",
       "      <td>2.693885</td>\n",
       "      <td>...</td>\n",
       "      <td>6.045622</td>\n",
       "      <td>7.332935</td>\n",
       "      <td>6.548315</td>\n",
       "      <td>5.425342</td>\n",
       "      <td>3.050121</td>\n",
       "      <td>6.781734</td>\n",
       "      <td>6.424443</td>\n",
       "      <td>5.587925</td>\n",
       "      <td>6.699748</td>\n",
       "      <td>-1.0</td>\n",
       "    </tr>\n",
       "    <tr>\n",
       "      <th>S_ 3</th>\n",
       "      <td>5.002917</td>\n",
       "      <td>7.472245</td>\n",
       "      <td>3.147841</td>\n",
       "      <td>5.757306</td>\n",
       "      <td>10.160930</td>\n",
       "      <td>3.008859</td>\n",
       "      <td>3.386601</td>\n",
       "      <td>4.470608</td>\n",
       "      <td>2.357630</td>\n",
       "      <td>2.817357</td>\n",
       "      <td>...</td>\n",
       "      <td>6.137849</td>\n",
       "      <td>6.924605</td>\n",
       "      <td>6.446913</td>\n",
       "      <td>5.213447</td>\n",
       "      <td>3.193598</td>\n",
       "      <td>7.020397</td>\n",
       "      <td>7.015004</td>\n",
       "      <td>5.907544</td>\n",
       "      <td>7.213468</td>\n",
       "      <td>1.0</td>\n",
       "    </tr>\n",
       "    <tr>\n",
       "      <th>S_ 4</th>\n",
       "      <td>4.855698</td>\n",
       "      <td>7.744349</td>\n",
       "      <td>3.234828</td>\n",
       "      <td>5.745567</td>\n",
       "      <td>10.174100</td>\n",
       "      <td>3.027464</td>\n",
       "      <td>3.206074</td>\n",
       "      <td>4.621721</td>\n",
       "      <td>2.295113</td>\n",
       "      <td>2.607828</td>\n",
       "      <td>...</td>\n",
       "      <td>6.372085</td>\n",
       "      <td>7.041561</td>\n",
       "      <td>6.306555</td>\n",
       "      <td>5.246610</td>\n",
       "      <td>3.099308</td>\n",
       "      <td>7.082721</td>\n",
       "      <td>6.827014</td>\n",
       "      <td>6.029452</td>\n",
       "      <td>7.398639</td>\n",
       "      <td>-1.0</td>\n",
       "    </tr>\n",
       "    <tr>\n",
       "      <th>S_ 5</th>\n",
       "      <td>4.790543</td>\n",
       "      <td>7.622976</td>\n",
       "      <td>3.296355</td>\n",
       "      <td>5.692692</td>\n",
       "      <td>9.545256</td>\n",
       "      <td>2.760207</td>\n",
       "      <td>3.054018</td>\n",
       "      <td>4.287441</td>\n",
       "      <td>2.451227</td>\n",
       "      <td>2.815971</td>\n",
       "      <td>...</td>\n",
       "      <td>6.883248</td>\n",
       "      <td>6.939386</td>\n",
       "      <td>6.085595</td>\n",
       "      <td>5.133538</td>\n",
       "      <td>3.063719</td>\n",
       "      <td>7.226849</td>\n",
       "      <td>6.086697</td>\n",
       "      <td>6.024281</td>\n",
       "      <td>7.442849</td>\n",
       "      <td>1.0</td>\n",
       "    </tr>\n",
       "  </tbody>\n",
       "</table>\n",
       "<p>5 rows × 20216 columns</p>\n",
       "</div>"
      ],
      "text/plain": [
       "probe      A1BG      A1CF     A2BP1     A2LD1        A2M     A2ML1   A3GALT2  \\\n",
       "S_ 1   5.303429  7.659399  3.170369  5.772055   9.738542  3.059167  3.475309   \n",
       "S_ 2   5.375203  7.774488  3.440088  5.709528   9.977348  3.079677  3.761084   \n",
       "S_ 3   5.002917  7.472245  3.147841  5.757306  10.160930  3.008859  3.386601   \n",
       "S_ 4   4.855698  7.744349  3.234828  5.745567  10.174100  3.027464  3.206074   \n",
       "S_ 5   4.790543  7.622976  3.296355  5.692692   9.545256  2.760207  3.054018   \n",
       "\n",
       "probe    A4GALT     A4GNT      AAA1  ...     ZWINT      ZXDA      ZXDB  \\\n",
       "S_ 1   4.302587  2.570121  2.730286  ...  6.050566  6.950719  6.547960   \n",
       "S_ 2   4.806791  2.443754  2.693885  ...  6.045622  7.332935  6.548315   \n",
       "S_ 3   4.470608  2.357630  2.817357  ...  6.137849  6.924605  6.446913   \n",
       "S_ 4   4.621721  2.295113  2.607828  ...  6.372085  7.041561  6.306555   \n",
       "S_ 5   4.287441  2.451227  2.815971  ...  6.883248  6.939386  6.085595   \n",
       "\n",
       "probe      ZXDC    ZYG11A    ZYG11B       ZYX     ZZEF1      ZZZ3  classe  \n",
       "S_ 1   5.188016  3.249801  6.778044  6.822393  5.516231  6.913556     1.0  \n",
       "S_ 2   5.425342  3.050121  6.781734  6.424443  5.587925  6.699748    -1.0  \n",
       "S_ 3   5.213447  3.193598  7.020397  7.015004  5.907544  7.213468     1.0  \n",
       "S_ 4   5.246610  3.099308  7.082721  6.827014  6.029452  7.398639    -1.0  \n",
       "S_ 5   5.133538  3.063719  7.226849  6.086697  6.024281  7.442849     1.0  \n",
       "\n",
       "[5 rows x 20216 columns]"
      ]
     },
     "execution_count": 79,
     "metadata": {},
     "output_type": "execute_result"
    }
   ],
   "source": [
    "df.head()"
   ]
  },
  {
   "cell_type": "code",
   "execution_count": 80,
   "metadata": {},
   "outputs": [],
   "source": [
    "a = df['A1BG']\n",
    "b = df['A1CF']"
   ]
  },
  {
   "cell_type": "code",
   "execution_count": 82,
   "metadata": {},
   "outputs": [],
   "source": [
    "from scipy.stats import ttest_ind"
   ]
  },
  {
   "cell_type": "code",
   "execution_count": 83,
   "metadata": {},
   "outputs": [
    {
     "data": {
      "text/plain": [
       "Ttest_indResult(statistic=-15.258355272900623, pvalue=5.745018878325771e-22)"
      ]
     },
     "execution_count": 83,
     "metadata": {},
     "output_type": "execute_result"
    }
   ],
   "source": [
    "ttest_ind(a, b)"
   ]
  },
  {
   "cell_type": "code",
   "execution_count": 121,
   "metadata": {},
   "outputs": [],
   "source": [
    "feat = df.columns[:-1]"
   ]
  },
  {
   "cell_type": "code",
   "execution_count": 129,
   "metadata": {},
   "outputs": [],
   "source": [
    "vett = pd.DataFrame(columns=feat, index=('statistic', 'p-value'))"
   ]
  },
  {
   "cell_type": "code",
   "execution_count": 137,
   "metadata": {},
   "outputs": [],
   "source": [
    "for i in feat:\n",
    "        vett[i] = pd.DataFrame(ttest_ind(healthy[i], sick[i]))"
   ]
  },
  {
   "cell_type": "code",
   "execution_count": 140,
   "metadata": {},
   "outputs": [
    {
     "data": {
      "text/html": [
       "<div>\n",
       "<style scoped>\n",
       "    .dataframe tbody tr th:only-of-type {\n",
       "        vertical-align: middle;\n",
       "    }\n",
       "\n",
       "    .dataframe tbody tr th {\n",
       "        vertical-align: top;\n",
       "    }\n",
       "\n",
       "    .dataframe thead th {\n",
       "        text-align: right;\n",
       "    }\n",
       "</style>\n",
       "<table border=\"1\" class=\"dataframe\">\n",
       "  <thead>\n",
       "    <tr style=\"text-align: right;\">\n",
       "      <th>probe</th>\n",
       "      <th>A1BG</th>\n",
       "      <th>A1CF</th>\n",
       "      <th>A2BP1</th>\n",
       "      <th>A2LD1</th>\n",
       "      <th>A2M</th>\n",
       "      <th>A2ML1</th>\n",
       "      <th>A3GALT2</th>\n",
       "      <th>A4GALT</th>\n",
       "      <th>A4GNT</th>\n",
       "      <th>AAA1</th>\n",
       "      <th>...</th>\n",
       "      <th>ZWILCH</th>\n",
       "      <th>ZWINT</th>\n",
       "      <th>ZXDA</th>\n",
       "      <th>ZXDB</th>\n",
       "      <th>ZXDC</th>\n",
       "      <th>ZYG11A</th>\n",
       "      <th>ZYG11B</th>\n",
       "      <th>ZYX</th>\n",
       "      <th>ZZEF1</th>\n",
       "      <th>ZZZ3</th>\n",
       "    </tr>\n",
       "  </thead>\n",
       "  <tbody>\n",
       "    <tr>\n",
       "      <th>0</th>\n",
       "      <td>-0.227195</td>\n",
       "      <td>2.356373</td>\n",
       "      <td>2.309973</td>\n",
       "      <td>0.807336</td>\n",
       "      <td>-1.122687</td>\n",
       "      <td>-1.340812</td>\n",
       "      <td>1.521251</td>\n",
       "      <td>-1.131566</td>\n",
       "      <td>-1.565903</td>\n",
       "      <td>-1.151876</td>\n",
       "      <td>...</td>\n",
       "      <td>-0.553986</td>\n",
       "      <td>-0.543867</td>\n",
       "      <td>-1.239724</td>\n",
       "      <td>0.118111</td>\n",
       "      <td>0.883886</td>\n",
       "      <td>-2.927812</td>\n",
       "      <td>1.740914</td>\n",
       "      <td>-2.306739</td>\n",
       "      <td>2.352196</td>\n",
       "      <td>0.354010</td>\n",
       "    </tr>\n",
       "    <tr>\n",
       "      <th>1</th>\n",
       "      <td>0.821923</td>\n",
       "      <td>0.025685</td>\n",
       "      <td>0.028477</td>\n",
       "      <td>0.426278</td>\n",
       "      <td>0.271106</td>\n",
       "      <td>0.190758</td>\n",
       "      <td>0.139411</td>\n",
       "      <td>0.267416</td>\n",
       "      <td>0.128605</td>\n",
       "      <td>0.259113</td>\n",
       "      <td>...</td>\n",
       "      <td>0.583986</td>\n",
       "      <td>0.590838</td>\n",
       "      <td>0.225368</td>\n",
       "      <td>0.906823</td>\n",
       "      <td>0.384284</td>\n",
       "      <td>0.006710</td>\n",
       "      <td>0.092679</td>\n",
       "      <td>0.028682</td>\n",
       "      <td>0.025925</td>\n",
       "      <td>0.725983</td>\n",
       "    </tr>\n",
       "  </tbody>\n",
       "</table>\n",
       "<p>2 rows × 20215 columns</p>\n",
       "</div>"
      ],
      "text/plain": [
       "probe      A1BG      A1CF     A2BP1     A2LD1       A2M     A2ML1   A3GALT2  \\\n",
       "0     -0.227195  2.356373  2.309973  0.807336 -1.122687 -1.340812  1.521251   \n",
       "1      0.821923  0.025685  0.028477  0.426278  0.271106  0.190758  0.139411   \n",
       "\n",
       "probe    A4GALT     A4GNT      AAA1  ...    ZWILCH     ZWINT      ZXDA  \\\n",
       "0     -1.131566 -1.565903 -1.151876  ... -0.553986 -0.543867 -1.239724   \n",
       "1      0.267416  0.128605  0.259113  ...  0.583986  0.590838  0.225368   \n",
       "\n",
       "probe      ZXDB      ZXDC    ZYG11A    ZYG11B       ZYX     ZZEF1      ZZZ3  \n",
       "0      0.118111  0.883886 -2.927812  1.740914 -2.306739  2.352196  0.354010  \n",
       "1      0.906823  0.384284  0.006710  0.092679  0.028682  0.025925  0.725983  \n",
       "\n",
       "[2 rows x 20215 columns]"
      ]
     },
     "execution_count": 140,
     "metadata": {},
     "output_type": "execute_result"
    }
   ],
   "source": [
    "vett"
   ]
  },
  {
   "cell_type": "code",
   "execution_count": 244,
   "metadata": {},
   "outputs": [
    {
     "data": {
      "image/png": "[encoded data removed]",
      "text/plain": [
       "<Figure size 1080x360 with 1 Axes>"
      ]
     },
     "metadata": {},
     "output_type": "display_data"
    }
   ],
   "source": [
    "plt.figure(figsize=(15,5))\n",
    "ax = plt.axes()\n",
    "\n",
    "y = df['A1BG'].mean()\n",
    "ax.axhline(y, 0, 30, color='blue', label=\"media dati\", linestyle='dashed', alpha=0.5)\n",
    "y_h = healthy['A1BG'].mean()\n",
    "ax.axhline(y_h, 0, 30, color='green', label=\"media sani\", linestyle='dashed', alpha=0.8)\n",
    "y_s = sick['A1BG'].mean()\n",
    "ax.axhline(y_s, 0, 30, color='red', label=\"media affetti\", linestyle='dashed', alpha=0.8)\n",
    "\n",
    "plt.title('Espressione A1BG')\n",
    "\n",
    "sns.barplot(data=df, x=df.index, y='A1BG', hue='classe', ax=ax, palette='Set2')\n",
    "plt.savefig('fig3.png')"
   ]
  },
  {
   "cell_type": "code",
   "execution_count": 270,
   "metadata": {},
   "outputs": [
    {
     "data": {
      "image/png": "[encoded data removed]",
      "text/plain": [
       "<Figure size 1080x360 with 1 Axes>"
      ]
     },
     "metadata": {},
     "output_type": "display_data"
    }
   ],
   "source": [
    "plt.figure(figsize=(15,5))\n",
    "ax = plt.axes()\n",
    "\n",
    "y = df['A1CF'].mean()\n",
    "ax.axhline(y, 0, 30, color='blue', label=\"media dati\", linestyle='dashed', alpha=0.5)\n",
    "y_h = healthy['A1CF'].mean()\n",
    "ax.axhline(y_h, 0, 30, color='green', label=\"media sani\", linestyle='dashed', alpha=0.8)\n",
    "y_s = sick['A1CF'].mean()\n",
    "ax.axhline(y_s, 0, 30, color='red', label=\"media affetti\", linestyle='dashed', alpha=0.8)\n",
    "\n",
    "plt.title('Espressione A1CF')\n",
    "\n",
    "sns.barplot(data=df, x=df.index, y='A1CF', hue='classe', ax=ax, palette='Set2')\n",
    "plt.savefig('fig4.png')"
   ]
  },
  {
   "cell_type": "code",
   "execution_count": null,
   "metadata": {},
   "outputs": [],
   "source": []
  }
 ],
 "metadata": {
  "kernelspec": {
   "display_name": "Python 3",
   "language": "python",
   "name": "python3"
  },
  "language_info": {
   "codemirror_mode": {
    "name": "ipython",
    "version": 3
   },
   "file_extension": ".py",
   "mimetype": "text/x-python",
   "name": "python",
   "nbconvert_exporter": "python",
   "pygments_lexer": "ipython3",
   "version": "3.7.7"
  }
 },
 "nbformat": 4,
 "nbformat_minor": 4
}
